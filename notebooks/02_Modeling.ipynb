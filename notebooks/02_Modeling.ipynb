{
  "cells": [
    {
      "cell_type": "markdown",
      "metadata": {},
      "source": [
        "# **<center> Modeling: Kaggle Competition </center>**\n",
        "![Immune](https://i.imgur.com/0TSSaqL.png)  "
      ]
    },
    {
      "cell_type": "code",
      "execution_count": 24,
      "metadata": {},
      "outputs": [
        {
          "name": "stdout",
          "output_type": "stream",
          "text": [
            "The autoreload extension is already loaded. To reload it, use:\n",
            "  %reload_ext autoreload\n"
          ]
        }
      ],
      "source": [
        "%load_ext autoreload\n",
        "%autoreload 2"
      ]
    },
    {
      "cell_type": "code",
      "execution_count": 25,
      "metadata": {
        "colab": {
          "base_uri": "https://localhost:8080/"
        },
        "id": "Scvw-FZyDjEZ",
        "outputId": "8ea379f8-9617-4f0b-d771-f28c5a58f5f9"
      },
      "outputs": [],
      "source": [
        "import os\n",
        "import pandas as pd\n",
        "import json\n",
        "import pickle\n",
        "import optuna\n",
        "import xgboost as xgb\n",
        "from xgboost  import XGBRegressor\n",
        "from sklearn.compose import ColumnTransformer\n",
        "from sklearn.pipeline import Pipeline, FeatureUnion\n",
        "from sklearn.preprocessing import StandardScaler, OneHotEncoder\n",
        "from sklearn.model_selection import train_test_split\n",
        "from sklearn.model_selection import cross_validate\n",
        "from paths import RAW_DIR, PROCESSED_DIR, SUBMISSIONS_DIR, MODELS_DIR\n",
        "from functions import compute_metrics, eval_best_model\n",
        "from transformers import ExtractDataNeighborhood, FillNA, RemoveOutliersTransformer\n",
        "import warnings\n",
        "from datetime import datetime\n",
        "\n",
        "warnings.filterwarnings('ignore')\n",
        "\n",
        "RANDOM_STATE = 42\n",
        "\n",
        "raw_train_df = pd.read_csv(os.path.join(RAW_DIR, 'train.csv'))\n",
        "raw_predict_df = pd.read_csv(os.path.join(RAW_DIR, 'test.csv'))"
      ]
    },
    {
      "cell_type": "code",
      "execution_count": 26,
      "metadata": {},
      "outputs": [
        {
          "name": "stdout",
          "output_type": "stream",
          "text": [
            "<class 'pandas.core.frame.DataFrame'>\n",
            "RangeIndex: 17448 entries, 0 to 17447\n",
            "Data columns (total 56 columns):\n",
            " #   Column                        Non-Null Count  Dtype  \n",
            "---  ------                        --------------  -----  \n",
            " 0   id                            17448 non-null  int64  \n",
            " 1   title                         17448 non-null  object \n",
            " 2   subtitle                      17448 non-null  object \n",
            " 3   sq_mt_built                   17348 non-null  float64\n",
            " 4   sq_mt_useful                  6575 non-null   float64\n",
            " 5   n_rooms                       17448 non-null  int64  \n",
            " 6   n_bathrooms                   17434 non-null  float64\n",
            " 7   n_floors                      1163 non-null   float64\n",
            " 8   sq_mt_allotment               1146 non-null   float64\n",
            " 9   latitude                      0 non-null      float64\n",
            " 10  longitude                     0 non-null      float64\n",
            " 11  raw_address                   13056 non-null  object \n",
            " 12  is_exact_address_hidden       17448 non-null  bool   \n",
            " 13  street_name                   12704 non-null  object \n",
            " 14  street_number                 5021 non-null   object \n",
            " 15  portal                        0 non-null      float64\n",
            " 16  floor                         15353 non-null  object \n",
            " 17  is_floor_under                16516 non-null  object \n",
            " 18  door                          0 non-null      float64\n",
            " 19  neighborhood_id               17448 non-null  object \n",
            " 20  operation                     17448 non-null  object \n",
            " 21  rent_price                    17448 non-null  int64  \n",
            " 22  rent_price_by_area            0 non-null      float64\n",
            " 23  is_rent_price_known           17448 non-null  bool   \n",
            " 24  buy_price_by_area             17448 non-null  int64  \n",
            " 25  is_buy_price_known            17448 non-null  bool   \n",
            " 26  house_type_id                 17125 non-null  object \n",
            " 27  is_renewal_needed             17448 non-null  bool   \n",
            " 28  is_new_development            16645 non-null  object \n",
            " 29  built_year                    8035 non-null   float64\n",
            " 30  has_central_heating           10887 non-null  object \n",
            " 31  has_individual_heating        10887 non-null  object \n",
            " 32  are_pets_allowed              0 non-null      float64\n",
            " 33  has_ac                        8950 non-null   object \n",
            " 34  has_fitted_wardrobes          10769 non-null  object \n",
            " 35  has_lift                      15515 non-null  object \n",
            " 36  is_exterior                   14980 non-null  object \n",
            " 37  has_garden                    1255 non-null   object \n",
            " 38  has_pool                      4175 non-null   object \n",
            " 39  has_terrace                   7710 non-null   object \n",
            " 40  has_balcony                   2626 non-null   object \n",
            " 41  has_storage_room              6229 non-null   object \n",
            " 42  is_furnished                  0 non-null      float64\n",
            " 43  is_kitchen_equipped           0 non-null      float64\n",
            " 44  is_accessible                 3284 non-null   object \n",
            " 45  has_green_zones               3282 non-null   object \n",
            " 46  energy_certificate            17448 non-null  object \n",
            " 47  has_parking                   17448 non-null  bool   \n",
            " 48  has_private_parking           0 non-null      float64\n",
            " 49  has_public_parking            0 non-null      float64\n",
            " 50  is_parking_included_in_price  6248 non-null   object \n",
            " 51  parking_price                 6248 non-null   float64\n",
            " 52  is_orientation_north          9126 non-null   object \n",
            " 53  is_orientation_west           9126 non-null   object \n",
            " 54  is_orientation_south          9126 non-null   object \n",
            " 55  is_orientation_east           9126 non-null   object \n",
            "dtypes: bool(5), float64(17), int64(4), object(30)\n",
            "memory usage: 6.9+ MB\n"
          ]
        }
      ],
      "source": [
        "raw_train_df.info()"
      ]
    },
    {
      "cell_type": "code",
      "execution_count": 27,
      "metadata": {},
      "outputs": [],
      "source": [
        "# Split the data into train and test\n",
        "X_train, X_test, y_train, y_test = train_test_split(raw_train_df, raw_train_df['buy_price_by_area'], test_size=0.2, random_state=RANDOM_STATE, shuffle=True)"
      ]
    },
    {
      "cell_type": "code",
      "execution_count": 28,
      "metadata": {},
      "outputs": [],
      "source": [
        "# Features for one-hot encoding\n",
        "categorical_columns = ['floor', 'house_type_id', 'energy_certificate']\n",
        "\n",
        "# Features for filling NA with False\n",
        "fill_na_false_columns = [\n",
        "    'has_lift', \n",
        "    'is_new_development', \n",
        "    'has_central_heating', \n",
        "    'has_ac', \n",
        "    'has_parking', \n",
        "    'is_exterior', \n",
        "    'has_garden', \n",
        "    'has_pool', \n",
        "    'has_terrace', \n",
        "    'has_balcony', \n",
        "    'has_storage_room', \n",
        "    'has_green_zones', \n",
        "    'has_fitted_wardrobes']\n",
        "\n",
        "# Features for filling NA with True\n",
        "fill_na_true_columns = [\n",
        "    'is_parking_included_in_price',\n",
        "    'is_renewal_needed'\n",
        "]\n",
        "\n",
        "# Numerical features\n",
        "numerical_columns = ['sq_mt_built', 'n_rooms', 'n_bathrooms']\n",
        "\n",
        "numeric_etl = ColumnTransformer(\n",
        "    transformers=[\n",
        "        ('remove_outliers', RemoveOutliersTransformer(['rent_price']), ['rent_price']),\n",
        "        ('mean_price', ExtractDataNeighborhood(data='numerical'), ['neighborhood_id']),\n",
        "        ('_', 'passthrough', numerical_columns),\n",
        "    ],\n",
        "    remainder='drop')\n",
        "\n",
        "\n",
        "numeric_transformer = Pipeline(steps=[\n",
        "    ('etl', numeric_etl),\n",
        "    ('scaler', StandardScaler())  # Standardize numerical features\n",
        "])\n",
        "\n",
        "categorical_etl = ColumnTransformer(\n",
        "    transformers=[\n",
        "        ('loc_info', ExtractDataNeighborhood(data='categorical'), ['neighborhood_id']),\n",
        "        ('cat_bool', FillNA(fill_na_false_columns, type_fill='False'), fill_na_false_columns),\n",
        "        ('cat_bool_2', FillNA(fill_na_true_columns, type_fill='True'), fill_na_true_columns),\n",
        "        ('_', 'passthrough', categorical_columns)\n",
        "    ],\n",
        "    remainder='drop')\n",
        "\n",
        "categorical_transformer = Pipeline(steps=[\n",
        "    ('etl', categorical_etl),\n",
        "    ('onehot', OneHotEncoder(drop='if_binary', handle_unknown='ignore'))\n",
        "])\n",
        "\n",
        "etl_pipeline = FeatureUnion(\n",
        "    transformer_list=[\n",
        "        ('numeric', numeric_transformer),\n",
        "        ('categorical', categorical_transformer)\n",
        "    ])\n"
      ]
    },
    {
      "cell_type": "code",
      "execution_count": 29,
      "metadata": {},
      "outputs": [],
      "source": [
        "etl_pipeline.fit(X_train, y_train)\n",
        "\n",
        "# Transform the data\n",
        "train_transformed = pd.DataFrame.sparse.from_spmatrix(etl_pipeline.transform(X_train), columns=etl_pipeline.get_feature_names_out())\n",
        "train_transformed['buy_price_by_area'] = y_train.values\n",
        "test_transformed = pd.DataFrame.sparse.from_spmatrix(etl_pipeline.transform(X_test), columns=etl_pipeline.get_feature_names_out())\n",
        "test_transformed['buy_price_by_area'] = y_test.values\n",
        "\n",
        "# Save in csv format\n",
        "train_transformed.to_csv(os.path.join(PROCESSED_DIR, 'train.csv'), index=False)\n",
        "test_transformed.to_csv(os.path.join(PROCESSED_DIR, 'test.csv'), index=False)\n",
        "\n",
        "\n",
        "# # Object columns to categorical to avoid problems with xgboost\n",
        "# object_cols = X_train_transformed.select_dtypes(include=['object']).columns\n",
        "# X_train_transformed[object_cols] = X_train_transformed[object_cols].astype('category')\n",
        "# X_test_transformed[object_cols] = X_test_transformed[object_cols].astype('category')\n",
        "\n",
        "# X_train_transformed.info()\n",
        "\n",
        "# # # Save in parquet format\n",
        "# pd.DataFrame(X_train_transformed).to_parquet(os.path.join(PROCESSED_DIR, 'train.parquet'))\n",
        "# pd.DataFrame(X_test_transformed).to_parquet(os.path.join(PROCESSED_DIR, 'test.parquet'))"
      ]
    },
    {
      "cell_type": "code",
      "execution_count": 30,
      "metadata": {},
      "outputs": [
        {
          "name": "stderr",
          "output_type": "stream",
          "text": [
            "[I 2023-09-15 15:18:33,497] A new study created in memory with name: xgboost\n"
          ]
        },
        {
          "data": {
            "application/vnd.jupyter.widget-view+json": {
              "model_id": "6c904177f89b49a39b15285da6dee844",
              "version_major": 2,
              "version_minor": 0
            },
            "text/plain": [
              "  0%|          | 0/100 [00:00<?, ?it/s]"
            ]
          },
          "metadata": {},
          "output_type": "display_data"
        },
        {
          "name": "stdout",
          "output_type": "stream",
          "text": [
            "[I 2023-09-15 15:18:33,708] Trial 0 finished with value: 0.3572779911899417 and parameters: {'learning_rate': 0.03440944469919862, 'max_depth': 6, 'n_estimators': 433, 'reg_alpha': 0.861480580294872, 'reg_lambda': 0.8464343640122108, 'subsample': 0.780284685608511, 'colsample_bytree': 0.7232432783522456, 'gamma': 0.7820056188701995, 'min_child_weight': 3}. Best is trial 0 with value: 0.3572779911899417.\n",
            "[I 2023-09-15 15:18:33,884] Trial 1 finished with value: 0.2968716404414364 and parameters: {'learning_rate': 0.06357480911950616, 'max_depth': 5, 'n_estimators': 208, 'reg_alpha': 0.8088761528940739, 'reg_lambda': 0.4739212846874783, 'subsample': 0.9805927816599106, 'colsample_bytree': 0.5024553473237572, 'gamma': 0.2851120446633152, 'min_child_weight': 3}. Best is trial 1 with value: 0.2968716404414364.\n",
            "[I 2023-09-15 15:18:34,055] Trial 2 finished with value: 0.4063894041900109 and parameters: {'learning_rate': 0.01846109671510063, 'max_depth': 4, 'n_estimators': 497, 'reg_alpha': 0.0691006008535463, 'reg_lambda': 0.8199790588621075, 'subsample': 0.9828483344421903, 'colsample_bytree': 0.7164432822505623, 'gamma': 0.024825391630690308, 'min_child_weight': 1}. Best is trial 1 with value: 0.2968716404414364.\n",
            "[I 2023-09-15 15:18:34,241] Trial 3 finished with value: 0.3141354334859258 and parameters: {'learning_rate': 0.0518945123570503, 'max_depth': 6, 'n_estimators': 307, 'reg_alpha': 0.08725497396309922, 'reg_lambda': 0.996589157794465, 'subsample': 0.8936714123808509, 'colsample_bytree': 0.9581560026003266, 'gamma': 0.3604339021121514, 'min_child_weight': 7}. Best is trial 1 with value: 0.2968716404414364.\n",
            "[I 2023-09-15 15:18:34,466] Trial 4 finished with value: 0.3632066189980679 and parameters: {'learning_rate': 0.03045563284446871, 'max_depth': 8, 'n_estimators': 432, 'reg_alpha': 0.23423063821088308, 'reg_lambda': 0.11771253491627409, 'subsample': 0.6399100301209573, 'colsample_bytree': 0.820061263708334, 'gamma': 0.2999571588504917, 'min_child_weight': 9}. Best is trial 1 with value: 0.2968716404414364.\n",
            "[I 2023-09-15 15:18:34,673] Trial 5 finished with value: 0.30215975412432433 and parameters: {'learning_rate': 0.05421263558513044, 'max_depth': 8, 'n_estimators': 376, 'reg_alpha': 0.38769361789150913, 'reg_lambda': 0.6212827812492553, 'subsample': 0.6709611326151395, 'colsample_bytree': 0.9714065958165197, 'gamma': 0.9538794391253865, 'min_child_weight': 1}. Best is trial 1 with value: 0.2968716404414364.\n",
            "[I 2023-09-15 15:18:34,834] Trial 6 finished with value: 0.2451160974294664 and parameters: {'learning_rate': 0.1045600226783439, 'max_depth': 4, 'n_estimators': 179, 'reg_alpha': 0.997637527798541, 'reg_lambda': 0.8146372141843695, 'subsample': 0.930378328422452, 'colsample_bytree': 0.7018235803746387, 'gamma': 0.5521994894466232, 'min_child_weight': 1}. Best is trial 6 with value: 0.2451160974294664.\n",
            "[I 2023-09-15 15:18:35,058] Trial 7 finished with value: 0.22404912349914283 and parameters: {'learning_rate': 0.0989722038647137, 'max_depth': 8, 'n_estimators': 147, 'reg_alpha': 0.4680292032520358, 'reg_lambda': 0.6111140415562327, 'subsample': 0.6047265254637626, 'colsample_bytree': 0.7839724563638197, 'gamma': 0.3436943322354089, 'min_child_weight': 4}. Best is trial 7 with value: 0.22404912349914283.\n",
            "[I 2023-09-15 15:18:35,284] Trial 8 finished with value: 0.32982929103927316 and parameters: {'learning_rate': 0.04288425269938612, 'max_depth': 8, 'n_estimators': 231, 'reg_alpha': 0.5867405278127334, 'reg_lambda': 0.040704936452841345, 'subsample': 0.9325577173752707, 'colsample_bytree': 0.9036772029943358, 'gamma': 0.22468641863303918, 'min_child_weight': 3}. Best is trial 7 with value: 0.22404912349914283.\n",
            "[I 2023-09-15 15:18:35,483] Trial 9 finished with value: 0.27072934424468825 and parameters: {'learning_rate': 0.07137652912313058, 'max_depth': 7, 'n_estimators': 208, 'reg_alpha': 0.1387035254309098, 'reg_lambda': 0.19368882153351508, 'subsample': 0.5785616872836423, 'colsample_bytree': 0.8586897427032374, 'gamma': 0.5576892907229951, 'min_child_weight': 5}. Best is trial 7 with value: 0.22404912349914283.\n",
            "[I 2023-09-15 15:18:35,715] Trial 10 finished with value: 0.1992711455501709 and parameters: {'learning_rate': 0.12057841082583712, 'max_depth': 7, 'n_estimators': 109, 'reg_alpha': 0.5268622595476082, 'reg_lambda': 0.430356780094893, 'subsample': 0.5052576197163372, 'colsample_bytree': 0.7976919349400317, 'gamma': 0.024565739876576287, 'min_child_weight': 6}. Best is trial 10 with value: 0.1992711455501709.\n",
            "[I 2023-09-15 15:18:35,917] Trial 11 finished with value: 0.18813165505945814 and parameters: {'learning_rate': 0.13114698699301897, 'max_depth': 7, 'n_estimators': 111, 'reg_alpha': 0.5164507224289882, 'reg_lambda': 0.4282433560145253, 'subsample': 0.5011413020318279, 'colsample_bytree': 0.7941102001731302, 'gamma': 0.05018785498300607, 'min_child_weight': 6}. Best is trial 11 with value: 0.18813165505945814.\n",
            "[I 2023-09-15 15:18:36,134] Trial 12 finished with value: 0.17650768936239986 and parameters: {'learning_rate': 0.14287689428006276, 'max_depth': 7, 'n_estimators': 103, 'reg_alpha': 0.6224105316369681, 'reg_lambda': 0.3405094735460049, 'subsample': 0.5025383648882813, 'colsample_bytree': 0.8128915946638112, 'gamma': 0.021552148269315684, 'min_child_weight': 7}. Best is trial 12 with value: 0.17650768936239986.\n",
            "[I 2023-09-15 15:18:36,369] Trial 13 finished with value: 0.1784386673967119 and parameters: {'learning_rate': 0.13989136391068205, 'max_depth': 7, 'n_estimators': 102, 'reg_alpha': 0.6606486087829326, 'reg_lambda': 0.30903352082269964, 'subsample': 0.5039673647126456, 'colsample_bytree': 0.8762952997753726, 'gamma': 0.1235856117195911, 'min_child_weight': 8}. Best is trial 12 with value: 0.17650768936239986.\n",
            "[I 2023-09-15 15:18:36,579] Trial 14 finished with value: 0.17973428718425263 and parameters: {'learning_rate': 0.1406962149366169, 'max_depth': 7, 'n_estimators': 266, 'reg_alpha': 0.6784454645664642, 'reg_lambda': 0.2744057978197594, 'subsample': 0.564706298525817, 'colsample_bytree': 0.8946071583004627, 'gamma': 0.1563548994202253, 'min_child_weight': 9}. Best is trial 12 with value: 0.17650768936239986.\n",
            "[I 2023-09-15 15:18:36,770] Trial 15 finished with value: 0.2539904924173165 and parameters: {'learning_rate': 0.08432018229118046, 'max_depth': 6, 'n_estimators': 100, 'reg_alpha': 0.6848056388182369, 'reg_lambda': 0.27809136803228585, 'subsample': 0.7023465300631857, 'colsample_bytree': 0.8750204955452453, 'gamma': 0.14456171584139133, 'min_child_weight': 8}. Best is trial 12 with value: 0.17650768936239986.\n",
            "[I 2023-09-15 15:18:36,960] Trial 16 finished with value: 0.20131758852177853 and parameters: {'learning_rate': 0.1372177159665875, 'max_depth': 5, 'n_estimators': 161, 'reg_alpha': 0.38304909649015817, 'reg_lambda': 0.3180896084728425, 'subsample': 0.5461462040459921, 'colsample_bytree': 0.9875911277813597, 'gamma': 0.13609972925746566, 'min_child_weight': 10}. Best is trial 12 with value: 0.17650768936239986.\n",
            "[I 2023-09-15 15:18:37,157] Trial 17 finished with value: 0.2535352304886874 and parameters: {'learning_rate': 0.08130413404717052, 'max_depth': 7, 'n_estimators': 307, 'reg_alpha': 0.6472760485869724, 'reg_lambda': 0.14427521267345306, 'subsample': 0.6122389348499261, 'colsample_bytree': 0.9190347089755415, 'gamma': 0.014925557393597048, 'min_child_weight': 7}. Best is trial 12 with value: 0.17650768936239986.\n",
            "[I 2023-09-15 15:18:37,351] Trial 18 finished with value: 0.18247915158151953 and parameters: {'learning_rate': 0.14619710987631865, 'max_depth': 6, 'n_estimators': 258, 'reg_alpha': 0.76927025016145, 'reg_lambda': 0.3462746531691578, 'subsample': 0.5422768642285516, 'colsample_bytree': 0.838079195139861, 'gamma': 0.44309484321409415, 'min_child_weight': 8}. Best is trial 12 with value: 0.17650768936239986.\n",
            "[I 2023-09-15 15:18:37,545] Trial 19 finished with value: 0.24484391390868115 and parameters: {'learning_rate': 0.09378957990111561, 'max_depth': 5, 'n_estimators': 147, 'reg_alpha': 0.6119702945621872, 'reg_lambda': 0.03125321357907296, 'subsample': 0.5053238740937961, 'colsample_bytree': 0.9392014304674817, 'gamma': 0.20406662552135818, 'min_child_weight': 10}. Best is trial 12 with value: 0.17650768936239986.\n",
            "[I 2023-09-15 15:18:37,740] Trial 20 finished with value: 0.2152704273212156 and parameters: {'learning_rate': 0.10504419492343742, 'max_depth': 7, 'n_estimators': 362, 'reg_alpha': 0.7512444963489759, 'reg_lambda': 0.20999183254928808, 'subsample': 0.7259271269245178, 'colsample_bytree': 0.9962142773471476, 'gamma': 0.11192902616331503, 'min_child_weight': 7}. Best is trial 12 with value: 0.17650768936239986.\n",
            "[I 2023-09-15 15:18:37,944] Trial 21 finished with value: 0.18218803727686803 and parameters: {'learning_rate': 0.1376350196222514, 'max_depth': 7, 'n_estimators': 262, 'reg_alpha': 0.6899694784695722, 'reg_lambda': 0.2937850015540593, 'subsample': 0.5610488414557491, 'colsample_bytree': 0.8857696520318448, 'gamma': 0.17349791284426774, 'min_child_weight': 9}. Best is trial 12 with value: 0.17650768936239986.\n",
            "[I 2023-09-15 15:18:38,146] Trial 22 finished with value: 0.17052651881609132 and parameters: {'learning_rate': 0.14996942341826797, 'max_depth': 7, 'n_estimators': 182, 'reg_alpha': 0.574226884351171, 'reg_lambda': 0.3838037192866929, 'subsample': 0.5830856050299802, 'colsample_bytree': 0.9089287108071651, 'gamma': 0.09990820599042395, 'min_child_weight': 8}. Best is trial 22 with value: 0.17052651881609132.\n",
            "[I 2023-09-15 15:18:38,340] Trial 23 finished with value: 0.17587486707222874 and parameters: {'learning_rate': 0.14967341439320556, 'max_depth': 6, 'n_estimators': 136, 'reg_alpha': 0.5666853444532641, 'reg_lambda': 0.3731888804620441, 'subsample': 0.6288682965140983, 'colsample_bytree': 0.9317786975836686, 'gamma': 0.09490210341464737, 'min_child_weight': 8}. Best is trial 22 with value: 0.17052651881609132.\n",
            "[I 2023-09-15 15:18:38,554] Trial 24 finished with value: 0.2191006832575116 and parameters: {'learning_rate': 0.10852993156728033, 'max_depth': 6, 'n_estimators': 189, 'reg_alpha': 0.5730701155313802, 'reg_lambda': 0.3908912420069257, 'subsample': 0.6014129400304236, 'colsample_bytree': 0.9416404342700473, 'gamma': 0.07073438393625445, 'min_child_weight': 5}. Best is trial 22 with value: 0.17052651881609132.\n",
            "[I 2023-09-15 15:18:38,770] Trial 25 finished with value: 0.25518220985812745 and parameters: {'learning_rate': 0.08175542367375342, 'max_depth': 6, 'n_estimators': 141, 'reg_alpha': 0.43566025439926115, 'reg_lambda': 0.49553602567530153, 'subsample': 0.6389644630851966, 'colsample_bytree': 0.9299294455209336, 'gamma': 0.0070319836864917995, 'min_child_weight': 7}. Best is trial 22 with value: 0.17052651881609132.\n",
            "[I 2023-09-15 15:18:38,973] Trial 26 finished with value: 0.22821975364212505 and parameters: {'learning_rate': 0.11035433670982966, 'max_depth': 5, 'n_estimators': 138, 'reg_alpha': 0.5400071457512323, 'reg_lambda': 0.5539323521459689, 'subsample': 0.6333564338125984, 'colsample_bytree': 0.8447167137150223, 'gamma': 0.209797204877541, 'min_child_weight': 8}. Best is trial 22 with value: 0.17052651881609132.\n",
            "[I 2023-09-15 15:18:39,172] Trial 27 finished with value: 0.1800204670484337 and parameters: {'learning_rate': 0.14917073352210733, 'max_depth': 6, 'n_estimators': 177, 'reg_alpha': 0.4193245569420897, 'reg_lambda': 0.3544825393147082, 'subsample': 0.581050740582228, 'colsample_bytree': 0.9120586535307761, 'gamma': 0.09253512033689626, 'min_child_weight': 9}. Best is trial 22 with value: 0.17052651881609132.\n",
            "[I 2023-09-15 15:18:39,389] Trial 28 finished with value: 0.1917209408392897 and parameters: {'learning_rate': 0.11996691134503748, 'max_depth': 8, 'n_estimators': 206, 'reg_alpha': 0.49359082878944005, 'reg_lambda': 0.413705739836453, 'subsample': 0.5391290343508071, 'colsample_bytree': 0.9625604139759436, 'gamma': 0.2554095086986143, 'min_child_weight': 6}. Best is trial 22 with value: 0.17052651881609132.\n",
            "[I 2023-09-15 15:18:39,608] Trial 29 finished with value: 0.2735722312276775 and parameters: {'learning_rate': 0.07043130780872593, 'max_depth': 7, 'n_estimators': 129, 'reg_alpha': 0.863387764524569, 'reg_lambda': 0.23120505908237846, 'subsample': 0.7620898892824702, 'colsample_bytree': 0.752365155834171, 'gamma': 0.08626021627340111, 'min_child_weight': 10}. Best is trial 22 with value: 0.17052651881609132.\n",
            "[I 2023-09-15 15:18:39,801] Trial 30 finished with value: 0.24713962261948183 and parameters: {'learning_rate': 0.08826243758083714, 'max_depth': 6, 'n_estimators': 232, 'reg_alpha': 0.3512220648377137, 'reg_lambda': 0.5312194569340334, 'subsample': 0.6848533738693409, 'colsample_bytree': 0.9995151830666591, 'gamma': 0.21918154020690772, 'min_child_weight': 8}. Best is trial 22 with value: 0.17052651881609132.\n",
            "[I 2023-09-15 15:18:40,023] Trial 31 finished with value: 0.20478924618861746 and parameters: {'learning_rate': 0.1159880044117602, 'max_depth': 7, 'n_estimators': 103, 'reg_alpha': 0.5951999858142892, 'reg_lambda': 0.35605426885903385, 'subsample': 0.5314650078006751, 'colsample_bytree': 0.8719889377880865, 'gamma': 0.09818519938353716, 'min_child_weight': 8}. Best is trial 22 with value: 0.17052651881609132.\n",
            "[I 2023-09-15 15:18:40,229] Trial 32 finished with value: 0.17294585076148886 and parameters: {'learning_rate': 0.14737300689108543, 'max_depth': 7, 'n_estimators': 163, 'reg_alpha': 0.6354931310671583, 'reg_lambda': 0.46255675203960367, 'subsample': 0.5315378701988168, 'colsample_bytree': 0.8581703667852264, 'gamma': 0.003823984567294769, 'min_child_weight': 7}. Best is trial 22 with value: 0.17052651881609132.\n",
            "[I 2023-09-15 15:18:40,427] Trial 33 finished with value: 0.20747095361626464 and parameters: {'learning_rate': 0.12056786488368666, 'max_depth': 6, 'n_estimators': 168, 'reg_alpha': 0.5623810408681241, 'reg_lambda': 0.483364169279357, 'subsample': 0.5826674618916541, 'colsample_bytree': 0.8390794980384757, 'gamma': 0.05825161093555268, 'min_child_weight': 7}. Best is trial 22 with value: 0.17052651881609132.\n",
            "[I 2023-09-15 15:18:40,639] Trial 34 finished with value: 0.23289745049290453 and parameters: {'learning_rate': 0.09197662974271066, 'max_depth': 8, 'n_estimators': 128, 'reg_alpha': 0.6174150588086926, 'reg_lambda': 0.4621946197063505, 'subsample': 0.5365777677350299, 'colsample_bytree': 0.9105294052188572, 'gamma': 0.16211798328134872, 'min_child_weight': 6}. Best is trial 22 with value: 0.17052651881609132.\n",
            "[I 2023-09-15 15:18:40,845] Trial 35 finished with value: 0.20074409082476 and parameters: {'learning_rate': 0.1196223620237987, 'max_depth': 7, 'n_estimators': 192, 'reg_alpha': 0.49100061772851145, 'reg_lambda': 0.38331490271462576, 'subsample': 0.6137818650555922, 'colsample_bytree': 0.8212029020620618, 'gamma': 0.003131578607091537, 'min_child_weight': 7}. Best is trial 22 with value: 0.17052651881609132.\n",
            "[I 2023-09-15 15:18:41,029] Trial 36 finished with value: 0.1914486215443846 and parameters: {'learning_rate': 0.14866292139662132, 'max_depth': 5, 'n_estimators': 226, 'reg_alpha': 0.7230278155707898, 'reg_lambda': 0.4077172326475947, 'subsample': 0.8019066066739116, 'colsample_bytree': 0.9572643524216234, 'gamma': 0.26595186602743215, 'min_child_weight': 5}. Best is trial 22 with value: 0.17052651881609132.\n",
            "[I 2023-09-15 15:18:41,222] Trial 37 finished with value: 0.37049008438150205 and parameters: {'learning_rate': 0.029492000463326142, 'max_depth': 6, 'n_estimators': 491, 'reg_alpha': 0.8054627721816396, 'reg_lambda': 0.5562340941688924, 'subsample': 0.6590471769698945, 'colsample_bytree': 0.8642816565862265, 'gamma': 0.0025545592415711403, 'min_child_weight': 9}. Best is trial 22 with value: 0.17052651881609132.\n",
            "[I 2023-09-15 15:18:41,410] Trial 38 finished with value: 0.2525560319383888 and parameters: {'learning_rate': 0.09813712845670274, 'max_depth': 4, 'n_estimators': 158, 'reg_alpha': 0.3260208294260692, 'reg_lambda': 0.47254334639148754, 'subsample': 0.5675323683953254, 'colsample_bytree': 0.6806094609646027, 'gamma': 0.0790400018057026, 'min_child_weight': 6}. Best is trial 22 with value: 0.17052651881609132.\n",
            "[I 2023-09-15 15:18:41,630] Trial 39 finished with value: 0.29721767575702135 and parameters: {'learning_rate': 0.05550860733177694, 'max_depth': 8, 'n_estimators': 130, 'reg_alpha': 0.6280135740258019, 'reg_lambda': 0.6251869533124574, 'subsample': 0.5885734555887686, 'colsample_bytree': 0.9351414316859271, 'gamma': 0.3061423753047096, 'min_child_weight': 4}. Best is trial 22 with value: 0.17052651881609132.\n",
            "[I 2023-09-15 15:18:41,849] Trial 40 finished with value: 0.1871791133324779 and parameters: {'learning_rate': 0.12697118599844107, 'max_depth': 8, 'n_estimators': 277, 'reg_alpha': 0.4610860927118035, 'reg_lambda': 0.3441602792945877, 'subsample': 0.620314785094831, 'colsample_bytree': 0.8927988709747254, 'gamma': 0.0472266504236387, 'min_child_weight': 7}. Best is trial 22 with value: 0.17052651881609132.\n",
            "[I 2023-09-15 15:18:42,052] Trial 41 finished with value: 0.17306390847537623 and parameters: {'learning_rate': 0.1472735280013913, 'max_depth': 7, 'n_estimators': 119, 'reg_alpha': 0.6461135083918286, 'reg_lambda': 0.25909441801228794, 'subsample': 0.5226169244016934, 'colsample_bytree': 0.8705933104905998, 'gamma': 0.13384014767024333, 'min_child_weight': 8}. Best is trial 22 with value: 0.17052651881609132.\n",
            "[I 2023-09-15 15:18:42,265] Trial 42 finished with value: 0.2192021255884639 and parameters: {'learning_rate': 0.10425182916076497, 'max_depth': 7, 'n_estimators': 334, 'reg_alpha': 0.5619628047127723, 'reg_lambda': 0.25852260840305796, 'subsample': 0.5184225489867551, 'colsample_bytree': 0.8537112736214537, 'gamma': 0.17858340581239174, 'min_child_weight': 8}. Best is trial 22 with value: 0.17052651881609132.\n",
            "[I 2023-09-15 15:18:42,487] Trial 43 finished with value: 0.19360371869638307 and parameters: {'learning_rate': 0.12540902010299623, 'max_depth': 7, 'n_estimators': 127, 'reg_alpha': 0.6299427591891402, 'reg_lambda': 0.18263885443353864, 'subsample': 0.5566994384058774, 'colsample_bytree': 0.8109021505750149, 'gamma': 0.11701500417401413, 'min_child_weight': 9}. Best is trial 22 with value: 0.17052651881609132.\n",
            "[I 2023-09-15 15:18:42,699] Trial 44 finished with value: 0.16979162541126505 and parameters: {'learning_rate': 0.1499514441980776, 'max_depth': 7, 'n_estimators': 166, 'reg_alpha': 0.5311292520143287, 'reg_lambda': 0.2534332876605182, 'subsample': 0.5252741762171359, 'colsample_bytree': 0.9083285020414454, 'gamma': 0.04582988897979609, 'min_child_weight': 7}. Best is trial 44 with value: 0.16979162541126505.\n",
            "[I 2023-09-15 15:18:42,894] Trial 45 finished with value: 0.21304248953466995 and parameters: {'learning_rate': 0.11309815220374991, 'max_depth': 6, 'n_estimators': 197, 'reg_alpha': 0.5326324560463821, 'reg_lambda': 0.10079734314933647, 'subsample': 0.5282140752338699, 'colsample_bytree': 0.9670329787031005, 'gamma': 0.059221413981762304, 'min_child_weight': 8}. Best is trial 44 with value: 0.16979162541126505.\n",
            "[I 2023-09-15 15:18:43,100] Trial 46 finished with value: 0.17000659124691195 and parameters: {'learning_rate': 0.14986415701876507, 'max_depth': 7, 'n_estimators': 162, 'reg_alpha': 0.4930124679387793, 'reg_lambda': 0.24449822534085386, 'subsample': 0.5913223123392201, 'colsample_bytree': 0.9029161248635713, 'gamma': 0.23492968317337165, 'min_child_weight': 9}. Best is trial 44 with value: 0.16979162541126505.\n",
            "[I 2023-09-15 15:18:43,321] Trial 47 finished with value: 0.18816260415358618 and parameters: {'learning_rate': 0.1248012625714806, 'max_depth': 8, 'n_estimators': 221, 'reg_alpha': 0.4832950654981334, 'reg_lambda': 0.22943638396253488, 'subsample': 0.5908875319171222, 'colsample_bytree': 0.9021994336119613, 'gamma': 0.18157920847508735, 'min_child_weight': 10}. Best is trial 44 with value: 0.16979162541126505.\n",
            "[I 2023-09-15 15:18:43,539] Trial 48 finished with value: 0.22548689856924073 and parameters: {'learning_rate': 0.09967635135001476, 'max_depth': 7, 'n_estimators': 172, 'reg_alpha': 0.5226854737675826, 'reg_lambda': 0.25742637481140784, 'subsample': 0.5573718651556935, 'colsample_bytree': 0.8898682194114715, 'gamma': 0.23110577638755603, 'min_child_weight': 9}. Best is trial 44 with value: 0.16979162541126505.\n",
            "[I 2023-09-15 15:18:43,762] Trial 49 finished with value: 0.19081066492673826 and parameters: {'learning_rate': 0.12852549313980027, 'max_depth': 7, 'n_estimators': 181, 'reg_alpha': 0.435151422041537, 'reg_lambda': 0.17178495528672189, 'subsample': 0.5723470531847182, 'colsample_bytree': 0.8658620077598439, 'gamma': 0.14179942333400364, 'min_child_weight': 9}. Best is trial 44 with value: 0.16979162541126505.\n",
            "[I 2023-09-15 15:18:43,980] Trial 50 finished with value: 0.18045213147602845 and parameters: {'learning_rate': 0.13256785159481463, 'max_depth': 8, 'n_estimators': 157, 'reg_alpha': 0.6687062304395124, 'reg_lambda': 0.3007980772470547, 'subsample': 0.5194003446560315, 'colsample_bytree': 0.9074257081700337, 'gamma': 0.3381339525790187, 'min_child_weight': 7}. Best is trial 44 with value: 0.16979162541126505.\n",
            "[I 2023-09-15 15:18:44,185] Trial 51 finished with value: 0.16968753343369225 and parameters: {'learning_rate': 0.1462144782164931, 'max_depth': 7, 'n_estimators': 154, 'reg_alpha': 0.5802673501172013, 'reg_lambda': 0.2442312713646853, 'subsample': 0.5979133380246164, 'colsample_bytree': 0.9222016582302344, 'gamma': 0.0463013099893432, 'min_child_weight': 2}. Best is trial 51 with value: 0.16968753343369225.\n",
            "[I 2023-09-15 15:18:44,389] Trial 52 finished with value: 0.20969079968585175 and parameters: {'learning_rate': 0.11071423025265774, 'max_depth': 7, 'n_estimators': 116, 'reg_alpha': 0.5857232119459764, 'reg_lambda': 0.10088511593216937, 'subsample': 0.5477840171415749, 'colsample_bytree': 0.951538055416045, 'gamma': 0.04239367908363775, 'min_child_weight': 2}. Best is trial 51 with value: 0.16968753343369225.\n",
            "[I 2023-09-15 15:18:44,604] Trial 53 finished with value: 0.17627249503197312 and parameters: {'learning_rate': 0.1374910552730463, 'max_depth': 7, 'n_estimators': 242, 'reg_alpha': 0.5425229871541326, 'reg_lambda': 0.243168833692949, 'subsample': 0.5995146912352737, 'colsample_bytree': 0.9242991012284568, 'gamma': 0.1307371940083616, 'min_child_weight': 2}. Best is trial 51 with value: 0.16968753343369225.\n",
            "[I 2023-09-15 15:18:44,834] Trial 54 finished with value: 0.17245582222820482 and parameters: {'learning_rate': 0.1499048162283672, 'max_depth': 7, 'n_estimators': 151, 'reg_alpha': 0.5083252090413575, 'reg_lambda': 0.2093802387149693, 'subsample': 0.5219592810461952, 'colsample_bytree': 0.8834378859398088, 'gamma': 0.05085638499235767, 'min_child_weight': 1}. Best is trial 51 with value: 0.16968753343369225.\n",
            "[I 2023-09-15 15:18:45,049] Trial 55 finished with value: 0.18533071929012335 and parameters: {'learning_rate': 0.1321182208100206, 'max_depth': 7, 'n_estimators': 207, 'reg_alpha': 0.49542915903669416, 'reg_lambda': 0.14547263178942083, 'subsample': 0.5728700029581627, 'colsample_bytree': 0.9815958320520647, 'gamma': 0.03939654504497658, 'min_child_weight': 1}. Best is trial 51 with value: 0.16968753343369225.\n",
            "[I 2023-09-15 15:18:45,262] Trial 56 finished with value: 0.2313647783514183 and parameters: {'learning_rate': 0.09615416610290528, 'max_depth': 7, 'n_estimators': 172, 'reg_alpha': 0.4600378760615642, 'reg_lambda': 0.20675400194772198, 'subsample': 0.5001618367412285, 'colsample_bytree': 0.8936069378947231, 'gamma': 0.05046156351752023, 'min_child_weight': 2}. Best is trial 51 with value: 0.16968753343369225.\n",
            "[I 2023-09-15 15:18:45,481] Trial 57 finished with value: 0.20263268878647797 and parameters: {'learning_rate': 0.11335020844483039, 'max_depth': 8, 'n_estimators': 156, 'reg_alpha': 0.5948944890516054, 'reg_lambda': 0.29111718786939034, 'subsample': 0.5456475250431001, 'colsample_bytree': 0.9195314595345869, 'gamma': 0.1000820271297369, 'min_child_weight': 3}. Best is trial 51 with value: 0.16968753343369225.\n",
            "[I 2023-09-15 15:18:45,690] Trial 58 finished with value: 0.1706432691543564 and parameters: {'learning_rate': 0.14981151817639385, 'max_depth': 7, 'n_estimators': 151, 'reg_alpha': 0.5424559721434082, 'reg_lambda': 0.2034446286611162, 'subsample': 0.6513802798923535, 'colsample_bytree': 0.9481892471940455, 'gamma': 0.004306220042302078, 'min_child_weight': 1}. Best is trial 51 with value: 0.16968753343369225.\n",
            "[I 2023-09-15 15:18:45,898] Trial 59 finished with value: 0.1862322984733127 and parameters: {'learning_rate': 0.13313323187582085, 'max_depth': 7, 'n_estimators': 151, 'reg_alpha': 0.5201354150513675, 'reg_lambda': 0.06708037154776902, 'subsample': 0.6528409760726366, 'colsample_bytree': 0.9805931405498758, 'gamma': 0.07284764614557512, 'min_child_weight': 1}. Best is trial 51 with value: 0.16968753343369225.\n",
            "[I 2023-09-15 15:18:46,104] Trial 60 finished with value: 0.21864603356420587 and parameters: {'learning_rate': 0.10444284205821482, 'max_depth': 7, 'n_estimators': 190, 'reg_alpha': 0.4573570363176751, 'reg_lambda': 0.15958441776934712, 'subsample': 0.5968654864619747, 'colsample_bytree': 0.9438417217298442, 'gamma': 0.16856032114113664, 'min_child_weight': 1}. Best is trial 51 with value: 0.16968753343369225.\n",
            "[I 2023-09-15 15:18:46,308] Trial 61 finished with value: 0.17227248188856512 and parameters: {'learning_rate': 0.1471587893779939, 'max_depth': 7, 'n_estimators': 147, 'reg_alpha': 0.5562391805222592, 'reg_lambda': 0.20037127661647886, 'subsample': 0.5646283266068467, 'colsample_bytree': 0.946890869798238, 'gamma': 0.00490235112723833, 'min_child_weight': 2}. Best is trial 51 with value: 0.16968753343369225.\n",
            "[I 2023-09-15 15:18:46,515] Trial 62 finished with value: 0.18403502569579103 and parameters: {'learning_rate': 0.13342112494739533, 'max_depth': 7, 'n_estimators': 144, 'reg_alpha': 0.514301872668812, 'reg_lambda': 0.21431693137116595, 'subsample': 0.6188552143077666, 'colsample_bytree': 0.9662044080505818, 'gamma': 0.03489995224502172, 'min_child_weight': 2}. Best is trial 51 with value: 0.16968753343369225.\n",
            "[I 2023-09-15 15:18:46,731] Trial 63 finished with value: 0.19991618549280868 and parameters: {'learning_rate': 0.11950246005537102, 'max_depth': 7, 'n_estimators': 180, 'reg_alpha': 0.40932975261200566, 'reg_lambda': 0.13882041412987753, 'subsample': 0.6072417997400679, 'colsample_bytree': 0.9405988159197748, 'gamma': 0.03426621848703026, 'min_child_weight': 3}. Best is trial 51 with value: 0.16968753343369225.\n",
            "[I 2023-09-15 15:18:46,939] Trial 64 finished with value: 0.16654140134709214 and parameters: {'learning_rate': 0.14928178658750288, 'max_depth': 7, 'n_estimators': 213, 'reg_alpha': 0.5547194984293299, 'reg_lambda': 0.19631812640892668, 'subsample': 0.5657997633754099, 'colsample_bytree': 0.922365026542454, 'gamma': 0.11076744320759652, 'min_child_weight': 1}. Best is trial 64 with value: 0.16654140134709214.\n",
            "[I 2023-09-15 15:18:47,139] Trial 65 finished with value: 0.18139455786124653 and parameters: {'learning_rate': 0.13352825987771139, 'max_depth': 7, 'n_estimators': 217, 'reg_alpha': 0.5595853304335913, 'reg_lambda': 0.18097134067082332, 'subsample': 0.5803125624852546, 'colsample_bytree': 0.9214314865296545, 'gamma': 0.10756901078499978, 'min_child_weight': 2}. Best is trial 64 with value: 0.16654140134709214.\n",
            "[I 2023-09-15 15:18:47,361] Trial 66 finished with value: 0.1766301259463318 and parameters: {'learning_rate': 0.13818543798370023, 'max_depth': 8, 'n_estimators': 202, 'reg_alpha': 0.600441264771284, 'reg_lambda': 0.2783776741576162, 'subsample': 0.633978752904609, 'colsample_bytree': 0.9540796277752251, 'gamma': 0.07819518931023106, 'min_child_weight': 1}. Best is trial 64 with value: 0.16654140134709214.\n",
            "[I 2023-09-15 15:18:47,562] Trial 67 finished with value: 0.20792186978118074 and parameters: {'learning_rate': 0.11217123985675684, 'max_depth': 7, 'n_estimators': 291, 'reg_alpha': 0.5752301850716406, 'reg_lambda': 0.3048579675362524, 'subsample': 0.5551696418118531, 'colsample_bytree': 0.9785887842959977, 'gamma': 0.1293220745788488, 'min_child_weight': 2}. Best is trial 64 with value: 0.16654140134709214.\n",
            "[I 2023-09-15 15:18:47,765] Trial 68 finished with value: 0.19508415407422056 and parameters: {'learning_rate': 0.12432970227187061, 'max_depth': 7, 'n_estimators': 237, 'reg_alpha': 0.5517905160781851, 'reg_lambda': 0.12205561353019144, 'subsample': 0.5652043549785312, 'colsample_bytree': 0.9070884646320887, 'gamma': 0.19423303306870177, 'min_child_weight': 4}. Best is trial 64 with value: 0.16654140134709214.\n",
            "[I 2023-09-15 15:18:47,977] Trial 69 finished with value: 0.24295639982525857 and parameters: {'learning_rate': 0.08663382508360057, 'max_depth': 7, 'n_estimators': 398, 'reg_alpha': 0.68812028284348, 'reg_lambda': 0.3186967311358301, 'subsample': 0.5964942408480791, 'colsample_bytree': 0.947142199036127, 'gamma': 0.15175017692632875, 'min_child_weight': 3}. Best is trial 64 with value: 0.16654140134709214.\n",
            "[I 2023-09-15 15:18:48,173] Trial 70 finished with value: 0.1839962664510178 and parameters: {'learning_rate': 0.139457689040597, 'max_depth': 6, 'n_estimators': 247, 'reg_alpha': 0.5956047719161849, 'reg_lambda': 0.2331336870080169, 'subsample': 0.6478652918847985, 'colsample_bytree': 0.9281693697439789, 'gamma': 0.003719156048140002, 'min_child_weight': 1}. Best is trial 64 with value: 0.16654140134709214.\n",
            "[I 2023-09-15 15:18:48,385] Trial 71 finished with value: 0.17843915859476758 and parameters: {'learning_rate': 0.14562815197354578, 'max_depth': 7, 'n_estimators': 143, 'reg_alpha': 0.5080747029698425, 'reg_lambda': 0.200606119899838, 'subsample': 0.5475315401851787, 'colsample_bytree': 0.8804640317900134, 'gamma': 0.06962707108183641, 'min_child_weight': 1}. Best is trial 64 with value: 0.16654140134709214.\n",
            "[I 2023-09-15 15:18:48,602] Trial 72 finished with value: 0.17395504135549872 and parameters: {'learning_rate': 0.14883247949991854, 'max_depth': 7, 'n_estimators': 182, 'reg_alpha': 0.4800342899270299, 'reg_lambda': 0.18992153162406042, 'subsample': 0.5813290844547896, 'colsample_bytree': 0.9023922754501156, 'gamma': 0.029143611069481743, 'min_child_weight': 1}. Best is trial 64 with value: 0.16654140134709214.\n",
            "[I 2023-09-15 15:18:48,826] Trial 73 finished with value: 0.1943695511684377 and parameters: {'learning_rate': 0.12069086357636141, 'max_depth': 7, 'n_estimators': 169, 'reg_alpha': 0.5329223177760772, 'reg_lambda': 0.16384077879643766, 'subsample': 0.5142493349449397, 'colsample_bytree': 0.9227092408256508, 'gamma': 0.10495208808143702, 'min_child_weight': 2}. Best is trial 64 with value: 0.16654140134709214.\n",
            "[I 2023-09-15 15:18:49,037] Trial 74 finished with value: 0.18075846653161995 and parameters: {'learning_rate': 0.1388773163305363, 'max_depth': 7, 'n_estimators': 115, 'reg_alpha': 0.4973552511482794, 'reg_lambda': 0.23144578783093223, 'subsample': 0.624476100858691, 'colsample_bytree': 0.9638030796865704, 'gamma': 0.05962574980746996, 'min_child_weight': 1}. Best is trial 64 with value: 0.16654140134709214.\n",
            "[I 2023-09-15 15:18:49,233] Trial 75 finished with value: 0.18045370446320613 and parameters: {'learning_rate': 0.14948984827899262, 'max_depth': 6, 'n_estimators': 149, 'reg_alpha': 0.6138142980868644, 'reg_lambda': 0.27476233639860337, 'subsample': 0.5675554252591019, 'colsample_bytree': 0.8826091804025304, 'gamma': 0.03038258474459992, 'min_child_weight': 2}. Best is trial 64 with value: 0.16654140134709214.\n",
            "[I 2023-09-15 15:18:49,443] Trial 76 finished with value: 0.21217044931111997 and parameters: {'learning_rate': 0.10674738090556748, 'max_depth': 7, 'n_estimators': 214, 'reg_alpha': 0.5466362604011097, 'reg_lambda': 0.19727280000397032, 'subsample': 0.5373226489235151, 'colsample_bytree': 0.9346935331666184, 'gamma': 0.08462904744640043, 'min_child_weight': 1}. Best is trial 64 with value: 0.16654140134709214.\n",
            "[I 2023-09-15 15:18:49,649] Trial 77 finished with value: 0.20305865441389648 and parameters: {'learning_rate': 0.11831450911646682, 'max_depth': 7, 'n_estimators': 166, 'reg_alpha': 0.5768071957827924, 'reg_lambda': 0.2573214515369483, 'subsample': 0.6049402875558257, 'colsample_bytree': 0.9150353371178611, 'gamma': 0.0035953741102354186, 'min_child_weight': 3}. Best is trial 64 with value: 0.16654140134709214.\n",
            "[I 2023-09-15 15:18:49,860] Trial 78 finished with value: 0.19085082695270636 and parameters: {'learning_rate': 0.12803377260901744, 'max_depth': 7, 'n_estimators': 139, 'reg_alpha': 0.4537747082010714, 'reg_lambda': 0.2169502226838635, 'subsample': 0.58394132690741, 'colsample_bytree': 0.9501420495010037, 'gamma': 0.15321460879290563, 'min_child_weight': 1}. Best is trial 64 with value: 0.16654140134709214.\n",
            "[I 2023-09-15 15:18:50,085] Trial 79 finished with value: 0.17432201837130198 and parameters: {'learning_rate': 0.1380551531979943, 'max_depth': 8, 'n_estimators': 188, 'reg_alpha': 0.47836958174941446, 'reg_lambda': 0.3306048513364538, 'subsample': 0.5322077545724072, 'colsample_bytree': 0.9869474645606553, 'gamma': 0.08611518337297688, 'min_child_weight': 2}. Best is trial 64 with value: 0.16654140134709214.\n",
            "[I 2023-09-15 15:18:50,289] Trial 80 finished with value: 0.18154360123740845 and parameters: {'learning_rate': 0.14929311423558028, 'max_depth': 6, 'n_estimators': 122, 'reg_alpha': 0.6484732312110575, 'reg_lambda': 0.3290529762580402, 'subsample': 0.5586316430388927, 'colsample_bytree': 0.8968133278682877, 'gamma': 0.12279585573816526, 'min_child_weight': 4}. Best is trial 64 with value: 0.16654140134709214.\n",
            "[I 2023-09-15 15:18:50,505] Trial 81 finished with value: 0.1913249312547146 and parameters: {'learning_rate': 0.1262604132876349, 'max_depth': 7, 'n_estimators': 160, 'reg_alpha': 0.6169793302813734, 'reg_lambda': 0.4365052398555132, 'subsample': 0.5153241993539336, 'colsample_bytree': 0.8850471346081481, 'gamma': 0.001724400256375283, 'min_child_weight': 6}. Best is trial 64 with value: 0.16654140134709214.\n",
            "[I 2023-09-15 15:18:50,713] Trial 82 finished with value: 0.1708672267315151 and parameters: {'learning_rate': 0.14968845279859444, 'max_depth': 7, 'n_estimators': 136, 'reg_alpha': 0.6397315588310631, 'reg_lambda': 0.24439149257426176, 'subsample': 0.5340973844922045, 'colsample_bytree': 0.9126701408260187, 'gamma': 0.028068485774214925, 'min_child_weight': 7}. Best is trial 64 with value: 0.16654140134709214.\n",
            "[I 2023-09-15 15:18:50,928] Trial 83 finished with value: 0.17595643495036392 and parameters: {'learning_rate': 0.13825003836057168, 'max_depth': 7, 'n_estimators': 133, 'reg_alpha': 0.5212743449955642, 'reg_lambda': 0.24743043191568687, 'subsample': 0.5736498952339472, 'colsample_bytree': 0.9343808518748095, 'gamma': 0.06042279291735919, 'min_child_weight': 8}. Best is trial 64 with value: 0.16654140134709214.\n",
            "[I 2023-09-15 15:18:51,139] Trial 84 finished with value: 0.20447800912915665 and parameters: {'learning_rate': 0.11603430373652852, 'max_depth': 7, 'n_estimators': 151, 'reg_alpha': 0.5668318354156567, 'reg_lambda': 0.16901342057999164, 'subsample': 0.5512050321194263, 'colsample_bytree': 0.913603231129295, 'gamma': 0.04188968124647743, 'min_child_weight': 7}. Best is trial 64 with value: 0.16654140134709214.\n",
            "[I 2023-09-15 15:18:51,352] Trial 85 finished with value: 0.1911805788466989 and parameters: {'learning_rate': 0.12763709612603305, 'max_depth': 7, 'n_estimators': 108, 'reg_alpha': 0.6539575154007496, 'reg_lambda': 0.28475191795911337, 'subsample': 0.5272420963383105, 'colsample_bytree': 0.9680164116219327, 'gamma': 0.02568483585631246, 'min_child_weight': 1}. Best is trial 64 with value: 0.16654140134709214.\n",
            "[I 2023-09-15 15:18:51,569] Trial 86 finished with value: 0.22439081970035005 and parameters: {'learning_rate': 0.10044369545668003, 'max_depth': 7, 'n_estimators': 199, 'reg_alpha': 0.5839474110540589, 'reg_lambda': 0.2140409235009205, 'subsample': 0.5420806292144307, 'colsample_bytree': 0.8989005478632864, 'gamma': 0.10835210710969445, 'min_child_weight': 5}. Best is trial 64 with value: 0.16654140134709214.\n",
            "[I 2023-09-15 15:18:51,786] Trial 87 finished with value: 0.1692584678467158 and parameters: {'learning_rate': 0.14953672460185505, 'max_depth': 7, 'n_estimators': 323, 'reg_alpha': 0.5455597813910973, 'reg_lambda': 0.37392588435545293, 'subsample': 0.6132242718836096, 'colsample_bytree': 0.9554069258236617, 'gamma': 0.06608897531628287, 'min_child_weight': 9}. Best is trial 64 with value: 0.16654140134709214.\n",
            "[I 2023-09-15 15:18:52,004] Trial 88 finished with value: 0.17764133421802203 and parameters: {'learning_rate': 0.14095048402203036, 'max_depth': 7, 'n_estimators': 320, 'reg_alpha': 0.5427923495673457, 'reg_lambda': 0.3774473837281159, 'subsample': 0.6109894387370174, 'colsample_bytree': 0.9512339691509529, 'gamma': 0.19418183336176725, 'min_child_weight': 9}. Best is trial 64 with value: 0.16654140134709214.\n",
            "[I 2023-09-15 15:18:52,230] Trial 89 finished with value: 0.20564786300437574 and parameters: {'learning_rate': 0.10933265180847722, 'max_depth': 8, 'n_estimators': 329, 'reg_alpha': 0.6323690062429935, 'reg_lambda': 0.35422059372398695, 'subsample': 0.5911799191699552, 'colsample_bytree': 0.9725149873273323, 'gamma': 0.08281038664307543, 'min_child_weight': 9}. Best is trial 64 with value: 0.16654140134709214.\n",
            "[I 2023-09-15 15:18:52,468] Trial 90 finished with value: 0.18518857639835304 and parameters: {'learning_rate': 0.1315717010922088, 'max_depth': 7, 'n_estimators': 356, 'reg_alpha': 0.7075993363236309, 'reg_lambda': 0.3049806175685144, 'subsample': 0.5890814211732037, 'colsample_bytree': 0.9967254947335441, 'gamma': 0.024283820066308855, 'min_child_weight': 10}. Best is trial 64 with value: 0.16654140134709214.\n",
            "[I 2023-09-15 15:18:52,724] Trial 91 finished with value: 0.17206333262424695 and parameters: {'learning_rate': 0.14297121955782985, 'max_depth': 7, 'n_estimators': 288, 'reg_alpha': 0.5132370778161579, 'reg_lambda': 0.2595541053178117, 'subsample': 0.628554868405183, 'colsample_bytree': 0.9379167485990633, 'gamma': 0.05500373193654338, 'min_child_weight': 9}. Best is trial 64 with value: 0.16654140134709214.\n",
            "[I 2023-09-15 15:18:52,958] Trial 92 finished with value: 0.1730743457281366 and parameters: {'learning_rate': 0.14044596593936043, 'max_depth': 7, 'n_estimators': 316, 'reg_alpha': 0.551200788558419, 'reg_lambda': 0.2615036487123678, 'subsample': 0.6330570487205518, 'colsample_bytree': 0.9314645948387108, 'gamma': 0.06628321327496463, 'min_child_weight': 10}. Best is trial 64 with value: 0.16654140134709214.\n",
            "[I 2023-09-15 15:18:53,208] Trial 93 finished with value: 0.19615006810385213 and parameters: {'learning_rate': 0.12186353132233191, 'max_depth': 7, 'n_estimators': 290, 'reg_alpha': 0.6013565656864742, 'reg_lambda': 0.24338801683510583, 'subsample': 0.6197496621005206, 'colsample_bytree': 0.9551158849366141, 'gamma': 0.12112069961983095, 'min_child_weight': 9}. Best is trial 64 with value: 0.16654140134709214.\n",
            "[I 2023-09-15 15:18:53,459] Trial 94 finished with value: 0.1835126384902786 and parameters: {'learning_rate': 0.13038036061977945, 'max_depth': 7, 'n_estimators': 349, 'reg_alpha': 0.5247040131742498, 'reg_lambda': 0.31854502482681046, 'subsample': 0.648055581479779, 'colsample_bytree': 0.9388766132334685, 'gamma': 0.020799911106292222, 'min_child_weight': 8}. Best is trial 64 with value: 0.16654140134709214.\n",
            "[I 2023-09-15 15:18:53,698] Trial 95 finished with value: 0.17963324384521237 and parameters: {'learning_rate': 0.1411295505471179, 'max_depth': 7, 'n_estimators': 273, 'reg_alpha': 0.49980866405414176, 'reg_lambda': 0.28030294638461534, 'subsample': 0.6694750596498359, 'colsample_bytree': 0.918943720582595, 'gamma': 0.09848205849731027, 'min_child_weight': 9}. Best is trial 64 with value: 0.16654140134709214.\n",
            "[I 2023-09-15 15:18:53,919] Trial 96 finished with value: 0.20533608960013916 and parameters: {'learning_rate': 0.1160077010291664, 'max_depth': 7, 'n_estimators': 371, 'reg_alpha': 0.6660415786856632, 'reg_lambda': 0.18607192226259625, 'subsample': 0.6125764710575062, 'colsample_bytree': 0.9102354252848328, 'gamma': 0.142210179981867, 'min_child_weight': 8}. Best is trial 64 with value: 0.16654140134709214.\n",
            "[I 2023-09-15 15:18:54,186] Trial 97 finished with value: 0.18447815532905718 and parameters: {'learning_rate': 0.1426378926698705, 'max_depth': 6, 'n_estimators': 400, 'reg_alpha': 0.5779839487369527, 'reg_lambda': 0.36275145733278263, 'subsample': 0.5985725880684742, 'colsample_bytree': 0.9437244850136166, 'gamma': 0.05133375191964622, 'min_child_weight': 10}. Best is trial 64 with value: 0.16654140134709214.\n",
            "[I 2023-09-15 15:18:54,404] Trial 98 finished with value: 0.1909702179776083 and parameters: {'learning_rate': 0.12600686127483088, 'max_depth': 7, 'n_estimators': 176, 'reg_alpha': 0.620995830216514, 'reg_lambda': 0.2923737228457289, 'subsample': 0.5649961336747431, 'colsample_bytree': 0.9575199163917696, 'gamma': 0.17034273279317483, 'min_child_weight': 9}. Best is trial 64 with value: 0.16654140134709214.\n",
            "[I 2023-09-15 15:18:54,656] Trial 99 finished with value: 0.18258886042192285 and parameters: {'learning_rate': 0.13179920535235226, 'max_depth': 7, 'n_estimators': 124, 'reg_alpha': 0.5578015793023304, 'reg_lambda': 0.23432837140107377, 'subsample': 0.623992392325928, 'colsample_bytree': 0.9270201209327287, 'gamma': 0.020886245334289816, 'min_child_weight': 6}. Best is trial 64 with value: 0.16654140134709214.\n"
          ]
        },
        {
          "data": {
            "text/html": [
              "<style>#sk-container-id-3 {color: black;}#sk-container-id-3 pre{padding: 0;}#sk-container-id-3 div.sk-toggleable {background-color: white;}#sk-container-id-3 label.sk-toggleable__label {cursor: pointer;display: block;width: 100%;margin-bottom: 0;padding: 0.3em;box-sizing: border-box;text-align: center;}#sk-container-id-3 label.sk-toggleable__label-arrow:before {content: \"▸\";float: left;margin-right: 0.25em;color: #696969;}#sk-container-id-3 label.sk-toggleable__label-arrow:hover:before {color: black;}#sk-container-id-3 div.sk-estimator:hover label.sk-toggleable__label-arrow:before {color: black;}#sk-container-id-3 div.sk-toggleable__content {max-height: 0;max-width: 0;overflow: hidden;text-align: left;background-color: #f0f8ff;}#sk-container-id-3 div.sk-toggleable__content pre {margin: 0.2em;color: black;border-radius: 0.25em;background-color: #f0f8ff;}#sk-container-id-3 input.sk-toggleable__control:checked~div.sk-toggleable__content {max-height: 200px;max-width: 100%;overflow: auto;}#sk-container-id-3 input.sk-toggleable__control:checked~label.sk-toggleable__label-arrow:before {content: \"▾\";}#sk-container-id-3 div.sk-estimator input.sk-toggleable__control:checked~label.sk-toggleable__label {background-color: #d4ebff;}#sk-container-id-3 div.sk-label input.sk-toggleable__control:checked~label.sk-toggleable__label {background-color: #d4ebff;}#sk-container-id-3 input.sk-hidden--visually {border: 0;clip: rect(1px 1px 1px 1px);clip: rect(1px, 1px, 1px, 1px);height: 1px;margin: -1px;overflow: hidden;padding: 0;position: absolute;width: 1px;}#sk-container-id-3 div.sk-estimator {font-family: monospace;background-color: #f0f8ff;border: 1px dotted black;border-radius: 0.25em;box-sizing: border-box;margin-bottom: 0.5em;}#sk-container-id-3 div.sk-estimator:hover {background-color: #d4ebff;}#sk-container-id-3 div.sk-parallel-item::after {content: \"\";width: 100%;border-bottom: 1px solid gray;flex-grow: 1;}#sk-container-id-3 div.sk-label:hover label.sk-toggleable__label {background-color: #d4ebff;}#sk-container-id-3 div.sk-serial::before {content: \"\";position: absolute;border-left: 1px solid gray;box-sizing: border-box;top: 0;bottom: 0;left: 50%;z-index: 0;}#sk-container-id-3 div.sk-serial {display: flex;flex-direction: column;align-items: center;background-color: white;padding-right: 0.2em;padding-left: 0.2em;position: relative;}#sk-container-id-3 div.sk-item {position: relative;z-index: 1;}#sk-container-id-3 div.sk-parallel {display: flex;align-items: stretch;justify-content: center;background-color: white;position: relative;}#sk-container-id-3 div.sk-item::before, #sk-container-id-3 div.sk-parallel-item::before {content: \"\";position: absolute;border-left: 1px solid gray;box-sizing: border-box;top: 0;bottom: 0;left: 50%;z-index: -1;}#sk-container-id-3 div.sk-parallel-item {display: flex;flex-direction: column;z-index: 1;position: relative;background-color: white;}#sk-container-id-3 div.sk-parallel-item:first-child::after {align-self: flex-end;width: 50%;}#sk-container-id-3 div.sk-parallel-item:last-child::after {align-self: flex-start;width: 50%;}#sk-container-id-3 div.sk-parallel-item:only-child::after {width: 0;}#sk-container-id-3 div.sk-dashed-wrapped {border: 1px dashed gray;margin: 0 0.4em 0.5em 0.4em;box-sizing: border-box;padding-bottom: 0.4em;background-color: white;}#sk-container-id-3 div.sk-label label {font-family: monospace;font-weight: bold;display: inline-block;line-height: 1.2em;}#sk-container-id-3 div.sk-label-container {text-align: center;}#sk-container-id-3 div.sk-container {/* jupyter's `normalize.less` sets `[hidden] { display: none; }` but bootstrap.min.css set `[hidden] { display: none !important; }` so we also need the `!important` here to be able to override the default hidden behavior on the sphinx rendered scikit-learn.org. See: https://github.com/scikit-learn/scikit-learn/issues/21755 */display: inline-block !important;position: relative;}#sk-container-id-3 div.sk-text-repr-fallback {display: none;}</style><div id=\"sk-container-id-3\" class=\"sk-top-container\"><div class=\"sk-text-repr-fallback\"><pre>XGBRegressor(base_score=None, booster=None, callbacks=None,\n",
              "             colsample_bylevel=None, colsample_bynode=None,\n",
              "             colsample_bytree=0.922365026542454, device=None,\n",
              "             early_stopping_rounds=None, enable_categorical=False,\n",
              "             eval_metric=None, feature_types=None, gamma=0.11076744320759652,\n",
              "             grow_policy=None, importance_type=None,\n",
              "             interaction_constraints=None, learning_rate=0.14928178658750288,\n",
              "             max_bin=None, max_cat_threshold=None, max_cat_to_onehot=None,\n",
              "             max_delta_step=None, max_depth=7, max_leaves=None,\n",
              "             min_child_weight=1, missing=nan, monotone_constraints=None,\n",
              "             multi_strategy=None, n_estimators=213, n_jobs=None,\n",
              "             num_parallel_tree=None, random_state=None, ...)</pre><b>In a Jupyter environment, please rerun this cell to show the HTML representation or trust the notebook. <br />On GitHub, the HTML representation is unable to render, please try loading this page with nbviewer.org.</b></div><div class=\"sk-container\" hidden><div class=\"sk-item\"><div class=\"sk-estimator sk-toggleable\"><input class=\"sk-toggleable__control sk-hidden--visually\" id=\"sk-estimator-id-3\" type=\"checkbox\" checked><label for=\"sk-estimator-id-3\" class=\"sk-toggleable__label sk-toggleable__label-arrow\">XGBRegressor</label><div class=\"sk-toggleable__content\"><pre>XGBRegressor(base_score=None, booster=None, callbacks=None,\n",
              "             colsample_bylevel=None, colsample_bynode=None,\n",
              "             colsample_bytree=0.922365026542454, device=None,\n",
              "             early_stopping_rounds=None, enable_categorical=False,\n",
              "             eval_metric=None, feature_types=None, gamma=0.11076744320759652,\n",
              "             grow_policy=None, importance_type=None,\n",
              "             interaction_constraints=None, learning_rate=0.14928178658750288,\n",
              "             max_bin=None, max_cat_threshold=None, max_cat_to_onehot=None,\n",
              "             max_delta_step=None, max_depth=7, max_leaves=None,\n",
              "             min_child_weight=1, missing=nan, monotone_constraints=None,\n",
              "             multi_strategy=None, n_estimators=213, n_jobs=None,\n",
              "             num_parallel_tree=None, random_state=None, ...)</pre></div></div></div></div></div>"
            ],
            "text/plain": [
              "XGBRegressor(base_score=None, booster=None, callbacks=None,\n",
              "             colsample_bylevel=None, colsample_bynode=None,\n",
              "             colsample_bytree=0.922365026542454, device=None,\n",
              "             early_stopping_rounds=None, enable_categorical=False,\n",
              "             eval_metric=None, feature_types=None, gamma=0.11076744320759652,\n",
              "             grow_policy=None, importance_type=None,\n",
              "             interaction_constraints=None, learning_rate=0.14928178658750288,\n",
              "             max_bin=None, max_cat_threshold=None, max_cat_to_onehot=None,\n",
              "             max_delta_step=None, max_depth=7, max_leaves=None,\n",
              "             min_child_weight=1, missing=nan, monotone_constraints=None,\n",
              "             multi_strategy=None, n_estimators=213, n_jobs=None,\n",
              "             num_parallel_tree=None, random_state=None, ...)"
            ]
          },
          "execution_count": 30,
          "metadata": {},
          "output_type": "execute_result"
        }
      ],
      "source": [
        "# Import the data and create train and test sets\n",
        "train_df = pd.read_csv(os.path.join(PROCESSED_DIR, 'train.csv'))\n",
        "test_df = pd.read_csv(os.path.join(PROCESSED_DIR, 'test.csv'))\n",
        "\n",
        "X_train = train_df.drop('buy_price_by_area', axis=1)\n",
        "y_train = train_df['buy_price_by_area']\n",
        "\n",
        "X_test = test_df.drop('buy_price_by_area', axis=1)\n",
        "y_test = test_df['buy_price_by_area']\n",
        "\n",
        "dtrain = xgb.DMatrix(X_train, label=y_train)\n",
        "\n",
        "def objective(trial, dtrain):\n",
        "    \"\"\"Function to optimize the hyperparameters of the XGBoost model using Optuna\"\"\"\n",
        "    \n",
        "    # Define the hyperparameters to optimize\n",
        "    optimize_params = {\n",
        "        'learning_rate': trial.suggest_float('learning_rate', 0.01, 0.15, log=True),\n",
        "        'max_depth': trial.suggest_int('max_depth', 4, 6),\n",
        "        'n_estimators': trial.suggest_int('n_estimators', 100, 500),\n",
        "        'reg_alpha': trial.suggest_float('reg_alpha', 0, 1),\n",
        "        'reg_lambda': trial.suggest_float('reg_lambda', 0, 1),\n",
        "        'subsample': trial.suggest_float('subsample', 0.5, 1.0),\n",
        "        'colsample_bytree': trial.suggest_float('colsample_bytree', 0.5, 1.0),\n",
        "        'gamma': trial.suggest_float('gamma', 0, 1),\n",
        "        'min_child_weight': trial.suggest_int('min_child_weight', 1, 10),\n",
        "    }\n",
        "\n",
        "    fixed_params = {\n",
        "        'booster': 'gbtree',\n",
        "        'importance_type': 'gain',\n",
        "        'n_jobs': -1,\n",
        "        'objective': 'reg:squarederror',\n",
        "        'nfolds': 5,\n",
        "        'eval_metric': 'mape',\n",
        "    }\n",
        "   \n",
        "    # xgbost cross validation\n",
        "    results = xgb.cv({**optimize_params, **fixed_params}, \n",
        "                     dtrain,\n",
        "                     seed=RANDOM_STATE)\n",
        "\n",
        "    # Minimize the mape and the difference between train and test to avoid overfitting\n",
        "    return results['test-mape-mean'].min() + abs(results['train-mape-mean'].min() - results['test-mape-mean'].min())\n",
        "\n",
        "# Optimize the hyperparameters\n",
        "study = optuna.create_study(direction='minimize', study_name='xgboost')\n",
        "\n",
        "study.optimize(lambda trail: objective(trail, dtrain), n_trials=100, show_progress_bar=True)\n",
        "\n",
        "# Get the best hyperparameters\n",
        "best_params = study.best_params\n",
        "\n",
        "# Create the XGBoost model with the best hyperparameters\n",
        "model = XGBRegressor(**best_params)\n",
        "\n",
        "# Fit the model\n",
        "model.fit(X_train, y_train)"
      ]
    },
    {
      "cell_type": "code",
      "execution_count": 31,
      "metadata": {},
      "outputs": [
        {
          "data": {
            "text/html": [
              "<style>#sk-container-id-4 {color: black;}#sk-container-id-4 pre{padding: 0;}#sk-container-id-4 div.sk-toggleable {background-color: white;}#sk-container-id-4 label.sk-toggleable__label {cursor: pointer;display: block;width: 100%;margin-bottom: 0;padding: 0.3em;box-sizing: border-box;text-align: center;}#sk-container-id-4 label.sk-toggleable__label-arrow:before {content: \"▸\";float: left;margin-right: 0.25em;color: #696969;}#sk-container-id-4 label.sk-toggleable__label-arrow:hover:before {color: black;}#sk-container-id-4 div.sk-estimator:hover label.sk-toggleable__label-arrow:before {color: black;}#sk-container-id-4 div.sk-toggleable__content {max-height: 0;max-width: 0;overflow: hidden;text-align: left;background-color: #f0f8ff;}#sk-container-id-4 div.sk-toggleable__content pre {margin: 0.2em;color: black;border-radius: 0.25em;background-color: #f0f8ff;}#sk-container-id-4 input.sk-toggleable__control:checked~div.sk-toggleable__content {max-height: 200px;max-width: 100%;overflow: auto;}#sk-container-id-4 input.sk-toggleable__control:checked~label.sk-toggleable__label-arrow:before {content: \"▾\";}#sk-container-id-4 div.sk-estimator input.sk-toggleable__control:checked~label.sk-toggleable__label {background-color: #d4ebff;}#sk-container-id-4 div.sk-label input.sk-toggleable__control:checked~label.sk-toggleable__label {background-color: #d4ebff;}#sk-container-id-4 input.sk-hidden--visually {border: 0;clip: rect(1px 1px 1px 1px);clip: rect(1px, 1px, 1px, 1px);height: 1px;margin: -1px;overflow: hidden;padding: 0;position: absolute;width: 1px;}#sk-container-id-4 div.sk-estimator {font-family: monospace;background-color: #f0f8ff;border: 1px dotted black;border-radius: 0.25em;box-sizing: border-box;margin-bottom: 0.5em;}#sk-container-id-4 div.sk-estimator:hover {background-color: #d4ebff;}#sk-container-id-4 div.sk-parallel-item::after {content: \"\";width: 100%;border-bottom: 1px solid gray;flex-grow: 1;}#sk-container-id-4 div.sk-label:hover label.sk-toggleable__label {background-color: #d4ebff;}#sk-container-id-4 div.sk-serial::before {content: \"\";position: absolute;border-left: 1px solid gray;box-sizing: border-box;top: 0;bottom: 0;left: 50%;z-index: 0;}#sk-container-id-4 div.sk-serial {display: flex;flex-direction: column;align-items: center;background-color: white;padding-right: 0.2em;padding-left: 0.2em;position: relative;}#sk-container-id-4 div.sk-item {position: relative;z-index: 1;}#sk-container-id-4 div.sk-parallel {display: flex;align-items: stretch;justify-content: center;background-color: white;position: relative;}#sk-container-id-4 div.sk-item::before, #sk-container-id-4 div.sk-parallel-item::before {content: \"\";position: absolute;border-left: 1px solid gray;box-sizing: border-box;top: 0;bottom: 0;left: 50%;z-index: -1;}#sk-container-id-4 div.sk-parallel-item {display: flex;flex-direction: column;z-index: 1;position: relative;background-color: white;}#sk-container-id-4 div.sk-parallel-item:first-child::after {align-self: flex-end;width: 50%;}#sk-container-id-4 div.sk-parallel-item:last-child::after {align-self: flex-start;width: 50%;}#sk-container-id-4 div.sk-parallel-item:only-child::after {width: 0;}#sk-container-id-4 div.sk-dashed-wrapped {border: 1px dashed gray;margin: 0 0.4em 0.5em 0.4em;box-sizing: border-box;padding-bottom: 0.4em;background-color: white;}#sk-container-id-4 div.sk-label label {font-family: monospace;font-weight: bold;display: inline-block;line-height: 1.2em;}#sk-container-id-4 div.sk-label-container {text-align: center;}#sk-container-id-4 div.sk-container {/* jupyter's `normalize.less` sets `[hidden] { display: none; }` but bootstrap.min.css set `[hidden] { display: none !important; }` so we also need the `!important` here to be able to override the default hidden behavior on the sphinx rendered scikit-learn.org. See: https://github.com/scikit-learn/scikit-learn/issues/21755 */display: inline-block !important;position: relative;}#sk-container-id-4 div.sk-text-repr-fallback {display: none;}</style><div id=\"sk-container-id-4\" class=\"sk-top-container\"><div class=\"sk-text-repr-fallback\"><pre>XGBRegressor(base_score=None, booster=None, callbacks=None,\n",
              "             colsample_bylevel=None, colsample_bynode=None,\n",
              "             colsample_bytree=0.922365026542454, device=None,\n",
              "             early_stopping_rounds=None, enable_categorical=False,\n",
              "             eval_metric=None, feature_types=None, gamma=0.11076744320759652,\n",
              "             grow_policy=None, importance_type=None,\n",
              "             interaction_constraints=None, learning_rate=0.14928178658750288,\n",
              "             max_bin=None, max_cat_threshold=None, max_cat_to_onehot=None,\n",
              "             max_delta_step=None, max_depth=7, max_leaves=None,\n",
              "             min_child_weight=1, missing=nan, monotone_constraints=None,\n",
              "             multi_strategy=None, n_estimators=213, n_jobs=None,\n",
              "             num_parallel_tree=None, random_state=None, ...)</pre><b>In a Jupyter environment, please rerun this cell to show the HTML representation or trust the notebook. <br />On GitHub, the HTML representation is unable to render, please try loading this page with nbviewer.org.</b></div><div class=\"sk-container\" hidden><div class=\"sk-item\"><div class=\"sk-estimator sk-toggleable\"><input class=\"sk-toggleable__control sk-hidden--visually\" id=\"sk-estimator-id-4\" type=\"checkbox\" checked><label for=\"sk-estimator-id-4\" class=\"sk-toggleable__label sk-toggleable__label-arrow\">XGBRegressor</label><div class=\"sk-toggleable__content\"><pre>XGBRegressor(base_score=None, booster=None, callbacks=None,\n",
              "             colsample_bylevel=None, colsample_bynode=None,\n",
              "             colsample_bytree=0.922365026542454, device=None,\n",
              "             early_stopping_rounds=None, enable_categorical=False,\n",
              "             eval_metric=None, feature_types=None, gamma=0.11076744320759652,\n",
              "             grow_policy=None, importance_type=None,\n",
              "             interaction_constraints=None, learning_rate=0.14928178658750288,\n",
              "             max_bin=None, max_cat_threshold=None, max_cat_to_onehot=None,\n",
              "             max_delta_step=None, max_depth=7, max_leaves=None,\n",
              "             min_child_weight=1, missing=nan, monotone_constraints=None,\n",
              "             multi_strategy=None, n_estimators=213, n_jobs=None,\n",
              "             num_parallel_tree=None, random_state=None, ...)</pre></div></div></div></div></div>"
            ],
            "text/plain": [
              "XGBRegressor(base_score=None, booster=None, callbacks=None,\n",
              "             colsample_bylevel=None, colsample_bynode=None,\n",
              "             colsample_bytree=0.922365026542454, device=None,\n",
              "             early_stopping_rounds=None, enable_categorical=False,\n",
              "             eval_metric=None, feature_types=None, gamma=0.11076744320759652,\n",
              "             grow_policy=None, importance_type=None,\n",
              "             interaction_constraints=None, learning_rate=0.14928178658750288,\n",
              "             max_bin=None, max_cat_threshold=None, max_cat_to_onehot=None,\n",
              "             max_delta_step=None, max_depth=7, max_leaves=None,\n",
              "             min_child_weight=1, missing=nan, monotone_constraints=None,\n",
              "             multi_strategy=None, n_estimators=213, n_jobs=None,\n",
              "             num_parallel_tree=None, random_state=None, ...)"
            ]
          },
          "execution_count": 31,
          "metadata": {},
          "output_type": "execute_result"
        }
      ],
      "source": [
        "# Save the model in pickle file\n",
        "model_name = 'xgboost_model_' + datetime.now().strftime(\"%Y%m%d-%H%M%S\") + '.pkl'\n",
        "model_path = os.path.join(MODELS_DIR, model_name)\n",
        "\n",
        "pickle.dump(model, open(model_path, 'wb'))\n",
        "\n",
        "model"
      ]
    },
    {
      "cell_type": "code",
      "execution_count": 32,
      "metadata": {},
      "outputs": [
        {
          "data": {
            "application/vnd.plotly.v1+json": {
              "config": {
                "plotlyServerURL": "https://plot.ly"
              },
              "data": [
                {
                  "mode": "markers",
                  "name": "Objective Value",
                  "type": "scatter",
                  "x": [
                    0,
                    1,
                    2,
                    3,
                    4,
                    5,
                    6,
                    7,
                    8,
                    9,
                    10,
                    11,
                    12,
                    13,
                    14,
                    15,
                    16,
                    17,
                    18,
                    19,
                    20,
                    21,
                    22,
                    23,
                    24,
                    25,
                    26,
                    27,
                    28,
                    29,
                    30,
                    31,
                    32,
                    33,
                    34,
                    35,
                    36,
                    37,
                    38,
                    39,
                    40,
                    41,
                    42,
                    43,
                    44,
                    45,
                    46,
                    47,
                    48,
                    49,
                    50,
                    51,
                    52,
                    53,
                    54,
                    55,
                    56,
                    57,
                    58,
                    59,
                    60,
                    61,
                    62,
                    63,
                    64,
                    65,
                    66,
                    67,
                    68,
                    69,
                    70,
                    71,
                    72,
                    73,
                    74,
                    75,
                    76,
                    77,
                    78,
                    79,
                    80,
                    81,
                    82,
                    83,
                    84,
                    85,
                    86,
                    87,
                    88,
                    89,
                    90,
                    91,
                    92,
                    93,
                    94,
                    95,
                    96,
                    97,
                    98,
                    99
                  ],
                  "y": [
                    0.3572779911899417,
                    0.2968716404414364,
                    0.4063894041900109,
                    0.3141354334859258,
                    0.3632066189980679,
                    0.30215975412432433,
                    0.2451160974294664,
                    0.22404912349914283,
                    0.32982929103927316,
                    0.27072934424468825,
                    0.1992711455501709,
                    0.18813165505945814,
                    0.17650768936239986,
                    0.1784386673967119,
                    0.17973428718425263,
                    0.2539904924173165,
                    0.20131758852177853,
                    0.2535352304886874,
                    0.18247915158151953,
                    0.24484391390868115,
                    0.2152704273212156,
                    0.18218803727686803,
                    0.17052651881609132,
                    0.17587486707222874,
                    0.2191006832575116,
                    0.25518220985812745,
                    0.22821975364212505,
                    0.1800204670484337,
                    0.1917209408392897,
                    0.2735722312276775,
                    0.24713962261948183,
                    0.20478924618861746,
                    0.17294585076148886,
                    0.20747095361626464,
                    0.23289745049290453,
                    0.20074409082476,
                    0.1914486215443846,
                    0.37049008438150205,
                    0.2525560319383888,
                    0.29721767575702135,
                    0.1871791133324779,
                    0.17306390847537623,
                    0.2192021255884639,
                    0.19360371869638307,
                    0.16979162541126505,
                    0.21304248953466995,
                    0.17000659124691195,
                    0.18816260415358618,
                    0.22548689856924073,
                    0.19081066492673826,
                    0.18045213147602845,
                    0.16968753343369225,
                    0.20969079968585175,
                    0.17627249503197312,
                    0.17245582222820482,
                    0.18533071929012335,
                    0.2313647783514183,
                    0.20263268878647797,
                    0.1706432691543564,
                    0.1862322984733127,
                    0.21864603356420587,
                    0.17227248188856512,
                    0.18403502569579103,
                    0.19991618549280868,
                    0.16654140134709214,
                    0.18139455786124653,
                    0.1766301259463318,
                    0.20792186978118074,
                    0.19508415407422056,
                    0.24295639982525857,
                    0.1839962664510178,
                    0.17843915859476758,
                    0.17395504135549872,
                    0.1943695511684377,
                    0.18075846653161995,
                    0.18045370446320613,
                    0.21217044931111997,
                    0.20305865441389648,
                    0.19085082695270636,
                    0.17432201837130198,
                    0.18154360123740845,
                    0.1913249312547146,
                    0.1708672267315151,
                    0.17595643495036392,
                    0.20447800912915665,
                    0.1911805788466989,
                    0.22439081970035005,
                    0.1692584678467158,
                    0.17764133421802203,
                    0.20564786300437574,
                    0.18518857639835304,
                    0.17206333262424695,
                    0.1730743457281366,
                    0.19615006810385213,
                    0.1835126384902786,
                    0.17963324384521237,
                    0.20533608960013916,
                    0.18447815532905718,
                    0.1909702179776083,
                    0.18258886042192285
                  ]
                },
                {
                  "mode": "lines",
                  "name": "Best Value",
                  "type": "scatter",
                  "x": [
                    0,
                    1,
                    2,
                    3,
                    4,
                    5,
                    6,
                    7,
                    8,
                    9,
                    10,
                    11,
                    12,
                    13,
                    14,
                    15,
                    16,
                    17,
                    18,
                    19,
                    20,
                    21,
                    22,
                    23,
                    24,
                    25,
                    26,
                    27,
                    28,
                    29,
                    30,
                    31,
                    32,
                    33,
                    34,
                    35,
                    36,
                    37,
                    38,
                    39,
                    40,
                    41,
                    42,
                    43,
                    44,
                    45,
                    46,
                    47,
                    48,
                    49,
                    50,
                    51,
                    52,
                    53,
                    54,
                    55,
                    56,
                    57,
                    58,
                    59,
                    60,
                    61,
                    62,
                    63,
                    64,
                    65,
                    66,
                    67,
                    68,
                    69,
                    70,
                    71,
                    72,
                    73,
                    74,
                    75,
                    76,
                    77,
                    78,
                    79,
                    80,
                    81,
                    82,
                    83,
                    84,
                    85,
                    86,
                    87,
                    88,
                    89,
                    90,
                    91,
                    92,
                    93,
                    94,
                    95,
                    96,
                    97,
                    98,
                    99
                  ],
                  "y": [
                    0.3572779911899417,
                    0.2968716404414364,
                    0.2968716404414364,
                    0.2968716404414364,
                    0.2968716404414364,
                    0.2968716404414364,
                    0.2451160974294664,
                    0.22404912349914283,
                    0.22404912349914283,
                    0.22404912349914283,
                    0.1992711455501709,
                    0.18813165505945814,
                    0.17650768936239986,
                    0.17650768936239986,
                    0.17650768936239986,
                    0.17650768936239986,
                    0.17650768936239986,
                    0.17650768936239986,
                    0.17650768936239986,
                    0.17650768936239986,
                    0.17650768936239986,
                    0.17650768936239986,
                    0.17052651881609132,
                    0.17052651881609132,
                    0.17052651881609132,
                    0.17052651881609132,
                    0.17052651881609132,
                    0.17052651881609132,
                    0.17052651881609132,
                    0.17052651881609132,
                    0.17052651881609132,
                    0.17052651881609132,
                    0.17052651881609132,
                    0.17052651881609132,
                    0.17052651881609132,
                    0.17052651881609132,
                    0.17052651881609132,
                    0.17052651881609132,
                    0.17052651881609132,
                    0.17052651881609132,
                    0.17052651881609132,
                    0.17052651881609132,
                    0.17052651881609132,
                    0.17052651881609132,
                    0.16979162541126505,
                    0.16979162541126505,
                    0.16979162541126505,
                    0.16979162541126505,
                    0.16979162541126505,
                    0.16979162541126505,
                    0.16979162541126505,
                    0.16968753343369225,
                    0.16968753343369225,
                    0.16968753343369225,
                    0.16968753343369225,
                    0.16968753343369225,
                    0.16968753343369225,
                    0.16968753343369225,
                    0.16968753343369225,
                    0.16968753343369225,
                    0.16968753343369225,
                    0.16968753343369225,
                    0.16968753343369225,
                    0.16968753343369225,
                    0.16654140134709214,
                    0.16654140134709214,
                    0.16654140134709214,
                    0.16654140134709214,
                    0.16654140134709214,
                    0.16654140134709214,
                    0.16654140134709214,
                    0.16654140134709214,
                    0.16654140134709214,
                    0.16654140134709214,
                    0.16654140134709214,
                    0.16654140134709214,
                    0.16654140134709214,
                    0.16654140134709214,
                    0.16654140134709214,
                    0.16654140134709214,
                    0.16654140134709214,
                    0.16654140134709214,
                    0.16654140134709214,
                    0.16654140134709214,
                    0.16654140134709214,
                    0.16654140134709214,
                    0.16654140134709214,
                    0.16654140134709214,
                    0.16654140134709214,
                    0.16654140134709214,
                    0.16654140134709214,
                    0.16654140134709214,
                    0.16654140134709214,
                    0.16654140134709214,
                    0.16654140134709214,
                    0.16654140134709214,
                    0.16654140134709214,
                    0.16654140134709214,
                    0.16654140134709214,
                    0.16654140134709214
                  ]
                },
                {
                  "marker": {
                    "color": "#cccccc"
                  },
                  "mode": "markers",
                  "name": "Infeasible Trial",
                  "showlegend": false,
                  "type": "scatter",
                  "x": [],
                  "y": []
                }
              ],
              "layout": {
                "template": {
                  "data": {
                    "bar": [
                      {
                        "error_x": {
                          "color": "#2a3f5f"
                        },
                        "error_y": {
                          "color": "#2a3f5f"
                        },
                        "marker": {
                          "line": {
                            "color": "#E5ECF6",
                            "width": 0.5
                          },
                          "pattern": {
                            "fillmode": "overlay",
                            "size": 10,
                            "solidity": 0.2
                          }
                        },
                        "type": "bar"
                      }
                    ],
                    "barpolar": [
                      {
                        "marker": {
                          "line": {
                            "color": "#E5ECF6",
                            "width": 0.5
                          },
                          "pattern": {
                            "fillmode": "overlay",
                            "size": 10,
                            "solidity": 0.2
                          }
                        },
                        "type": "barpolar"
                      }
                    ],
                    "carpet": [
                      {
                        "aaxis": {
                          "endlinecolor": "#2a3f5f",
                          "gridcolor": "white",
                          "linecolor": "white",
                          "minorgridcolor": "white",
                          "startlinecolor": "#2a3f5f"
                        },
                        "baxis": {
                          "endlinecolor": "#2a3f5f",
                          "gridcolor": "white",
                          "linecolor": "white",
                          "minorgridcolor": "white",
                          "startlinecolor": "#2a3f5f"
                        },
                        "type": "carpet"
                      }
                    ],
                    "choropleth": [
                      {
                        "colorbar": {
                          "outlinewidth": 0,
                          "ticks": ""
                        },
                        "type": "choropleth"
                      }
                    ],
                    "contour": [
                      {
                        "colorbar": {
                          "outlinewidth": 0,
                          "ticks": ""
                        },
                        "colorscale": [
                          [
                            0,
                            "#0d0887"
                          ],
                          [
                            0.1111111111111111,
                            "#46039f"
                          ],
                          [
                            0.2222222222222222,
                            "#7201a8"
                          ],
                          [
                            0.3333333333333333,
                            "#9c179e"
                          ],
                          [
                            0.4444444444444444,
                            "#bd3786"
                          ],
                          [
                            0.5555555555555556,
                            "#d8576b"
                          ],
                          [
                            0.6666666666666666,
                            "#ed7953"
                          ],
                          [
                            0.7777777777777778,
                            "#fb9f3a"
                          ],
                          [
                            0.8888888888888888,
                            "#fdca26"
                          ],
                          [
                            1,
                            "#f0f921"
                          ]
                        ],
                        "type": "contour"
                      }
                    ],
                    "contourcarpet": [
                      {
                        "colorbar": {
                          "outlinewidth": 0,
                          "ticks": ""
                        },
                        "type": "contourcarpet"
                      }
                    ],
                    "heatmap": [
                      {
                        "colorbar": {
                          "outlinewidth": 0,
                          "ticks": ""
                        },
                        "colorscale": [
                          [
                            0,
                            "#0d0887"
                          ],
                          [
                            0.1111111111111111,
                            "#46039f"
                          ],
                          [
                            0.2222222222222222,
                            "#7201a8"
                          ],
                          [
                            0.3333333333333333,
                            "#9c179e"
                          ],
                          [
                            0.4444444444444444,
                            "#bd3786"
                          ],
                          [
                            0.5555555555555556,
                            "#d8576b"
                          ],
                          [
                            0.6666666666666666,
                            "#ed7953"
                          ],
                          [
                            0.7777777777777778,
                            "#fb9f3a"
                          ],
                          [
                            0.8888888888888888,
                            "#fdca26"
                          ],
                          [
                            1,
                            "#f0f921"
                          ]
                        ],
                        "type": "heatmap"
                      }
                    ],
                    "heatmapgl": [
                      {
                        "colorbar": {
                          "outlinewidth": 0,
                          "ticks": ""
                        },
                        "colorscale": [
                          [
                            0,
                            "#0d0887"
                          ],
                          [
                            0.1111111111111111,
                            "#46039f"
                          ],
                          [
                            0.2222222222222222,
                            "#7201a8"
                          ],
                          [
                            0.3333333333333333,
                            "#9c179e"
                          ],
                          [
                            0.4444444444444444,
                            "#bd3786"
                          ],
                          [
                            0.5555555555555556,
                            "#d8576b"
                          ],
                          [
                            0.6666666666666666,
                            "#ed7953"
                          ],
                          [
                            0.7777777777777778,
                            "#fb9f3a"
                          ],
                          [
                            0.8888888888888888,
                            "#fdca26"
                          ],
                          [
                            1,
                            "#f0f921"
                          ]
                        ],
                        "type": "heatmapgl"
                      }
                    ],
                    "histogram": [
                      {
                        "marker": {
                          "pattern": {
                            "fillmode": "overlay",
                            "size": 10,
                            "solidity": 0.2
                          }
                        },
                        "type": "histogram"
                      }
                    ],
                    "histogram2d": [
                      {
                        "colorbar": {
                          "outlinewidth": 0,
                          "ticks": ""
                        },
                        "colorscale": [
                          [
                            0,
                            "#0d0887"
                          ],
                          [
                            0.1111111111111111,
                            "#46039f"
                          ],
                          [
                            0.2222222222222222,
                            "#7201a8"
                          ],
                          [
                            0.3333333333333333,
                            "#9c179e"
                          ],
                          [
                            0.4444444444444444,
                            "#bd3786"
                          ],
                          [
                            0.5555555555555556,
                            "#d8576b"
                          ],
                          [
                            0.6666666666666666,
                            "#ed7953"
                          ],
                          [
                            0.7777777777777778,
                            "#fb9f3a"
                          ],
                          [
                            0.8888888888888888,
                            "#fdca26"
                          ],
                          [
                            1,
                            "#f0f921"
                          ]
                        ],
                        "type": "histogram2d"
                      }
                    ],
                    "histogram2dcontour": [
                      {
                        "colorbar": {
                          "outlinewidth": 0,
                          "ticks": ""
                        },
                        "colorscale": [
                          [
                            0,
                            "#0d0887"
                          ],
                          [
                            0.1111111111111111,
                            "#46039f"
                          ],
                          [
                            0.2222222222222222,
                            "#7201a8"
                          ],
                          [
                            0.3333333333333333,
                            "#9c179e"
                          ],
                          [
                            0.4444444444444444,
                            "#bd3786"
                          ],
                          [
                            0.5555555555555556,
                            "#d8576b"
                          ],
                          [
                            0.6666666666666666,
                            "#ed7953"
                          ],
                          [
                            0.7777777777777778,
                            "#fb9f3a"
                          ],
                          [
                            0.8888888888888888,
                            "#fdca26"
                          ],
                          [
                            1,
                            "#f0f921"
                          ]
                        ],
                        "type": "histogram2dcontour"
                      }
                    ],
                    "mesh3d": [
                      {
                        "colorbar": {
                          "outlinewidth": 0,
                          "ticks": ""
                        },
                        "type": "mesh3d"
                      }
                    ],
                    "parcoords": [
                      {
                        "line": {
                          "colorbar": {
                            "outlinewidth": 0,
                            "ticks": ""
                          }
                        },
                        "type": "parcoords"
                      }
                    ],
                    "pie": [
                      {
                        "automargin": true,
                        "type": "pie"
                      }
                    ],
                    "scatter": [
                      {
                        "fillpattern": {
                          "fillmode": "overlay",
                          "size": 10,
                          "solidity": 0.2
                        },
                        "type": "scatter"
                      }
                    ],
                    "scatter3d": [
                      {
                        "line": {
                          "colorbar": {
                            "outlinewidth": 0,
                            "ticks": ""
                          }
                        },
                        "marker": {
                          "colorbar": {
                            "outlinewidth": 0,
                            "ticks": ""
                          }
                        },
                        "type": "scatter3d"
                      }
                    ],
                    "scattercarpet": [
                      {
                        "marker": {
                          "colorbar": {
                            "outlinewidth": 0,
                            "ticks": ""
                          }
                        },
                        "type": "scattercarpet"
                      }
                    ],
                    "scattergeo": [
                      {
                        "marker": {
                          "colorbar": {
                            "outlinewidth": 0,
                            "ticks": ""
                          }
                        },
                        "type": "scattergeo"
                      }
                    ],
                    "scattergl": [
                      {
                        "marker": {
                          "colorbar": {
                            "outlinewidth": 0,
                            "ticks": ""
                          }
                        },
                        "type": "scattergl"
                      }
                    ],
                    "scattermapbox": [
                      {
                        "marker": {
                          "colorbar": {
                            "outlinewidth": 0,
                            "ticks": ""
                          }
                        },
                        "type": "scattermapbox"
                      }
                    ],
                    "scatterpolar": [
                      {
                        "marker": {
                          "colorbar": {
                            "outlinewidth": 0,
                            "ticks": ""
                          }
                        },
                        "type": "scatterpolar"
                      }
                    ],
                    "scatterpolargl": [
                      {
                        "marker": {
                          "colorbar": {
                            "outlinewidth": 0,
                            "ticks": ""
                          }
                        },
                        "type": "scatterpolargl"
                      }
                    ],
                    "scatterternary": [
                      {
                        "marker": {
                          "colorbar": {
                            "outlinewidth": 0,
                            "ticks": ""
                          }
                        },
                        "type": "scatterternary"
                      }
                    ],
                    "surface": [
                      {
                        "colorbar": {
                          "outlinewidth": 0,
                          "ticks": ""
                        },
                        "colorscale": [
                          [
                            0,
                            "#0d0887"
                          ],
                          [
                            0.1111111111111111,
                            "#46039f"
                          ],
                          [
                            0.2222222222222222,
                            "#7201a8"
                          ],
                          [
                            0.3333333333333333,
                            "#9c179e"
                          ],
                          [
                            0.4444444444444444,
                            "#bd3786"
                          ],
                          [
                            0.5555555555555556,
                            "#d8576b"
                          ],
                          [
                            0.6666666666666666,
                            "#ed7953"
                          ],
                          [
                            0.7777777777777778,
                            "#fb9f3a"
                          ],
                          [
                            0.8888888888888888,
                            "#fdca26"
                          ],
                          [
                            1,
                            "#f0f921"
                          ]
                        ],
                        "type": "surface"
                      }
                    ],
                    "table": [
                      {
                        "cells": {
                          "fill": {
                            "color": "#EBF0F8"
                          },
                          "line": {
                            "color": "white"
                          }
                        },
                        "header": {
                          "fill": {
                            "color": "#C8D4E3"
                          },
                          "line": {
                            "color": "white"
                          }
                        },
                        "type": "table"
                      }
                    ]
                  },
                  "layout": {
                    "annotationdefaults": {
                      "arrowcolor": "#2a3f5f",
                      "arrowhead": 0,
                      "arrowwidth": 1
                    },
                    "autotypenumbers": "strict",
                    "coloraxis": {
                      "colorbar": {
                        "outlinewidth": 0,
                        "ticks": ""
                      }
                    },
                    "colorscale": {
                      "diverging": [
                        [
                          0,
                          "#8e0152"
                        ],
                        [
                          0.1,
                          "#c51b7d"
                        ],
                        [
                          0.2,
                          "#de77ae"
                        ],
                        [
                          0.3,
                          "#f1b6da"
                        ],
                        [
                          0.4,
                          "#fde0ef"
                        ],
                        [
                          0.5,
                          "#f7f7f7"
                        ],
                        [
                          0.6,
                          "#e6f5d0"
                        ],
                        [
                          0.7,
                          "#b8e186"
                        ],
                        [
                          0.8,
                          "#7fbc41"
                        ],
                        [
                          0.9,
                          "#4d9221"
                        ],
                        [
                          1,
                          "#276419"
                        ]
                      ],
                      "sequential": [
                        [
                          0,
                          "#0d0887"
                        ],
                        [
                          0.1111111111111111,
                          "#46039f"
                        ],
                        [
                          0.2222222222222222,
                          "#7201a8"
                        ],
                        [
                          0.3333333333333333,
                          "#9c179e"
                        ],
                        [
                          0.4444444444444444,
                          "#bd3786"
                        ],
                        [
                          0.5555555555555556,
                          "#d8576b"
                        ],
                        [
                          0.6666666666666666,
                          "#ed7953"
                        ],
                        [
                          0.7777777777777778,
                          "#fb9f3a"
                        ],
                        [
                          0.8888888888888888,
                          "#fdca26"
                        ],
                        [
                          1,
                          "#f0f921"
                        ]
                      ],
                      "sequentialminus": [
                        [
                          0,
                          "#0d0887"
                        ],
                        [
                          0.1111111111111111,
                          "#46039f"
                        ],
                        [
                          0.2222222222222222,
                          "#7201a8"
                        ],
                        [
                          0.3333333333333333,
                          "#9c179e"
                        ],
                        [
                          0.4444444444444444,
                          "#bd3786"
                        ],
                        [
                          0.5555555555555556,
                          "#d8576b"
                        ],
                        [
                          0.6666666666666666,
                          "#ed7953"
                        ],
                        [
                          0.7777777777777778,
                          "#fb9f3a"
                        ],
                        [
                          0.8888888888888888,
                          "#fdca26"
                        ],
                        [
                          1,
                          "#f0f921"
                        ]
                      ]
                    },
                    "colorway": [
                      "#636efa",
                      "#EF553B",
                      "#00cc96",
                      "#ab63fa",
                      "#FFA15A",
                      "#19d3f3",
                      "#FF6692",
                      "#B6E880",
                      "#FF97FF",
                      "#FECB52"
                    ],
                    "font": {
                      "color": "#2a3f5f"
                    },
                    "geo": {
                      "bgcolor": "white",
                      "lakecolor": "white",
                      "landcolor": "#E5ECF6",
                      "showlakes": true,
                      "showland": true,
                      "subunitcolor": "white"
                    },
                    "hoverlabel": {
                      "align": "left"
                    },
                    "hovermode": "closest",
                    "mapbox": {
                      "style": "light"
                    },
                    "paper_bgcolor": "white",
                    "plot_bgcolor": "#E5ECF6",
                    "polar": {
                      "angularaxis": {
                        "gridcolor": "white",
                        "linecolor": "white",
                        "ticks": ""
                      },
                      "bgcolor": "#E5ECF6",
                      "radialaxis": {
                        "gridcolor": "white",
                        "linecolor": "white",
                        "ticks": ""
                      }
                    },
                    "scene": {
                      "xaxis": {
                        "backgroundcolor": "#E5ECF6",
                        "gridcolor": "white",
                        "gridwidth": 2,
                        "linecolor": "white",
                        "showbackground": true,
                        "ticks": "",
                        "zerolinecolor": "white"
                      },
                      "yaxis": {
                        "backgroundcolor": "#E5ECF6",
                        "gridcolor": "white",
                        "gridwidth": 2,
                        "linecolor": "white",
                        "showbackground": true,
                        "ticks": "",
                        "zerolinecolor": "white"
                      },
                      "zaxis": {
                        "backgroundcolor": "#E5ECF6",
                        "gridcolor": "white",
                        "gridwidth": 2,
                        "linecolor": "white",
                        "showbackground": true,
                        "ticks": "",
                        "zerolinecolor": "white"
                      }
                    },
                    "shapedefaults": {
                      "line": {
                        "color": "#2a3f5f"
                      }
                    },
                    "ternary": {
                      "aaxis": {
                        "gridcolor": "white",
                        "linecolor": "white",
                        "ticks": ""
                      },
                      "baxis": {
                        "gridcolor": "white",
                        "linecolor": "white",
                        "ticks": ""
                      },
                      "bgcolor": "#E5ECF6",
                      "caxis": {
                        "gridcolor": "white",
                        "linecolor": "white",
                        "ticks": ""
                      }
                    },
                    "title": {
                      "x": 0.05
                    },
                    "xaxis": {
                      "automargin": true,
                      "gridcolor": "white",
                      "linecolor": "white",
                      "ticks": "",
                      "title": {
                        "standoff": 15
                      },
                      "zerolinecolor": "white",
                      "zerolinewidth": 2
                    },
                    "yaxis": {
                      "automargin": true,
                      "gridcolor": "white",
                      "linecolor": "white",
                      "ticks": "",
                      "title": {
                        "standoff": 15
                      },
                      "zerolinecolor": "white",
                      "zerolinewidth": 2
                    }
                  }
                },
                "title": {
                  "text": "Optimization History Plot"
                },
                "xaxis": {
                  "title": {
                    "text": "Trial"
                  }
                },
                "yaxis": {
                  "title": {
                    "text": "Objective Value"
                  }
                }
              }
            }
          },
          "metadata": {},
          "output_type": "display_data"
        }
      ],
      "source": [
        "# show graphics of optuna optimization\n",
        "optuna.visualization.plot_optimization_history(study)"
      ]
    },
    {
      "cell_type": "code",
      "execution_count": 33,
      "metadata": {},
      "outputs": [
        {
          "data": {
            "application/vnd.plotly.v1+json": {
              "config": {
                "plotlyServerURL": "https://plot.ly"
              },
              "data": [
                {
                  "cliponaxis": false,
                  "hovertemplate": [
                    "max_depth (IntDistribution): 0.001018650270101624<extra></extra>",
                    "subsample (FloatDistribution): 0.0011942370225733212<extra></extra>",
                    "reg_lambda (FloatDistribution): 0.0015176752511896609<extra></extra>",
                    "colsample_bytree (FloatDistribution): 0.002050431835526553<extra></extra>",
                    "reg_alpha (FloatDistribution): 0.0022085453370690963<extra></extra>",
                    "gamma (FloatDistribution): 0.0036530040201024454<extra></extra>",
                    "min_child_weight (IntDistribution): 0.0038103816422010842<extra></extra>",
                    "n_estimators (IntDistribution): 0.024110690613356585<extra></extra>",
                    "learning_rate (FloatDistribution): 0.9604363840078797<extra></extra>"
                  ],
                  "marker": {
                    "color": "rgb(66,146,198)"
                  },
                  "orientation": "h",
                  "text": [
                    "<0.01",
                    "<0.01",
                    "<0.01",
                    "<0.01",
                    "<0.01",
                    "<0.01",
                    "<0.01",
                    "0.02",
                    "0.96"
                  ],
                  "textposition": "outside",
                  "type": "bar",
                  "x": [
                    0.001018650270101624,
                    0.0011942370225733212,
                    0.0015176752511896609,
                    0.002050431835526553,
                    0.0022085453370690963,
                    0.0036530040201024454,
                    0.0038103816422010842,
                    0.024110690613356585,
                    0.9604363840078797
                  ],
                  "y": [
                    "max_depth",
                    "subsample",
                    "reg_lambda",
                    "colsample_bytree",
                    "reg_alpha",
                    "gamma",
                    "min_child_weight",
                    "n_estimators",
                    "learning_rate"
                  ]
                }
              ],
              "layout": {
                "showlegend": false,
                "template": {
                  "data": {
                    "bar": [
                      {
                        "error_x": {
                          "color": "#2a3f5f"
                        },
                        "error_y": {
                          "color": "#2a3f5f"
                        },
                        "marker": {
                          "line": {
                            "color": "#E5ECF6",
                            "width": 0.5
                          },
                          "pattern": {
                            "fillmode": "overlay",
                            "size": 10,
                            "solidity": 0.2
                          }
                        },
                        "type": "bar"
                      }
                    ],
                    "barpolar": [
                      {
                        "marker": {
                          "line": {
                            "color": "#E5ECF6",
                            "width": 0.5
                          },
                          "pattern": {
                            "fillmode": "overlay",
                            "size": 10,
                            "solidity": 0.2
                          }
                        },
                        "type": "barpolar"
                      }
                    ],
                    "carpet": [
                      {
                        "aaxis": {
                          "endlinecolor": "#2a3f5f",
                          "gridcolor": "white",
                          "linecolor": "white",
                          "minorgridcolor": "white",
                          "startlinecolor": "#2a3f5f"
                        },
                        "baxis": {
                          "endlinecolor": "#2a3f5f",
                          "gridcolor": "white",
                          "linecolor": "white",
                          "minorgridcolor": "white",
                          "startlinecolor": "#2a3f5f"
                        },
                        "type": "carpet"
                      }
                    ],
                    "choropleth": [
                      {
                        "colorbar": {
                          "outlinewidth": 0,
                          "ticks": ""
                        },
                        "type": "choropleth"
                      }
                    ],
                    "contour": [
                      {
                        "colorbar": {
                          "outlinewidth": 0,
                          "ticks": ""
                        },
                        "colorscale": [
                          [
                            0,
                            "#0d0887"
                          ],
                          [
                            0.1111111111111111,
                            "#46039f"
                          ],
                          [
                            0.2222222222222222,
                            "#7201a8"
                          ],
                          [
                            0.3333333333333333,
                            "#9c179e"
                          ],
                          [
                            0.4444444444444444,
                            "#bd3786"
                          ],
                          [
                            0.5555555555555556,
                            "#d8576b"
                          ],
                          [
                            0.6666666666666666,
                            "#ed7953"
                          ],
                          [
                            0.7777777777777778,
                            "#fb9f3a"
                          ],
                          [
                            0.8888888888888888,
                            "#fdca26"
                          ],
                          [
                            1,
                            "#f0f921"
                          ]
                        ],
                        "type": "contour"
                      }
                    ],
                    "contourcarpet": [
                      {
                        "colorbar": {
                          "outlinewidth": 0,
                          "ticks": ""
                        },
                        "type": "contourcarpet"
                      }
                    ],
                    "heatmap": [
                      {
                        "colorbar": {
                          "outlinewidth": 0,
                          "ticks": ""
                        },
                        "colorscale": [
                          [
                            0,
                            "#0d0887"
                          ],
                          [
                            0.1111111111111111,
                            "#46039f"
                          ],
                          [
                            0.2222222222222222,
                            "#7201a8"
                          ],
                          [
                            0.3333333333333333,
                            "#9c179e"
                          ],
                          [
                            0.4444444444444444,
                            "#bd3786"
                          ],
                          [
                            0.5555555555555556,
                            "#d8576b"
                          ],
                          [
                            0.6666666666666666,
                            "#ed7953"
                          ],
                          [
                            0.7777777777777778,
                            "#fb9f3a"
                          ],
                          [
                            0.8888888888888888,
                            "#fdca26"
                          ],
                          [
                            1,
                            "#f0f921"
                          ]
                        ],
                        "type": "heatmap"
                      }
                    ],
                    "heatmapgl": [
                      {
                        "colorbar": {
                          "outlinewidth": 0,
                          "ticks": ""
                        },
                        "colorscale": [
                          [
                            0,
                            "#0d0887"
                          ],
                          [
                            0.1111111111111111,
                            "#46039f"
                          ],
                          [
                            0.2222222222222222,
                            "#7201a8"
                          ],
                          [
                            0.3333333333333333,
                            "#9c179e"
                          ],
                          [
                            0.4444444444444444,
                            "#bd3786"
                          ],
                          [
                            0.5555555555555556,
                            "#d8576b"
                          ],
                          [
                            0.6666666666666666,
                            "#ed7953"
                          ],
                          [
                            0.7777777777777778,
                            "#fb9f3a"
                          ],
                          [
                            0.8888888888888888,
                            "#fdca26"
                          ],
                          [
                            1,
                            "#f0f921"
                          ]
                        ],
                        "type": "heatmapgl"
                      }
                    ],
                    "histogram": [
                      {
                        "marker": {
                          "pattern": {
                            "fillmode": "overlay",
                            "size": 10,
                            "solidity": 0.2
                          }
                        },
                        "type": "histogram"
                      }
                    ],
                    "histogram2d": [
                      {
                        "colorbar": {
                          "outlinewidth": 0,
                          "ticks": ""
                        },
                        "colorscale": [
                          [
                            0,
                            "#0d0887"
                          ],
                          [
                            0.1111111111111111,
                            "#46039f"
                          ],
                          [
                            0.2222222222222222,
                            "#7201a8"
                          ],
                          [
                            0.3333333333333333,
                            "#9c179e"
                          ],
                          [
                            0.4444444444444444,
                            "#bd3786"
                          ],
                          [
                            0.5555555555555556,
                            "#d8576b"
                          ],
                          [
                            0.6666666666666666,
                            "#ed7953"
                          ],
                          [
                            0.7777777777777778,
                            "#fb9f3a"
                          ],
                          [
                            0.8888888888888888,
                            "#fdca26"
                          ],
                          [
                            1,
                            "#f0f921"
                          ]
                        ],
                        "type": "histogram2d"
                      }
                    ],
                    "histogram2dcontour": [
                      {
                        "colorbar": {
                          "outlinewidth": 0,
                          "ticks": ""
                        },
                        "colorscale": [
                          [
                            0,
                            "#0d0887"
                          ],
                          [
                            0.1111111111111111,
                            "#46039f"
                          ],
                          [
                            0.2222222222222222,
                            "#7201a8"
                          ],
                          [
                            0.3333333333333333,
                            "#9c179e"
                          ],
                          [
                            0.4444444444444444,
                            "#bd3786"
                          ],
                          [
                            0.5555555555555556,
                            "#d8576b"
                          ],
                          [
                            0.6666666666666666,
                            "#ed7953"
                          ],
                          [
                            0.7777777777777778,
                            "#fb9f3a"
                          ],
                          [
                            0.8888888888888888,
                            "#fdca26"
                          ],
                          [
                            1,
                            "#f0f921"
                          ]
                        ],
                        "type": "histogram2dcontour"
                      }
                    ],
                    "mesh3d": [
                      {
                        "colorbar": {
                          "outlinewidth": 0,
                          "ticks": ""
                        },
                        "type": "mesh3d"
                      }
                    ],
                    "parcoords": [
                      {
                        "line": {
                          "colorbar": {
                            "outlinewidth": 0,
                            "ticks": ""
                          }
                        },
                        "type": "parcoords"
                      }
                    ],
                    "pie": [
                      {
                        "automargin": true,
                        "type": "pie"
                      }
                    ],
                    "scatter": [
                      {
                        "fillpattern": {
                          "fillmode": "overlay",
                          "size": 10,
                          "solidity": 0.2
                        },
                        "type": "scatter"
                      }
                    ],
                    "scatter3d": [
                      {
                        "line": {
                          "colorbar": {
                            "outlinewidth": 0,
                            "ticks": ""
                          }
                        },
                        "marker": {
                          "colorbar": {
                            "outlinewidth": 0,
                            "ticks": ""
                          }
                        },
                        "type": "scatter3d"
                      }
                    ],
                    "scattercarpet": [
                      {
                        "marker": {
                          "colorbar": {
                            "outlinewidth": 0,
                            "ticks": ""
                          }
                        },
                        "type": "scattercarpet"
                      }
                    ],
                    "scattergeo": [
                      {
                        "marker": {
                          "colorbar": {
                            "outlinewidth": 0,
                            "ticks": ""
                          }
                        },
                        "type": "scattergeo"
                      }
                    ],
                    "scattergl": [
                      {
                        "marker": {
                          "colorbar": {
                            "outlinewidth": 0,
                            "ticks": ""
                          }
                        },
                        "type": "scattergl"
                      }
                    ],
                    "scattermapbox": [
                      {
                        "marker": {
                          "colorbar": {
                            "outlinewidth": 0,
                            "ticks": ""
                          }
                        },
                        "type": "scattermapbox"
                      }
                    ],
                    "scatterpolar": [
                      {
                        "marker": {
                          "colorbar": {
                            "outlinewidth": 0,
                            "ticks": ""
                          }
                        },
                        "type": "scatterpolar"
                      }
                    ],
                    "scatterpolargl": [
                      {
                        "marker": {
                          "colorbar": {
                            "outlinewidth": 0,
                            "ticks": ""
                          }
                        },
                        "type": "scatterpolargl"
                      }
                    ],
                    "scatterternary": [
                      {
                        "marker": {
                          "colorbar": {
                            "outlinewidth": 0,
                            "ticks": ""
                          }
                        },
                        "type": "scatterternary"
                      }
                    ],
                    "surface": [
                      {
                        "colorbar": {
                          "outlinewidth": 0,
                          "ticks": ""
                        },
                        "colorscale": [
                          [
                            0,
                            "#0d0887"
                          ],
                          [
                            0.1111111111111111,
                            "#46039f"
                          ],
                          [
                            0.2222222222222222,
                            "#7201a8"
                          ],
                          [
                            0.3333333333333333,
                            "#9c179e"
                          ],
                          [
                            0.4444444444444444,
                            "#bd3786"
                          ],
                          [
                            0.5555555555555556,
                            "#d8576b"
                          ],
                          [
                            0.6666666666666666,
                            "#ed7953"
                          ],
                          [
                            0.7777777777777778,
                            "#fb9f3a"
                          ],
                          [
                            0.8888888888888888,
                            "#fdca26"
                          ],
                          [
                            1,
                            "#f0f921"
                          ]
                        ],
                        "type": "surface"
                      }
                    ],
                    "table": [
                      {
                        "cells": {
                          "fill": {
                            "color": "#EBF0F8"
                          },
                          "line": {
                            "color": "white"
                          }
                        },
                        "header": {
                          "fill": {
                            "color": "#C8D4E3"
                          },
                          "line": {
                            "color": "white"
                          }
                        },
                        "type": "table"
                      }
                    ]
                  },
                  "layout": {
                    "annotationdefaults": {
                      "arrowcolor": "#2a3f5f",
                      "arrowhead": 0,
                      "arrowwidth": 1
                    },
                    "autotypenumbers": "strict",
                    "coloraxis": {
                      "colorbar": {
                        "outlinewidth": 0,
                        "ticks": ""
                      }
                    },
                    "colorscale": {
                      "diverging": [
                        [
                          0,
                          "#8e0152"
                        ],
                        [
                          0.1,
                          "#c51b7d"
                        ],
                        [
                          0.2,
                          "#de77ae"
                        ],
                        [
                          0.3,
                          "#f1b6da"
                        ],
                        [
                          0.4,
                          "#fde0ef"
                        ],
                        [
                          0.5,
                          "#f7f7f7"
                        ],
                        [
                          0.6,
                          "#e6f5d0"
                        ],
                        [
                          0.7,
                          "#b8e186"
                        ],
                        [
                          0.8,
                          "#7fbc41"
                        ],
                        [
                          0.9,
                          "#4d9221"
                        ],
                        [
                          1,
                          "#276419"
                        ]
                      ],
                      "sequential": [
                        [
                          0,
                          "#0d0887"
                        ],
                        [
                          0.1111111111111111,
                          "#46039f"
                        ],
                        [
                          0.2222222222222222,
                          "#7201a8"
                        ],
                        [
                          0.3333333333333333,
                          "#9c179e"
                        ],
                        [
                          0.4444444444444444,
                          "#bd3786"
                        ],
                        [
                          0.5555555555555556,
                          "#d8576b"
                        ],
                        [
                          0.6666666666666666,
                          "#ed7953"
                        ],
                        [
                          0.7777777777777778,
                          "#fb9f3a"
                        ],
                        [
                          0.8888888888888888,
                          "#fdca26"
                        ],
                        [
                          1,
                          "#f0f921"
                        ]
                      ],
                      "sequentialminus": [
                        [
                          0,
                          "#0d0887"
                        ],
                        [
                          0.1111111111111111,
                          "#46039f"
                        ],
                        [
                          0.2222222222222222,
                          "#7201a8"
                        ],
                        [
                          0.3333333333333333,
                          "#9c179e"
                        ],
                        [
                          0.4444444444444444,
                          "#bd3786"
                        ],
                        [
                          0.5555555555555556,
                          "#d8576b"
                        ],
                        [
                          0.6666666666666666,
                          "#ed7953"
                        ],
                        [
                          0.7777777777777778,
                          "#fb9f3a"
                        ],
                        [
                          0.8888888888888888,
                          "#fdca26"
                        ],
                        [
                          1,
                          "#f0f921"
                        ]
                      ]
                    },
                    "colorway": [
                      "#636efa",
                      "#EF553B",
                      "#00cc96",
                      "#ab63fa",
                      "#FFA15A",
                      "#19d3f3",
                      "#FF6692",
                      "#B6E880",
                      "#FF97FF",
                      "#FECB52"
                    ],
                    "font": {
                      "color": "#2a3f5f"
                    },
                    "geo": {
                      "bgcolor": "white",
                      "lakecolor": "white",
                      "landcolor": "#E5ECF6",
                      "showlakes": true,
                      "showland": true,
                      "subunitcolor": "white"
                    },
                    "hoverlabel": {
                      "align": "left"
                    },
                    "hovermode": "closest",
                    "mapbox": {
                      "style": "light"
                    },
                    "paper_bgcolor": "white",
                    "plot_bgcolor": "#E5ECF6",
                    "polar": {
                      "angularaxis": {
                        "gridcolor": "white",
                        "linecolor": "white",
                        "ticks": ""
                      },
                      "bgcolor": "#E5ECF6",
                      "radialaxis": {
                        "gridcolor": "white",
                        "linecolor": "white",
                        "ticks": ""
                      }
                    },
                    "scene": {
                      "xaxis": {
                        "backgroundcolor": "#E5ECF6",
                        "gridcolor": "white",
                        "gridwidth": 2,
                        "linecolor": "white",
                        "showbackground": true,
                        "ticks": "",
                        "zerolinecolor": "white"
                      },
                      "yaxis": {
                        "backgroundcolor": "#E5ECF6",
                        "gridcolor": "white",
                        "gridwidth": 2,
                        "linecolor": "white",
                        "showbackground": true,
                        "ticks": "",
                        "zerolinecolor": "white"
                      },
                      "zaxis": {
                        "backgroundcolor": "#E5ECF6",
                        "gridcolor": "white",
                        "gridwidth": 2,
                        "linecolor": "white",
                        "showbackground": true,
                        "ticks": "",
                        "zerolinecolor": "white"
                      }
                    },
                    "shapedefaults": {
                      "line": {
                        "color": "#2a3f5f"
                      }
                    },
                    "ternary": {
                      "aaxis": {
                        "gridcolor": "white",
                        "linecolor": "white",
                        "ticks": ""
                      },
                      "baxis": {
                        "gridcolor": "white",
                        "linecolor": "white",
                        "ticks": ""
                      },
                      "bgcolor": "#E5ECF6",
                      "caxis": {
                        "gridcolor": "white",
                        "linecolor": "white",
                        "ticks": ""
                      }
                    },
                    "title": {
                      "x": 0.05
                    },
                    "xaxis": {
                      "automargin": true,
                      "gridcolor": "white",
                      "linecolor": "white",
                      "ticks": "",
                      "title": {
                        "standoff": 15
                      },
                      "zerolinecolor": "white",
                      "zerolinewidth": 2
                    },
                    "yaxis": {
                      "automargin": true,
                      "gridcolor": "white",
                      "linecolor": "white",
                      "ticks": "",
                      "title": {
                        "standoff": 15
                      },
                      "zerolinecolor": "white",
                      "zerolinewidth": 2
                    }
                  }
                },
                "title": {
                  "text": "Hyperparameter Importances"
                },
                "xaxis": {
                  "title": {
                    "text": "Importance for Objective Value"
                  }
                },
                "yaxis": {
                  "title": {
                    "text": "Hyperparameter"
                  }
                }
              }
            }
          },
          "metadata": {},
          "output_type": "display_data"
        }
      ],
      "source": [
        "\n",
        "optuna.visualization.plot_param_importances(study)"
      ]
    },
    {
      "cell_type": "code",
      "execution_count": 34,
      "metadata": {},
      "outputs": [
        {
          "data": {
            "application/vnd.plotly.v1+json": {
              "config": {
                "plotlyServerURL": "https://plot.ly"
              },
              "data": [
                {
                  "marker": {
                    "color": [
                      0,
                      1,
                      2,
                      3,
                      4,
                      5,
                      6,
                      7,
                      8,
                      9,
                      10,
                      11,
                      12,
                      13,
                      14,
                      15,
                      16,
                      17,
                      18,
                      19,
                      20,
                      21,
                      22,
                      23,
                      24,
                      25,
                      26,
                      27,
                      28,
                      29,
                      30,
                      31,
                      32,
                      33,
                      34,
                      35,
                      36,
                      37,
                      38,
                      39,
                      40,
                      41,
                      42,
                      43,
                      44,
                      45,
                      46,
                      47,
                      48,
                      49,
                      50,
                      51,
                      52,
                      53,
                      54,
                      55,
                      56,
                      57,
                      58,
                      59,
                      60,
                      61,
                      62,
                      63,
                      64,
                      65,
                      66,
                      67,
                      68,
                      69,
                      70,
                      71,
                      72,
                      73,
                      74,
                      75,
                      76,
                      77,
                      78,
                      79,
                      80,
                      81,
                      82,
                      83,
                      84,
                      85,
                      86,
                      87,
                      88,
                      89,
                      90,
                      91,
                      92,
                      93,
                      94,
                      95,
                      96,
                      97,
                      98,
                      99
                    ],
                    "colorbar": {
                      "title": {
                        "text": "Trial"
                      },
                      "x": 1,
                      "xpad": 40
                    },
                    "colorscale": [
                      [
                        0,
                        "rgb(247,251,255)"
                      ],
                      [
                        0.125,
                        "rgb(222,235,247)"
                      ],
                      [
                        0.25,
                        "rgb(198,219,239)"
                      ],
                      [
                        0.375,
                        "rgb(158,202,225)"
                      ],
                      [
                        0.5,
                        "rgb(107,174,214)"
                      ],
                      [
                        0.625,
                        "rgb(66,146,198)"
                      ],
                      [
                        0.75,
                        "rgb(33,113,181)"
                      ],
                      [
                        0.875,
                        "rgb(8,81,156)"
                      ],
                      [
                        1,
                        "rgb(8,48,107)"
                      ]
                    ],
                    "line": {
                      "color": "Grey",
                      "width": 0.5
                    },
                    "showscale": true
                  },
                  "mode": "markers",
                  "showlegend": false,
                  "type": "scatter",
                  "x": [
                    0.7232432783522456,
                    0.5024553473237572,
                    0.7164432822505623,
                    0.9581560026003266,
                    0.820061263708334,
                    0.9714065958165197,
                    0.7018235803746387,
                    0.7839724563638197,
                    0.9036772029943358,
                    0.8586897427032374,
                    0.7976919349400317,
                    0.7941102001731302,
                    0.8128915946638112,
                    0.8762952997753726,
                    0.8946071583004627,
                    0.8750204955452453,
                    0.9875911277813597,
                    0.9190347089755415,
                    0.838079195139861,
                    0.9392014304674817,
                    0.9962142773471476,
                    0.8857696520318448,
                    0.9089287108071651,
                    0.9317786975836686,
                    0.9416404342700473,
                    0.9299294455209336,
                    0.8447167137150223,
                    0.9120586535307761,
                    0.9625604139759436,
                    0.752365155834171,
                    0.9995151830666591,
                    0.8719889377880865,
                    0.8581703667852264,
                    0.8390794980384757,
                    0.9105294052188572,
                    0.8212029020620618,
                    0.9572643524216234,
                    0.8642816565862265,
                    0.6806094609646027,
                    0.9351414316859271,
                    0.8927988709747254,
                    0.8705933104905998,
                    0.8537112736214537,
                    0.8109021505750149,
                    0.9083285020414454,
                    0.9670329787031005,
                    0.9029161248635713,
                    0.9021994336119613,
                    0.8898682194114715,
                    0.8658620077598439,
                    0.9074257081700337,
                    0.9222016582302344,
                    0.951538055416045,
                    0.9242991012284568,
                    0.8834378859398088,
                    0.9815958320520647,
                    0.8936069378947231,
                    0.9195314595345869,
                    0.9481892471940455,
                    0.9805931405498758,
                    0.9438417217298442,
                    0.946890869798238,
                    0.9662044080505818,
                    0.9405988159197748,
                    0.922365026542454,
                    0.9214314865296545,
                    0.9540796277752251,
                    0.9785887842959977,
                    0.9070884646320887,
                    0.947142199036127,
                    0.9281693697439789,
                    0.8804640317900134,
                    0.9023922754501156,
                    0.9227092408256508,
                    0.9638030796865704,
                    0.8826091804025304,
                    0.9346935331666184,
                    0.9150353371178611,
                    0.9501420495010037,
                    0.9869474645606553,
                    0.8968133278682877,
                    0.8850471346081481,
                    0.9126701408260187,
                    0.9343808518748095,
                    0.913603231129295,
                    0.9680164116219327,
                    0.8989005478632864,
                    0.9554069258236617,
                    0.9512339691509529,
                    0.9725149873273323,
                    0.9967254947335441,
                    0.9379167485990633,
                    0.9314645948387108,
                    0.9551158849366141,
                    0.9388766132334685,
                    0.918943720582595,
                    0.9102354252848328,
                    0.9437244850136166,
                    0.9575199163917696,
                    0.9270201209327287
                  ],
                  "xaxis": "x",
                  "y": [
                    0.3572779911899417,
                    0.2968716404414364,
                    0.4063894041900109,
                    0.3141354334859258,
                    0.3632066189980679,
                    0.30215975412432433,
                    0.2451160974294664,
                    0.22404912349914283,
                    0.32982929103927316,
                    0.27072934424468825,
                    0.1992711455501709,
                    0.18813165505945814,
                    0.17650768936239986,
                    0.1784386673967119,
                    0.17973428718425263,
                    0.2539904924173165,
                    0.20131758852177853,
                    0.2535352304886874,
                    0.18247915158151953,
                    0.24484391390868115,
                    0.2152704273212156,
                    0.18218803727686803,
                    0.17052651881609132,
                    0.17587486707222874,
                    0.2191006832575116,
                    0.25518220985812745,
                    0.22821975364212505,
                    0.1800204670484337,
                    0.1917209408392897,
                    0.2735722312276775,
                    0.24713962261948183,
                    0.20478924618861746,
                    0.17294585076148886,
                    0.20747095361626464,
                    0.23289745049290453,
                    0.20074409082476,
                    0.1914486215443846,
                    0.37049008438150205,
                    0.2525560319383888,
                    0.29721767575702135,
                    0.1871791133324779,
                    0.17306390847537623,
                    0.2192021255884639,
                    0.19360371869638307,
                    0.16979162541126505,
                    0.21304248953466995,
                    0.17000659124691195,
                    0.18816260415358618,
                    0.22548689856924073,
                    0.19081066492673826,
                    0.18045213147602845,
                    0.16968753343369225,
                    0.20969079968585175,
                    0.17627249503197312,
                    0.17245582222820482,
                    0.18533071929012335,
                    0.2313647783514183,
                    0.20263268878647797,
                    0.1706432691543564,
                    0.1862322984733127,
                    0.21864603356420587,
                    0.17227248188856512,
                    0.18403502569579103,
                    0.19991618549280868,
                    0.16654140134709214,
                    0.18139455786124653,
                    0.1766301259463318,
                    0.20792186978118074,
                    0.19508415407422056,
                    0.24295639982525857,
                    0.1839962664510178,
                    0.17843915859476758,
                    0.17395504135549872,
                    0.1943695511684377,
                    0.18075846653161995,
                    0.18045370446320613,
                    0.21217044931111997,
                    0.20305865441389648,
                    0.19085082695270636,
                    0.17432201837130198,
                    0.18154360123740845,
                    0.1913249312547146,
                    0.1708672267315151,
                    0.17595643495036392,
                    0.20447800912915665,
                    0.1911805788466989,
                    0.22439081970035005,
                    0.1692584678467158,
                    0.17764133421802203,
                    0.20564786300437574,
                    0.18518857639835304,
                    0.17206333262424695,
                    0.1730743457281366,
                    0.19615006810385213,
                    0.1835126384902786,
                    0.17963324384521237,
                    0.20533608960013916,
                    0.18447815532905718,
                    0.1909702179776083,
                    0.18258886042192285
                  ],
                  "yaxis": "y"
                },
                {
                  "marker": {
                    "color": [
                      0,
                      1,
                      2,
                      3,
                      4,
                      5,
                      6,
                      7,
                      8,
                      9,
                      10,
                      11,
                      12,
                      13,
                      14,
                      15,
                      16,
                      17,
                      18,
                      19,
                      20,
                      21,
                      22,
                      23,
                      24,
                      25,
                      26,
                      27,
                      28,
                      29,
                      30,
                      31,
                      32,
                      33,
                      34,
                      35,
                      36,
                      37,
                      38,
                      39,
                      40,
                      41,
                      42,
                      43,
                      44,
                      45,
                      46,
                      47,
                      48,
                      49,
                      50,
                      51,
                      52,
                      53,
                      54,
                      55,
                      56,
                      57,
                      58,
                      59,
                      60,
                      61,
                      62,
                      63,
                      64,
                      65,
                      66,
                      67,
                      68,
                      69,
                      70,
                      71,
                      72,
                      73,
                      74,
                      75,
                      76,
                      77,
                      78,
                      79,
                      80,
                      81,
                      82,
                      83,
                      84,
                      85,
                      86,
                      87,
                      88,
                      89,
                      90,
                      91,
                      92,
                      93,
                      94,
                      95,
                      96,
                      97,
                      98,
                      99
                    ],
                    "colorbar": {
                      "title": {
                        "text": "Trial"
                      },
                      "x": 1,
                      "xpad": 40
                    },
                    "colorscale": [
                      [
                        0,
                        "rgb(247,251,255)"
                      ],
                      [
                        0.125,
                        "rgb(222,235,247)"
                      ],
                      [
                        0.25,
                        "rgb(198,219,239)"
                      ],
                      [
                        0.375,
                        "rgb(158,202,225)"
                      ],
                      [
                        0.5,
                        "rgb(107,174,214)"
                      ],
                      [
                        0.625,
                        "rgb(66,146,198)"
                      ],
                      [
                        0.75,
                        "rgb(33,113,181)"
                      ],
                      [
                        0.875,
                        "rgb(8,81,156)"
                      ],
                      [
                        1,
                        "rgb(8,48,107)"
                      ]
                    ],
                    "line": {
                      "color": "Grey",
                      "width": 0.5
                    },
                    "showscale": false
                  },
                  "mode": "markers",
                  "showlegend": false,
                  "type": "scatter",
                  "x": [
                    0.7820056188701995,
                    0.2851120446633152,
                    0.024825391630690308,
                    0.3604339021121514,
                    0.2999571588504917,
                    0.9538794391253865,
                    0.5521994894466232,
                    0.3436943322354089,
                    0.22468641863303918,
                    0.5576892907229951,
                    0.024565739876576287,
                    0.05018785498300607,
                    0.021552148269315684,
                    0.1235856117195911,
                    0.1563548994202253,
                    0.14456171584139133,
                    0.13609972925746566,
                    0.014925557393597048,
                    0.44309484321409415,
                    0.20406662552135818,
                    0.11192902616331503,
                    0.17349791284426774,
                    0.09990820599042395,
                    0.09490210341464737,
                    0.07073438393625445,
                    0.0070319836864917995,
                    0.209797204877541,
                    0.09253512033689626,
                    0.2554095086986143,
                    0.08626021627340111,
                    0.21918154020690772,
                    0.09818519938353716,
                    0.003823984567294769,
                    0.05825161093555268,
                    0.16211798328134872,
                    0.003131578607091537,
                    0.26595186602743215,
                    0.0025545592415711403,
                    0.0790400018057026,
                    0.3061423753047096,
                    0.0472266504236387,
                    0.13384014767024333,
                    0.17858340581239174,
                    0.11701500417401413,
                    0.04582988897979609,
                    0.059221413981762304,
                    0.23492968317337165,
                    0.18157920847508735,
                    0.23110577638755603,
                    0.14179942333400364,
                    0.3381339525790187,
                    0.0463013099893432,
                    0.04239367908363775,
                    0.1307371940083616,
                    0.05085638499235767,
                    0.03939654504497658,
                    0.05046156351752023,
                    0.1000820271297369,
                    0.004306220042302078,
                    0.07284764614557512,
                    0.16856032114113664,
                    0.00490235112723833,
                    0.03489995224502172,
                    0.03426621848703026,
                    0.11076744320759652,
                    0.10756901078499978,
                    0.07819518931023106,
                    0.1293220745788488,
                    0.19423303306870177,
                    0.15175017692632875,
                    0.003719156048140002,
                    0.06962707108183641,
                    0.029143611069481743,
                    0.10495208808143702,
                    0.05962574980746996,
                    0.03038258474459992,
                    0.08462904744640043,
                    0.0035953741102354186,
                    0.15321460879290563,
                    0.08611518337297688,
                    0.12279585573816526,
                    0.001724400256375283,
                    0.028068485774214925,
                    0.06042279291735919,
                    0.04188968124647743,
                    0.02568483585631246,
                    0.10835210710969445,
                    0.06608897531628287,
                    0.19418183336176725,
                    0.08281038664307543,
                    0.024283820066308855,
                    0.05500373193654338,
                    0.06628321327496463,
                    0.12112069961983095,
                    0.020799911106292222,
                    0.09848205849731027,
                    0.142210179981867,
                    0.05133375191964622,
                    0.17034273279317483,
                    0.020886245334289816
                  ],
                  "xaxis": "x2",
                  "y": [
                    0.3572779911899417,
                    0.2968716404414364,
                    0.4063894041900109,
                    0.3141354334859258,
                    0.3632066189980679,
                    0.30215975412432433,
                    0.2451160974294664,
                    0.22404912349914283,
                    0.32982929103927316,
                    0.27072934424468825,
                    0.1992711455501709,
                    0.18813165505945814,
                    0.17650768936239986,
                    0.1784386673967119,
                    0.17973428718425263,
                    0.2539904924173165,
                    0.20131758852177853,
                    0.2535352304886874,
                    0.18247915158151953,
                    0.24484391390868115,
                    0.2152704273212156,
                    0.18218803727686803,
                    0.17052651881609132,
                    0.17587486707222874,
                    0.2191006832575116,
                    0.25518220985812745,
                    0.22821975364212505,
                    0.1800204670484337,
                    0.1917209408392897,
                    0.2735722312276775,
                    0.24713962261948183,
                    0.20478924618861746,
                    0.17294585076148886,
                    0.20747095361626464,
                    0.23289745049290453,
                    0.20074409082476,
                    0.1914486215443846,
                    0.37049008438150205,
                    0.2525560319383888,
                    0.29721767575702135,
                    0.1871791133324779,
                    0.17306390847537623,
                    0.2192021255884639,
                    0.19360371869638307,
                    0.16979162541126505,
                    0.21304248953466995,
                    0.17000659124691195,
                    0.18816260415358618,
                    0.22548689856924073,
                    0.19081066492673826,
                    0.18045213147602845,
                    0.16968753343369225,
                    0.20969079968585175,
                    0.17627249503197312,
                    0.17245582222820482,
                    0.18533071929012335,
                    0.2313647783514183,
                    0.20263268878647797,
                    0.1706432691543564,
                    0.1862322984733127,
                    0.21864603356420587,
                    0.17227248188856512,
                    0.18403502569579103,
                    0.19991618549280868,
                    0.16654140134709214,
                    0.18139455786124653,
                    0.1766301259463318,
                    0.20792186978118074,
                    0.19508415407422056,
                    0.24295639982525857,
                    0.1839962664510178,
                    0.17843915859476758,
                    0.17395504135549872,
                    0.1943695511684377,
                    0.18075846653161995,
                    0.18045370446320613,
                    0.21217044931111997,
                    0.20305865441389648,
                    0.19085082695270636,
                    0.17432201837130198,
                    0.18154360123740845,
                    0.1913249312547146,
                    0.1708672267315151,
                    0.17595643495036392,
                    0.20447800912915665,
                    0.1911805788466989,
                    0.22439081970035005,
                    0.1692584678467158,
                    0.17764133421802203,
                    0.20564786300437574,
                    0.18518857639835304,
                    0.17206333262424695,
                    0.1730743457281366,
                    0.19615006810385213,
                    0.1835126384902786,
                    0.17963324384521237,
                    0.20533608960013916,
                    0.18447815532905718,
                    0.1909702179776083,
                    0.18258886042192285
                  ],
                  "yaxis": "y2"
                },
                {
                  "marker": {
                    "color": [
                      0,
                      1,
                      2,
                      3,
                      4,
                      5,
                      6,
                      7,
                      8,
                      9,
                      10,
                      11,
                      12,
                      13,
                      14,
                      15,
                      16,
                      17,
                      18,
                      19,
                      20,
                      21,
                      22,
                      23,
                      24,
                      25,
                      26,
                      27,
                      28,
                      29,
                      30,
                      31,
                      32,
                      33,
                      34,
                      35,
                      36,
                      37,
                      38,
                      39,
                      40,
                      41,
                      42,
                      43,
                      44,
                      45,
                      46,
                      47,
                      48,
                      49,
                      50,
                      51,
                      52,
                      53,
                      54,
                      55,
                      56,
                      57,
                      58,
                      59,
                      60,
                      61,
                      62,
                      63,
                      64,
                      65,
                      66,
                      67,
                      68,
                      69,
                      70,
                      71,
                      72,
                      73,
                      74,
                      75,
                      76,
                      77,
                      78,
                      79,
                      80,
                      81,
                      82,
                      83,
                      84,
                      85,
                      86,
                      87,
                      88,
                      89,
                      90,
                      91,
                      92,
                      93,
                      94,
                      95,
                      96,
                      97,
                      98,
                      99
                    ],
                    "colorbar": {
                      "title": {
                        "text": "Trial"
                      },
                      "x": 1,
                      "xpad": 40
                    },
                    "colorscale": [
                      [
                        0,
                        "rgb(247,251,255)"
                      ],
                      [
                        0.125,
                        "rgb(222,235,247)"
                      ],
                      [
                        0.25,
                        "rgb(198,219,239)"
                      ],
                      [
                        0.375,
                        "rgb(158,202,225)"
                      ],
                      [
                        0.5,
                        "rgb(107,174,214)"
                      ],
                      [
                        0.625,
                        "rgb(66,146,198)"
                      ],
                      [
                        0.75,
                        "rgb(33,113,181)"
                      ],
                      [
                        0.875,
                        "rgb(8,81,156)"
                      ],
                      [
                        1,
                        "rgb(8,48,107)"
                      ]
                    ],
                    "line": {
                      "color": "Grey",
                      "width": 0.5
                    },
                    "showscale": false
                  },
                  "mode": "markers",
                  "showlegend": false,
                  "type": "scatter",
                  "x": [
                    0.03440944469919862,
                    0.06357480911950616,
                    0.01846109671510063,
                    0.0518945123570503,
                    0.03045563284446871,
                    0.05421263558513044,
                    0.1045600226783439,
                    0.0989722038647137,
                    0.04288425269938612,
                    0.07137652912313058,
                    0.12057841082583712,
                    0.13114698699301897,
                    0.14287689428006276,
                    0.13989136391068205,
                    0.1406962149366169,
                    0.08432018229118046,
                    0.1372177159665875,
                    0.08130413404717052,
                    0.14619710987631865,
                    0.09378957990111561,
                    0.10504419492343742,
                    0.1376350196222514,
                    0.14996942341826797,
                    0.14967341439320556,
                    0.10852993156728033,
                    0.08175542367375342,
                    0.11035433670982966,
                    0.14917073352210733,
                    0.11996691134503748,
                    0.07043130780872593,
                    0.08826243758083714,
                    0.1159880044117602,
                    0.14737300689108543,
                    0.12056786488368666,
                    0.09197662974271066,
                    0.1196223620237987,
                    0.14866292139662132,
                    0.029492000463326142,
                    0.09813712845670274,
                    0.05550860733177694,
                    0.12697118599844107,
                    0.1472735280013913,
                    0.10425182916076497,
                    0.12540902010299623,
                    0.1499514441980776,
                    0.11309815220374991,
                    0.14986415701876507,
                    0.1248012625714806,
                    0.09967635135001476,
                    0.12852549313980027,
                    0.13256785159481463,
                    0.1462144782164931,
                    0.11071423025265774,
                    0.1374910552730463,
                    0.1499048162283672,
                    0.1321182208100206,
                    0.09615416610290528,
                    0.11335020844483039,
                    0.14981151817639385,
                    0.13313323187582085,
                    0.10444284205821482,
                    0.1471587893779939,
                    0.13342112494739533,
                    0.11950246005537102,
                    0.14928178658750288,
                    0.13352825987771139,
                    0.13818543798370023,
                    0.11217123985675684,
                    0.12432970227187061,
                    0.08663382508360057,
                    0.139457689040597,
                    0.14562815197354578,
                    0.14883247949991854,
                    0.12069086357636141,
                    0.1388773163305363,
                    0.14948984827899262,
                    0.10674738090556748,
                    0.11831450911646682,
                    0.12803377260901744,
                    0.1380551531979943,
                    0.14929311423558028,
                    0.1262604132876349,
                    0.14968845279859444,
                    0.13825003836057168,
                    0.11603430373652852,
                    0.12763709612603305,
                    0.10044369545668003,
                    0.14953672460185505,
                    0.14095048402203036,
                    0.10933265180847722,
                    0.1315717010922088,
                    0.14297121955782985,
                    0.14044596593936043,
                    0.12186353132233191,
                    0.13038036061977945,
                    0.1411295505471179,
                    0.1160077010291664,
                    0.1426378926698705,
                    0.12600686127483088,
                    0.13179920535235226
                  ],
                  "xaxis": "x3",
                  "y": [
                    0.3572779911899417,
                    0.2968716404414364,
                    0.4063894041900109,
                    0.3141354334859258,
                    0.3632066189980679,
                    0.30215975412432433,
                    0.2451160974294664,
                    0.22404912349914283,
                    0.32982929103927316,
                    0.27072934424468825,
                    0.1992711455501709,
                    0.18813165505945814,
                    0.17650768936239986,
                    0.1784386673967119,
                    0.17973428718425263,
                    0.2539904924173165,
                    0.20131758852177853,
                    0.2535352304886874,
                    0.18247915158151953,
                    0.24484391390868115,
                    0.2152704273212156,
                    0.18218803727686803,
                    0.17052651881609132,
                    0.17587486707222874,
                    0.2191006832575116,
                    0.25518220985812745,
                    0.22821975364212505,
                    0.1800204670484337,
                    0.1917209408392897,
                    0.2735722312276775,
                    0.24713962261948183,
                    0.20478924618861746,
                    0.17294585076148886,
                    0.20747095361626464,
                    0.23289745049290453,
                    0.20074409082476,
                    0.1914486215443846,
                    0.37049008438150205,
                    0.2525560319383888,
                    0.29721767575702135,
                    0.1871791133324779,
                    0.17306390847537623,
                    0.2192021255884639,
                    0.19360371869638307,
                    0.16979162541126505,
                    0.21304248953466995,
                    0.17000659124691195,
                    0.18816260415358618,
                    0.22548689856924073,
                    0.19081066492673826,
                    0.18045213147602845,
                    0.16968753343369225,
                    0.20969079968585175,
                    0.17627249503197312,
                    0.17245582222820482,
                    0.18533071929012335,
                    0.2313647783514183,
                    0.20263268878647797,
                    0.1706432691543564,
                    0.1862322984733127,
                    0.21864603356420587,
                    0.17227248188856512,
                    0.18403502569579103,
                    0.19991618549280868,
                    0.16654140134709214,
                    0.18139455786124653,
                    0.1766301259463318,
                    0.20792186978118074,
                    0.19508415407422056,
                    0.24295639982525857,
                    0.1839962664510178,
                    0.17843915859476758,
                    0.17395504135549872,
                    0.1943695511684377,
                    0.18075846653161995,
                    0.18045370446320613,
                    0.21217044931111997,
                    0.20305865441389648,
                    0.19085082695270636,
                    0.17432201837130198,
                    0.18154360123740845,
                    0.1913249312547146,
                    0.1708672267315151,
                    0.17595643495036392,
                    0.20447800912915665,
                    0.1911805788466989,
                    0.22439081970035005,
                    0.1692584678467158,
                    0.17764133421802203,
                    0.20564786300437574,
                    0.18518857639835304,
                    0.17206333262424695,
                    0.1730743457281366,
                    0.19615006810385213,
                    0.1835126384902786,
                    0.17963324384521237,
                    0.20533608960013916,
                    0.18447815532905718,
                    0.1909702179776083,
                    0.18258886042192285
                  ],
                  "yaxis": "y3"
                },
                {
                  "marker": {
                    "color": [
                      0,
                      1,
                      2,
                      3,
                      4,
                      5,
                      6,
                      7,
                      8,
                      9,
                      10,
                      11,
                      12,
                      13,
                      14,
                      15,
                      16,
                      17,
                      18,
                      19,
                      20,
                      21,
                      22,
                      23,
                      24,
                      25,
                      26,
                      27,
                      28,
                      29,
                      30,
                      31,
                      32,
                      33,
                      34,
                      35,
                      36,
                      37,
                      38,
                      39,
                      40,
                      41,
                      42,
                      43,
                      44,
                      45,
                      46,
                      47,
                      48,
                      49,
                      50,
                      51,
                      52,
                      53,
                      54,
                      55,
                      56,
                      57,
                      58,
                      59,
                      60,
                      61,
                      62,
                      63,
                      64,
                      65,
                      66,
                      67,
                      68,
                      69,
                      70,
                      71,
                      72,
                      73,
                      74,
                      75,
                      76,
                      77,
                      78,
                      79,
                      80,
                      81,
                      82,
                      83,
                      84,
                      85,
                      86,
                      87,
                      88,
                      89,
                      90,
                      91,
                      92,
                      93,
                      94,
                      95,
                      96,
                      97,
                      98,
                      99
                    ],
                    "colorbar": {
                      "title": {
                        "text": "Trial"
                      },
                      "x": 1,
                      "xpad": 40
                    },
                    "colorscale": [
                      [
                        0,
                        "rgb(247,251,255)"
                      ],
                      [
                        0.125,
                        "rgb(222,235,247)"
                      ],
                      [
                        0.25,
                        "rgb(198,219,239)"
                      ],
                      [
                        0.375,
                        "rgb(158,202,225)"
                      ],
                      [
                        0.5,
                        "rgb(107,174,214)"
                      ],
                      [
                        0.625,
                        "rgb(66,146,198)"
                      ],
                      [
                        0.75,
                        "rgb(33,113,181)"
                      ],
                      [
                        0.875,
                        "rgb(8,81,156)"
                      ],
                      [
                        1,
                        "rgb(8,48,107)"
                      ]
                    ],
                    "line": {
                      "color": "Grey",
                      "width": 0.5
                    },
                    "showscale": false
                  },
                  "mode": "markers",
                  "showlegend": false,
                  "type": "scatter",
                  "x": [
                    6,
                    5,
                    4,
                    6,
                    8,
                    8,
                    4,
                    8,
                    8,
                    7,
                    7,
                    7,
                    7,
                    7,
                    7,
                    6,
                    5,
                    7,
                    6,
                    5,
                    7,
                    7,
                    7,
                    6,
                    6,
                    6,
                    5,
                    6,
                    8,
                    7,
                    6,
                    7,
                    7,
                    6,
                    8,
                    7,
                    5,
                    6,
                    4,
                    8,
                    8,
                    7,
                    7,
                    7,
                    7,
                    6,
                    7,
                    8,
                    7,
                    7,
                    8,
                    7,
                    7,
                    7,
                    7,
                    7,
                    7,
                    8,
                    7,
                    7,
                    7,
                    7,
                    7,
                    7,
                    7,
                    7,
                    8,
                    7,
                    7,
                    7,
                    6,
                    7,
                    7,
                    7,
                    7,
                    6,
                    7,
                    7,
                    7,
                    8,
                    6,
                    7,
                    7,
                    7,
                    7,
                    7,
                    7,
                    7,
                    7,
                    8,
                    7,
                    7,
                    7,
                    7,
                    7,
                    7,
                    7,
                    6,
                    7,
                    7
                  ],
                  "xaxis": "x4",
                  "y": [
                    0.3572779911899417,
                    0.2968716404414364,
                    0.4063894041900109,
                    0.3141354334859258,
                    0.3632066189980679,
                    0.30215975412432433,
                    0.2451160974294664,
                    0.22404912349914283,
                    0.32982929103927316,
                    0.27072934424468825,
                    0.1992711455501709,
                    0.18813165505945814,
                    0.17650768936239986,
                    0.1784386673967119,
                    0.17973428718425263,
                    0.2539904924173165,
                    0.20131758852177853,
                    0.2535352304886874,
                    0.18247915158151953,
                    0.24484391390868115,
                    0.2152704273212156,
                    0.18218803727686803,
                    0.17052651881609132,
                    0.17587486707222874,
                    0.2191006832575116,
                    0.25518220985812745,
                    0.22821975364212505,
                    0.1800204670484337,
                    0.1917209408392897,
                    0.2735722312276775,
                    0.24713962261948183,
                    0.20478924618861746,
                    0.17294585076148886,
                    0.20747095361626464,
                    0.23289745049290453,
                    0.20074409082476,
                    0.1914486215443846,
                    0.37049008438150205,
                    0.2525560319383888,
                    0.29721767575702135,
                    0.1871791133324779,
                    0.17306390847537623,
                    0.2192021255884639,
                    0.19360371869638307,
                    0.16979162541126505,
                    0.21304248953466995,
                    0.17000659124691195,
                    0.18816260415358618,
                    0.22548689856924073,
                    0.19081066492673826,
                    0.18045213147602845,
                    0.16968753343369225,
                    0.20969079968585175,
                    0.17627249503197312,
                    0.17245582222820482,
                    0.18533071929012335,
                    0.2313647783514183,
                    0.20263268878647797,
                    0.1706432691543564,
                    0.1862322984733127,
                    0.21864603356420587,
                    0.17227248188856512,
                    0.18403502569579103,
                    0.19991618549280868,
                    0.16654140134709214,
                    0.18139455786124653,
                    0.1766301259463318,
                    0.20792186978118074,
                    0.19508415407422056,
                    0.24295639982525857,
                    0.1839962664510178,
                    0.17843915859476758,
                    0.17395504135549872,
                    0.1943695511684377,
                    0.18075846653161995,
                    0.18045370446320613,
                    0.21217044931111997,
                    0.20305865441389648,
                    0.19085082695270636,
                    0.17432201837130198,
                    0.18154360123740845,
                    0.1913249312547146,
                    0.1708672267315151,
                    0.17595643495036392,
                    0.20447800912915665,
                    0.1911805788466989,
                    0.22439081970035005,
                    0.1692584678467158,
                    0.17764133421802203,
                    0.20564786300437574,
                    0.18518857639835304,
                    0.17206333262424695,
                    0.1730743457281366,
                    0.19615006810385213,
                    0.1835126384902786,
                    0.17963324384521237,
                    0.20533608960013916,
                    0.18447815532905718,
                    0.1909702179776083,
                    0.18258886042192285
                  ],
                  "yaxis": "y4"
                },
                {
                  "marker": {
                    "color": [
                      0,
                      1,
                      2,
                      3,
                      4,
                      5,
                      6,
                      7,
                      8,
                      9,
                      10,
                      11,
                      12,
                      13,
                      14,
                      15,
                      16,
                      17,
                      18,
                      19,
                      20,
                      21,
                      22,
                      23,
                      24,
                      25,
                      26,
                      27,
                      28,
                      29,
                      30,
                      31,
                      32,
                      33,
                      34,
                      35,
                      36,
                      37,
                      38,
                      39,
                      40,
                      41,
                      42,
                      43,
                      44,
                      45,
                      46,
                      47,
                      48,
                      49,
                      50,
                      51,
                      52,
                      53,
                      54,
                      55,
                      56,
                      57,
                      58,
                      59,
                      60,
                      61,
                      62,
                      63,
                      64,
                      65,
                      66,
                      67,
                      68,
                      69,
                      70,
                      71,
                      72,
                      73,
                      74,
                      75,
                      76,
                      77,
                      78,
                      79,
                      80,
                      81,
                      82,
                      83,
                      84,
                      85,
                      86,
                      87,
                      88,
                      89,
                      90,
                      91,
                      92,
                      93,
                      94,
                      95,
                      96,
                      97,
                      98,
                      99
                    ],
                    "colorbar": {
                      "title": {
                        "text": "Trial"
                      },
                      "x": 1,
                      "xpad": 40
                    },
                    "colorscale": [
                      [
                        0,
                        "rgb(247,251,255)"
                      ],
                      [
                        0.125,
                        "rgb(222,235,247)"
                      ],
                      [
                        0.25,
                        "rgb(198,219,239)"
                      ],
                      [
                        0.375,
                        "rgb(158,202,225)"
                      ],
                      [
                        0.5,
                        "rgb(107,174,214)"
                      ],
                      [
                        0.625,
                        "rgb(66,146,198)"
                      ],
                      [
                        0.75,
                        "rgb(33,113,181)"
                      ],
                      [
                        0.875,
                        "rgb(8,81,156)"
                      ],
                      [
                        1,
                        "rgb(8,48,107)"
                      ]
                    ],
                    "line": {
                      "color": "Grey",
                      "width": 0.5
                    },
                    "showscale": false
                  },
                  "mode": "markers",
                  "showlegend": false,
                  "type": "scatter",
                  "x": [
                    3,
                    3,
                    1,
                    7,
                    9,
                    1,
                    1,
                    4,
                    3,
                    5,
                    6,
                    6,
                    7,
                    8,
                    9,
                    8,
                    10,
                    7,
                    8,
                    10,
                    7,
                    9,
                    8,
                    8,
                    5,
                    7,
                    8,
                    9,
                    6,
                    10,
                    8,
                    8,
                    7,
                    7,
                    6,
                    7,
                    5,
                    9,
                    6,
                    4,
                    7,
                    8,
                    8,
                    9,
                    7,
                    8,
                    9,
                    10,
                    9,
                    9,
                    7,
                    2,
                    2,
                    2,
                    1,
                    1,
                    2,
                    3,
                    1,
                    1,
                    1,
                    2,
                    2,
                    3,
                    1,
                    2,
                    1,
                    2,
                    4,
                    3,
                    1,
                    1,
                    1,
                    2,
                    1,
                    2,
                    1,
                    3,
                    1,
                    2,
                    4,
                    6,
                    7,
                    8,
                    7,
                    1,
                    5,
                    9,
                    9,
                    9,
                    10,
                    9,
                    10,
                    9,
                    8,
                    9,
                    8,
                    10,
                    9,
                    6
                  ],
                  "xaxis": "x5",
                  "y": [
                    0.3572779911899417,
                    0.2968716404414364,
                    0.4063894041900109,
                    0.3141354334859258,
                    0.3632066189980679,
                    0.30215975412432433,
                    0.2451160974294664,
                    0.22404912349914283,
                    0.32982929103927316,
                    0.27072934424468825,
                    0.1992711455501709,
                    0.18813165505945814,
                    0.17650768936239986,
                    0.1784386673967119,
                    0.17973428718425263,
                    0.2539904924173165,
                    0.20131758852177853,
                    0.2535352304886874,
                    0.18247915158151953,
                    0.24484391390868115,
                    0.2152704273212156,
                    0.18218803727686803,
                    0.17052651881609132,
                    0.17587486707222874,
                    0.2191006832575116,
                    0.25518220985812745,
                    0.22821975364212505,
                    0.1800204670484337,
                    0.1917209408392897,
                    0.2735722312276775,
                    0.24713962261948183,
                    0.20478924618861746,
                    0.17294585076148886,
                    0.20747095361626464,
                    0.23289745049290453,
                    0.20074409082476,
                    0.1914486215443846,
                    0.37049008438150205,
                    0.2525560319383888,
                    0.29721767575702135,
                    0.1871791133324779,
                    0.17306390847537623,
                    0.2192021255884639,
                    0.19360371869638307,
                    0.16979162541126505,
                    0.21304248953466995,
                    0.17000659124691195,
                    0.18816260415358618,
                    0.22548689856924073,
                    0.19081066492673826,
                    0.18045213147602845,
                    0.16968753343369225,
                    0.20969079968585175,
                    0.17627249503197312,
                    0.17245582222820482,
                    0.18533071929012335,
                    0.2313647783514183,
                    0.20263268878647797,
                    0.1706432691543564,
                    0.1862322984733127,
                    0.21864603356420587,
                    0.17227248188856512,
                    0.18403502569579103,
                    0.19991618549280868,
                    0.16654140134709214,
                    0.18139455786124653,
                    0.1766301259463318,
                    0.20792186978118074,
                    0.19508415407422056,
                    0.24295639982525857,
                    0.1839962664510178,
                    0.17843915859476758,
                    0.17395504135549872,
                    0.1943695511684377,
                    0.18075846653161995,
                    0.18045370446320613,
                    0.21217044931111997,
                    0.20305865441389648,
                    0.19085082695270636,
                    0.17432201837130198,
                    0.18154360123740845,
                    0.1913249312547146,
                    0.1708672267315151,
                    0.17595643495036392,
                    0.20447800912915665,
                    0.1911805788466989,
                    0.22439081970035005,
                    0.1692584678467158,
                    0.17764133421802203,
                    0.20564786300437574,
                    0.18518857639835304,
                    0.17206333262424695,
                    0.1730743457281366,
                    0.19615006810385213,
                    0.1835126384902786,
                    0.17963324384521237,
                    0.20533608960013916,
                    0.18447815532905718,
                    0.1909702179776083,
                    0.18258886042192285
                  ],
                  "yaxis": "y5"
                },
                {
                  "marker": {
                    "color": [
                      0,
                      1,
                      2,
                      3,
                      4,
                      5,
                      6,
                      7,
                      8,
                      9,
                      10,
                      11,
                      12,
                      13,
                      14,
                      15,
                      16,
                      17,
                      18,
                      19,
                      20,
                      21,
                      22,
                      23,
                      24,
                      25,
                      26,
                      27,
                      28,
                      29,
                      30,
                      31,
                      32,
                      33,
                      34,
                      35,
                      36,
                      37,
                      38,
                      39,
                      40,
                      41,
                      42,
                      43,
                      44,
                      45,
                      46,
                      47,
                      48,
                      49,
                      50,
                      51,
                      52,
                      53,
                      54,
                      55,
                      56,
                      57,
                      58,
                      59,
                      60,
                      61,
                      62,
                      63,
                      64,
                      65,
                      66,
                      67,
                      68,
                      69,
                      70,
                      71,
                      72,
                      73,
                      74,
                      75,
                      76,
                      77,
                      78,
                      79,
                      80,
                      81,
                      82,
                      83,
                      84,
                      85,
                      86,
                      87,
                      88,
                      89,
                      90,
                      91,
                      92,
                      93,
                      94,
                      95,
                      96,
                      97,
                      98,
                      99
                    ],
                    "colorbar": {
                      "title": {
                        "text": "Trial"
                      },
                      "x": 1,
                      "xpad": 40
                    },
                    "colorscale": [
                      [
                        0,
                        "rgb(247,251,255)"
                      ],
                      [
                        0.125,
                        "rgb(222,235,247)"
                      ],
                      [
                        0.25,
                        "rgb(198,219,239)"
                      ],
                      [
                        0.375,
                        "rgb(158,202,225)"
                      ],
                      [
                        0.5,
                        "rgb(107,174,214)"
                      ],
                      [
                        0.625,
                        "rgb(66,146,198)"
                      ],
                      [
                        0.75,
                        "rgb(33,113,181)"
                      ],
                      [
                        0.875,
                        "rgb(8,81,156)"
                      ],
                      [
                        1,
                        "rgb(8,48,107)"
                      ]
                    ],
                    "line": {
                      "color": "Grey",
                      "width": 0.5
                    },
                    "showscale": false
                  },
                  "mode": "markers",
                  "showlegend": false,
                  "type": "scatter",
                  "x": [
                    433,
                    208,
                    497,
                    307,
                    432,
                    376,
                    179,
                    147,
                    231,
                    208,
                    109,
                    111,
                    103,
                    102,
                    266,
                    100,
                    161,
                    307,
                    258,
                    147,
                    362,
                    262,
                    182,
                    136,
                    189,
                    141,
                    138,
                    177,
                    206,
                    129,
                    232,
                    103,
                    163,
                    168,
                    128,
                    192,
                    226,
                    491,
                    158,
                    130,
                    277,
                    119,
                    334,
                    127,
                    166,
                    197,
                    162,
                    221,
                    172,
                    181,
                    157,
                    154,
                    116,
                    242,
                    151,
                    207,
                    172,
                    156,
                    151,
                    151,
                    190,
                    147,
                    144,
                    180,
                    213,
                    217,
                    202,
                    291,
                    237,
                    398,
                    247,
                    143,
                    182,
                    169,
                    115,
                    149,
                    214,
                    166,
                    139,
                    188,
                    122,
                    160,
                    136,
                    133,
                    151,
                    108,
                    199,
                    323,
                    320,
                    329,
                    356,
                    288,
                    316,
                    290,
                    349,
                    273,
                    371,
                    400,
                    176,
                    124
                  ],
                  "xaxis": "x6",
                  "y": [
                    0.3572779911899417,
                    0.2968716404414364,
                    0.4063894041900109,
                    0.3141354334859258,
                    0.3632066189980679,
                    0.30215975412432433,
                    0.2451160974294664,
                    0.22404912349914283,
                    0.32982929103927316,
                    0.27072934424468825,
                    0.1992711455501709,
                    0.18813165505945814,
                    0.17650768936239986,
                    0.1784386673967119,
                    0.17973428718425263,
                    0.2539904924173165,
                    0.20131758852177853,
                    0.2535352304886874,
                    0.18247915158151953,
                    0.24484391390868115,
                    0.2152704273212156,
                    0.18218803727686803,
                    0.17052651881609132,
                    0.17587486707222874,
                    0.2191006832575116,
                    0.25518220985812745,
                    0.22821975364212505,
                    0.1800204670484337,
                    0.1917209408392897,
                    0.2735722312276775,
                    0.24713962261948183,
                    0.20478924618861746,
                    0.17294585076148886,
                    0.20747095361626464,
                    0.23289745049290453,
                    0.20074409082476,
                    0.1914486215443846,
                    0.37049008438150205,
                    0.2525560319383888,
                    0.29721767575702135,
                    0.1871791133324779,
                    0.17306390847537623,
                    0.2192021255884639,
                    0.19360371869638307,
                    0.16979162541126505,
                    0.21304248953466995,
                    0.17000659124691195,
                    0.18816260415358618,
                    0.22548689856924073,
                    0.19081066492673826,
                    0.18045213147602845,
                    0.16968753343369225,
                    0.20969079968585175,
                    0.17627249503197312,
                    0.17245582222820482,
                    0.18533071929012335,
                    0.2313647783514183,
                    0.20263268878647797,
                    0.1706432691543564,
                    0.1862322984733127,
                    0.21864603356420587,
                    0.17227248188856512,
                    0.18403502569579103,
                    0.19991618549280868,
                    0.16654140134709214,
                    0.18139455786124653,
                    0.1766301259463318,
                    0.20792186978118074,
                    0.19508415407422056,
                    0.24295639982525857,
                    0.1839962664510178,
                    0.17843915859476758,
                    0.17395504135549872,
                    0.1943695511684377,
                    0.18075846653161995,
                    0.18045370446320613,
                    0.21217044931111997,
                    0.20305865441389648,
                    0.19085082695270636,
                    0.17432201837130198,
                    0.18154360123740845,
                    0.1913249312547146,
                    0.1708672267315151,
                    0.17595643495036392,
                    0.20447800912915665,
                    0.1911805788466989,
                    0.22439081970035005,
                    0.1692584678467158,
                    0.17764133421802203,
                    0.20564786300437574,
                    0.18518857639835304,
                    0.17206333262424695,
                    0.1730743457281366,
                    0.19615006810385213,
                    0.1835126384902786,
                    0.17963324384521237,
                    0.20533608960013916,
                    0.18447815532905718,
                    0.1909702179776083,
                    0.18258886042192285
                  ],
                  "yaxis": "y6"
                },
                {
                  "marker": {
                    "color": [
                      0,
                      1,
                      2,
                      3,
                      4,
                      5,
                      6,
                      7,
                      8,
                      9,
                      10,
                      11,
                      12,
                      13,
                      14,
                      15,
                      16,
                      17,
                      18,
                      19,
                      20,
                      21,
                      22,
                      23,
                      24,
                      25,
                      26,
                      27,
                      28,
                      29,
                      30,
                      31,
                      32,
                      33,
                      34,
                      35,
                      36,
                      37,
                      38,
                      39,
                      40,
                      41,
                      42,
                      43,
                      44,
                      45,
                      46,
                      47,
                      48,
                      49,
                      50,
                      51,
                      52,
                      53,
                      54,
                      55,
                      56,
                      57,
                      58,
                      59,
                      60,
                      61,
                      62,
                      63,
                      64,
                      65,
                      66,
                      67,
                      68,
                      69,
                      70,
                      71,
                      72,
                      73,
                      74,
                      75,
                      76,
                      77,
                      78,
                      79,
                      80,
                      81,
                      82,
                      83,
                      84,
                      85,
                      86,
                      87,
                      88,
                      89,
                      90,
                      91,
                      92,
                      93,
                      94,
                      95,
                      96,
                      97,
                      98,
                      99
                    ],
                    "colorbar": {
                      "title": {
                        "text": "Trial"
                      },
                      "x": 1,
                      "xpad": 40
                    },
                    "colorscale": [
                      [
                        0,
                        "rgb(247,251,255)"
                      ],
                      [
                        0.125,
                        "rgb(222,235,247)"
                      ],
                      [
                        0.25,
                        "rgb(198,219,239)"
                      ],
                      [
                        0.375,
                        "rgb(158,202,225)"
                      ],
                      [
                        0.5,
                        "rgb(107,174,214)"
                      ],
                      [
                        0.625,
                        "rgb(66,146,198)"
                      ],
                      [
                        0.75,
                        "rgb(33,113,181)"
                      ],
                      [
                        0.875,
                        "rgb(8,81,156)"
                      ],
                      [
                        1,
                        "rgb(8,48,107)"
                      ]
                    ],
                    "line": {
                      "color": "Grey",
                      "width": 0.5
                    },
                    "showscale": false
                  },
                  "mode": "markers",
                  "showlegend": false,
                  "type": "scatter",
                  "x": [
                    0.861480580294872,
                    0.8088761528940739,
                    0.0691006008535463,
                    0.08725497396309922,
                    0.23423063821088308,
                    0.38769361789150913,
                    0.997637527798541,
                    0.4680292032520358,
                    0.5867405278127334,
                    0.1387035254309098,
                    0.5268622595476082,
                    0.5164507224289882,
                    0.6224105316369681,
                    0.6606486087829326,
                    0.6784454645664642,
                    0.6848056388182369,
                    0.38304909649015817,
                    0.6472760485869724,
                    0.76927025016145,
                    0.6119702945621872,
                    0.7512444963489759,
                    0.6899694784695722,
                    0.574226884351171,
                    0.5666853444532641,
                    0.5730701155313802,
                    0.43566025439926115,
                    0.5400071457512323,
                    0.4193245569420897,
                    0.49359082878944005,
                    0.863387764524569,
                    0.3512220648377137,
                    0.5951999858142892,
                    0.6354931310671583,
                    0.5623810408681241,
                    0.6174150588086926,
                    0.49100061772851145,
                    0.7230278155707898,
                    0.8054627721816396,
                    0.3260208294260692,
                    0.6280135740258019,
                    0.4610860927118035,
                    0.6461135083918286,
                    0.5619628047127723,
                    0.6299427591891402,
                    0.5311292520143287,
                    0.5326324560463821,
                    0.4930124679387793,
                    0.4832950654981334,
                    0.5226854737675826,
                    0.435151422041537,
                    0.6687062304395124,
                    0.5802673501172013,
                    0.5857232119459764,
                    0.5425229871541326,
                    0.5083252090413575,
                    0.49542915903669416,
                    0.4600378760615642,
                    0.5948944890516054,
                    0.5424559721434082,
                    0.5201354150513675,
                    0.4573570363176751,
                    0.5562391805222592,
                    0.514301872668812,
                    0.40932975261200566,
                    0.5547194984293299,
                    0.5595853304335913,
                    0.600441264771284,
                    0.5752301850716406,
                    0.5517905160781851,
                    0.68812028284348,
                    0.5956047719161849,
                    0.5080747029698425,
                    0.4800342899270299,
                    0.5329223177760772,
                    0.4973552511482794,
                    0.6138142980868644,
                    0.5466362604011097,
                    0.5768071957827924,
                    0.4537747082010714,
                    0.47836958174941446,
                    0.6484732312110575,
                    0.6169793302813734,
                    0.6397315588310631,
                    0.5212743449955642,
                    0.5668318354156567,
                    0.6539575154007496,
                    0.5839474110540589,
                    0.5455597813910973,
                    0.5427923495673457,
                    0.6323690062429935,
                    0.7075993363236309,
                    0.5132370778161579,
                    0.551200788558419,
                    0.6013565656864742,
                    0.5247040131742498,
                    0.49980866405414176,
                    0.6660415786856632,
                    0.5779839487369527,
                    0.620995830216514,
                    0.5578015793023304
                  ],
                  "xaxis": "x7",
                  "y": [
                    0.3572779911899417,
                    0.2968716404414364,
                    0.4063894041900109,
                    0.3141354334859258,
                    0.3632066189980679,
                    0.30215975412432433,
                    0.2451160974294664,
                    0.22404912349914283,
                    0.32982929103927316,
                    0.27072934424468825,
                    0.1992711455501709,
                    0.18813165505945814,
                    0.17650768936239986,
                    0.1784386673967119,
                    0.17973428718425263,
                    0.2539904924173165,
                    0.20131758852177853,
                    0.2535352304886874,
                    0.18247915158151953,
                    0.24484391390868115,
                    0.2152704273212156,
                    0.18218803727686803,
                    0.17052651881609132,
                    0.17587486707222874,
                    0.2191006832575116,
                    0.25518220985812745,
                    0.22821975364212505,
                    0.1800204670484337,
                    0.1917209408392897,
                    0.2735722312276775,
                    0.24713962261948183,
                    0.20478924618861746,
                    0.17294585076148886,
                    0.20747095361626464,
                    0.23289745049290453,
                    0.20074409082476,
                    0.1914486215443846,
                    0.37049008438150205,
                    0.2525560319383888,
                    0.29721767575702135,
                    0.1871791133324779,
                    0.17306390847537623,
                    0.2192021255884639,
                    0.19360371869638307,
                    0.16979162541126505,
                    0.21304248953466995,
                    0.17000659124691195,
                    0.18816260415358618,
                    0.22548689856924073,
                    0.19081066492673826,
                    0.18045213147602845,
                    0.16968753343369225,
                    0.20969079968585175,
                    0.17627249503197312,
                    0.17245582222820482,
                    0.18533071929012335,
                    0.2313647783514183,
                    0.20263268878647797,
                    0.1706432691543564,
                    0.1862322984733127,
                    0.21864603356420587,
                    0.17227248188856512,
                    0.18403502569579103,
                    0.19991618549280868,
                    0.16654140134709214,
                    0.18139455786124653,
                    0.1766301259463318,
                    0.20792186978118074,
                    0.19508415407422056,
                    0.24295639982525857,
                    0.1839962664510178,
                    0.17843915859476758,
                    0.17395504135549872,
                    0.1943695511684377,
                    0.18075846653161995,
                    0.18045370446320613,
                    0.21217044931111997,
                    0.20305865441389648,
                    0.19085082695270636,
                    0.17432201837130198,
                    0.18154360123740845,
                    0.1913249312547146,
                    0.1708672267315151,
                    0.17595643495036392,
                    0.20447800912915665,
                    0.1911805788466989,
                    0.22439081970035005,
                    0.1692584678467158,
                    0.17764133421802203,
                    0.20564786300437574,
                    0.18518857639835304,
                    0.17206333262424695,
                    0.1730743457281366,
                    0.19615006810385213,
                    0.1835126384902786,
                    0.17963324384521237,
                    0.20533608960013916,
                    0.18447815532905718,
                    0.1909702179776083,
                    0.18258886042192285
                  ],
                  "yaxis": "y7"
                },
                {
                  "marker": {
                    "color": [
                      0,
                      1,
                      2,
                      3,
                      4,
                      5,
                      6,
                      7,
                      8,
                      9,
                      10,
                      11,
                      12,
                      13,
                      14,
                      15,
                      16,
                      17,
                      18,
                      19,
                      20,
                      21,
                      22,
                      23,
                      24,
                      25,
                      26,
                      27,
                      28,
                      29,
                      30,
                      31,
                      32,
                      33,
                      34,
                      35,
                      36,
                      37,
                      38,
                      39,
                      40,
                      41,
                      42,
                      43,
                      44,
                      45,
                      46,
                      47,
                      48,
                      49,
                      50,
                      51,
                      52,
                      53,
                      54,
                      55,
                      56,
                      57,
                      58,
                      59,
                      60,
                      61,
                      62,
                      63,
                      64,
                      65,
                      66,
                      67,
                      68,
                      69,
                      70,
                      71,
                      72,
                      73,
                      74,
                      75,
                      76,
                      77,
                      78,
                      79,
                      80,
                      81,
                      82,
                      83,
                      84,
                      85,
                      86,
                      87,
                      88,
                      89,
                      90,
                      91,
                      92,
                      93,
                      94,
                      95,
                      96,
                      97,
                      98,
                      99
                    ],
                    "colorbar": {
                      "title": {
                        "text": "Trial"
                      },
                      "x": 1,
                      "xpad": 40
                    },
                    "colorscale": [
                      [
                        0,
                        "rgb(247,251,255)"
                      ],
                      [
                        0.125,
                        "rgb(222,235,247)"
                      ],
                      [
                        0.25,
                        "rgb(198,219,239)"
                      ],
                      [
                        0.375,
                        "rgb(158,202,225)"
                      ],
                      [
                        0.5,
                        "rgb(107,174,214)"
                      ],
                      [
                        0.625,
                        "rgb(66,146,198)"
                      ],
                      [
                        0.75,
                        "rgb(33,113,181)"
                      ],
                      [
                        0.875,
                        "rgb(8,81,156)"
                      ],
                      [
                        1,
                        "rgb(8,48,107)"
                      ]
                    ],
                    "line": {
                      "color": "Grey",
                      "width": 0.5
                    },
                    "showscale": false
                  },
                  "mode": "markers",
                  "showlegend": false,
                  "type": "scatter",
                  "x": [
                    0.8464343640122108,
                    0.4739212846874783,
                    0.8199790588621075,
                    0.996589157794465,
                    0.11771253491627409,
                    0.6212827812492553,
                    0.8146372141843695,
                    0.6111140415562327,
                    0.040704936452841345,
                    0.19368882153351508,
                    0.430356780094893,
                    0.4282433560145253,
                    0.3405094735460049,
                    0.30903352082269964,
                    0.2744057978197594,
                    0.27809136803228585,
                    0.3180896084728425,
                    0.14427521267345306,
                    0.3462746531691578,
                    0.03125321357907296,
                    0.20999183254928808,
                    0.2937850015540593,
                    0.3838037192866929,
                    0.3731888804620441,
                    0.3908912420069257,
                    0.49553602567530153,
                    0.5539323521459689,
                    0.3544825393147082,
                    0.413705739836453,
                    0.23120505908237846,
                    0.5312194569340334,
                    0.35605426885903385,
                    0.46255675203960367,
                    0.483364169279357,
                    0.4621946197063505,
                    0.38331490271462576,
                    0.4077172326475947,
                    0.5562340941688924,
                    0.47254334639148754,
                    0.6251869533124574,
                    0.3441602792945877,
                    0.25909441801228794,
                    0.25852260840305796,
                    0.18263885443353864,
                    0.2534332876605182,
                    0.10079734314933647,
                    0.24449822534085386,
                    0.22943638396253488,
                    0.25742637481140784,
                    0.17178495528672189,
                    0.3007980772470547,
                    0.2442312713646853,
                    0.10088511593216937,
                    0.243168833692949,
                    0.2093802387149693,
                    0.14547263178942083,
                    0.20675400194772198,
                    0.29111718786939034,
                    0.2034446286611162,
                    0.06708037154776902,
                    0.15958441776934712,
                    0.20037127661647886,
                    0.21431693137116595,
                    0.13882041412987753,
                    0.19631812640892668,
                    0.18097134067082332,
                    0.2783776741576162,
                    0.3048579675362524,
                    0.12205561353019144,
                    0.3186967311358301,
                    0.2331336870080169,
                    0.200606119899838,
                    0.18992153162406042,
                    0.16384077879643766,
                    0.23144578783093223,
                    0.27476233639860337,
                    0.19727280000397032,
                    0.2573214515369483,
                    0.2169502226838635,
                    0.3306048513364538,
                    0.3290529762580402,
                    0.4365052398555132,
                    0.24439149257426176,
                    0.24743043191568687,
                    0.16901342057999164,
                    0.28475191795911337,
                    0.2140409235009205,
                    0.37392588435545293,
                    0.3774473837281159,
                    0.35422059372398695,
                    0.3049806175685144,
                    0.2595541053178117,
                    0.2615036487123678,
                    0.24338801683510583,
                    0.31854502482681046,
                    0.28030294638461534,
                    0.18607192226259625,
                    0.36275145733278263,
                    0.2923737228457289,
                    0.23432837140107377
                  ],
                  "xaxis": "x8",
                  "y": [
                    0.3572779911899417,
                    0.2968716404414364,
                    0.4063894041900109,
                    0.3141354334859258,
                    0.3632066189980679,
                    0.30215975412432433,
                    0.2451160974294664,
                    0.22404912349914283,
                    0.32982929103927316,
                    0.27072934424468825,
                    0.1992711455501709,
                    0.18813165505945814,
                    0.17650768936239986,
                    0.1784386673967119,
                    0.17973428718425263,
                    0.2539904924173165,
                    0.20131758852177853,
                    0.2535352304886874,
                    0.18247915158151953,
                    0.24484391390868115,
                    0.2152704273212156,
                    0.18218803727686803,
                    0.17052651881609132,
                    0.17587486707222874,
                    0.2191006832575116,
                    0.25518220985812745,
                    0.22821975364212505,
                    0.1800204670484337,
                    0.1917209408392897,
                    0.2735722312276775,
                    0.24713962261948183,
                    0.20478924618861746,
                    0.17294585076148886,
                    0.20747095361626464,
                    0.23289745049290453,
                    0.20074409082476,
                    0.1914486215443846,
                    0.37049008438150205,
                    0.2525560319383888,
                    0.29721767575702135,
                    0.1871791133324779,
                    0.17306390847537623,
                    0.2192021255884639,
                    0.19360371869638307,
                    0.16979162541126505,
                    0.21304248953466995,
                    0.17000659124691195,
                    0.18816260415358618,
                    0.22548689856924073,
                    0.19081066492673826,
                    0.18045213147602845,
                    0.16968753343369225,
                    0.20969079968585175,
                    0.17627249503197312,
                    0.17245582222820482,
                    0.18533071929012335,
                    0.2313647783514183,
                    0.20263268878647797,
                    0.1706432691543564,
                    0.1862322984733127,
                    0.21864603356420587,
                    0.17227248188856512,
                    0.18403502569579103,
                    0.19991618549280868,
                    0.16654140134709214,
                    0.18139455786124653,
                    0.1766301259463318,
                    0.20792186978118074,
                    0.19508415407422056,
                    0.24295639982525857,
                    0.1839962664510178,
                    0.17843915859476758,
                    0.17395504135549872,
                    0.1943695511684377,
                    0.18075846653161995,
                    0.18045370446320613,
                    0.21217044931111997,
                    0.20305865441389648,
                    0.19085082695270636,
                    0.17432201837130198,
                    0.18154360123740845,
                    0.1913249312547146,
                    0.1708672267315151,
                    0.17595643495036392,
                    0.20447800912915665,
                    0.1911805788466989,
                    0.22439081970035005,
                    0.1692584678467158,
                    0.17764133421802203,
                    0.20564786300437574,
                    0.18518857639835304,
                    0.17206333262424695,
                    0.1730743457281366,
                    0.19615006810385213,
                    0.1835126384902786,
                    0.17963324384521237,
                    0.20533608960013916,
                    0.18447815532905718,
                    0.1909702179776083,
                    0.18258886042192285
                  ],
                  "yaxis": "y8"
                },
                {
                  "marker": {
                    "color": [
                      0,
                      1,
                      2,
                      3,
                      4,
                      5,
                      6,
                      7,
                      8,
                      9,
                      10,
                      11,
                      12,
                      13,
                      14,
                      15,
                      16,
                      17,
                      18,
                      19,
                      20,
                      21,
                      22,
                      23,
                      24,
                      25,
                      26,
                      27,
                      28,
                      29,
                      30,
                      31,
                      32,
                      33,
                      34,
                      35,
                      36,
                      37,
                      38,
                      39,
                      40,
                      41,
                      42,
                      43,
                      44,
                      45,
                      46,
                      47,
                      48,
                      49,
                      50,
                      51,
                      52,
                      53,
                      54,
                      55,
                      56,
                      57,
                      58,
                      59,
                      60,
                      61,
                      62,
                      63,
                      64,
                      65,
                      66,
                      67,
                      68,
                      69,
                      70,
                      71,
                      72,
                      73,
                      74,
                      75,
                      76,
                      77,
                      78,
                      79,
                      80,
                      81,
                      82,
                      83,
                      84,
                      85,
                      86,
                      87,
                      88,
                      89,
                      90,
                      91,
                      92,
                      93,
                      94,
                      95,
                      96,
                      97,
                      98,
                      99
                    ],
                    "colorbar": {
                      "title": {
                        "text": "Trial"
                      },
                      "x": 1,
                      "xpad": 40
                    },
                    "colorscale": [
                      [
                        0,
                        "rgb(247,251,255)"
                      ],
                      [
                        0.125,
                        "rgb(222,235,247)"
                      ],
                      [
                        0.25,
                        "rgb(198,219,239)"
                      ],
                      [
                        0.375,
                        "rgb(158,202,225)"
                      ],
                      [
                        0.5,
                        "rgb(107,174,214)"
                      ],
                      [
                        0.625,
                        "rgb(66,146,198)"
                      ],
                      [
                        0.75,
                        "rgb(33,113,181)"
                      ],
                      [
                        0.875,
                        "rgb(8,81,156)"
                      ],
                      [
                        1,
                        "rgb(8,48,107)"
                      ]
                    ],
                    "line": {
                      "color": "Grey",
                      "width": 0.5
                    },
                    "showscale": false
                  },
                  "mode": "markers",
                  "showlegend": false,
                  "type": "scatter",
                  "x": [
                    0.780284685608511,
                    0.9805927816599106,
                    0.9828483344421903,
                    0.8936714123808509,
                    0.6399100301209573,
                    0.6709611326151395,
                    0.930378328422452,
                    0.6047265254637626,
                    0.9325577173752707,
                    0.5785616872836423,
                    0.5052576197163372,
                    0.5011413020318279,
                    0.5025383648882813,
                    0.5039673647126456,
                    0.564706298525817,
                    0.7023465300631857,
                    0.5461462040459921,
                    0.6122389348499261,
                    0.5422768642285516,
                    0.5053238740937961,
                    0.7259271269245178,
                    0.5610488414557491,
                    0.5830856050299802,
                    0.6288682965140983,
                    0.6014129400304236,
                    0.6389644630851966,
                    0.6333564338125984,
                    0.581050740582228,
                    0.5391290343508071,
                    0.7620898892824702,
                    0.6848533738693409,
                    0.5314650078006751,
                    0.5315378701988168,
                    0.5826674618916541,
                    0.5365777677350299,
                    0.6137818650555922,
                    0.8019066066739116,
                    0.6590471769698945,
                    0.5675323683953254,
                    0.5885734555887686,
                    0.620314785094831,
                    0.5226169244016934,
                    0.5184225489867551,
                    0.5566994384058774,
                    0.5252741762171359,
                    0.5282140752338699,
                    0.5913223123392201,
                    0.5908875319171222,
                    0.5573718651556935,
                    0.5723470531847182,
                    0.5194003446560315,
                    0.5979133380246164,
                    0.5477840171415749,
                    0.5995146912352737,
                    0.5219592810461952,
                    0.5728700029581627,
                    0.5001618367412285,
                    0.5456475250431001,
                    0.6513802798923535,
                    0.6528409760726366,
                    0.5968654864619747,
                    0.5646283266068467,
                    0.6188552143077666,
                    0.6072417997400679,
                    0.5657997633754099,
                    0.5803125624852546,
                    0.633978752904609,
                    0.5551696418118531,
                    0.5652043549785312,
                    0.5964942408480791,
                    0.6478652918847985,
                    0.5475315401851787,
                    0.5813290844547896,
                    0.5142493349449397,
                    0.624476100858691,
                    0.5675554252591019,
                    0.5373226489235151,
                    0.6049402875558257,
                    0.58394132690741,
                    0.5322077545724072,
                    0.5586316430388927,
                    0.5153241993539336,
                    0.5340973844922045,
                    0.5736498952339472,
                    0.5512050321194263,
                    0.5272420963383105,
                    0.5420806292144307,
                    0.6132242718836096,
                    0.6109894387370174,
                    0.5911799191699552,
                    0.5890814211732037,
                    0.628554868405183,
                    0.6330570487205518,
                    0.6197496621005206,
                    0.648055581479779,
                    0.6694750596498359,
                    0.6125764710575062,
                    0.5985725880684742,
                    0.5649961336747431,
                    0.623992392325928
                  ],
                  "xaxis": "x9",
                  "y": [
                    0.3572779911899417,
                    0.2968716404414364,
                    0.4063894041900109,
                    0.3141354334859258,
                    0.3632066189980679,
                    0.30215975412432433,
                    0.2451160974294664,
                    0.22404912349914283,
                    0.32982929103927316,
                    0.27072934424468825,
                    0.1992711455501709,
                    0.18813165505945814,
                    0.17650768936239986,
                    0.1784386673967119,
                    0.17973428718425263,
                    0.2539904924173165,
                    0.20131758852177853,
                    0.2535352304886874,
                    0.18247915158151953,
                    0.24484391390868115,
                    0.2152704273212156,
                    0.18218803727686803,
                    0.17052651881609132,
                    0.17587486707222874,
                    0.2191006832575116,
                    0.25518220985812745,
                    0.22821975364212505,
                    0.1800204670484337,
                    0.1917209408392897,
                    0.2735722312276775,
                    0.24713962261948183,
                    0.20478924618861746,
                    0.17294585076148886,
                    0.20747095361626464,
                    0.23289745049290453,
                    0.20074409082476,
                    0.1914486215443846,
                    0.37049008438150205,
                    0.2525560319383888,
                    0.29721767575702135,
                    0.1871791133324779,
                    0.17306390847537623,
                    0.2192021255884639,
                    0.19360371869638307,
                    0.16979162541126505,
                    0.21304248953466995,
                    0.17000659124691195,
                    0.18816260415358618,
                    0.22548689856924073,
                    0.19081066492673826,
                    0.18045213147602845,
                    0.16968753343369225,
                    0.20969079968585175,
                    0.17627249503197312,
                    0.17245582222820482,
                    0.18533071929012335,
                    0.2313647783514183,
                    0.20263268878647797,
                    0.1706432691543564,
                    0.1862322984733127,
                    0.21864603356420587,
                    0.17227248188856512,
                    0.18403502569579103,
                    0.19991618549280868,
                    0.16654140134709214,
                    0.18139455786124653,
                    0.1766301259463318,
                    0.20792186978118074,
                    0.19508415407422056,
                    0.24295639982525857,
                    0.1839962664510178,
                    0.17843915859476758,
                    0.17395504135549872,
                    0.1943695511684377,
                    0.18075846653161995,
                    0.18045370446320613,
                    0.21217044931111997,
                    0.20305865441389648,
                    0.19085082695270636,
                    0.17432201837130198,
                    0.18154360123740845,
                    0.1913249312547146,
                    0.1708672267315151,
                    0.17595643495036392,
                    0.20447800912915665,
                    0.1911805788466989,
                    0.22439081970035005,
                    0.1692584678467158,
                    0.17764133421802203,
                    0.20564786300437574,
                    0.18518857639835304,
                    0.17206333262424695,
                    0.1730743457281366,
                    0.19615006810385213,
                    0.1835126384902786,
                    0.17963324384521237,
                    0.20533608960013916,
                    0.18447815532905718,
                    0.1909702179776083,
                    0.18258886042192285
                  ],
                  "yaxis": "y9"
                }
              ],
              "layout": {
                "template": {
                  "data": {
                    "bar": [
                      {
                        "error_x": {
                          "color": "#2a3f5f"
                        },
                        "error_y": {
                          "color": "#2a3f5f"
                        },
                        "marker": {
                          "line": {
                            "color": "#E5ECF6",
                            "width": 0.5
                          },
                          "pattern": {
                            "fillmode": "overlay",
                            "size": 10,
                            "solidity": 0.2
                          }
                        },
                        "type": "bar"
                      }
                    ],
                    "barpolar": [
                      {
                        "marker": {
                          "line": {
                            "color": "#E5ECF6",
                            "width": 0.5
                          },
                          "pattern": {
                            "fillmode": "overlay",
                            "size": 10,
                            "solidity": 0.2
                          }
                        },
                        "type": "barpolar"
                      }
                    ],
                    "carpet": [
                      {
                        "aaxis": {
                          "endlinecolor": "#2a3f5f",
                          "gridcolor": "white",
                          "linecolor": "white",
                          "minorgridcolor": "white",
                          "startlinecolor": "#2a3f5f"
                        },
                        "baxis": {
                          "endlinecolor": "#2a3f5f",
                          "gridcolor": "white",
                          "linecolor": "white",
                          "minorgridcolor": "white",
                          "startlinecolor": "#2a3f5f"
                        },
                        "type": "carpet"
                      }
                    ],
                    "choropleth": [
                      {
                        "colorbar": {
                          "outlinewidth": 0,
                          "ticks": ""
                        },
                        "type": "choropleth"
                      }
                    ],
                    "contour": [
                      {
                        "colorbar": {
                          "outlinewidth": 0,
                          "ticks": ""
                        },
                        "colorscale": [
                          [
                            0,
                            "#0d0887"
                          ],
                          [
                            0.1111111111111111,
                            "#46039f"
                          ],
                          [
                            0.2222222222222222,
                            "#7201a8"
                          ],
                          [
                            0.3333333333333333,
                            "#9c179e"
                          ],
                          [
                            0.4444444444444444,
                            "#bd3786"
                          ],
                          [
                            0.5555555555555556,
                            "#d8576b"
                          ],
                          [
                            0.6666666666666666,
                            "#ed7953"
                          ],
                          [
                            0.7777777777777778,
                            "#fb9f3a"
                          ],
                          [
                            0.8888888888888888,
                            "#fdca26"
                          ],
                          [
                            1,
                            "#f0f921"
                          ]
                        ],
                        "type": "contour"
                      }
                    ],
                    "contourcarpet": [
                      {
                        "colorbar": {
                          "outlinewidth": 0,
                          "ticks": ""
                        },
                        "type": "contourcarpet"
                      }
                    ],
                    "heatmap": [
                      {
                        "colorbar": {
                          "outlinewidth": 0,
                          "ticks": ""
                        },
                        "colorscale": [
                          [
                            0,
                            "#0d0887"
                          ],
                          [
                            0.1111111111111111,
                            "#46039f"
                          ],
                          [
                            0.2222222222222222,
                            "#7201a8"
                          ],
                          [
                            0.3333333333333333,
                            "#9c179e"
                          ],
                          [
                            0.4444444444444444,
                            "#bd3786"
                          ],
                          [
                            0.5555555555555556,
                            "#d8576b"
                          ],
                          [
                            0.6666666666666666,
                            "#ed7953"
                          ],
                          [
                            0.7777777777777778,
                            "#fb9f3a"
                          ],
                          [
                            0.8888888888888888,
                            "#fdca26"
                          ],
                          [
                            1,
                            "#f0f921"
                          ]
                        ],
                        "type": "heatmap"
                      }
                    ],
                    "heatmapgl": [
                      {
                        "colorbar": {
                          "outlinewidth": 0,
                          "ticks": ""
                        },
                        "colorscale": [
                          [
                            0,
                            "#0d0887"
                          ],
                          [
                            0.1111111111111111,
                            "#46039f"
                          ],
                          [
                            0.2222222222222222,
                            "#7201a8"
                          ],
                          [
                            0.3333333333333333,
                            "#9c179e"
                          ],
                          [
                            0.4444444444444444,
                            "#bd3786"
                          ],
                          [
                            0.5555555555555556,
                            "#d8576b"
                          ],
                          [
                            0.6666666666666666,
                            "#ed7953"
                          ],
                          [
                            0.7777777777777778,
                            "#fb9f3a"
                          ],
                          [
                            0.8888888888888888,
                            "#fdca26"
                          ],
                          [
                            1,
                            "#f0f921"
                          ]
                        ],
                        "type": "heatmapgl"
                      }
                    ],
                    "histogram": [
                      {
                        "marker": {
                          "pattern": {
                            "fillmode": "overlay",
                            "size": 10,
                            "solidity": 0.2
                          }
                        },
                        "type": "histogram"
                      }
                    ],
                    "histogram2d": [
                      {
                        "colorbar": {
                          "outlinewidth": 0,
                          "ticks": ""
                        },
                        "colorscale": [
                          [
                            0,
                            "#0d0887"
                          ],
                          [
                            0.1111111111111111,
                            "#46039f"
                          ],
                          [
                            0.2222222222222222,
                            "#7201a8"
                          ],
                          [
                            0.3333333333333333,
                            "#9c179e"
                          ],
                          [
                            0.4444444444444444,
                            "#bd3786"
                          ],
                          [
                            0.5555555555555556,
                            "#d8576b"
                          ],
                          [
                            0.6666666666666666,
                            "#ed7953"
                          ],
                          [
                            0.7777777777777778,
                            "#fb9f3a"
                          ],
                          [
                            0.8888888888888888,
                            "#fdca26"
                          ],
                          [
                            1,
                            "#f0f921"
                          ]
                        ],
                        "type": "histogram2d"
                      }
                    ],
                    "histogram2dcontour": [
                      {
                        "colorbar": {
                          "outlinewidth": 0,
                          "ticks": ""
                        },
                        "colorscale": [
                          [
                            0,
                            "#0d0887"
                          ],
                          [
                            0.1111111111111111,
                            "#46039f"
                          ],
                          [
                            0.2222222222222222,
                            "#7201a8"
                          ],
                          [
                            0.3333333333333333,
                            "#9c179e"
                          ],
                          [
                            0.4444444444444444,
                            "#bd3786"
                          ],
                          [
                            0.5555555555555556,
                            "#d8576b"
                          ],
                          [
                            0.6666666666666666,
                            "#ed7953"
                          ],
                          [
                            0.7777777777777778,
                            "#fb9f3a"
                          ],
                          [
                            0.8888888888888888,
                            "#fdca26"
                          ],
                          [
                            1,
                            "#f0f921"
                          ]
                        ],
                        "type": "histogram2dcontour"
                      }
                    ],
                    "mesh3d": [
                      {
                        "colorbar": {
                          "outlinewidth": 0,
                          "ticks": ""
                        },
                        "type": "mesh3d"
                      }
                    ],
                    "parcoords": [
                      {
                        "line": {
                          "colorbar": {
                            "outlinewidth": 0,
                            "ticks": ""
                          }
                        },
                        "type": "parcoords"
                      }
                    ],
                    "pie": [
                      {
                        "automargin": true,
                        "type": "pie"
                      }
                    ],
                    "scatter": [
                      {
                        "fillpattern": {
                          "fillmode": "overlay",
                          "size": 10,
                          "solidity": 0.2
                        },
                        "type": "scatter"
                      }
                    ],
                    "scatter3d": [
                      {
                        "line": {
                          "colorbar": {
                            "outlinewidth": 0,
                            "ticks": ""
                          }
                        },
                        "marker": {
                          "colorbar": {
                            "outlinewidth": 0,
                            "ticks": ""
                          }
                        },
                        "type": "scatter3d"
                      }
                    ],
                    "scattercarpet": [
                      {
                        "marker": {
                          "colorbar": {
                            "outlinewidth": 0,
                            "ticks": ""
                          }
                        },
                        "type": "scattercarpet"
                      }
                    ],
                    "scattergeo": [
                      {
                        "marker": {
                          "colorbar": {
                            "outlinewidth": 0,
                            "ticks": ""
                          }
                        },
                        "type": "scattergeo"
                      }
                    ],
                    "scattergl": [
                      {
                        "marker": {
                          "colorbar": {
                            "outlinewidth": 0,
                            "ticks": ""
                          }
                        },
                        "type": "scattergl"
                      }
                    ],
                    "scattermapbox": [
                      {
                        "marker": {
                          "colorbar": {
                            "outlinewidth": 0,
                            "ticks": ""
                          }
                        },
                        "type": "scattermapbox"
                      }
                    ],
                    "scatterpolar": [
                      {
                        "marker": {
                          "colorbar": {
                            "outlinewidth": 0,
                            "ticks": ""
                          }
                        },
                        "type": "scatterpolar"
                      }
                    ],
                    "scatterpolargl": [
                      {
                        "marker": {
                          "colorbar": {
                            "outlinewidth": 0,
                            "ticks": ""
                          }
                        },
                        "type": "scatterpolargl"
                      }
                    ],
                    "scatterternary": [
                      {
                        "marker": {
                          "colorbar": {
                            "outlinewidth": 0,
                            "ticks": ""
                          }
                        },
                        "type": "scatterternary"
                      }
                    ],
                    "surface": [
                      {
                        "colorbar": {
                          "outlinewidth": 0,
                          "ticks": ""
                        },
                        "colorscale": [
                          [
                            0,
                            "#0d0887"
                          ],
                          [
                            0.1111111111111111,
                            "#46039f"
                          ],
                          [
                            0.2222222222222222,
                            "#7201a8"
                          ],
                          [
                            0.3333333333333333,
                            "#9c179e"
                          ],
                          [
                            0.4444444444444444,
                            "#bd3786"
                          ],
                          [
                            0.5555555555555556,
                            "#d8576b"
                          ],
                          [
                            0.6666666666666666,
                            "#ed7953"
                          ],
                          [
                            0.7777777777777778,
                            "#fb9f3a"
                          ],
                          [
                            0.8888888888888888,
                            "#fdca26"
                          ],
                          [
                            1,
                            "#f0f921"
                          ]
                        ],
                        "type": "surface"
                      }
                    ],
                    "table": [
                      {
                        "cells": {
                          "fill": {
                            "color": "#EBF0F8"
                          },
                          "line": {
                            "color": "white"
                          }
                        },
                        "header": {
                          "fill": {
                            "color": "#C8D4E3"
                          },
                          "line": {
                            "color": "white"
                          }
                        },
                        "type": "table"
                      }
                    ]
                  },
                  "layout": {
                    "annotationdefaults": {
                      "arrowcolor": "#2a3f5f",
                      "arrowhead": 0,
                      "arrowwidth": 1
                    },
                    "autotypenumbers": "strict",
                    "coloraxis": {
                      "colorbar": {
                        "outlinewidth": 0,
                        "ticks": ""
                      }
                    },
                    "colorscale": {
                      "diverging": [
                        [
                          0,
                          "#8e0152"
                        ],
                        [
                          0.1,
                          "#c51b7d"
                        ],
                        [
                          0.2,
                          "#de77ae"
                        ],
                        [
                          0.3,
                          "#f1b6da"
                        ],
                        [
                          0.4,
                          "#fde0ef"
                        ],
                        [
                          0.5,
                          "#f7f7f7"
                        ],
                        [
                          0.6,
                          "#e6f5d0"
                        ],
                        [
                          0.7,
                          "#b8e186"
                        ],
                        [
                          0.8,
                          "#7fbc41"
                        ],
                        [
                          0.9,
                          "#4d9221"
                        ],
                        [
                          1,
                          "#276419"
                        ]
                      ],
                      "sequential": [
                        [
                          0,
                          "#0d0887"
                        ],
                        [
                          0.1111111111111111,
                          "#46039f"
                        ],
                        [
                          0.2222222222222222,
                          "#7201a8"
                        ],
                        [
                          0.3333333333333333,
                          "#9c179e"
                        ],
                        [
                          0.4444444444444444,
                          "#bd3786"
                        ],
                        [
                          0.5555555555555556,
                          "#d8576b"
                        ],
                        [
                          0.6666666666666666,
                          "#ed7953"
                        ],
                        [
                          0.7777777777777778,
                          "#fb9f3a"
                        ],
                        [
                          0.8888888888888888,
                          "#fdca26"
                        ],
                        [
                          1,
                          "#f0f921"
                        ]
                      ],
                      "sequentialminus": [
                        [
                          0,
                          "#0d0887"
                        ],
                        [
                          0.1111111111111111,
                          "#46039f"
                        ],
                        [
                          0.2222222222222222,
                          "#7201a8"
                        ],
                        [
                          0.3333333333333333,
                          "#9c179e"
                        ],
                        [
                          0.4444444444444444,
                          "#bd3786"
                        ],
                        [
                          0.5555555555555556,
                          "#d8576b"
                        ],
                        [
                          0.6666666666666666,
                          "#ed7953"
                        ],
                        [
                          0.7777777777777778,
                          "#fb9f3a"
                        ],
                        [
                          0.8888888888888888,
                          "#fdca26"
                        ],
                        [
                          1,
                          "#f0f921"
                        ]
                      ]
                    },
                    "colorway": [
                      "#636efa",
                      "#EF553B",
                      "#00cc96",
                      "#ab63fa",
                      "#FFA15A",
                      "#19d3f3",
                      "#FF6692",
                      "#B6E880",
                      "#FF97FF",
                      "#FECB52"
                    ],
                    "font": {
                      "color": "#2a3f5f"
                    },
                    "geo": {
                      "bgcolor": "white",
                      "lakecolor": "white",
                      "landcolor": "#E5ECF6",
                      "showlakes": true,
                      "showland": true,
                      "subunitcolor": "white"
                    },
                    "hoverlabel": {
                      "align": "left"
                    },
                    "hovermode": "closest",
                    "mapbox": {
                      "style": "light"
                    },
                    "paper_bgcolor": "white",
                    "plot_bgcolor": "#E5ECF6",
                    "polar": {
                      "angularaxis": {
                        "gridcolor": "white",
                        "linecolor": "white",
                        "ticks": ""
                      },
                      "bgcolor": "#E5ECF6",
                      "radialaxis": {
                        "gridcolor": "white",
                        "linecolor": "white",
                        "ticks": ""
                      }
                    },
                    "scene": {
                      "xaxis": {
                        "backgroundcolor": "#E5ECF6",
                        "gridcolor": "white",
                        "gridwidth": 2,
                        "linecolor": "white",
                        "showbackground": true,
                        "ticks": "",
                        "zerolinecolor": "white"
                      },
                      "yaxis": {
                        "backgroundcolor": "#E5ECF6",
                        "gridcolor": "white",
                        "gridwidth": 2,
                        "linecolor": "white",
                        "showbackground": true,
                        "ticks": "",
                        "zerolinecolor": "white"
                      },
                      "zaxis": {
                        "backgroundcolor": "#E5ECF6",
                        "gridcolor": "white",
                        "gridwidth": 2,
                        "linecolor": "white",
                        "showbackground": true,
                        "ticks": "",
                        "zerolinecolor": "white"
                      }
                    },
                    "shapedefaults": {
                      "line": {
                        "color": "#2a3f5f"
                      }
                    },
                    "ternary": {
                      "aaxis": {
                        "gridcolor": "white",
                        "linecolor": "white",
                        "ticks": ""
                      },
                      "baxis": {
                        "gridcolor": "white",
                        "linecolor": "white",
                        "ticks": ""
                      },
                      "bgcolor": "#E5ECF6",
                      "caxis": {
                        "gridcolor": "white",
                        "linecolor": "white",
                        "ticks": ""
                      }
                    },
                    "title": {
                      "x": 0.05
                    },
                    "xaxis": {
                      "automargin": true,
                      "gridcolor": "white",
                      "linecolor": "white",
                      "ticks": "",
                      "title": {
                        "standoff": 15
                      },
                      "zerolinecolor": "white",
                      "zerolinewidth": 2
                    },
                    "yaxis": {
                      "automargin": true,
                      "gridcolor": "white",
                      "linecolor": "white",
                      "ticks": "",
                      "title": {
                        "standoff": 15
                      },
                      "zerolinecolor": "white",
                      "zerolinewidth": 2
                    }
                  }
                },
                "title": {
                  "text": "Slice Plot"
                },
                "width": 2700,
                "xaxis": {
                  "anchor": "y",
                  "domain": [
                    0,
                    0.09135802469135802
                  ],
                  "title": {
                    "text": "colsample_bytree"
                  }
                },
                "xaxis2": {
                  "anchor": "y2",
                  "domain": [
                    0.11358024691358025,
                    0.20493827160493827
                  ],
                  "title": {
                    "text": "gamma"
                  }
                },
                "xaxis3": {
                  "anchor": "y3",
                  "domain": [
                    0.2271604938271605,
                    0.31851851851851853
                  ],
                  "title": {
                    "text": "learning_rate"
                  },
                  "type": "log"
                },
                "xaxis4": {
                  "anchor": "y4",
                  "domain": [
                    0.34074074074074073,
                    0.43209876543209874
                  ],
                  "title": {
                    "text": "max_depth"
                  }
                },
                "xaxis5": {
                  "anchor": "y5",
                  "domain": [
                    0.454320987654321,
                    0.5456790123456791
                  ],
                  "title": {
                    "text": "min_child_weight"
                  }
                },
                "xaxis6": {
                  "anchor": "y6",
                  "domain": [
                    0.5679012345679012,
                    0.6592592592592592
                  ],
                  "title": {
                    "text": "n_estimators"
                  }
                },
                "xaxis7": {
                  "anchor": "y7",
                  "domain": [
                    0.6814814814814815,
                    0.7728395061728395
                  ],
                  "title": {
                    "text": "reg_alpha"
                  }
                },
                "xaxis8": {
                  "anchor": "y8",
                  "domain": [
                    0.7950617283950617,
                    0.8864197530864197
                  ],
                  "title": {
                    "text": "reg_lambda"
                  }
                },
                "xaxis9": {
                  "anchor": "y9",
                  "domain": [
                    0.908641975308642,
                    1
                  ],
                  "title": {
                    "text": "subsample"
                  }
                },
                "yaxis": {
                  "anchor": "x",
                  "domain": [
                    0,
                    1
                  ],
                  "title": {
                    "text": "Objective Value"
                  }
                },
                "yaxis2": {
                  "anchor": "x2",
                  "domain": [
                    0,
                    1
                  ],
                  "matches": "y",
                  "showticklabels": false
                },
                "yaxis3": {
                  "anchor": "x3",
                  "domain": [
                    0,
                    1
                  ],
                  "matches": "y",
                  "showticklabels": false
                },
                "yaxis4": {
                  "anchor": "x4",
                  "domain": [
                    0,
                    1
                  ],
                  "matches": "y",
                  "showticklabels": false
                },
                "yaxis5": {
                  "anchor": "x5",
                  "domain": [
                    0,
                    1
                  ],
                  "matches": "y",
                  "showticklabels": false
                },
                "yaxis6": {
                  "anchor": "x6",
                  "domain": [
                    0,
                    1
                  ],
                  "matches": "y",
                  "showticklabels": false
                },
                "yaxis7": {
                  "anchor": "x7",
                  "domain": [
                    0,
                    1
                  ],
                  "matches": "y",
                  "showticklabels": false
                },
                "yaxis8": {
                  "anchor": "x8",
                  "domain": [
                    0,
                    1
                  ],
                  "matches": "y",
                  "showticklabels": false
                },
                "yaxis9": {
                  "anchor": "x9",
                  "domain": [
                    0,
                    1
                  ],
                  "matches": "y",
                  "showticklabels": false
                }
              }
            }
          },
          "metadata": {},
          "output_type": "display_data"
        }
      ],
      "source": [
        "optuna.visualization.plot_slice(study)"
      ]
    },
    {
      "cell_type": "code",
      "execution_count": 35,
      "metadata": {},
      "outputs": [
        {
          "data": {
            "application/vnd.plotly.v1+json": {
              "config": {
                "plotlyServerURL": "https://plot.ly"
              },
              "data": [
                {
                  "dimensions": [
                    {
                      "label": "Objective Value",
                      "range": [
                        0.16654140134709214,
                        0.4063894041900109
                      ],
                      "values": [
                        0.3572779911899417,
                        0.2968716404414364,
                        0.4063894041900109,
                        0.3141354334859258,
                        0.3632066189980679,
                        0.30215975412432433,
                        0.2451160974294664,
                        0.22404912349914283,
                        0.32982929103927316,
                        0.27072934424468825,
                        0.1992711455501709,
                        0.18813165505945814,
                        0.17650768936239986,
                        0.1784386673967119,
                        0.17973428718425263,
                        0.2539904924173165,
                        0.20131758852177853,
                        0.2535352304886874,
                        0.18247915158151953,
                        0.24484391390868115,
                        0.2152704273212156,
                        0.18218803727686803,
                        0.17052651881609132,
                        0.17587486707222874,
                        0.2191006832575116,
                        0.25518220985812745,
                        0.22821975364212505,
                        0.1800204670484337,
                        0.1917209408392897,
                        0.2735722312276775,
                        0.24713962261948183,
                        0.20478924618861746,
                        0.17294585076148886,
                        0.20747095361626464,
                        0.23289745049290453,
                        0.20074409082476,
                        0.1914486215443846,
                        0.37049008438150205,
                        0.2525560319383888,
                        0.29721767575702135,
                        0.1871791133324779,
                        0.17306390847537623,
                        0.2192021255884639,
                        0.19360371869638307,
                        0.16979162541126505,
                        0.21304248953466995,
                        0.17000659124691195,
                        0.18816260415358618,
                        0.22548689856924073,
                        0.19081066492673826,
                        0.18045213147602845,
                        0.16968753343369225,
                        0.20969079968585175,
                        0.17627249503197312,
                        0.17245582222820482,
                        0.18533071929012335,
                        0.2313647783514183,
                        0.20263268878647797,
                        0.1706432691543564,
                        0.1862322984733127,
                        0.21864603356420587,
                        0.17227248188856512,
                        0.18403502569579103,
                        0.19991618549280868,
                        0.16654140134709214,
                        0.18139455786124653,
                        0.1766301259463318,
                        0.20792186978118074,
                        0.19508415407422056,
                        0.24295639982525857,
                        0.1839962664510178,
                        0.17843915859476758,
                        0.17395504135549872,
                        0.1943695511684377,
                        0.18075846653161995,
                        0.18045370446320613,
                        0.21217044931111997,
                        0.20305865441389648,
                        0.19085082695270636,
                        0.17432201837130198,
                        0.18154360123740845,
                        0.1913249312547146,
                        0.1708672267315151,
                        0.17595643495036392,
                        0.20447800912915665,
                        0.1911805788466989,
                        0.22439081970035005,
                        0.1692584678467158,
                        0.17764133421802203,
                        0.20564786300437574,
                        0.18518857639835304,
                        0.17206333262424695,
                        0.1730743457281366,
                        0.19615006810385213,
                        0.1835126384902786,
                        0.17963324384521237,
                        0.20533608960013916,
                        0.18447815532905718,
                        0.1909702179776083,
                        0.18258886042192285
                      ]
                    },
                    {
                      "label": "colsample_bytree",
                      "range": [
                        0.5024553473237572,
                        0.9995151830666591
                      ],
                      "values": [
                        0.7232432783522456,
                        0.5024553473237572,
                        0.7164432822505623,
                        0.9581560026003266,
                        0.820061263708334,
                        0.9714065958165197,
                        0.7018235803746387,
                        0.7839724563638197,
                        0.9036772029943358,
                        0.8586897427032374,
                        0.7976919349400317,
                        0.7941102001731302,
                        0.8128915946638112,
                        0.8762952997753726,
                        0.8946071583004627,
                        0.8750204955452453,
                        0.9875911277813597,
                        0.9190347089755415,
                        0.838079195139861,
                        0.9392014304674817,
                        0.9962142773471476,
                        0.8857696520318448,
                        0.9089287108071651,
                        0.9317786975836686,
                        0.9416404342700473,
                        0.9299294455209336,
                        0.8447167137150223,
                        0.9120586535307761,
                        0.9625604139759436,
                        0.752365155834171,
                        0.9995151830666591,
                        0.8719889377880865,
                        0.8581703667852264,
                        0.8390794980384757,
                        0.9105294052188572,
                        0.8212029020620618,
                        0.9572643524216234,
                        0.8642816565862265,
                        0.6806094609646027,
                        0.9351414316859271,
                        0.8927988709747254,
                        0.8705933104905998,
                        0.8537112736214537,
                        0.8109021505750149,
                        0.9083285020414454,
                        0.9670329787031005,
                        0.9029161248635713,
                        0.9021994336119613,
                        0.8898682194114715,
                        0.8658620077598439,
                        0.9074257081700337,
                        0.9222016582302344,
                        0.951538055416045,
                        0.9242991012284568,
                        0.8834378859398088,
                        0.9815958320520647,
                        0.8936069378947231,
                        0.9195314595345869,
                        0.9481892471940455,
                        0.9805931405498758,
                        0.9438417217298442,
                        0.946890869798238,
                        0.9662044080505818,
                        0.9405988159197748,
                        0.922365026542454,
                        0.9214314865296545,
                        0.9540796277752251,
                        0.9785887842959977,
                        0.9070884646320887,
                        0.947142199036127,
                        0.9281693697439789,
                        0.8804640317900134,
                        0.9023922754501156,
                        0.9227092408256508,
                        0.9638030796865704,
                        0.8826091804025304,
                        0.9346935331666184,
                        0.9150353371178611,
                        0.9501420495010037,
                        0.9869474645606553,
                        0.8968133278682877,
                        0.8850471346081481,
                        0.9126701408260187,
                        0.9343808518748095,
                        0.913603231129295,
                        0.9680164116219327,
                        0.8989005478632864,
                        0.9554069258236617,
                        0.9512339691509529,
                        0.9725149873273323,
                        0.9967254947335441,
                        0.9379167485990633,
                        0.9314645948387108,
                        0.9551158849366141,
                        0.9388766132334685,
                        0.918943720582595,
                        0.9102354252848328,
                        0.9437244850136166,
                        0.9575199163917696,
                        0.9270201209327287
                      ]
                    },
                    {
                      "label": "gamma",
                      "range": [
                        0.001724400256375283,
                        0.9538794391253865
                      ],
                      "values": [
                        0.7820056188701995,
                        0.2851120446633152,
                        0.024825391630690308,
                        0.3604339021121514,
                        0.2999571588504917,
                        0.9538794391253865,
                        0.5521994894466232,
                        0.3436943322354089,
                        0.22468641863303918,
                        0.5576892907229951,
                        0.024565739876576287,
                        0.05018785498300607,
                        0.021552148269315684,
                        0.1235856117195911,
                        0.1563548994202253,
                        0.14456171584139133,
                        0.13609972925746566,
                        0.014925557393597048,
                        0.44309484321409415,
                        0.20406662552135818,
                        0.11192902616331503,
                        0.17349791284426774,
                        0.09990820599042395,
                        0.09490210341464737,
                        0.07073438393625445,
                        0.0070319836864917995,
                        0.209797204877541,
                        0.09253512033689626,
                        0.2554095086986143,
                        0.08626021627340111,
                        0.21918154020690772,
                        0.09818519938353716,
                        0.003823984567294769,
                        0.05825161093555268,
                        0.16211798328134872,
                        0.003131578607091537,
                        0.26595186602743215,
                        0.0025545592415711403,
                        0.0790400018057026,
                        0.3061423753047096,
                        0.0472266504236387,
                        0.13384014767024333,
                        0.17858340581239174,
                        0.11701500417401413,
                        0.04582988897979609,
                        0.059221413981762304,
                        0.23492968317337165,
                        0.18157920847508735,
                        0.23110577638755603,
                        0.14179942333400364,
                        0.3381339525790187,
                        0.0463013099893432,
                        0.04239367908363775,
                        0.1307371940083616,
                        0.05085638499235767,
                        0.03939654504497658,
                        0.05046156351752023,
                        0.1000820271297369,
                        0.004306220042302078,
                        0.07284764614557512,
                        0.16856032114113664,
                        0.00490235112723833,
                        0.03489995224502172,
                        0.03426621848703026,
                        0.11076744320759652,
                        0.10756901078499978,
                        0.07819518931023106,
                        0.1293220745788488,
                        0.19423303306870177,
                        0.15175017692632875,
                        0.003719156048140002,
                        0.06962707108183641,
                        0.029143611069481743,
                        0.10495208808143702,
                        0.05962574980746996,
                        0.03038258474459992,
                        0.08462904744640043,
                        0.0035953741102354186,
                        0.15321460879290563,
                        0.08611518337297688,
                        0.12279585573816526,
                        0.001724400256375283,
                        0.028068485774214925,
                        0.06042279291735919,
                        0.04188968124647743,
                        0.02568483585631246,
                        0.10835210710969445,
                        0.06608897531628287,
                        0.19418183336176725,
                        0.08281038664307543,
                        0.024283820066308855,
                        0.05500373193654338,
                        0.06628321327496463,
                        0.12112069961983095,
                        0.020799911106292222,
                        0.09848205849731027,
                        0.142210179981867,
                        0.05133375191964622,
                        0.17034273279317483,
                        0.020886245334289816
                      ]
                    },
                    {
                      "label": "learning_rate",
                      "range": [
                        -1.7337425024884119,
                        -0.8239972782399961
                      ],
                      "ticktext": [
                        "0.0185",
                        "0.1",
                        "0.15"
                      ],
                      "tickvals": [
                        -1.7337425024884119,
                        -1,
                        -0.8239972782399961
                      ],
                      "values": [
                        -1.4633223359817953,
                        -1.1967149350998685,
                        -1.7337425024884119,
                        -1.2848785646767278,
                        -1.51633237176574,
                        -1.2658994786767008,
                        -0.9806343312320401,
                        -1.0044867589698372,
                        -1.3677021535322482,
                        -1.1464445746112555,
                        -0.9187304442566819,
                        -0.8822416825599942,
                        -0.8450379986269342,
                        -0.8542090955275009,
                        -0.8517175859643462,
                        -1.074068463232475,
                        -0.8625898139220339,
                        -1.0898873714018926,
                        -0.8350612127213405,
                        -1.0278454094122405,
                        -0.9786279430902917,
                        -0.8612710508847834,
                        -0.8239972782399961,
                        -0.824855333976858,
                        -0.9644504708309262,
                        -1.0874834265153857,
                        -0.9572105952423261,
                        -0.8263163746958871,
                        -0.9209385223010559,
                        -1.1522342473049598,
                        -1.054224082629951,
                        -0.9355869235934455,
                        -0.8315820553628879,
                        -0.9187684298691229,
                        -1.0363225081231422,
                        -0.9221876264033121,
                        -0.8277973370653857,
                        -1.5302957679460725,
                        -1.0081666538510652,
                        -1.255639668645651,
                        -0.8962948237815739,
                        -0.8318753093427274,
                        -0.9819163163306304,
                        -0.9016712255461767,
                        -0.824049347148632,
                        -0.9465444905146029,
                        -0.8243022248590214,
                        -0.9037810210233592,
                        -1.0014078677310185,
                        -0.8910107211120999,
                        -0.8775617818720558,
                        -0.8350096212344527,
                        -0.9557965550651015,
                        -0.8617255547203853,
                        -0.8241844136640484,
                        -0.8790372834334926,
                        -1.0170318941992316,
                        -0.9455776768929435,
                        -0.8244547948598787,
                        -0.8757135251498355,
                        -0.9811213188348623,
                        -0.8322137936094588,
                        -0.8747754018907016,
                        -0.9226231543185556,
                        -0.8259931759793347,
                        -0.8744268106281005,
                        -0.8595377206125855,
                        -0.9501184797341062,
                        -0.9054251063398004,
                        -1.0623125100725772,
                        -0.8555575357841353,
                        -0.8367546616649006,
                        -0.8273022829813514,
                        -0.9183256052013566,
                        -0.8573686844062093,
                        -0.8253882988854512,
                        -0.9716427717803486,
                        -0.9269619938096214,
                        -0.8926754575153425,
                        -0.8599473777702201,
                        -0.8259602225392314,
                        -0.8987327934321917,
                        -0.8248117005205078,
                        -0.8593347395185098,
                        -0.9354135993843202,
                        -0.8940230850080316,
                        -0.9980773173955908,
                        -0.8252521362138752,
                        -0.8509334284285195,
                        -0.9612501181732894,
                        -0.880837510274477,
                        -0.8447513782356003,
                        -0.8524907306200129,
                        -0.9141262411829777,
                        -0.8847878220765981,
                        -0.8503820415549028,
                        -0.9355131797087821,
                        -0.8457650860455969,
                        -0.8996058062104642,
                        -0.8800872081951868
                      ]
                    },
                    {
                      "label": "max_depth",
                      "range": [
                        4,
                        8
                      ],
                      "values": [
                        6,
                        5,
                        4,
                        6,
                        8,
                        8,
                        4,
                        8,
                        8,
                        7,
                        7,
                        7,
                        7,
                        7,
                        7,
                        6,
                        5,
                        7,
                        6,
                        5,
                        7,
                        7,
                        7,
                        6,
                        6,
                        6,
                        5,
                        6,
                        8,
                        7,
                        6,
                        7,
                        7,
                        6,
                        8,
                        7,
                        5,
                        6,
                        4,
                        8,
                        8,
                        7,
                        7,
                        7,
                        7,
                        6,
                        7,
                        8,
                        7,
                        7,
                        8,
                        7,
                        7,
                        7,
                        7,
                        7,
                        7,
                        8,
                        7,
                        7,
                        7,
                        7,
                        7,
                        7,
                        7,
                        7,
                        8,
                        7,
                        7,
                        7,
                        6,
                        7,
                        7,
                        7,
                        7,
                        6,
                        7,
                        7,
                        7,
                        8,
                        6,
                        7,
                        7,
                        7,
                        7,
                        7,
                        7,
                        7,
                        7,
                        8,
                        7,
                        7,
                        7,
                        7,
                        7,
                        7,
                        7,
                        6,
                        7,
                        7
                      ]
                    },
                    {
                      "label": "min_child_weight",
                      "range": [
                        1,
                        10
                      ],
                      "values": [
                        3,
                        3,
                        1,
                        7,
                        9,
                        1,
                        1,
                        4,
                        3,
                        5,
                        6,
                        6,
                        7,
                        8,
                        9,
                        8,
                        10,
                        7,
                        8,
                        10,
                        7,
                        9,
                        8,
                        8,
                        5,
                        7,
                        8,
                        9,
                        6,
                        10,
                        8,
                        8,
                        7,
                        7,
                        6,
                        7,
                        5,
                        9,
                        6,
                        4,
                        7,
                        8,
                        8,
                        9,
                        7,
                        8,
                        9,
                        10,
                        9,
                        9,
                        7,
                        2,
                        2,
                        2,
                        1,
                        1,
                        2,
                        3,
                        1,
                        1,
                        1,
                        2,
                        2,
                        3,
                        1,
                        2,
                        1,
                        2,
                        4,
                        3,
                        1,
                        1,
                        1,
                        2,
                        1,
                        2,
                        1,
                        3,
                        1,
                        2,
                        4,
                        6,
                        7,
                        8,
                        7,
                        1,
                        5,
                        9,
                        9,
                        9,
                        10,
                        9,
                        10,
                        9,
                        8,
                        9,
                        8,
                        10,
                        9,
                        6
                      ]
                    },
                    {
                      "label": "n_estimators",
                      "range": [
                        100,
                        497
                      ],
                      "values": [
                        433,
                        208,
                        497,
                        307,
                        432,
                        376,
                        179,
                        147,
                        231,
                        208,
                        109,
                        111,
                        103,
                        102,
                        266,
                        100,
                        161,
                        307,
                        258,
                        147,
                        362,
                        262,
                        182,
                        136,
                        189,
                        141,
                        138,
                        177,
                        206,
                        129,
                        232,
                        103,
                        163,
                        168,
                        128,
                        192,
                        226,
                        491,
                        158,
                        130,
                        277,
                        119,
                        334,
                        127,
                        166,
                        197,
                        162,
                        221,
                        172,
                        181,
                        157,
                        154,
                        116,
                        242,
                        151,
                        207,
                        172,
                        156,
                        151,
                        151,
                        190,
                        147,
                        144,
                        180,
                        213,
                        217,
                        202,
                        291,
                        237,
                        398,
                        247,
                        143,
                        182,
                        169,
                        115,
                        149,
                        214,
                        166,
                        139,
                        188,
                        122,
                        160,
                        136,
                        133,
                        151,
                        108,
                        199,
                        323,
                        320,
                        329,
                        356,
                        288,
                        316,
                        290,
                        349,
                        273,
                        371,
                        400,
                        176,
                        124
                      ]
                    },
                    {
                      "label": "reg_alpha",
                      "range": [
                        0.0691006008535463,
                        0.997637527798541
                      ],
                      "values": [
                        0.861480580294872,
                        0.8088761528940739,
                        0.0691006008535463,
                        0.08725497396309922,
                        0.23423063821088308,
                        0.38769361789150913,
                        0.997637527798541,
                        0.4680292032520358,
                        0.5867405278127334,
                        0.1387035254309098,
                        0.5268622595476082,
                        0.5164507224289882,
                        0.6224105316369681,
                        0.6606486087829326,
                        0.6784454645664642,
                        0.6848056388182369,
                        0.38304909649015817,
                        0.6472760485869724,
                        0.76927025016145,
                        0.6119702945621872,
                        0.7512444963489759,
                        0.6899694784695722,
                        0.574226884351171,
                        0.5666853444532641,
                        0.5730701155313802,
                        0.43566025439926115,
                        0.5400071457512323,
                        0.4193245569420897,
                        0.49359082878944005,
                        0.863387764524569,
                        0.3512220648377137,
                        0.5951999858142892,
                        0.6354931310671583,
                        0.5623810408681241,
                        0.6174150588086926,
                        0.49100061772851145,
                        0.7230278155707898,
                        0.8054627721816396,
                        0.3260208294260692,
                        0.6280135740258019,
                        0.4610860927118035,
                        0.6461135083918286,
                        0.5619628047127723,
                        0.6299427591891402,
                        0.5311292520143287,
                        0.5326324560463821,
                        0.4930124679387793,
                        0.4832950654981334,
                        0.5226854737675826,
                        0.435151422041537,
                        0.6687062304395124,
                        0.5802673501172013,
                        0.5857232119459764,
                        0.5425229871541326,
                        0.5083252090413575,
                        0.49542915903669416,
                        0.4600378760615642,
                        0.5948944890516054,
                        0.5424559721434082,
                        0.5201354150513675,
                        0.4573570363176751,
                        0.5562391805222592,
                        0.514301872668812,
                        0.40932975261200566,
                        0.5547194984293299,
                        0.5595853304335913,
                        0.600441264771284,
                        0.5752301850716406,
                        0.5517905160781851,
                        0.68812028284348,
                        0.5956047719161849,
                        0.5080747029698425,
                        0.4800342899270299,
                        0.5329223177760772,
                        0.4973552511482794,
                        0.6138142980868644,
                        0.5466362604011097,
                        0.5768071957827924,
                        0.4537747082010714,
                        0.47836958174941446,
                        0.6484732312110575,
                        0.6169793302813734,
                        0.6397315588310631,
                        0.5212743449955642,
                        0.5668318354156567,
                        0.6539575154007496,
                        0.5839474110540589,
                        0.5455597813910973,
                        0.5427923495673457,
                        0.6323690062429935,
                        0.7075993363236309,
                        0.5132370778161579,
                        0.551200788558419,
                        0.6013565656864742,
                        0.5247040131742498,
                        0.49980866405414176,
                        0.6660415786856632,
                        0.5779839487369527,
                        0.620995830216514,
                        0.5578015793023304
                      ]
                    },
                    {
                      "label": "reg_lambda",
                      "range": [
                        0.03125321357907296,
                        0.996589157794465
                      ],
                      "values": [
                        0.8464343640122108,
                        0.4739212846874783,
                        0.8199790588621075,
                        0.996589157794465,
                        0.11771253491627409,
                        0.6212827812492553,
                        0.8146372141843695,
                        0.6111140415562327,
                        0.040704936452841345,
                        0.19368882153351508,
                        0.430356780094893,
                        0.4282433560145253,
                        0.3405094735460049,
                        0.30903352082269964,
                        0.2744057978197594,
                        0.27809136803228585,
                        0.3180896084728425,
                        0.14427521267345306,
                        0.3462746531691578,
                        0.03125321357907296,
                        0.20999183254928808,
                        0.2937850015540593,
                        0.3838037192866929,
                        0.3731888804620441,
                        0.3908912420069257,
                        0.49553602567530153,
                        0.5539323521459689,
                        0.3544825393147082,
                        0.413705739836453,
                        0.23120505908237846,
                        0.5312194569340334,
                        0.35605426885903385,
                        0.46255675203960367,
                        0.483364169279357,
                        0.4621946197063505,
                        0.38331490271462576,
                        0.4077172326475947,
                        0.5562340941688924,
                        0.47254334639148754,
                        0.6251869533124574,
                        0.3441602792945877,
                        0.25909441801228794,
                        0.25852260840305796,
                        0.18263885443353864,
                        0.2534332876605182,
                        0.10079734314933647,
                        0.24449822534085386,
                        0.22943638396253488,
                        0.25742637481140784,
                        0.17178495528672189,
                        0.3007980772470547,
                        0.2442312713646853,
                        0.10088511593216937,
                        0.243168833692949,
                        0.2093802387149693,
                        0.14547263178942083,
                        0.20675400194772198,
                        0.29111718786939034,
                        0.2034446286611162,
                        0.06708037154776902,
                        0.15958441776934712,
                        0.20037127661647886,
                        0.21431693137116595,
                        0.13882041412987753,
                        0.19631812640892668,
                        0.18097134067082332,
                        0.2783776741576162,
                        0.3048579675362524,
                        0.12205561353019144,
                        0.3186967311358301,
                        0.2331336870080169,
                        0.200606119899838,
                        0.18992153162406042,
                        0.16384077879643766,
                        0.23144578783093223,
                        0.27476233639860337,
                        0.19727280000397032,
                        0.2573214515369483,
                        0.2169502226838635,
                        0.3306048513364538,
                        0.3290529762580402,
                        0.4365052398555132,
                        0.24439149257426176,
                        0.24743043191568687,
                        0.16901342057999164,
                        0.28475191795911337,
                        0.2140409235009205,
                        0.37392588435545293,
                        0.3774473837281159,
                        0.35422059372398695,
                        0.3049806175685144,
                        0.2595541053178117,
                        0.2615036487123678,
                        0.24338801683510583,
                        0.31854502482681046,
                        0.28030294638461534,
                        0.18607192226259625,
                        0.36275145733278263,
                        0.2923737228457289,
                        0.23432837140107377
                      ]
                    },
                    {
                      "label": "subsample",
                      "range": [
                        0.5001618367412285,
                        0.9828483344421903
                      ],
                      "values": [
                        0.780284685608511,
                        0.9805927816599106,
                        0.9828483344421903,
                        0.8936714123808509,
                        0.6399100301209573,
                        0.6709611326151395,
                        0.930378328422452,
                        0.6047265254637626,
                        0.9325577173752707,
                        0.5785616872836423,
                        0.5052576197163372,
                        0.5011413020318279,
                        0.5025383648882813,
                        0.5039673647126456,
                        0.564706298525817,
                        0.7023465300631857,
                        0.5461462040459921,
                        0.6122389348499261,
                        0.5422768642285516,
                        0.5053238740937961,
                        0.7259271269245178,
                        0.5610488414557491,
                        0.5830856050299802,
                        0.6288682965140983,
                        0.6014129400304236,
                        0.6389644630851966,
                        0.6333564338125984,
                        0.581050740582228,
                        0.5391290343508071,
                        0.7620898892824702,
                        0.6848533738693409,
                        0.5314650078006751,
                        0.5315378701988168,
                        0.5826674618916541,
                        0.5365777677350299,
                        0.6137818650555922,
                        0.8019066066739116,
                        0.6590471769698945,
                        0.5675323683953254,
                        0.5885734555887686,
                        0.620314785094831,
                        0.5226169244016934,
                        0.5184225489867551,
                        0.5566994384058774,
                        0.5252741762171359,
                        0.5282140752338699,
                        0.5913223123392201,
                        0.5908875319171222,
                        0.5573718651556935,
                        0.5723470531847182,
                        0.5194003446560315,
                        0.5979133380246164,
                        0.5477840171415749,
                        0.5995146912352737,
                        0.5219592810461952,
                        0.5728700029581627,
                        0.5001618367412285,
                        0.5456475250431001,
                        0.6513802798923535,
                        0.6528409760726366,
                        0.5968654864619747,
                        0.5646283266068467,
                        0.6188552143077666,
                        0.6072417997400679,
                        0.5657997633754099,
                        0.5803125624852546,
                        0.633978752904609,
                        0.5551696418118531,
                        0.5652043549785312,
                        0.5964942408480791,
                        0.6478652918847985,
                        0.5475315401851787,
                        0.5813290844547896,
                        0.5142493349449397,
                        0.624476100858691,
                        0.5675554252591019,
                        0.5373226489235151,
                        0.6049402875558257,
                        0.58394132690741,
                        0.5322077545724072,
                        0.5586316430388927,
                        0.5153241993539336,
                        0.5340973844922045,
                        0.5736498952339472,
                        0.5512050321194263,
                        0.5272420963383105,
                        0.5420806292144307,
                        0.6132242718836096,
                        0.6109894387370174,
                        0.5911799191699552,
                        0.5890814211732037,
                        0.628554868405183,
                        0.6330570487205518,
                        0.6197496621005206,
                        0.648055581479779,
                        0.6694750596498359,
                        0.6125764710575062,
                        0.5985725880684742,
                        0.5649961336747431,
                        0.623992392325928
                      ]
                    }
                  ],
                  "labelangle": 30,
                  "labelside": "bottom",
                  "line": {
                    "color": [
                      0.3572779911899417,
                      0.2968716404414364,
                      0.4063894041900109,
                      0.3141354334859258,
                      0.3632066189980679,
                      0.30215975412432433,
                      0.2451160974294664,
                      0.22404912349914283,
                      0.32982929103927316,
                      0.27072934424468825,
                      0.1992711455501709,
                      0.18813165505945814,
                      0.17650768936239986,
                      0.1784386673967119,
                      0.17973428718425263,
                      0.2539904924173165,
                      0.20131758852177853,
                      0.2535352304886874,
                      0.18247915158151953,
                      0.24484391390868115,
                      0.2152704273212156,
                      0.18218803727686803,
                      0.17052651881609132,
                      0.17587486707222874,
                      0.2191006832575116,
                      0.25518220985812745,
                      0.22821975364212505,
                      0.1800204670484337,
                      0.1917209408392897,
                      0.2735722312276775,
                      0.24713962261948183,
                      0.20478924618861746,
                      0.17294585076148886,
                      0.20747095361626464,
                      0.23289745049290453,
                      0.20074409082476,
                      0.1914486215443846,
                      0.37049008438150205,
                      0.2525560319383888,
                      0.29721767575702135,
                      0.1871791133324779,
                      0.17306390847537623,
                      0.2192021255884639,
                      0.19360371869638307,
                      0.16979162541126505,
                      0.21304248953466995,
                      0.17000659124691195,
                      0.18816260415358618,
                      0.22548689856924073,
                      0.19081066492673826,
                      0.18045213147602845,
                      0.16968753343369225,
                      0.20969079968585175,
                      0.17627249503197312,
                      0.17245582222820482,
                      0.18533071929012335,
                      0.2313647783514183,
                      0.20263268878647797,
                      0.1706432691543564,
                      0.1862322984733127,
                      0.21864603356420587,
                      0.17227248188856512,
                      0.18403502569579103,
                      0.19991618549280868,
                      0.16654140134709214,
                      0.18139455786124653,
                      0.1766301259463318,
                      0.20792186978118074,
                      0.19508415407422056,
                      0.24295639982525857,
                      0.1839962664510178,
                      0.17843915859476758,
                      0.17395504135549872,
                      0.1943695511684377,
                      0.18075846653161995,
                      0.18045370446320613,
                      0.21217044931111997,
                      0.20305865441389648,
                      0.19085082695270636,
                      0.17432201837130198,
                      0.18154360123740845,
                      0.1913249312547146,
                      0.1708672267315151,
                      0.17595643495036392,
                      0.20447800912915665,
                      0.1911805788466989,
                      0.22439081970035005,
                      0.1692584678467158,
                      0.17764133421802203,
                      0.20564786300437574,
                      0.18518857639835304,
                      0.17206333262424695,
                      0.1730743457281366,
                      0.19615006810385213,
                      0.1835126384902786,
                      0.17963324384521237,
                      0.20533608960013916,
                      0.18447815532905718,
                      0.1909702179776083,
                      0.18258886042192285
                    ],
                    "colorbar": {
                      "title": {
                        "text": "Objective Value"
                      }
                    },
                    "colorscale": [
                      [
                        0,
                        "rgb(247,251,255)"
                      ],
                      [
                        0.125,
                        "rgb(222,235,247)"
                      ],
                      [
                        0.25,
                        "rgb(198,219,239)"
                      ],
                      [
                        0.375,
                        "rgb(158,202,225)"
                      ],
                      [
                        0.5,
                        "rgb(107,174,214)"
                      ],
                      [
                        0.625,
                        "rgb(66,146,198)"
                      ],
                      [
                        0.75,
                        "rgb(33,113,181)"
                      ],
                      [
                        0.875,
                        "rgb(8,81,156)"
                      ],
                      [
                        1,
                        "rgb(8,48,107)"
                      ]
                    ],
                    "reversescale": true,
                    "showscale": true
                  },
                  "type": "parcoords"
                }
              ],
              "layout": {
                "template": {
                  "data": {
                    "bar": [
                      {
                        "error_x": {
                          "color": "#2a3f5f"
                        },
                        "error_y": {
                          "color": "#2a3f5f"
                        },
                        "marker": {
                          "line": {
                            "color": "#E5ECF6",
                            "width": 0.5
                          },
                          "pattern": {
                            "fillmode": "overlay",
                            "size": 10,
                            "solidity": 0.2
                          }
                        },
                        "type": "bar"
                      }
                    ],
                    "barpolar": [
                      {
                        "marker": {
                          "line": {
                            "color": "#E5ECF6",
                            "width": 0.5
                          },
                          "pattern": {
                            "fillmode": "overlay",
                            "size": 10,
                            "solidity": 0.2
                          }
                        },
                        "type": "barpolar"
                      }
                    ],
                    "carpet": [
                      {
                        "aaxis": {
                          "endlinecolor": "#2a3f5f",
                          "gridcolor": "white",
                          "linecolor": "white",
                          "minorgridcolor": "white",
                          "startlinecolor": "#2a3f5f"
                        },
                        "baxis": {
                          "endlinecolor": "#2a3f5f",
                          "gridcolor": "white",
                          "linecolor": "white",
                          "minorgridcolor": "white",
                          "startlinecolor": "#2a3f5f"
                        },
                        "type": "carpet"
                      }
                    ],
                    "choropleth": [
                      {
                        "colorbar": {
                          "outlinewidth": 0,
                          "ticks": ""
                        },
                        "type": "choropleth"
                      }
                    ],
                    "contour": [
                      {
                        "colorbar": {
                          "outlinewidth": 0,
                          "ticks": ""
                        },
                        "colorscale": [
                          [
                            0,
                            "#0d0887"
                          ],
                          [
                            0.1111111111111111,
                            "#46039f"
                          ],
                          [
                            0.2222222222222222,
                            "#7201a8"
                          ],
                          [
                            0.3333333333333333,
                            "#9c179e"
                          ],
                          [
                            0.4444444444444444,
                            "#bd3786"
                          ],
                          [
                            0.5555555555555556,
                            "#d8576b"
                          ],
                          [
                            0.6666666666666666,
                            "#ed7953"
                          ],
                          [
                            0.7777777777777778,
                            "#fb9f3a"
                          ],
                          [
                            0.8888888888888888,
                            "#fdca26"
                          ],
                          [
                            1,
                            "#f0f921"
                          ]
                        ],
                        "type": "contour"
                      }
                    ],
                    "contourcarpet": [
                      {
                        "colorbar": {
                          "outlinewidth": 0,
                          "ticks": ""
                        },
                        "type": "contourcarpet"
                      }
                    ],
                    "heatmap": [
                      {
                        "colorbar": {
                          "outlinewidth": 0,
                          "ticks": ""
                        },
                        "colorscale": [
                          [
                            0,
                            "#0d0887"
                          ],
                          [
                            0.1111111111111111,
                            "#46039f"
                          ],
                          [
                            0.2222222222222222,
                            "#7201a8"
                          ],
                          [
                            0.3333333333333333,
                            "#9c179e"
                          ],
                          [
                            0.4444444444444444,
                            "#bd3786"
                          ],
                          [
                            0.5555555555555556,
                            "#d8576b"
                          ],
                          [
                            0.6666666666666666,
                            "#ed7953"
                          ],
                          [
                            0.7777777777777778,
                            "#fb9f3a"
                          ],
                          [
                            0.8888888888888888,
                            "#fdca26"
                          ],
                          [
                            1,
                            "#f0f921"
                          ]
                        ],
                        "type": "heatmap"
                      }
                    ],
                    "heatmapgl": [
                      {
                        "colorbar": {
                          "outlinewidth": 0,
                          "ticks": ""
                        },
                        "colorscale": [
                          [
                            0,
                            "#0d0887"
                          ],
                          [
                            0.1111111111111111,
                            "#46039f"
                          ],
                          [
                            0.2222222222222222,
                            "#7201a8"
                          ],
                          [
                            0.3333333333333333,
                            "#9c179e"
                          ],
                          [
                            0.4444444444444444,
                            "#bd3786"
                          ],
                          [
                            0.5555555555555556,
                            "#d8576b"
                          ],
                          [
                            0.6666666666666666,
                            "#ed7953"
                          ],
                          [
                            0.7777777777777778,
                            "#fb9f3a"
                          ],
                          [
                            0.8888888888888888,
                            "#fdca26"
                          ],
                          [
                            1,
                            "#f0f921"
                          ]
                        ],
                        "type": "heatmapgl"
                      }
                    ],
                    "histogram": [
                      {
                        "marker": {
                          "pattern": {
                            "fillmode": "overlay",
                            "size": 10,
                            "solidity": 0.2
                          }
                        },
                        "type": "histogram"
                      }
                    ],
                    "histogram2d": [
                      {
                        "colorbar": {
                          "outlinewidth": 0,
                          "ticks": ""
                        },
                        "colorscale": [
                          [
                            0,
                            "#0d0887"
                          ],
                          [
                            0.1111111111111111,
                            "#46039f"
                          ],
                          [
                            0.2222222222222222,
                            "#7201a8"
                          ],
                          [
                            0.3333333333333333,
                            "#9c179e"
                          ],
                          [
                            0.4444444444444444,
                            "#bd3786"
                          ],
                          [
                            0.5555555555555556,
                            "#d8576b"
                          ],
                          [
                            0.6666666666666666,
                            "#ed7953"
                          ],
                          [
                            0.7777777777777778,
                            "#fb9f3a"
                          ],
                          [
                            0.8888888888888888,
                            "#fdca26"
                          ],
                          [
                            1,
                            "#f0f921"
                          ]
                        ],
                        "type": "histogram2d"
                      }
                    ],
                    "histogram2dcontour": [
                      {
                        "colorbar": {
                          "outlinewidth": 0,
                          "ticks": ""
                        },
                        "colorscale": [
                          [
                            0,
                            "#0d0887"
                          ],
                          [
                            0.1111111111111111,
                            "#46039f"
                          ],
                          [
                            0.2222222222222222,
                            "#7201a8"
                          ],
                          [
                            0.3333333333333333,
                            "#9c179e"
                          ],
                          [
                            0.4444444444444444,
                            "#bd3786"
                          ],
                          [
                            0.5555555555555556,
                            "#d8576b"
                          ],
                          [
                            0.6666666666666666,
                            "#ed7953"
                          ],
                          [
                            0.7777777777777778,
                            "#fb9f3a"
                          ],
                          [
                            0.8888888888888888,
                            "#fdca26"
                          ],
                          [
                            1,
                            "#f0f921"
                          ]
                        ],
                        "type": "histogram2dcontour"
                      }
                    ],
                    "mesh3d": [
                      {
                        "colorbar": {
                          "outlinewidth": 0,
                          "ticks": ""
                        },
                        "type": "mesh3d"
                      }
                    ],
                    "parcoords": [
                      {
                        "line": {
                          "colorbar": {
                            "outlinewidth": 0,
                            "ticks": ""
                          }
                        },
                        "type": "parcoords"
                      }
                    ],
                    "pie": [
                      {
                        "automargin": true,
                        "type": "pie"
                      }
                    ],
                    "scatter": [
                      {
                        "fillpattern": {
                          "fillmode": "overlay",
                          "size": 10,
                          "solidity": 0.2
                        },
                        "type": "scatter"
                      }
                    ],
                    "scatter3d": [
                      {
                        "line": {
                          "colorbar": {
                            "outlinewidth": 0,
                            "ticks": ""
                          }
                        },
                        "marker": {
                          "colorbar": {
                            "outlinewidth": 0,
                            "ticks": ""
                          }
                        },
                        "type": "scatter3d"
                      }
                    ],
                    "scattercarpet": [
                      {
                        "marker": {
                          "colorbar": {
                            "outlinewidth": 0,
                            "ticks": ""
                          }
                        },
                        "type": "scattercarpet"
                      }
                    ],
                    "scattergeo": [
                      {
                        "marker": {
                          "colorbar": {
                            "outlinewidth": 0,
                            "ticks": ""
                          }
                        },
                        "type": "scattergeo"
                      }
                    ],
                    "scattergl": [
                      {
                        "marker": {
                          "colorbar": {
                            "outlinewidth": 0,
                            "ticks": ""
                          }
                        },
                        "type": "scattergl"
                      }
                    ],
                    "scattermapbox": [
                      {
                        "marker": {
                          "colorbar": {
                            "outlinewidth": 0,
                            "ticks": ""
                          }
                        },
                        "type": "scattermapbox"
                      }
                    ],
                    "scatterpolar": [
                      {
                        "marker": {
                          "colorbar": {
                            "outlinewidth": 0,
                            "ticks": ""
                          }
                        },
                        "type": "scatterpolar"
                      }
                    ],
                    "scatterpolargl": [
                      {
                        "marker": {
                          "colorbar": {
                            "outlinewidth": 0,
                            "ticks": ""
                          }
                        },
                        "type": "scatterpolargl"
                      }
                    ],
                    "scatterternary": [
                      {
                        "marker": {
                          "colorbar": {
                            "outlinewidth": 0,
                            "ticks": ""
                          }
                        },
                        "type": "scatterternary"
                      }
                    ],
                    "surface": [
                      {
                        "colorbar": {
                          "outlinewidth": 0,
                          "ticks": ""
                        },
                        "colorscale": [
                          [
                            0,
                            "#0d0887"
                          ],
                          [
                            0.1111111111111111,
                            "#46039f"
                          ],
                          [
                            0.2222222222222222,
                            "#7201a8"
                          ],
                          [
                            0.3333333333333333,
                            "#9c179e"
                          ],
                          [
                            0.4444444444444444,
                            "#bd3786"
                          ],
                          [
                            0.5555555555555556,
                            "#d8576b"
                          ],
                          [
                            0.6666666666666666,
                            "#ed7953"
                          ],
                          [
                            0.7777777777777778,
                            "#fb9f3a"
                          ],
                          [
                            0.8888888888888888,
                            "#fdca26"
                          ],
                          [
                            1,
                            "#f0f921"
                          ]
                        ],
                        "type": "surface"
                      }
                    ],
                    "table": [
                      {
                        "cells": {
                          "fill": {
                            "color": "#EBF0F8"
                          },
                          "line": {
                            "color": "white"
                          }
                        },
                        "header": {
                          "fill": {
                            "color": "#C8D4E3"
                          },
                          "line": {
                            "color": "white"
                          }
                        },
                        "type": "table"
                      }
                    ]
                  },
                  "layout": {
                    "annotationdefaults": {
                      "arrowcolor": "#2a3f5f",
                      "arrowhead": 0,
                      "arrowwidth": 1
                    },
                    "autotypenumbers": "strict",
                    "coloraxis": {
                      "colorbar": {
                        "outlinewidth": 0,
                        "ticks": ""
                      }
                    },
                    "colorscale": {
                      "diverging": [
                        [
                          0,
                          "#8e0152"
                        ],
                        [
                          0.1,
                          "#c51b7d"
                        ],
                        [
                          0.2,
                          "#de77ae"
                        ],
                        [
                          0.3,
                          "#f1b6da"
                        ],
                        [
                          0.4,
                          "#fde0ef"
                        ],
                        [
                          0.5,
                          "#f7f7f7"
                        ],
                        [
                          0.6,
                          "#e6f5d0"
                        ],
                        [
                          0.7,
                          "#b8e186"
                        ],
                        [
                          0.8,
                          "#7fbc41"
                        ],
                        [
                          0.9,
                          "#4d9221"
                        ],
                        [
                          1,
                          "#276419"
                        ]
                      ],
                      "sequential": [
                        [
                          0,
                          "#0d0887"
                        ],
                        [
                          0.1111111111111111,
                          "#46039f"
                        ],
                        [
                          0.2222222222222222,
                          "#7201a8"
                        ],
                        [
                          0.3333333333333333,
                          "#9c179e"
                        ],
                        [
                          0.4444444444444444,
                          "#bd3786"
                        ],
                        [
                          0.5555555555555556,
                          "#d8576b"
                        ],
                        [
                          0.6666666666666666,
                          "#ed7953"
                        ],
                        [
                          0.7777777777777778,
                          "#fb9f3a"
                        ],
                        [
                          0.8888888888888888,
                          "#fdca26"
                        ],
                        [
                          1,
                          "#f0f921"
                        ]
                      ],
                      "sequentialminus": [
                        [
                          0,
                          "#0d0887"
                        ],
                        [
                          0.1111111111111111,
                          "#46039f"
                        ],
                        [
                          0.2222222222222222,
                          "#7201a8"
                        ],
                        [
                          0.3333333333333333,
                          "#9c179e"
                        ],
                        [
                          0.4444444444444444,
                          "#bd3786"
                        ],
                        [
                          0.5555555555555556,
                          "#d8576b"
                        ],
                        [
                          0.6666666666666666,
                          "#ed7953"
                        ],
                        [
                          0.7777777777777778,
                          "#fb9f3a"
                        ],
                        [
                          0.8888888888888888,
                          "#fdca26"
                        ],
                        [
                          1,
                          "#f0f921"
                        ]
                      ]
                    },
                    "colorway": [
                      "#636efa",
                      "#EF553B",
                      "#00cc96",
                      "#ab63fa",
                      "#FFA15A",
                      "#19d3f3",
                      "#FF6692",
                      "#B6E880",
                      "#FF97FF",
                      "#FECB52"
                    ],
                    "font": {
                      "color": "#2a3f5f"
                    },
                    "geo": {
                      "bgcolor": "white",
                      "lakecolor": "white",
                      "landcolor": "#E5ECF6",
                      "showlakes": true,
                      "showland": true,
                      "subunitcolor": "white"
                    },
                    "hoverlabel": {
                      "align": "left"
                    },
                    "hovermode": "closest",
                    "mapbox": {
                      "style": "light"
                    },
                    "paper_bgcolor": "white",
                    "plot_bgcolor": "#E5ECF6",
                    "polar": {
                      "angularaxis": {
                        "gridcolor": "white",
                        "linecolor": "white",
                        "ticks": ""
                      },
                      "bgcolor": "#E5ECF6",
                      "radialaxis": {
                        "gridcolor": "white",
                        "linecolor": "white",
                        "ticks": ""
                      }
                    },
                    "scene": {
                      "xaxis": {
                        "backgroundcolor": "#E5ECF6",
                        "gridcolor": "white",
                        "gridwidth": 2,
                        "linecolor": "white",
                        "showbackground": true,
                        "ticks": "",
                        "zerolinecolor": "white"
                      },
                      "yaxis": {
                        "backgroundcolor": "#E5ECF6",
                        "gridcolor": "white",
                        "gridwidth": 2,
                        "linecolor": "white",
                        "showbackground": true,
                        "ticks": "",
                        "zerolinecolor": "white"
                      },
                      "zaxis": {
                        "backgroundcolor": "#E5ECF6",
                        "gridcolor": "white",
                        "gridwidth": 2,
                        "linecolor": "white",
                        "showbackground": true,
                        "ticks": "",
                        "zerolinecolor": "white"
                      }
                    },
                    "shapedefaults": {
                      "line": {
                        "color": "#2a3f5f"
                      }
                    },
                    "ternary": {
                      "aaxis": {
                        "gridcolor": "white",
                        "linecolor": "white",
                        "ticks": ""
                      },
                      "baxis": {
                        "gridcolor": "white",
                        "linecolor": "white",
                        "ticks": ""
                      },
                      "bgcolor": "#E5ECF6",
                      "caxis": {
                        "gridcolor": "white",
                        "linecolor": "white",
                        "ticks": ""
                      }
                    },
                    "title": {
                      "x": 0.05
                    },
                    "xaxis": {
                      "automargin": true,
                      "gridcolor": "white",
                      "linecolor": "white",
                      "ticks": "",
                      "title": {
                        "standoff": 15
                      },
                      "zerolinecolor": "white",
                      "zerolinewidth": 2
                    },
                    "yaxis": {
                      "automargin": true,
                      "gridcolor": "white",
                      "linecolor": "white",
                      "ticks": "",
                      "title": {
                        "standoff": 15
                      },
                      "zerolinecolor": "white",
                      "zerolinewidth": 2
                    }
                  }
                },
                "title": {
                  "text": "Parallel Coordinate Plot"
                }
              }
            }
          },
          "metadata": {},
          "output_type": "display_data"
        }
      ],
      "source": [
        "optuna.visualization.plot_parallel_coordinate(study)"
      ]
    },
    {
      "cell_type": "code",
      "execution_count": 36,
      "metadata": {},
      "outputs": [
        {
          "data": {
            "image/png": "[encoded data removed]",
            "text/plain": [
              "<Figure size 640x480 with 1 Axes>"
            ]
          },
          "metadata": {},
          "output_type": "display_data"
        }
      ],
      "source": [
        "xgb.plot_importance(model, max_num_features=10, importance_type='gain');"
      ]
    },
    {
      "cell_type": "code",
      "execution_count": 37,
      "metadata": {},
      "outputs": [
        {
          "name": "stdout",
          "output_type": "stream",
          "text": [
            "Train/Test split results:\n",
            "XGBRegressor r2 is 0.897\n",
            "XGBRegressor mean_squared_error is 374546.928\n",
            "XGBRegressor mean_absolute_error is 276.189\n",
            "XGBRegressor mape test is 0.061\n",
            "XGBRegressor mape train is 0.030\n"
          ]
        }
      ],
      "source": [
        "# Make predictions on the test set\n",
        "y_train_pred = model.predict(X_train)\n",
        "y_pred = model.predict(X_test)\n",
        "\n",
        "# Eval Model \n",
        "metrics = compute_metrics(model, y_test, y_pred, y_train, y_train_pred)\n"
      ]
    },
    {
      "cell_type": "code",
      "execution_count": 38,
      "metadata": {},
      "outputs": [],
      "source": [
        "# Save metrics and model parameters in json format\n",
        "metrics_names = ('r2', 'mse', 'mae', 'mape_test', 'mape_train')\n",
        "\n",
        "metrics_dict = {metric_name: metric_value for metric_name, metric_value in zip(metrics_names, metrics)}\n",
        "\n",
        "to_save = {\n",
        "    'model_fit_params': best_params,\n",
        "    'model_params': model.get_params(),\n",
        "    'metrics': metrics_dict\n",
        "    }\n",
        "\n",
        "with open(os.path.join(MODELS_DIR, f'metrics_{model.__class__.__name__}_{round(metrics_dict[\"mape_test\"], 4)}_{datetime.now().strftime(\"%Y-%m-%d_%H-%M-%S\")}.json'), 'w') as f:\n",
        "    json.dump(to_save, f)"
      ]
    },
    {
      "cell_type": "markdown",
      "metadata": {
        "id": "XE-3MgcFDZaX"
      },
      "source": [
        "## KAGGLE SUBMISSION"
      ]
    },
    {
      "cell_type": "code",
      "execution_count": 39,
      "metadata": {
        "id": "Rz2KPtUWFWnx"
      },
      "outputs": [],
      "source": [
        "submission = eval_best_model(model, etl_pipeline, raw_predict_df)\n",
        "\n",
        "submission.to_csv(os.path.join(SUBMISSIONS_DIR, f'submission_{model.__class__.__name__}_{round(metrics_dict[\"mape_test\"], 4)}_{datetime.now().strftime(\"%Y-%m-%d_%H-%M-%S\")}.csv'), index=False)"
      ]
    }
  ],
  "metadata": {
    "colab": {
      "provenance": []
    },
    "kernelspec": {
      "display_name": "Python 3",
      "name": "python3"
    },
    "language_info": {
      "codemirror_mode": {
        "name": "ipython",
        "version": 3
      },
      "file_extension": ".py",
      "mimetype": "text/x-python",
      "name": "python",
      "nbconvert_exporter": "python",
      "pygments_lexer": "ipython3",
      "version": "3.9.6"
    }
  },
  "nbformat": 4,
  "nbformat_minor": 0
}
