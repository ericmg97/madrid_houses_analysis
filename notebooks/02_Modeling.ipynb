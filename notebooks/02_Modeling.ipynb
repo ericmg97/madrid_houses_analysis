{
  "cells": [
    {
      "cell_type": "markdown",
      "metadata": {},
      "source": [
        "# **<center> Madrid Houses: Modeling </center>**\n",
        "![Immune](https://i.imgur.com/0TSSaqL.png)  "
      ]
    },
    {
      "cell_type": "code",
      "execution_count": 30,
      "metadata": {},
      "outputs": [
        {
          "name": "stdout",
          "output_type": "stream",
          "text": [
            "The autoreload extension is already loaded. To reload it, use:\n",
            "  %reload_ext autoreload\n"
          ]
        }
      ],
      "source": [
        "%load_ext autoreload\n",
        "%autoreload 2"
      ]
    },
    {
      "cell_type": "code",
      "execution_count": 31,
      "metadata": {
        "colab": {
          "base_uri": "https://localhost:8080/"
        },
        "id": "Scvw-FZyDjEZ",
        "outputId": "8ea379f8-9617-4f0b-d771-f28c5a58f5f9"
      },
      "outputs": [],
      "source": [
        "import os\n",
        "import pandas as pd\n",
        "import json\n",
        "import pickle\n",
        "import optuna\n",
        "import xgboost as xgb\n",
        "from xgboost  import XGBRegressor\n",
        "from sklearn.compose import ColumnTransformer\n",
        "from sklearn.pipeline import Pipeline, FeatureUnion\n",
        "from sklearn.preprocessing import StandardScaler, OneHotEncoder\n",
        "from sklearn.model_selection import cross_val_score\n",
        "from sklearn.model_selection import train_test_split\n",
        "from paths import RAW_DIR, PROCESSED_DIR, SUBMISSIONS_DIR, MODELS_DIR, METRICS_DIR\n",
        "from functions import compute_metrics, predict_best_model\n",
        "from transformers import ExtractDataNeighborhood, FillNA, RemoveOutliers\n",
        "import warnings\n",
        "from datetime import datetime\n",
        "\n",
        "warnings.filterwarnings('ignore')\n",
        "\n",
        "RANDOM_STATE = 42\n",
        "\n",
        "raw_train_df = pd.read_csv(os.path.join(RAW_DIR, 'train.csv'))\n",
        "raw_predict_df = pd.read_csv(os.path.join(RAW_DIR, 'predict.csv'))"
      ]
    },
    {
      "cell_type": "code",
      "execution_count": 34,
      "metadata": {},
      "outputs": [],
      "source": [
        "# Split the data into train and test\n",
        "X_train, X_test, y_train, y_test = train_test_split(raw_train_df, raw_train_df['buy_price_by_area'], test_size=0.2, random_state=RANDOM_STATE, shuffle=True)"
      ]
    },
    {
      "cell_type": "code",
      "execution_count": 35,
      "metadata": {},
      "outputs": [],
      "source": [
        "# Numerical features\n",
        "numerical_columns = ['sq_mt_built', 'n_rooms', 'n_bathrooms']\n",
        "\n",
        "# Categorical features\n",
        "categorical_columns = ['floor', 'house_type_id', 'energy_certificate']\n",
        "\n",
        "# Features for filling NA with False\n",
        "fill_na_false_columns = [\n",
        "    'has_lift', \n",
        "    'is_new_development', \n",
        "    'has_central_heating', \n",
        "    'has_ac', \n",
        "    'has_parking', \n",
        "    'is_exterior', \n",
        "    'has_garden', \n",
        "    'has_pool', \n",
        "    'has_terrace', \n",
        "    'has_balcony', \n",
        "    'has_storage_room', \n",
        "    'has_green_zones', \n",
        "    'has_fitted_wardrobes']\n",
        "\n",
        "# Features for filling NA with True\n",
        "fill_na_true_columns = [\n",
        "    'is_parking_included_in_price',\n",
        "    'is_renewal_needed',\n",
        "]\n",
        "\n",
        "numeric_etl = ColumnTransformer(\n",
        "    transformers=[\n",
        "        ('remove_outliers', RemoveOutliers(['rent_price']), ['rent_price']),\n",
        "        ('loc_info', ExtractDataNeighborhood(data='numerical'), ['neighborhood_id']),\n",
        "        ('_', 'passthrough', numerical_columns),\n",
        "    ],\n",
        "    remainder='drop')\n",
        "\n",
        "\n",
        "numeric_transformer = Pipeline(steps=[\n",
        "    ('etl', numeric_etl),\n",
        "    ('scaler', StandardScaler())\n",
        "])\n",
        "\n",
        "categorical_etl = ColumnTransformer(\n",
        "    transformers=[\n",
        "        ('loc_info', ExtractDataNeighborhood(data='categorical'), ['neighborhood_id']),\n",
        "        ('cat_bool', FillNA(fill_na_false_columns, type_fill='False'), fill_na_false_columns),\n",
        "        ('cat_bool_2', FillNA(fill_na_true_columns, type_fill='True'), fill_na_true_columns),\n",
        "        ('_', 'passthrough', categorical_columns)\n",
        "    ],\n",
        "    remainder='drop')\n",
        "\n",
        "categorical_transformer = Pipeline(steps=[\n",
        "    ('etl', categorical_etl),\n",
        "    ('onehot', OneHotEncoder(drop='first', handle_unknown='ignore', sparse=False))\n",
        "])\n",
        "\n",
        "etl_pipeline = FeatureUnion(\n",
        "    transformer_list=[\n",
        "        ('numeric', numeric_transformer),\n",
        "        ('categorical', categorical_transformer)\n",
        "    ])"
      ]
    },
    {
      "cell_type": "code",
      "execution_count": 36,
      "metadata": {},
      "outputs": [],
      "source": [
        "# Fit the ETL pipeline\n",
        "etl_pipeline.fit(X_train, y_train)\n",
        "\n",
        "# Transform the train data\n",
        "train_transformed = pd.DataFrame(etl_pipeline.transform(X_train), columns=etl_pipeline.get_feature_names_out())\n",
        "train_transformed['buy_price_by_area'] = y_train.values\n",
        "\n",
        "# Transform the test data\n",
        "test_transformed = pd.DataFrame(etl_pipeline.transform(X_test), columns=etl_pipeline.get_feature_names_out())\n",
        "test_transformed['buy_price_by_area'] = y_test.values\n",
        "\n",
        "# Save train dataset in parquet format\n",
        "train_file_name = f'train_{datetime.now().strftime(\"%Y-%m-%d_%H-%M-%S\")}.parquet'\n",
        "train_file_path = os.path.join(PROCESSED_DIR, train_file_name)\n",
        "train_transformed.to_parquet(train_file_path)\n",
        "\n",
        "# Save test dataset in parquet format\n",
        "test_file_name = f'test_{datetime.now().strftime(\"%Y-%m-%d_%H-%M-%S\")}.parquet'\n",
        "test_file_path = os.path.join(PROCESSED_DIR, test_file_name)\n",
        "test_transformed.to_parquet(test_file_path)"
      ]
    },
    {
      "cell_type": "code",
      "execution_count": 37,
      "metadata": {},
      "outputs": [],
      "source": [
        "# Import the last train and test datasets\n",
        "train_df = pd.read_parquet(train_file_path)\n",
        "test_df = pd.read_parquet(test_file_path)\n",
        "\n",
        "X_train = train_df.drop('buy_price_by_area', axis=1)\n",
        "y_train = train_df['buy_price_by_area']\n",
        "\n",
        "X_test = test_df.drop('buy_price_by_area', axis=1)\n",
        "y_test = test_df['buy_price_by_area']\n",
        "\n",
        "dtrain = xgb.DMatrix(X_train, label=y_train)"
      ]
    },
    {
      "cell_type": "code",
      "execution_count": 54,
      "metadata": {},
      "outputs": [],
      "source": [
        "def objective(trial):\n",
        "    '''\n",
        "    Objective function for the hyperparameter optimization.\n",
        "\n",
        "    Parameters\n",
        "    ----------\n",
        "    trial : optuna.trial.Trial\n",
        "        A trial object to access the hyperparameters to optimize.\n",
        "\n",
        "    Returns\n",
        "    -------\n",
        "    float\n",
        "        The mean of the cross validation scores.\n",
        "    '''\n",
        "    \n",
        "    # Define the hyperparameters to optimize\n",
        "    optimize_params = {\n",
        "        'learning_rate': trial.suggest_float('learning_rate', 0.01, 0.15, log=True),\n",
        "        'importance_type': trial.suggest_categorical('importance_type', ['gain', 'weight', 'cover', 'total_gain', 'total_cover']),\n",
        "        'max_depth': trial.suggest_int('max_depth', 5, 8),\n",
        "        'n_estimators': trial.suggest_int('n_estimators', 100, 500),\n",
        "        'reg_alpha': trial.suggest_float('reg_alpha', 0, 1),\n",
        "        'reg_lambda': trial.suggest_float('reg_lambda', 0, 1),\n",
        "        'subsample': trial.suggest_float('subsample', 0.5, 1.0),\n",
        "        'colsample_bytree': trial.suggest_float('colsample_bytree', 0.5, 1.0),\n",
        "        'gamma': trial.suggest_float('gamma', 0, 1),\n",
        "        'min_child_weight': trial.suggest_int('min_child_weight', 1, 10),\n",
        "    }\n",
        "\n",
        "    fixed_params = {\n",
        "        'booster': 'gbtree',\n",
        "        'n_jobs': -1,\n",
        "        'objective': 'reg:squarederror',\n",
        "        'nfolds': 5,\n",
        "        'eval_metric': 'rmse',\n",
        "        'seed': RANDOM_STATE\n",
        "    }\n",
        "   \n",
        "    # xgbost cross validation\n",
        "    # results = xgb.cv({**optimize_params, **fixed_params}, \n",
        "    #                  dtrain)\n",
        "    \n",
        "    model = XGBRegressor(**{**optimize_params, **fixed_params})\n",
        "\n",
        "    # use sklearn cross validation for negative mape\n",
        "    results = cross_val_score(model, X_train, y_train, scoring='neg_mean_absolute_percentage_error')\n",
        "\n",
        "    return results.mean()"
      ]
    },
    {
      "cell_type": "code",
      "execution_count": 55,
      "metadata": {},
      "outputs": [
        {
          "name": "stderr",
          "output_type": "stream",
          "text": [
            "[I 2023-10-03 17:11:05,435] A new study created in memory with name: xgboost_optimize\n"
          ]
        },
        {
          "data": {
            "application/vnd.jupyter.widget-view+json": {
              "model_id": "911a44bbd6834d4b8e7ed65a9ab8bb47",
              "version_major": 2,
              "version_minor": 0
            },
            "text/plain": [
              "  0%|          | 0/100 [00:00<?, ?it/s]"
            ]
          },
          "metadata": {},
          "output_type": "display_data"
        },
        {
          "name": "stdout",
          "output_type": "stream",
          "text": [
            "[I 2023-10-03 17:11:09,687] Trial 0 finished with value: -0.08112865438379424 and parameters: {'learning_rate': 0.02757359293934948, 'importance_type': 'gain', 'max_depth': 5, 'n_estimators': 447, 'reg_alpha': 0.6011150117432088, 'reg_lambda': 0.7080725777960455, 'subsample': 0.5102922471479012, 'colsample_bytree': 0.9849549260809971, 'gamma': 0.8324426408004217, 'min_child_weight': 3}. Best is trial 0 with value: -0.08112865438379424.\n",
            "[I 2023-10-03 17:11:12,234] Trial 1 finished with value: -0.11061844709684014 and parameters: {'learning_rate': 0.016362239850894633, 'importance_type': 'cover', 'max_depth': 7, 'n_estimators': 155, 'reg_alpha': 0.29214464853521815, 'reg_lambda': 0.3663618432936917, 'subsample': 0.728034992108518, 'colsample_bytree': 0.8925879806965068, 'gamma': 0.19967378215835974, 'min_child_weight': 6}. Best is trial 0 with value: -0.08112865438379424.\n",
            "[I 2023-10-03 17:11:17,597] Trial 2 finished with value: -0.06047573233146104 and parameters: {'learning_rate': 0.049743185797885274, 'importance_type': 'total_cover', 'max_depth': 8, 'n_estimators': 424, 'reg_alpha': 0.3046137691733707, 'reg_lambda': 0.09767211400638387, 'subsample': 0.8421165132560784, 'colsample_bytree': 0.7200762468698007, 'gamma': 0.12203823484477883, 'min_child_weight': 5}. Best is trial 2 with value: -0.06047573233146104.\n",
            "[I 2023-10-03 17:11:20,454] Trial 3 finished with value: -0.13966037100657638 and parameters: {'learning_rate': 0.01097599850212944, 'importance_type': 'gain', 'max_depth': 7, 'n_estimators': 174, 'reg_alpha': 0.9695846277645586, 'reg_lambda': 0.7751328233611146, 'subsample': 0.9697494707820946, 'colsample_bytree': 0.9474136752138245, 'gamma': 0.5978999788110851, 'min_child_weight': 10}. Best is trial 2 with value: -0.06047573233146104.\n",
            "[I 2023-10-03 17:11:24,546] Trial 4 finished with value: -0.08776069009277021 and parameters: {'learning_rate': 0.012707942999213693, 'importance_type': 'total_gain', 'max_depth': 8, 'n_estimators': 243, 'reg_alpha': 0.28093450968738076, 'reg_lambda': 0.5426960831582485, 'subsample': 0.5704621124873813, 'colsample_bytree': 0.9010984903770198, 'gamma': 0.07455064367977082, 'min_child_weight': 10}. Best is trial 2 with value: -0.06047573233146104.\n",
            "[I 2023-10-03 17:11:26,819] Trial 5 finished with value: -0.063121854488823 and parameters: {'learning_rate': 0.08095251075696488, 'importance_type': 'cover', 'max_depth': 8, 'n_estimators': 129, 'reg_alpha': 0.3584657285442726, 'reg_lambda': 0.11586905952512971, 'subsample': 0.9315517129377968, 'colsample_bytree': 0.811649063413779, 'gamma': 0.3308980248526492, 'min_child_weight': 1}. Best is trial 2 with value: -0.06047573233146104.\n",
            "[I 2023-10-03 17:11:30,553] Trial 6 finished with value: -0.09054659796541205 and parameters: {'learning_rate': 0.023213658452816897, 'importance_type': 'total_gain', 'max_depth': 5, 'n_estimators': 386, 'reg_alpha': 0.7607850486168974, 'reg_lambda': 0.5612771975694962, 'subsample': 0.8854835899772805, 'colsample_bytree': 0.7468977981821954, 'gamma': 0.5227328293819941, 'min_child_weight': 5}. Best is trial 2 with value: -0.06047573233146104.\n",
            "[I 2023-10-03 17:11:34,064] Trial 7 finished with value: -0.14345781844615096 and parameters: {'learning_rate': 0.0107126079864151, 'importance_type': 'cover', 'max_depth': 8, 'n_estimators': 199, 'reg_alpha': 0.41038292303562973, 'reg_lambda': 0.7555511385430487, 'subsample': 0.6143990827458112, 'colsample_bytree': 0.5384899549143964, 'gamma': 0.289751452913768, 'min_child_weight': 2}. Best is trial 2 with value: -0.06047573233146104.\n",
            "[I 2023-10-03 17:11:38,114] Trial 8 finished with value: -0.06759093714415214 and parameters: {'learning_rate': 0.12399645883123124, 'importance_type': 'cover', 'max_depth': 8, 'n_estimators': 316, 'reg_alpha': 0.8074401551640625, 'reg_lambda': 0.8960912999234932, 'subsample': 0.6590017374859319, 'colsample_bytree': 0.5550259622638384, 'gamma': 0.22793516254194168, 'min_child_weight': 5}. Best is trial 2 with value: -0.06047573233146104.\n",
            "[I 2023-10-03 17:11:40,406] Trial 9 finished with value: -0.07369356659319123 and parameters: {'learning_rate': 0.0916347113121937, 'importance_type': 'gain', 'max_depth': 5, 'n_estimators': 235, 'reg_alpha': 0.9429097039125192, 'reg_lambda': 0.32320293202075523, 'subsample': 0.7593953108716831, 'colsample_bytree': 0.8515094794475889, 'gamma': 0.363629602379294, 'min_child_weight': 10}. Best is trial 2 with value: -0.06047573233146104.\n",
            "[I 2023-10-03 17:11:45,786] Trial 10 finished with value: -0.06711311304001702 and parameters: {'learning_rate': 0.047607674577667444, 'importance_type': 'total_cover', 'max_depth': 6, 'n_estimators': 480, 'reg_alpha': 0.023930540513680543, 'reg_lambda': 0.038725199961183066, 'subsample': 0.8271882613853767, 'colsample_bytree': 0.6962264460513162, 'gamma': 0.03494275530316397, 'min_child_weight': 7}. Best is trial 2 with value: -0.06047573233146104.\n",
            "[I 2023-10-03 17:11:50,366] Trial 11 finished with value: -0.062001291008263335 and parameters: {'learning_rate': 0.05755120913768578, 'importance_type': 'weight', 'max_depth': 7, 'n_estimators': 320, 'reg_alpha': 0.4818963296633298, 'reg_lambda': 0.02038536220152745, 'subsample': 0.996127180359486, 'colsample_bytree': 0.8029429019098182, 'gamma': 0.006268447165769991, 'min_child_weight': 1}. Best is trial 2 with value: -0.06047573233146104.\n",
            "[I 2023-10-03 17:11:55,266] Trial 12 finished with value: -0.063692238105991 and parameters: {'learning_rate': 0.04877208388287721, 'importance_type': 'weight', 'max_depth': 7, 'n_estimators': 361, 'reg_alpha': 0.5396201068027978, 'reg_lambda': 0.03358588493447201, 'subsample': 0.9929035573243237, 'colsample_bytree': 0.695140379844734, 'gamma': 0.04194523675752124, 'min_child_weight': 3}. Best is trial 2 with value: -0.06047573233146104.\n",
            "[I 2023-10-03 17:11:59,545] Trial 13 finished with value: -0.06714442486146463 and parameters: {'learning_rate': 0.05150450203462761, 'importance_type': 'total_cover', 'max_depth': 6, 'n_estimators': 406, 'reg_alpha': 0.14778644186644474, 'reg_lambda': 0.22397372590468512, 'subsample': 0.8833965408710955, 'colsample_bytree': 0.7620580754828066, 'gamma': 0.013799010346731717, 'min_child_weight': 8}. Best is trial 2 with value: -0.06047573233146104.\n",
            "[I 2023-10-03 17:12:03,833] Trial 14 finished with value: -0.07073697153523176 and parameters: {'learning_rate': 0.033109856581729484, 'importance_type': 'weight', 'max_depth': 7, 'n_estimators': 319, 'reg_alpha': 0.4723219616672016, 'reg_lambda': 0.16605352400294457, 'subsample': 0.9975353002194276, 'colsample_bytree': 0.643954649732532, 'gamma': 0.15396152217986755, 'min_child_weight': 4}. Best is trial 2 with value: -0.06047573233146104.\n",
            "[I 2023-10-03 17:12:08,752] Trial 15 finished with value: -0.06257894439004269 and parameters: {'learning_rate': 0.06347416661720727, 'importance_type': 'total_cover', 'max_depth': 6, 'n_estimators': 431, 'reg_alpha': 0.5724290377806086, 'reg_lambda': 0.008881075897299764, 'subsample': 0.8387046689443073, 'colsample_bytree': 0.808790240578726, 'gamma': 0.14360920334143815, 'min_child_weight': 1}. Best is trial 2 with value: -0.06047573233146104.\n",
            "[I 2023-10-03 17:12:13,535] Trial 16 finished with value: -0.06647607145442115 and parameters: {'learning_rate': 0.03884346305619156, 'importance_type': 'weight', 'max_depth': 8, 'n_estimators': 348, 'reg_alpha': 0.2223463569011278, 'reg_lambda': 0.25148807001829376, 'subsample': 0.9257586930950286, 'colsample_bytree': 0.6157490574574946, 'gamma': 0.3896311863399541, 'min_child_weight': 7}. Best is trial 2 with value: -0.06047573233146104.\n",
            "[I 2023-10-03 17:12:16,640] Trial 17 finished with value: -0.06267931657183709 and parameters: {'learning_rate': 0.14901076463162932, 'importance_type': 'total_cover', 'max_depth': 7, 'n_estimators': 266, 'reg_alpha': 0.37699597076637836, 'reg_lambda': 0.12308552569879086, 'subsample': 0.8020792747505997, 'colsample_bytree': 0.7567718965303698, 'gamma': 0.0034555415288786504, 'min_child_weight': 3}. Best is trial 2 with value: -0.06047573233146104.\n",
            "[I 2023-10-03 17:12:22,362] Trial 18 finished with value: -0.058838788072022676 and parameters: {'learning_rate': 0.07132106172747982, 'importance_type': 'weight', 'max_depth': 8, 'n_estimators': 475, 'reg_alpha': 0.1820316509589816, 'reg_lambda': 0.4102204225893098, 'subsample': 0.9197209310146277, 'colsample_bytree': 0.8202702787093918, 'gamma': 0.14859100232744302, 'min_child_weight': 8}. Best is trial 18 with value: -0.058838788072022676.\n",
            "[I 2023-10-03 17:12:28,221] Trial 19 finished with value: -0.06525357906648217 and parameters: {'learning_rate': 0.07649687185770158, 'importance_type': 'weight', 'max_depth': 8, 'n_estimators': 475, 'reg_alpha': 0.09569931466665646, 'reg_lambda': 0.4090010710703237, 'subsample': 0.8766164152726226, 'colsample_bytree': 0.5058104808137764, 'gamma': 0.2547196294699663, 'min_child_weight': 8}. Best is trial 18 with value: -0.058838788072022676.\n",
            "[I 2023-10-03 17:12:34,598] Trial 20 finished with value: -0.06043644581670782 and parameters: {'learning_rate': 0.039269762701339105, 'importance_type': 'total_cover', 'max_depth': 8, 'n_estimators': 497, 'reg_alpha': 0.16951551149364646, 'reg_lambda': 0.4723627196857372, 'subsample': 0.7800847310887465, 'colsample_bytree': 0.8805991604929908, 'gamma': 0.13073714754988763, 'min_child_weight': 8}. Best is trial 18 with value: -0.058838788072022676.\n",
            "[I 2023-10-03 17:12:41,149] Trial 21 finished with value: -0.06110998303612798 and parameters: {'learning_rate': 0.035927567836576434, 'importance_type': 'total_cover', 'max_depth': 8, 'n_estimators': 498, 'reg_alpha': 0.14797514751946125, 'reg_lambda': 0.5132860126679426, 'subsample': 0.7648597002451788, 'colsample_bytree': 0.8638687768356054, 'gamma': 0.13677960051883234, 'min_child_weight': 8}. Best is trial 18 with value: -0.058838788072022676.\n",
            "[I 2023-10-03 17:12:46,892] Trial 22 finished with value: -0.06121890859999389 and parameters: {'learning_rate': 0.04067920500811874, 'importance_type': 'total_cover', 'max_depth': 8, 'n_estimators': 424, 'reg_alpha': 0.22171104422561153, 'reg_lambda': 0.43757932603457683, 'subsample': 0.7952257992000473, 'colsample_bytree': 0.9316897386942563, 'gamma': 0.12370557453035448, 'min_child_weight': 9}. Best is trial 18 with value: -0.058838788072022676.\n",
            "[I 2023-10-03 17:12:53,088] Trial 23 finished with value: -0.059575909170216226 and parameters: {'learning_rate': 0.06478653521305826, 'importance_type': 'total_cover', 'max_depth': 8, 'n_estimators': 465, 'reg_alpha': 0.04420583478650164, 'reg_lambda': 0.24509422905764774, 'subsample': 0.709049181633085, 'colsample_bytree': 0.8392107436082175, 'gamma': 0.1963288713025199, 'min_child_weight': 6}. Best is trial 18 with value: -0.058838788072022676.\n",
            "[I 2023-10-03 17:12:58,677] Trial 24 finished with value: -0.059435449623036665 and parameters: {'learning_rate': 0.06318145857650602, 'importance_type': 'total_cover', 'max_depth': 8, 'n_estimators': 462, 'reg_alpha': 0.0021391975182198236, 'reg_lambda': 0.30935141676557953, 'subsample': 0.7087683023737443, 'colsample_bytree': 0.8595166451254908, 'gamma': 0.22698477376440862, 'min_child_weight': 7}. Best is trial 18 with value: -0.058838788072022676.\n",
            "[I 2023-10-03 17:13:04,136] Trial 25 finished with value: -0.061599301000005414 and parameters: {'learning_rate': 0.06511890227891415, 'importance_type': 'total_gain', 'max_depth': 7, 'n_estimators': 455, 'reg_alpha': 0.006930248830620968, 'reg_lambda': 0.276529865751239, 'subsample': 0.6745452135367257, 'colsample_bytree': 0.8425233100341705, 'gamma': 0.23391282494445484, 'min_child_weight': 6}. Best is trial 18 with value: -0.058838788072022676.\n",
            "[I 2023-10-03 17:13:08,806] Trial 26 finished with value: -0.06090812845373531 and parameters: {'learning_rate': 0.09547242770363502, 'importance_type': 'weight', 'max_depth': 8, 'n_estimators': 381, 'reg_alpha': 0.06927372473455236, 'reg_lambda': 0.3181371213795404, 'subsample': 0.7285545670206393, 'colsample_bytree': 0.8283474862903881, 'gamma': 0.4176257693089477, 'min_child_weight': 7}. Best is trial 18 with value: -0.058838788072022676.\n",
            "[I 2023-10-03 17:13:13,927] Trial 27 finished with value: -0.0633940200050566 and parameters: {'learning_rate': 0.06721443051347688, 'importance_type': 'total_cover', 'max_depth': 7, 'n_estimators': 468, 'reg_alpha': 0.05806524455317528, 'reg_lambda': 0.2008825321989103, 'subsample': 0.703411309772409, 'colsample_bytree': 0.7912493416550591, 'gamma': 0.21549548359540793, 'min_child_weight': 9}. Best is trial 18 with value: -0.058838788072022676.\n",
            "[I 2023-10-03 17:13:18,635] Trial 28 finished with value: -0.059905045059785014 and parameters: {'learning_rate': 0.1009756492120121, 'importance_type': 'total_cover', 'max_depth': 8, 'n_estimators': 398, 'reg_alpha': 0.002904708954083096, 'reg_lambda': 0.37600092698237686, 'subsample': 0.738083915309763, 'colsample_bytree': 0.8553519284212932, 'gamma': 0.2705800103865266, 'min_child_weight': 6}. Best is trial 18 with value: -0.058838788072022676.\n",
            "[I 2023-10-03 17:13:23,135] Trial 29 finished with value: -0.06536351042433994 and parameters: {'learning_rate': 0.07425234450665037, 'importance_type': 'gain', 'max_depth': 6, 'n_estimators': 441, 'reg_alpha': 0.11891956062116638, 'reg_lambda': 0.28855925874293775, 'subsample': 0.5019385957431147, 'colsample_bytree': 0.976355140568644, 'gamma': 0.4752699277053908, 'min_child_weight': 4}. Best is trial 18 with value: -0.058838788072022676.\n",
            "[I 2023-10-03 17:13:28,952] Trial 30 finished with value: -0.06001952466162715 and parameters: {'learning_rate': 0.05820164916507404, 'importance_type': 'weight', 'max_depth': 8, 'n_estimators': 447, 'reg_alpha': 0.07487372572980822, 'reg_lambda': 0.20915775336569306, 'subsample': 0.6989228711383906, 'colsample_bytree': 0.9182892243894218, 'gamma': 0.30720668784355076, 'min_child_weight': 7}. Best is trial 18 with value: -0.058838788072022676.\n",
            "[I 2023-10-03 17:13:33,948] Trial 31 finished with value: -0.05986419839918633 and parameters: {'learning_rate': 0.09795673834367337, 'importance_type': 'total_cover', 'max_depth': 8, 'n_estimators': 413, 'reg_alpha': 0.032821461541523295, 'reg_lambda': 0.35179369996486404, 'subsample': 0.7408133328558666, 'colsample_bytree': 0.8597539956854516, 'gamma': 0.28929968825819297, 'min_child_weight': 6}. Best is trial 18 with value: -0.058838788072022676.\n",
            "[I 2023-10-03 17:13:39,469] Trial 32 finished with value: -0.05938161408154583 and parameters: {'learning_rate': 0.0826867527622679, 'importance_type': 'total_cover', 'max_depth': 8, 'n_estimators': 457, 'reg_alpha': 0.0023019983921231807, 'reg_lambda': 0.35816522536849704, 'subsample': 0.7500511148004656, 'colsample_bytree': 0.8874571940541562, 'gamma': 0.32374701202820866, 'min_child_weight': 6}. Best is trial 18 with value: -0.058838788072022676.\n",
            "[I 2023-10-03 17:13:44,801] Trial 33 finished with value: -0.061449066679765595 and parameters: {'learning_rate': 0.08107254494022023, 'importance_type': 'total_cover', 'max_depth': 8, 'n_estimators': 462, 'reg_alpha': 0.11314258756758072, 'reg_lambda': 0.38252070994380716, 'subsample': 0.6406089351880104, 'colsample_bytree': 0.8936715020405264, 'gamma': 0.2066796504483277, 'min_child_weight': 9}. Best is trial 18 with value: -0.058838788072022676.\n",
            "[I 2023-10-03 17:13:50,269] Trial 34 finished with value: -0.06098073337438189 and parameters: {'learning_rate': 0.06967074573779337, 'importance_type': 'total_cover', 'max_depth': 7, 'n_estimators': 500, 'reg_alpha': 0.00118055923081685, 'reg_lambda': 0.460432105327042, 'subsample': 0.7226199134607248, 'colsample_bytree': 0.8897194211138154, 'gamma': 0.18317482305857716, 'min_child_weight': 6}. Best is trial 18 with value: -0.058838788072022676.\n",
            "[I 2023-10-03 17:13:55,145] Trial 35 finished with value: -0.05861232664172976 and parameters: {'learning_rate': 0.05800209608301928, 'importance_type': 'gain', 'max_depth': 8, 'n_estimators': 361, 'reg_alpha': 0.1997136349963363, 'reg_lambda': 0.2895555735307262, 'subsample': 0.6951465749853788, 'colsample_bytree': 0.9673445518064642, 'gamma': 0.10054300344795417, 'min_child_weight': 5}. Best is trial 35 with value: -0.05861232664172976.\n",
            "[I 2023-10-03 17:13:59,963] Trial 36 finished with value: -0.05852956836974719 and parameters: {'learning_rate': 0.05772329236336874, 'importance_type': 'gain', 'max_depth': 8, 'n_estimators': 361, 'reg_alpha': 0.2134635526723539, 'reg_lambda': 0.6021630485553857, 'subsample': 0.6781556333209239, 'colsample_bytree': 0.983484396779841, 'gamma': 0.08820405628190904, 'min_child_weight': 4}. Best is trial 36 with value: -0.05852956836974719.\n",
            "[I 2023-10-03 17:14:04,068] Trial 37 finished with value: -0.06278790070698884 and parameters: {'learning_rate': 0.05033874988607919, 'importance_type': 'gain', 'max_depth': 7, 'n_estimators': 344, 'reg_alpha': 0.22546532209734566, 'reg_lambda': 0.5890323605826677, 'subsample': 0.5837550556756891, 'colsample_bytree': 0.9952079071715045, 'gamma': 0.10253838994079667, 'min_child_weight': 4}. Best is trial 36 with value: -0.05852956836974719.\n",
            "[I 2023-10-03 17:14:07,652] Trial 38 finished with value: -0.06021417332838271 and parameters: {'learning_rate': 0.0850549675451589, 'importance_type': 'gain', 'max_depth': 8, 'n_estimators': 271, 'reg_alpha': 0.32171674941154166, 'reg_lambda': 0.6240451889746426, 'subsample': 0.667124604621604, 'colsample_bytree': 0.9764104021195255, 'gamma': 0.0986360269945325, 'min_child_weight': 5}. Best is trial 36 with value: -0.05852956836974719.\n",
            "[I 2023-10-03 17:14:12,623] Trial 39 finished with value: -0.05966261983904122 and parameters: {'learning_rate': 0.10839519518371281, 'importance_type': 'gain', 'max_depth': 8, 'n_estimators': 375, 'reg_alpha': 0.2649266007913729, 'reg_lambda': 0.5074957433548706, 'subsample': 0.5517973584943614, 'colsample_bytree': 0.9513586198938413, 'gamma': 0.07862381492754246, 'min_child_weight': 2}. Best is trial 36 with value: -0.05852956836974719.\n",
            "[I 2023-10-03 17:14:16,620] Trial 40 finished with value: -0.06070613492481116 and parameters: {'learning_rate': 0.07929881404449439, 'importance_type': 'gain', 'max_depth': 8, 'n_estimators': 300, 'reg_alpha': 0.17984979903899584, 'reg_lambda': 0.42564813585250816, 'subsample': 0.6253829349332651, 'colsample_bytree': 0.9468261467351887, 'gamma': 0.0786344929032399, 'min_child_weight': 5}. Best is trial 36 with value: -0.05852956836974719.\n",
            "[I 2023-10-03 17:14:22,416] Trial 41 finished with value: -0.058563535266344224 and parameters: {'learning_rate': 0.05550188563314946, 'importance_type': 'gain', 'max_depth': 8, 'n_estimators': 434, 'reg_alpha': 0.11685329456008374, 'reg_lambda': 0.34926850842051654, 'subsample': 0.6863799774764191, 'colsample_bytree': 0.9109820072266485, 'gamma': 0.1852232757978757, 'min_child_weight': 4}. Best is trial 36 with value: -0.05852956836974719.\n",
            "[I 2023-10-03 17:14:27,852] Trial 42 finished with value: -0.05888731017321781 and parameters: {'learning_rate': 0.05714223810145355, 'importance_type': 'gain', 'max_depth': 8, 'n_estimators': 404, 'reg_alpha': 0.27301515589156633, 'reg_lambda': 0.38264460927299515, 'subsample': 0.6827659472385814, 'colsample_bytree': 0.9283130778839941, 'gamma': 0.1590500112802289, 'min_child_weight': 4}. Best is trial 36 with value: -0.05852956836974719.\n",
            "[I 2023-10-03 17:14:33,230] Trial 43 finished with value: -0.05877608710188927 and parameters: {'learning_rate': 0.05558108419602169, 'importance_type': 'gain', 'max_depth': 8, 'n_estimators': 391, 'reg_alpha': 0.27519715023733937, 'reg_lambda': 0.42064798254768077, 'subsample': 0.6862173866151523, 'colsample_bytree': 0.916708030164482, 'gamma': 0.16787788215075877, 'min_child_weight': 4}. Best is trial 36 with value: -0.05852956836974719.\n",
            "[I 2023-10-03 17:14:38,369] Trial 44 finished with value: -0.0588315664489248 and parameters: {'learning_rate': 0.04493638893674764, 'importance_type': 'gain', 'max_depth': 8, 'n_estimators': 361, 'reg_alpha': 0.3146921205613048, 'reg_lambda': 0.47888306327593044, 'subsample': 0.6530761024973619, 'colsample_bytree': 0.9618617199495848, 'gamma': 0.05649128926085509, 'min_child_weight': 3}. Best is trial 36 with value: -0.05852956836974719.\n",
            "[I 2023-10-03 17:14:41,900] Trial 45 finished with value: -0.0747788227451321 and parameters: {'learning_rate': 0.044107054703721234, 'importance_type': 'gain', 'max_depth': 5, 'n_estimators': 359, 'reg_alpha': 0.33110654080272955, 'reg_lambda': 0.6375216255017149, 'subsample': 0.6517592918214641, 'colsample_bytree': 0.9964589145698454, 'gamma': 0.047702193064534715, 'min_child_weight': 2}. Best is trial 36 with value: -0.05852956836974719.\n",
            "[I 2023-10-03 17:14:46,319] Trial 46 finished with value: -0.06321749692572734 and parameters: {'learning_rate': 0.0444098006509888, 'importance_type': 'gain', 'max_depth': 7, 'n_estimators': 340, 'reg_alpha': 0.28255971723184103, 'reg_lambda': 0.551364910749385, 'subsample': 0.6311811535524895, 'colsample_bytree': 0.9650171191034607, 'gamma': 0.04451898746869632, 'min_child_weight': 3}. Best is trial 36 with value: -0.05852956836974719.\n",
            "[I 2023-10-03 17:14:51,452] Trial 47 finished with value: -0.05912879019454931 and parameters: {'learning_rate': 0.05472667305055291, 'importance_type': 'gain', 'max_depth': 8, 'n_estimators': 376, 'reg_alpha': 0.3569706434072708, 'reg_lambda': 0.4920741839821073, 'subsample': 0.6810372878739804, 'colsample_bytree': 0.9185153597483593, 'gamma': 0.08344397381346262, 'min_child_weight': 3}. Best is trial 36 with value: -0.05852956836974719.\n",
            "[I 2023-10-03 17:14:56,315] Trial 48 finished with value: -0.06478650729551516 and parameters: {'learning_rate': 0.030278503299763376, 'importance_type': 'gain', 'max_depth': 7, 'n_estimators': 393, 'reg_alpha': 0.401130978981291, 'reg_lambda': 0.5339393275144466, 'subsample': 0.6527872675422246, 'colsample_bytree': 0.9616844349242166, 'gamma': 0.17591130179099365, 'min_child_weight': 4}. Best is trial 36 with value: -0.05852956836974719.\n",
            "[I 2023-10-03 17:15:00,979] Trial 49 finished with value: -0.058665219180209484 and parameters: {'learning_rate': 0.04675291936528853, 'importance_type': 'cover', 'max_depth': 8, 'n_estimators': 329, 'reg_alpha': 0.2531135245247745, 'reg_lambda': 0.45911329560383185, 'subsample': 0.6053151134411122, 'colsample_bytree': 0.9797662194579903, 'gamma': 0.05856952814691804, 'min_child_weight': 2}. Best is trial 36 with value: -0.05852956836974719.\n",
            "[I 2023-10-03 17:15:03,131] Trial 50 finished with value: -0.06474693748146398 and parameters: {'learning_rate': 0.056829611125049834, 'importance_type': 'cover', 'max_depth': 8, 'n_estimators': 105, 'reg_alpha': 0.24039632408681946, 'reg_lambda': 0.33874832587354153, 'subsample': 0.6111241866611742, 'colsample_bytree': 0.9927862136915864, 'gamma': 0.012412947842302319, 'min_child_weight': 2}. Best is trial 36 with value: -0.05852956836974719.\n",
            "[I 2023-10-03 17:15:07,401] Trial 51 finished with value: -0.059275965130095365 and parameters: {'learning_rate': 0.04645870109761865, 'importance_type': 'gain', 'max_depth': 8, 'n_estimators': 299, 'reg_alpha': 0.3179302827916015, 'reg_lambda': 0.4601353962584045, 'subsample': 0.6869326141842751, 'colsample_bytree': 0.9729218535976105, 'gamma': 0.06668230157991603, 'min_child_weight': 3}. Best is trial 36 with value: -0.05852956836974719.\n",
            "[I 2023-10-03 17:15:12,458] Trial 52 finished with value: -0.06008198765058661 and parameters: {'learning_rate': 0.05129728795759526, 'importance_type': 'cover', 'max_depth': 8, 'n_estimators': 332, 'reg_alpha': 0.19308236422540004, 'reg_lambda': 0.47658592632164704, 'subsample': 0.6605650879248393, 'colsample_bytree': 0.9424991335389479, 'gamma': 0.11258619470308921, 'min_child_weight': 4}. Best is trial 36 with value: -0.05852956836974719.\n",
            "[I 2023-10-03 17:15:17,538] Trial 53 finished with value: -0.061295211116355074 and parameters: {'learning_rate': 0.04308799006789492, 'importance_type': 'cover', 'max_depth': 8, 'n_estimators': 362, 'reg_alpha': 0.2495383423776874, 'reg_lambda': 0.43624203930294925, 'subsample': 0.613835308512927, 'colsample_bytree': 0.9129987336407704, 'gamma': 0.04791963361895757, 'min_child_weight': 5}. Best is trial 36 with value: -0.05852956836974719.\n",
            "[I 2023-10-03 17:15:22,315] Trial 54 finished with value: -0.059861998683485226 and parameters: {'learning_rate': 0.049689913906326384, 'importance_type': 'gain', 'max_depth': 8, 'n_estimators': 328, 'reg_alpha': 0.2952183734788885, 'reg_lambda': 0.699201129389373, 'subsample': 0.6457345899727329, 'colsample_bytree': 0.9598593467984251, 'gamma': 0.1823430094269149, 'min_child_weight': 4}. Best is trial 36 with value: -0.05852956836974719.\n",
            "[I 2023-10-03 17:15:27,338] Trial 55 finished with value: -0.06059154579188353 and parameters: {'learning_rate': 0.036324219662846303, 'importance_type': 'total_gain', 'max_depth': 8, 'n_estimators': 310, 'reg_alpha': 0.12959605324776383, 'reg_lambda': 0.5380930126737028, 'subsample': 0.689056666417887, 'colsample_bytree': 0.9349770773285585, 'gamma': 0.008642587520274608, 'min_child_weight': 2}. Best is trial 36 with value: -0.05852956836974719.\n",
            "[I 2023-10-03 17:15:31,742] Trial 56 finished with value: -0.06178596966809069 and parameters: {'learning_rate': 0.04526728590288994, 'importance_type': 'gain', 'max_depth': 8, 'n_estimators': 279, 'reg_alpha': 0.21176855770081648, 'reg_lambda': 0.4061105742185367, 'subsample': 0.5916640964444628, 'colsample_bytree': 0.9066751257927856, 'gamma': 0.10726783025901448, 'min_child_weight': 3}. Best is trial 36 with value: -0.05852956836974719.\n",
            "[I 2023-10-03 17:15:37,974] Trial 57 finished with value: -0.05642776884842336 and parameters: {'learning_rate': 0.06094212053452418, 'importance_type': 'cover', 'max_depth': 8, 'n_estimators': 417, 'reg_alpha': 0.19107981686351846, 'reg_lambda': 0.5008778944288846, 'subsample': 0.6617146083773235, 'colsample_bytree': 0.9784723882055074, 'gamma': 0.15247167010421014, 'min_child_weight': 1}. Best is trial 57 with value: -0.05642776884842336.\n",
            "[I 2023-10-03 17:15:44,388] Trial 58 finished with value: -0.0558746512948155 and parameters: {'learning_rate': 0.06080734694051027, 'importance_type': 'cover', 'max_depth': 8, 'n_estimators': 419, 'reg_alpha': 0.17234308458520045, 'reg_lambda': 0.3264251999488965, 'subsample': 0.7242080527634717, 'colsample_bytree': 0.985077136597312, 'gamma': 0.15116883369460515, 'min_child_weight': 1}. Best is trial 58 with value: -0.0558746512948155.\n",
            "[I 2023-10-03 17:15:49,115] Trial 59 finished with value: -0.0621419191370455 and parameters: {'learning_rate': 0.07123650022121385, 'importance_type': 'cover', 'max_depth': 6, 'n_estimators': 415, 'reg_alpha': 0.1512634904452519, 'reg_lambda': 0.3136362685176762, 'subsample': 0.7193253613640564, 'colsample_bytree': 0.9987676021321193, 'gamma': 0.2583346705390247, 'min_child_weight': 1}. Best is trial 58 with value: -0.0558746512948155.\n",
            "[I 2023-10-03 17:15:54,755] Trial 60 finished with value: -0.05850933631345383 and parameters: {'learning_rate': 0.061473306905510956, 'importance_type': 'cover', 'max_depth': 7, 'n_estimators': 430, 'reg_alpha': 0.10037517979252603, 'reg_lambda': 0.3435305745798688, 'subsample': 0.6651908062517307, 'colsample_bytree': 0.9828514659102916, 'gamma': 0.14394201104652876, 'min_child_weight': 1}. Best is trial 58 with value: -0.0558746512948155.\n",
            "[I 2023-10-03 17:16:00,331] Trial 61 finished with value: -0.058453092300592924 and parameters: {'learning_rate': 0.06036889390352868, 'importance_type': 'cover', 'max_depth': 7, 'n_estimators': 433, 'reg_alpha': 0.10234829763087344, 'reg_lambda': 0.2656889748235959, 'subsample': 0.6683453632790268, 'colsample_bytree': 0.9837466659615497, 'gamma': 0.13268820544728668, 'min_child_weight': 1}. Best is trial 58 with value: -0.0558746512948155.\n",
            "[I 2023-10-03 17:16:05,889] Trial 62 finished with value: -0.05889205171808496 and parameters: {'learning_rate': 0.0609011847801037, 'importance_type': 'cover', 'max_depth': 7, 'n_estimators': 428, 'reg_alpha': 0.09328452126683107, 'reg_lambda': 0.27810876295558323, 'subsample': 0.6653686993105152, 'colsample_bytree': 0.9807457303911606, 'gamma': 0.13764586398325976, 'min_child_weight': 1}. Best is trial 58 with value: -0.0558746512948155.\n",
            "[I 2023-10-03 17:16:11,617] Trial 63 finished with value: -0.05904621373077269 and parameters: {'learning_rate': 0.06166974091680947, 'importance_type': 'cover', 'max_depth': 7, 'n_estimators': 434, 'reg_alpha': 0.17209406855392984, 'reg_lambda': 0.23757107311444345, 'subsample': 0.7025619479352992, 'colsample_bytree': 0.9421280458169979, 'gamma': 0.23023318703460838, 'min_child_weight': 1}. Best is trial 58 with value: -0.0558746512948155.\n",
            "[I 2023-10-03 17:16:17,218] Trial 64 finished with value: -0.059090632004804924 and parameters: {'learning_rate': 0.06972514426831576, 'importance_type': 'cover', 'max_depth': 7, 'n_estimators': 418, 'reg_alpha': 0.10330294056911972, 'reg_lambda': 0.17566004169884886, 'subsample': 0.7173561235642475, 'colsample_bytree': 0.9538951114582219, 'gamma': 0.13110345110296834, 'min_child_weight': 1}. Best is trial 58 with value: -0.0558746512948155.\n",
            "[I 2023-10-03 17:16:22,448] Trial 65 finished with value: -0.06326581340568585 and parameters: {'learning_rate': 0.053408277407100434, 'importance_type': 'cover', 'max_depth': 6, 'n_estimators': 441, 'reg_alpha': 0.124714514474582, 'reg_lambda': 0.28735656079535404, 'subsample': 0.6678041394014663, 'colsample_bytree': 0.9800237810936627, 'gamma': 0.1991936123028603, 'min_child_weight': 1}. Best is trial 58 with value: -0.0558746512948155.\n",
            "[I 2023-10-03 17:16:27,881] Trial 66 finished with value: -0.05930108450377157 and parameters: {'learning_rate': 0.06157316183948131, 'importance_type': 'cover', 'max_depth': 7, 'n_estimators': 405, 'reg_alpha': 0.08284634100986206, 'reg_lambda': 0.3140645106698195, 'subsample': 0.6313721547199194, 'colsample_bytree': 0.9999484485625738, 'gamma': 0.25437998336741974, 'min_child_weight': 2}. Best is trial 58 with value: -0.0558746512948155.\n",
            "[I 2023-10-03 17:16:34,323] Trial 67 finished with value: -0.058135654676207724 and parameters: {'learning_rate': 0.06724113815894893, 'importance_type': 'cover', 'max_depth': 7, 'n_estimators': 485, 'reg_alpha': 0.05067987715066108, 'reg_lambda': 0.25856381945930923, 'subsample': 0.7369993145950633, 'colsample_bytree': 0.9666409956336199, 'gamma': 0.15674487883872082, 'min_child_weight': 1}. Best is trial 58 with value: -0.0558746512948155.\n",
            "[I 2023-10-03 17:16:40,903] Trial 68 finished with value: -0.057979540940443816 and parameters: {'learning_rate': 0.07324059724382241, 'importance_type': 'cover', 'max_depth': 7, 'n_estimators': 478, 'reg_alpha': 0.058665460214918974, 'reg_lambda': 0.24288066859227342, 'subsample': 0.733703430106371, 'colsample_bytree': 0.9346479971686636, 'gamma': 0.15778501012843824, 'min_child_weight': 1}. Best is trial 58 with value: -0.0558746512948155.\n",
            "[I 2023-10-03 17:16:47,318] Trial 69 finished with value: -0.05854488618556073 and parameters: {'learning_rate': 0.07485871402003468, 'importance_type': 'cover', 'max_depth': 7, 'n_estimators': 482, 'reg_alpha': 0.051620249787368934, 'reg_lambda': 0.2506609799272418, 'subsample': 0.7616377552635712, 'colsample_bytree': 0.9350092695816498, 'gamma': 0.14704074511383486, 'min_child_weight': 1}. Best is trial 58 with value: -0.0558746512948155.\n",
            "[I 2023-10-03 17:16:53,794] Trial 70 finished with value: -0.057486378832834105 and parameters: {'learning_rate': 0.06896572086208418, 'importance_type': 'cover', 'max_depth': 7, 'n_estimators': 484, 'reg_alpha': 0.04152051618104889, 'reg_lambda': 0.1315896041121286, 'subsample': 0.7362445980253683, 'colsample_bytree': 0.9839464446343114, 'gamma': 0.35322256317436895, 'min_child_weight': 1}. Best is trial 58 with value: -0.0558746512948155.\n",
            "[I 2023-10-03 17:17:00,238] Trial 71 finished with value: -0.05753967534888047 and parameters: {'learning_rate': 0.06637600945103603, 'importance_type': 'cover', 'max_depth': 7, 'n_estimators': 479, 'reg_alpha': 0.029148308543860614, 'reg_lambda': 0.1319364332867723, 'subsample': 0.7298692592261409, 'colsample_bytree': 0.9860662617891883, 'gamma': 0.214639947338324, 'min_child_weight': 1}. Best is trial 58 with value: -0.0558746512948155.\n",
            "[I 2023-10-03 17:17:06,734] Trial 72 finished with value: -0.05829650153515842 and parameters: {'learning_rate': 0.08599391897915601, 'importance_type': 'cover', 'max_depth': 7, 'n_estimators': 485, 'reg_alpha': 0.0415023065107447, 'reg_lambda': 0.13406109732135382, 'subsample': 0.7342468382084952, 'colsample_bytree': 0.9526907861169867, 'gamma': 0.21297690977663541, 'min_child_weight': 1}. Best is trial 58 with value: -0.0558746512948155.\n",
            "[I 2023-10-03 17:17:13,040] Trial 73 finished with value: -0.058386651764411615 and parameters: {'learning_rate': 0.08842303436872179, 'importance_type': 'cover', 'max_depth': 7, 'n_estimators': 486, 'reg_alpha': 0.031045464164532858, 'reg_lambda': 0.13131415603825428, 'subsample': 0.7358269094922034, 'colsample_bytree': 0.9553249071129946, 'gamma': 0.2915701361143491, 'min_child_weight': 1}. Best is trial 58 with value: -0.0558746512948155.\n",
            "[I 2023-10-03 17:17:19,103] Trial 74 finished with value: -0.05841507907722197 and parameters: {'learning_rate': 0.08803214581800348, 'importance_type': 'cover', 'max_depth': 7, 'n_estimators': 486, 'reg_alpha': 0.04713750045371911, 'reg_lambda': 0.08807499648904624, 'subsample': 0.7392830326218501, 'colsample_bytree': 0.9517560627375807, 'gamma': 0.3461656188514804, 'min_child_weight': 2}. Best is trial 58 with value: -0.0558746512948155.\n",
            "[I 2023-10-03 17:17:26,027] Trial 75 finished with value: -0.0578054886599227 and parameters: {'learning_rate': 0.07686987524846342, 'importance_type': 'cover', 'max_depth': 7, 'n_estimators': 489, 'reg_alpha': 0.039477012556340736, 'reg_lambda': 0.14303527523997492, 'subsample': 0.7548557457080874, 'colsample_bytree': 0.967484439878153, 'gamma': 0.29999411771134593, 'min_child_weight': 1}. Best is trial 58 with value: -0.0558746512948155.\n",
            "[I 2023-10-03 17:17:32,158] Trial 76 finished with value: -0.06099516278014069 and parameters: {'learning_rate': 0.0675090054066305, 'importance_type': 'cover', 'max_depth': 6, 'n_estimators': 470, 'reg_alpha': 0.03193653471672601, 'reg_lambda': 0.1569783645235982, 'subsample': 0.7720291844128551, 'colsample_bytree': 0.9650250655282132, 'gamma': 0.22424500350254578, 'min_child_weight': 1}. Best is trial 58 with value: -0.0558746512948155.\n",
            "[I 2023-10-03 17:17:38,275] Trial 77 finished with value: -0.058496564558059426 and parameters: {'learning_rate': 0.07762904789268553, 'importance_type': 'cover', 'max_depth': 7, 'n_estimators': 450, 'reg_alpha': 0.07163437932006285, 'reg_lambda': 0.06983121058458543, 'subsample': 0.75103152603328, 'colsample_bytree': 0.9289663309393433, 'gamma': 0.2903782687980794, 'min_child_weight': 2}. Best is trial 58 with value: -0.0558746512948155.\n",
            "[I 2023-10-03 17:17:44,853] Trial 78 finished with value: -0.05732587489394229 and parameters: {'learning_rate': 0.07343621627809871, 'importance_type': 'cover', 'max_depth': 7, 'n_estimators': 498, 'reg_alpha': 0.0635235346181543, 'reg_lambda': 0.1975849785804739, 'subsample': 0.7844220784139713, 'colsample_bytree': 0.9427443965400568, 'gamma': 0.24710554973297807, 'min_child_weight': 1}. Best is trial 58 with value: -0.0558746512948155.\n",
            "[I 2023-10-03 17:17:51,251] Trial 79 finished with value: -0.057816961695889825 and parameters: {'learning_rate': 0.07604765815655033, 'importance_type': 'cover', 'max_depth': 7, 'n_estimators': 494, 'reg_alpha': 0.06886722848401004, 'reg_lambda': 0.20107752282103902, 'subsample': 0.7838478951974861, 'colsample_bytree': 0.9016047707200453, 'gamma': 0.3267742864572751, 'min_child_weight': 2}. Best is trial 58 with value: -0.0558746512948155.\n",
            "[I 2023-10-03 17:17:57,840] Trial 80 finished with value: -0.05797780513001938 and parameters: {'learning_rate': 0.07461536667657881, 'importance_type': 'cover', 'max_depth': 7, 'n_estimators': 499, 'reg_alpha': 0.15366752729453223, 'reg_lambda': 0.20322016968692763, 'subsample': 0.802646046935476, 'colsample_bytree': 0.8762190536739165, 'gamma': 0.32113217102683195, 'min_child_weight': 2}. Best is trial 58 with value: -0.0558746512948155.\n",
            "[I 2023-10-03 17:18:04,100] Trial 81 finished with value: -0.058306518797948584 and parameters: {'learning_rate': 0.07371117932079847, 'importance_type': 'cover', 'max_depth': 7, 'n_estimators': 494, 'reg_alpha': 0.14822266312543322, 'reg_lambda': 0.20107086202283594, 'subsample': 0.7871959065562532, 'colsample_bytree': 0.8735983844763205, 'gamma': 0.3214782911732775, 'min_child_weight': 2}. Best is trial 58 with value: -0.0558746512948155.\n",
            "[I 2023-10-03 17:18:10,282] Trial 82 finished with value: -0.05838384985250304 and parameters: {'learning_rate': 0.07864948453682875, 'importance_type': 'cover', 'max_depth': 7, 'n_estimators': 473, 'reg_alpha': 0.07459590762661447, 'reg_lambda': 0.2222834285694436, 'subsample': 0.8097329997241516, 'colsample_bytree': 0.906428287527652, 'gamma': 0.36616893750663804, 'min_child_weight': 1}. Best is trial 58 with value: -0.0558746512948155.\n",
            "[I 2023-10-03 17:18:16,459] Trial 83 finished with value: -0.05857335270467464 and parameters: {'learning_rate': 0.09224876640210304, 'importance_type': 'cover', 'max_depth': 7, 'n_estimators': 500, 'reg_alpha': 0.021255701559061563, 'reg_lambda': 0.17381433554447792, 'subsample': 0.7676000734789155, 'colsample_bytree': 0.8949553824775901, 'gamma': 0.2534179819980649, 'min_child_weight': 2}. Best is trial 58 with value: -0.0558746512948155.\n",
            "[I 2023-10-03 17:18:22,613] Trial 84 finished with value: -0.05806612853651495 and parameters: {'learning_rate': 0.07199050401041553, 'importance_type': 'total_gain', 'max_depth': 7, 'n_estimators': 458, 'reg_alpha': 0.06873354386932197, 'reg_lambda': 0.11232697329440433, 'subsample': 0.7836144070426435, 'colsample_bytree': 0.9281133290497993, 'gamma': 0.30724058533571497, 'min_child_weight': 1}. Best is trial 58 with value: -0.0558746512948155.\n",
            "[I 2023-10-03 17:18:28,667] Trial 85 finished with value: -0.05875232199695509 and parameters: {'learning_rate': 0.08281198572523094, 'importance_type': 'cover', 'max_depth': 7, 'n_estimators': 475, 'reg_alpha': 0.14933202029238574, 'reg_lambda': 0.18421339302682455, 'subsample': 0.7542277379572493, 'colsample_bytree': 0.9444398552775357, 'gamma': 0.40229483771122365, 'min_child_weight': 2}. Best is trial 58 with value: -0.0558746512948155.\n",
            "[I 2023-10-03 17:18:31,638] Trial 86 finished with value: -0.0665849322237836 and parameters: {'learning_rate': 0.0759513482843173, 'importance_type': 'cover', 'max_depth': 6, 'n_estimators': 228, 'reg_alpha': 0.13088762492996106, 'reg_lambda': 0.1586875349123565, 'subsample': 0.8081395809585749, 'colsample_bytree': 0.8777531501819572, 'gamma': 0.34827711574119163, 'min_child_weight': 1}. Best is trial 58 with value: -0.0558746512948155.\n",
            "[I 2023-10-03 17:18:38,026] Trial 87 finished with value: -0.05799110360247861 and parameters: {'learning_rate': 0.06533578000270004, 'importance_type': 'cover', 'max_depth': 7, 'n_estimators': 492, 'reg_alpha': 0.023419153591373663, 'reg_lambda': 0.2259383140803935, 'subsample': 0.7701931561072471, 'colsample_bytree': 0.9721097481076176, 'gamma': 0.27224774675557434, 'min_child_weight': 2}. Best is trial 58 with value: -0.0558746512948155.\n",
            "[I 2023-10-03 17:18:44,275] Trial 88 finished with value: -0.05823887474899497 and parameters: {'learning_rate': 0.08144182931638971, 'importance_type': 'cover', 'max_depth': 7, 'n_estimators': 467, 'reg_alpha': 0.08921078431315327, 'reg_lambda': 0.19962828639606447, 'subsample': 0.7958687811905887, 'colsample_bytree': 0.9019585309657603, 'gamma': 0.24234105249090004, 'min_child_weight': 1}. Best is trial 58 with value: -0.0558746512948155.\n",
            "[I 2023-10-03 17:18:50,117] Trial 89 finished with value: -0.05838715205192455 and parameters: {'learning_rate': 0.1005228148624622, 'importance_type': 'cover', 'max_depth': 7, 'n_estimators': 455, 'reg_alpha': 0.16496642256304273, 'reg_lambda': 0.06319035075083757, 'subsample': 0.7488404433309873, 'colsample_bytree': 0.9882607072684555, 'gamma': 0.27544741888571667, 'min_child_weight': 2}. Best is trial 58 with value: -0.0558746512948155.\n",
            "[I 2023-10-03 17:18:53,053] Trial 90 finished with value: -0.06597151723138919 and parameters: {'learning_rate': 0.06541749546482778, 'importance_type': 'cover', 'max_depth': 7, 'n_estimators': 179, 'reg_alpha': 0.06104728716615341, 'reg_lambda': 0.15265531379429148, 'subsample': 0.712974350365217, 'colsample_bytree': 0.9210154386487438, 'gamma': 0.2096926359729053, 'min_child_weight': 1}. Best is trial 58 with value: -0.0558746512948155.\n",
            "[I 2023-10-03 17:18:59,436] Trial 91 finished with value: -0.05784571407758867 and parameters: {'learning_rate': 0.06536203952370867, 'importance_type': 'cover', 'max_depth': 7, 'n_estimators': 492, 'reg_alpha': 0.018884561563345045, 'reg_lambda': 0.22371152216985468, 'subsample': 0.7756184197953075, 'colsample_bytree': 0.972439196811536, 'gamma': 0.26891011351727107, 'min_child_weight': 2}. Best is trial 58 with value: -0.0558746512948155.\n",
            "[I 2023-10-03 17:19:05,659] Trial 92 finished with value: -0.05795903682102506 and parameters: {'learning_rate': 0.07087010765654894, 'importance_type': 'cover', 'max_depth': 7, 'n_estimators': 478, 'reg_alpha': 0.013173117143789097, 'reg_lambda': 0.10686176939322853, 'subsample': 0.7791075085093396, 'colsample_bytree': 0.9394558905437165, 'gamma': 0.3150487624058167, 'min_child_weight': 2}. Best is trial 58 with value: -0.0558746512948155.\n",
            "[I 2023-10-03 17:19:11,682] Trial 93 finished with value: -0.0586912713461505 and parameters: {'learning_rate': 0.06980555984539807, 'importance_type': 'cover', 'max_depth': 7, 'n_estimators': 491, 'reg_alpha': 0.0011789008937765355, 'reg_lambda': 0.10135057191936091, 'subsample': 0.7800312990113413, 'colsample_bytree': 0.9715506353269237, 'gamma': 0.3722409759458736, 'min_child_weight': 3}. Best is trial 58 with value: -0.0558746512948155.\n",
            "[I 2023-10-03 17:19:17,549] Trial 94 finished with value: -0.05828053661343395 and parameters: {'learning_rate': 0.06462545617202442, 'importance_type': 'cover', 'max_depth': 7, 'n_estimators': 446, 'reg_alpha': 0.02358090671752853, 'reg_lambda': 0.13635253910778883, 'subsample': 0.7620220371244304, 'colsample_bytree': 0.9886466801161605, 'gamma': 0.3307699436901452, 'min_child_weight': 2}. Best is trial 58 with value: -0.0558746512948155.\n",
            "[I 2023-10-03 17:19:23,571] Trial 95 finished with value: -0.057839216600001644 and parameters: {'learning_rate': 0.07791749650999658, 'importance_type': 'cover', 'max_depth': 7, 'n_estimators': 463, 'reg_alpha': 0.12355166986317756, 'reg_lambda': 0.1083849086476032, 'subsample': 0.812742770953379, 'colsample_bytree': 0.9430224629737123, 'gamma': 0.2997150144831909, 'min_child_weight': 2}. Best is trial 58 with value: -0.0558746512948155.\n",
            "[I 2023-10-03 17:19:29,025] Trial 96 finished with value: -0.06085345281994152 and parameters: {'learning_rate': 0.09346882534865916, 'importance_type': 'weight', 'max_depth': 6, 'n_estimators': 464, 'reg_alpha': 0.09330644011196669, 'reg_lambda': 0.10325393610011915, 'subsample': 0.8277091214402564, 'colsample_bytree': 0.942347034064655, 'gamma': 0.24183814879749863, 'min_child_weight': 2}. Best is trial 58 with value: -0.0558746512948155.\n",
            "[I 2023-10-03 17:19:35,730] Trial 97 finished with value: -0.05777448847466885 and parameters: {'learning_rate': 0.07974703558358374, 'importance_type': 'total_gain', 'max_depth': 7, 'n_estimators': 478, 'reg_alpha': 0.12472530658418539, 'reg_lambda': 0.010343634700536675, 'subsample': 0.7251333538277028, 'colsample_bytree': 0.9999137745950955, 'gamma': 0.2930929661977148, 'min_child_weight': 1}. Best is trial 58 with value: -0.0558746512948155.\n",
            "[I 2023-10-03 17:19:42,089] Trial 98 finished with value: -0.05758313422820912 and parameters: {'learning_rate': 0.07924284378311931, 'importance_type': 'total_gain', 'max_depth': 7, 'n_estimators': 452, 'reg_alpha': 0.12180795903735703, 'reg_lambda': 0.006431603668127079, 'subsample': 0.7279356597631569, 'colsample_bytree': 0.988678790501663, 'gamma': 0.2905058355971665, 'min_child_weight': 1}. Best is trial 58 with value: -0.0558746512948155.\n",
            "[I 2023-10-03 17:19:48,139] Trial 99 finished with value: -0.058214123924190175 and parameters: {'learning_rate': 0.07993122531539548, 'importance_type': 'total_gain', 'max_depth': 7, 'n_estimators': 442, 'reg_alpha': 0.18762135672413904, 'reg_lambda': 0.003151841662166024, 'subsample': 0.7265011300107576, 'colsample_bytree': 0.9921053598523986, 'gamma': 0.2879639672596186, 'min_child_weight': 1}. Best is trial 58 with value: -0.0558746512948155.\n"
          ]
        },
        {
          "data": {
            "text/html": [
              "<style>#sk-container-id-5 {color: black;}#sk-container-id-5 pre{padding: 0;}#sk-container-id-5 div.sk-toggleable {background-color: white;}#sk-container-id-5 label.sk-toggleable__label {cursor: pointer;display: block;width: 100%;margin-bottom: 0;padding: 0.3em;box-sizing: border-box;text-align: center;}#sk-container-id-5 label.sk-toggleable__label-arrow:before {content: \"▸\";float: left;margin-right: 0.25em;color: #696969;}#sk-container-id-5 label.sk-toggleable__label-arrow:hover:before {color: black;}#sk-container-id-5 div.sk-estimator:hover label.sk-toggleable__label-arrow:before {color: black;}#sk-container-id-5 div.sk-toggleable__content {max-height: 0;max-width: 0;overflow: hidden;text-align: left;background-color: #f0f8ff;}#sk-container-id-5 div.sk-toggleable__content pre {margin: 0.2em;color: black;border-radius: 0.25em;background-color: #f0f8ff;}#sk-container-id-5 input.sk-toggleable__control:checked~div.sk-toggleable__content {max-height: 200px;max-width: 100%;overflow: auto;}#sk-container-id-5 input.sk-toggleable__control:checked~label.sk-toggleable__label-arrow:before {content: \"▾\";}#sk-container-id-5 div.sk-estimator input.sk-toggleable__control:checked~label.sk-toggleable__label {background-color: #d4ebff;}#sk-container-id-5 div.sk-label input.sk-toggleable__control:checked~label.sk-toggleable__label {background-color: #d4ebff;}#sk-container-id-5 input.sk-hidden--visually {border: 0;clip: rect(1px 1px 1px 1px);clip: rect(1px, 1px, 1px, 1px);height: 1px;margin: -1px;overflow: hidden;padding: 0;position: absolute;width: 1px;}#sk-container-id-5 div.sk-estimator {font-family: monospace;background-color: #f0f8ff;border: 1px dotted black;border-radius: 0.25em;box-sizing: border-box;margin-bottom: 0.5em;}#sk-container-id-5 div.sk-estimator:hover {background-color: #d4ebff;}#sk-container-id-5 div.sk-parallel-item::after {content: \"\";width: 100%;border-bottom: 1px solid gray;flex-grow: 1;}#sk-container-id-5 div.sk-label:hover label.sk-toggleable__label {background-color: #d4ebff;}#sk-container-id-5 div.sk-serial::before {content: \"\";position: absolute;border-left: 1px solid gray;box-sizing: border-box;top: 0;bottom: 0;left: 50%;z-index: 0;}#sk-container-id-5 div.sk-serial {display: flex;flex-direction: column;align-items: center;background-color: white;padding-right: 0.2em;padding-left: 0.2em;position: relative;}#sk-container-id-5 div.sk-item {position: relative;z-index: 1;}#sk-container-id-5 div.sk-parallel {display: flex;align-items: stretch;justify-content: center;background-color: white;position: relative;}#sk-container-id-5 div.sk-item::before, #sk-container-id-5 div.sk-parallel-item::before {content: \"\";position: absolute;border-left: 1px solid gray;box-sizing: border-box;top: 0;bottom: 0;left: 50%;z-index: -1;}#sk-container-id-5 div.sk-parallel-item {display: flex;flex-direction: column;z-index: 1;position: relative;background-color: white;}#sk-container-id-5 div.sk-parallel-item:first-child::after {align-self: flex-end;width: 50%;}#sk-container-id-5 div.sk-parallel-item:last-child::after {align-self: flex-start;width: 50%;}#sk-container-id-5 div.sk-parallel-item:only-child::after {width: 0;}#sk-container-id-5 div.sk-dashed-wrapped {border: 1px dashed gray;margin: 0 0.4em 0.5em 0.4em;box-sizing: border-box;padding-bottom: 0.4em;background-color: white;}#sk-container-id-5 div.sk-label label {font-family: monospace;font-weight: bold;display: inline-block;line-height: 1.2em;}#sk-container-id-5 div.sk-label-container {text-align: center;}#sk-container-id-5 div.sk-container {/* jupyter's `normalize.less` sets `[hidden] { display: none; }` but bootstrap.min.css set `[hidden] { display: none !important; }` so we also need the `!important` here to be able to override the default hidden behavior on the sphinx rendered scikit-learn.org. See: https://github.com/scikit-learn/scikit-learn/issues/21755 */display: inline-block !important;position: relative;}#sk-container-id-5 div.sk-text-repr-fallback {display: none;}</style><div id=\"sk-container-id-5\" class=\"sk-top-container\"><div class=\"sk-text-repr-fallback\"><pre>XGBRegressor(base_score=None, booster=None, callbacks=None,\n",
              "             colsample_bylevel=None, colsample_bynode=None,\n",
              "             colsample_bytree=0.985077136597312, device=None,\n",
              "             early_stopping_rounds=None, enable_categorical=False,\n",
              "             eval_metric=None, feature_types=None, gamma=0.15116883369460515,\n",
              "             grow_policy=None, importance_type=&#x27;cover&#x27;,\n",
              "             interaction_constraints=None, learning_rate=0.06080734694051027,\n",
              "             max_bin=None, max_cat_threshold=None, max_cat_to_onehot=None,\n",
              "             max_delta_step=None, max_depth=8, max_leaves=None,\n",
              "             min_child_weight=1, missing=nan, monotone_constraints=None,\n",
              "             multi_strategy=None, n_estimators=419, n_jobs=None,\n",
              "             num_parallel_tree=None, random_state=None, ...)</pre><b>In a Jupyter environment, please rerun this cell to show the HTML representation or trust the notebook. <br />On GitHub, the HTML representation is unable to render, please try loading this page with nbviewer.org.</b></div><div class=\"sk-container\" hidden><div class=\"sk-item\"><div class=\"sk-estimator sk-toggleable\"><input class=\"sk-toggleable__control sk-hidden--visually\" id=\"sk-estimator-id-5\" type=\"checkbox\" checked><label for=\"sk-estimator-id-5\" class=\"sk-toggleable__label sk-toggleable__label-arrow\">XGBRegressor</label><div class=\"sk-toggleable__content\"><pre>XGBRegressor(base_score=None, booster=None, callbacks=None,\n",
              "             colsample_bylevel=None, colsample_bynode=None,\n",
              "             colsample_bytree=0.985077136597312, device=None,\n",
              "             early_stopping_rounds=None, enable_categorical=False,\n",
              "             eval_metric=None, feature_types=None, gamma=0.15116883369460515,\n",
              "             grow_policy=None, importance_type=&#x27;cover&#x27;,\n",
              "             interaction_constraints=None, learning_rate=0.06080734694051027,\n",
              "             max_bin=None, max_cat_threshold=None, max_cat_to_onehot=None,\n",
              "             max_delta_step=None, max_depth=8, max_leaves=None,\n",
              "             min_child_weight=1, missing=nan, monotone_constraints=None,\n",
              "             multi_strategy=None, n_estimators=419, n_jobs=None,\n",
              "             num_parallel_tree=None, random_state=None, ...)</pre></div></div></div></div></div>"
            ],
            "text/plain": [
              "XGBRegressor(base_score=None, booster=None, callbacks=None,\n",
              "             colsample_bylevel=None, colsample_bynode=None,\n",
              "             colsample_bytree=0.985077136597312, device=None,\n",
              "             early_stopping_rounds=None, enable_categorical=False,\n",
              "             eval_metric=None, feature_types=None, gamma=0.15116883369460515,\n",
              "             grow_policy=None, importance_type='cover',\n",
              "             interaction_constraints=None, learning_rate=0.06080734694051027,\n",
              "             max_bin=None, max_cat_threshold=None, max_cat_to_onehot=None,\n",
              "             max_delta_step=None, max_depth=8, max_leaves=None,\n",
              "             min_child_weight=1, missing=nan, monotone_constraints=None,\n",
              "             multi_strategy=None, n_estimators=419, n_jobs=None,\n",
              "             num_parallel_tree=None, random_state=None, ...)"
            ]
          },
          "execution_count": 55,
          "metadata": {},
          "output_type": "execute_result"
        }
      ],
      "source": [
        "# Create the sampler to make reproducible results\n",
        "sampler = optuna.samplers.TPESampler(seed=RANDOM_STATE)\n",
        "\n",
        "# Create the study\n",
        "study = optuna.create_study(direction='maximize', study_name='xgboost_optimize', sampler=sampler)\n",
        "\n",
        "# Optimize the study\n",
        "study.optimize(lambda trail: objective(trail), n_trials=100, show_progress_bar=True, n_jobs=1)\n",
        "\n",
        "# Get the best hyperparameters\n",
        "best_params = study.best_params\n",
        "\n",
        "# Create the XGBoost model with the best hyperparameters\n",
        "model = XGBRegressor(**best_params)\n",
        "\n",
        "# Fit the model\n",
        "model.fit(X_train, y_train)"
      ]
    },
    {
      "cell_type": "code",
      "execution_count": 56,
      "metadata": {},
      "outputs": [
        {
          "data": {
            "text/html": [
              "<style>#sk-container-id-6 {color: black;}#sk-container-id-6 pre{padding: 0;}#sk-container-id-6 div.sk-toggleable {background-color: white;}#sk-container-id-6 label.sk-toggleable__label {cursor: pointer;display: block;width: 100%;margin-bottom: 0;padding: 0.3em;box-sizing: border-box;text-align: center;}#sk-container-id-6 label.sk-toggleable__label-arrow:before {content: \"▸\";float: left;margin-right: 0.25em;color: #696969;}#sk-container-id-6 label.sk-toggleable__label-arrow:hover:before {color: black;}#sk-container-id-6 div.sk-estimator:hover label.sk-toggleable__label-arrow:before {color: black;}#sk-container-id-6 div.sk-toggleable__content {max-height: 0;max-width: 0;overflow: hidden;text-align: left;background-color: #f0f8ff;}#sk-container-id-6 div.sk-toggleable__content pre {margin: 0.2em;color: black;border-radius: 0.25em;background-color: #f0f8ff;}#sk-container-id-6 input.sk-toggleable__control:checked~div.sk-toggleable__content {max-height: 200px;max-width: 100%;overflow: auto;}#sk-container-id-6 input.sk-toggleable__control:checked~label.sk-toggleable__label-arrow:before {content: \"▾\";}#sk-container-id-6 div.sk-estimator input.sk-toggleable__control:checked~label.sk-toggleable__label {background-color: #d4ebff;}#sk-container-id-6 div.sk-label input.sk-toggleable__control:checked~label.sk-toggleable__label {background-color: #d4ebff;}#sk-container-id-6 input.sk-hidden--visually {border: 0;clip: rect(1px 1px 1px 1px);clip: rect(1px, 1px, 1px, 1px);height: 1px;margin: -1px;overflow: hidden;padding: 0;position: absolute;width: 1px;}#sk-container-id-6 div.sk-estimator {font-family: monospace;background-color: #f0f8ff;border: 1px dotted black;border-radius: 0.25em;box-sizing: border-box;margin-bottom: 0.5em;}#sk-container-id-6 div.sk-estimator:hover {background-color: #d4ebff;}#sk-container-id-6 div.sk-parallel-item::after {content: \"\";width: 100%;border-bottom: 1px solid gray;flex-grow: 1;}#sk-container-id-6 div.sk-label:hover label.sk-toggleable__label {background-color: #d4ebff;}#sk-container-id-6 div.sk-serial::before {content: \"\";position: absolute;border-left: 1px solid gray;box-sizing: border-box;top: 0;bottom: 0;left: 50%;z-index: 0;}#sk-container-id-6 div.sk-serial {display: flex;flex-direction: column;align-items: center;background-color: white;padding-right: 0.2em;padding-left: 0.2em;position: relative;}#sk-container-id-6 div.sk-item {position: relative;z-index: 1;}#sk-container-id-6 div.sk-parallel {display: flex;align-items: stretch;justify-content: center;background-color: white;position: relative;}#sk-container-id-6 div.sk-item::before, #sk-container-id-6 div.sk-parallel-item::before {content: \"\";position: absolute;border-left: 1px solid gray;box-sizing: border-box;top: 0;bottom: 0;left: 50%;z-index: -1;}#sk-container-id-6 div.sk-parallel-item {display: flex;flex-direction: column;z-index: 1;position: relative;background-color: white;}#sk-container-id-6 div.sk-parallel-item:first-child::after {align-self: flex-end;width: 50%;}#sk-container-id-6 div.sk-parallel-item:last-child::after {align-self: flex-start;width: 50%;}#sk-container-id-6 div.sk-parallel-item:only-child::after {width: 0;}#sk-container-id-6 div.sk-dashed-wrapped {border: 1px dashed gray;margin: 0 0.4em 0.5em 0.4em;box-sizing: border-box;padding-bottom: 0.4em;background-color: white;}#sk-container-id-6 div.sk-label label {font-family: monospace;font-weight: bold;display: inline-block;line-height: 1.2em;}#sk-container-id-6 div.sk-label-container {text-align: center;}#sk-container-id-6 div.sk-container {/* jupyter's `normalize.less` sets `[hidden] { display: none; }` but bootstrap.min.css set `[hidden] { display: none !important; }` so we also need the `!important` here to be able to override the default hidden behavior on the sphinx rendered scikit-learn.org. See: https://github.com/scikit-learn/scikit-learn/issues/21755 */display: inline-block !important;position: relative;}#sk-container-id-6 div.sk-text-repr-fallback {display: none;}</style><div id=\"sk-container-id-6\" class=\"sk-top-container\"><div class=\"sk-text-repr-fallback\"><pre>XGBRegressor(base_score=None, booster=None, callbacks=None,\n",
              "             colsample_bylevel=None, colsample_bynode=None,\n",
              "             colsample_bytree=0.985077136597312, device=None,\n",
              "             early_stopping_rounds=None, enable_categorical=False,\n",
              "             eval_metric=None, feature_types=None, gamma=0.15116883369460515,\n",
              "             grow_policy=None, importance_type=&#x27;cover&#x27;,\n",
              "             interaction_constraints=None, learning_rate=0.06080734694051027,\n",
              "             max_bin=None, max_cat_threshold=None, max_cat_to_onehot=None,\n",
              "             max_delta_step=None, max_depth=8, max_leaves=None,\n",
              "             min_child_weight=1, missing=nan, monotone_constraints=None,\n",
              "             multi_strategy=None, n_estimators=419, n_jobs=None,\n",
              "             num_parallel_tree=None, random_state=None, ...)</pre><b>In a Jupyter environment, please rerun this cell to show the HTML representation or trust the notebook. <br />On GitHub, the HTML representation is unable to render, please try loading this page with nbviewer.org.</b></div><div class=\"sk-container\" hidden><div class=\"sk-item\"><div class=\"sk-estimator sk-toggleable\"><input class=\"sk-toggleable__control sk-hidden--visually\" id=\"sk-estimator-id-6\" type=\"checkbox\" checked><label for=\"sk-estimator-id-6\" class=\"sk-toggleable__label sk-toggleable__label-arrow\">XGBRegressor</label><div class=\"sk-toggleable__content\"><pre>XGBRegressor(base_score=None, booster=None, callbacks=None,\n",
              "             colsample_bylevel=None, colsample_bynode=None,\n",
              "             colsample_bytree=0.985077136597312, device=None,\n",
              "             early_stopping_rounds=None, enable_categorical=False,\n",
              "             eval_metric=None, feature_types=None, gamma=0.15116883369460515,\n",
              "             grow_policy=None, importance_type=&#x27;cover&#x27;,\n",
              "             interaction_constraints=None, learning_rate=0.06080734694051027,\n",
              "             max_bin=None, max_cat_threshold=None, max_cat_to_onehot=None,\n",
              "             max_delta_step=None, max_depth=8, max_leaves=None,\n",
              "             min_child_weight=1, missing=nan, monotone_constraints=None,\n",
              "             multi_strategy=None, n_estimators=419, n_jobs=None,\n",
              "             num_parallel_tree=None, random_state=None, ...)</pre></div></div></div></div></div>"
            ],
            "text/plain": [
              "XGBRegressor(base_score=None, booster=None, callbacks=None,\n",
              "             colsample_bylevel=None, colsample_bynode=None,\n",
              "             colsample_bytree=0.985077136597312, device=None,\n",
              "             early_stopping_rounds=None, enable_categorical=False,\n",
              "             eval_metric=None, feature_types=None, gamma=0.15116883369460515,\n",
              "             grow_policy=None, importance_type='cover',\n",
              "             interaction_constraints=None, learning_rate=0.06080734694051027,\n",
              "             max_bin=None, max_cat_threshold=None, max_cat_to_onehot=None,\n",
              "             max_delta_step=None, max_depth=8, max_leaves=None,\n",
              "             min_child_weight=1, missing=nan, monotone_constraints=None,\n",
              "             multi_strategy=None, n_estimators=419, n_jobs=None,\n",
              "             num_parallel_tree=None, random_state=None, ...)"
            ]
          },
          "execution_count": 56,
          "metadata": {},
          "output_type": "execute_result"
        }
      ],
      "source": [
        "# Save the model in pickle file\n",
        "model_file_name = f'model_{model.__class__.__name__}_{datetime.now().strftime(\"%Y-%m-%d_%H-%M-%S\")}.pkl'\n",
        "model_file_path = os.path.join(MODELS_DIR, model_file_name)\n",
        "\n",
        "pickle.dump(model, open(model_file_path, 'wb'))\n",
        "\n",
        "model"
      ]
    },
    {
      "cell_type": "code",
      "execution_count": 57,
      "metadata": {},
      "outputs": [
        {
          "data": {
            "application/vnd.plotly.v1+json": {
              "config": {
                "plotlyServerURL": "https://plot.ly"
              },
              "data": [
                {
                  "mode": "markers",
                  "name": "Objective Value",
                  "type": "scatter",
                  "x": [
                    0,
                    1,
                    2,
                    3,
                    4,
                    5,
                    6,
                    7,
                    8,
                    9,
                    10,
                    11,
                    12,
                    13,
                    14,
                    15,
                    16,
                    17,
                    18,
                    19,
                    20,
                    21,
                    22,
                    23,
                    24,
                    25,
                    26,
                    27,
                    28,
                    29,
                    30,
                    31,
                    32,
                    33,
                    34,
                    35,
                    36,
                    37,
                    38,
                    39,
                    40,
                    41,
                    42,
                    43,
                    44,
                    45,
                    46,
                    47,
                    48,
                    49,
                    50,
                    51,
                    52,
                    53,
                    54,
                    55,
                    56,
                    57,
                    58,
                    59,
                    60,
                    61,
                    62,
                    63,
                    64,
                    65,
                    66,
                    67,
                    68,
                    69,
                    70,
                    71,
                    72,
                    73,
                    74,
                    75,
                    76,
                    77,
                    78,
                    79,
                    80,
                    81,
                    82,
                    83,
                    84,
                    85,
                    86,
                    87,
                    88,
                    89,
                    90,
                    91,
                    92,
                    93,
                    94,
                    95,
                    96,
                    97,
                    98,
                    99
                  ],
                  "y": [
                    -0.08112865438379424,
                    -0.11061844709684014,
                    -0.06047573233146104,
                    -0.13966037100657638,
                    -0.08776069009277021,
                    -0.063121854488823,
                    -0.09054659796541205,
                    -0.14345781844615096,
                    -0.06759093714415214,
                    -0.07369356659319123,
                    -0.06711311304001702,
                    -0.062001291008263335,
                    -0.063692238105991,
                    -0.06714442486146463,
                    -0.07073697153523176,
                    -0.06257894439004269,
                    -0.06647607145442115,
                    -0.06267931657183709,
                    -0.058838788072022676,
                    -0.06525357906648217,
                    -0.06043644581670782,
                    -0.06110998303612798,
                    -0.06121890859999389,
                    -0.059575909170216226,
                    -0.059435449623036665,
                    -0.061599301000005414,
                    -0.06090812845373531,
                    -0.0633940200050566,
                    -0.059905045059785014,
                    -0.06536351042433994,
                    -0.06001952466162715,
                    -0.05986419839918633,
                    -0.05938161408154583,
                    -0.061449066679765595,
                    -0.06098073337438189,
                    -0.05861232664172976,
                    -0.05852956836974719,
                    -0.06278790070698884,
                    -0.06021417332838271,
                    -0.05966261983904122,
                    -0.06070613492481116,
                    -0.058563535266344224,
                    -0.05888731017321781,
                    -0.05877608710188927,
                    -0.0588315664489248,
                    -0.0747788227451321,
                    -0.06321749692572734,
                    -0.05912879019454931,
                    -0.06478650729551516,
                    -0.058665219180209484,
                    -0.06474693748146398,
                    -0.059275965130095365,
                    -0.06008198765058661,
                    -0.061295211116355074,
                    -0.059861998683485226,
                    -0.06059154579188353,
                    -0.06178596966809069,
                    -0.05642776884842336,
                    -0.0558746512948155,
                    -0.0621419191370455,
                    -0.05850933631345383,
                    -0.058453092300592924,
                    -0.05889205171808496,
                    -0.05904621373077269,
                    -0.059090632004804924,
                    -0.06326581340568585,
                    -0.05930108450377157,
                    -0.058135654676207724,
                    -0.057979540940443816,
                    -0.05854488618556073,
                    -0.057486378832834105,
                    -0.05753967534888047,
                    -0.05829650153515842,
                    -0.058386651764411615,
                    -0.05841507907722197,
                    -0.0578054886599227,
                    -0.06099516278014069,
                    -0.058496564558059426,
                    -0.05732587489394229,
                    -0.057816961695889825,
                    -0.05797780513001938,
                    -0.058306518797948584,
                    -0.05838384985250304,
                    -0.05857335270467464,
                    -0.05806612853651495,
                    -0.05875232199695509,
                    -0.0665849322237836,
                    -0.05799110360247861,
                    -0.05823887474899497,
                    -0.05838715205192455,
                    -0.06597151723138919,
                    -0.05784571407758867,
                    -0.05795903682102506,
                    -0.0586912713461505,
                    -0.05828053661343395,
                    -0.057839216600001644,
                    -0.06085345281994152,
                    -0.05777448847466885,
                    -0.05758313422820912,
                    -0.058214123924190175
                  ]
                },
                {
                  "mode": "lines",
                  "name": "Best Value",
                  "type": "scatter",
                  "x": [
                    0,
                    1,
                    2,
                    3,
                    4,
                    5,
                    6,
                    7,
                    8,
                    9,
                    10,
                    11,
                    12,
                    13,
                    14,
                    15,
                    16,
                    17,
                    18,
                    19,
                    20,
                    21,
                    22,
                    23,
                    24,
                    25,
                    26,
                    27,
                    28,
                    29,
                    30,
                    31,
                    32,
                    33,
                    34,
                    35,
                    36,
                    37,
                    38,
                    39,
                    40,
                    41,
                    42,
                    43,
                    44,
                    45,
                    46,
                    47,
                    48,
                    49,
                    50,
                    51,
                    52,
                    53,
                    54,
                    55,
                    56,
                    57,
                    58,
                    59,
                    60,
                    61,
                    62,
                    63,
                    64,
                    65,
                    66,
                    67,
                    68,
                    69,
                    70,
                    71,
                    72,
                    73,
                    74,
                    75,
                    76,
                    77,
                    78,
                    79,
                    80,
                    81,
                    82,
                    83,
                    84,
                    85,
                    86,
                    87,
                    88,
                    89,
                    90,
                    91,
                    92,
                    93,
                    94,
                    95,
                    96,
                    97,
                    98,
                    99
                  ],
                  "y": [
                    -0.08112865438379424,
                    -0.08112865438379424,
                    -0.06047573233146104,
                    -0.06047573233146104,
                    -0.06047573233146104,
                    -0.06047573233146104,
                    -0.06047573233146104,
                    -0.06047573233146104,
                    -0.06047573233146104,
                    -0.06047573233146104,
                    -0.06047573233146104,
                    -0.06047573233146104,
                    -0.06047573233146104,
                    -0.06047573233146104,
                    -0.06047573233146104,
                    -0.06047573233146104,
                    -0.06047573233146104,
                    -0.06047573233146104,
                    -0.058838788072022676,
                    -0.058838788072022676,
                    -0.058838788072022676,
                    -0.058838788072022676,
                    -0.058838788072022676,
                    -0.058838788072022676,
                    -0.058838788072022676,
                    -0.058838788072022676,
                    -0.058838788072022676,
                    -0.058838788072022676,
                    -0.058838788072022676,
                    -0.058838788072022676,
                    -0.058838788072022676,
                    -0.058838788072022676,
                    -0.058838788072022676,
                    -0.058838788072022676,
                    -0.058838788072022676,
                    -0.05861232664172976,
                    -0.05852956836974719,
                    -0.05852956836974719,
                    -0.05852956836974719,
                    -0.05852956836974719,
                    -0.05852956836974719,
                    -0.05852956836974719,
                    -0.05852956836974719,
                    -0.05852956836974719,
                    -0.05852956836974719,
                    -0.05852956836974719,
                    -0.05852956836974719,
                    -0.05852956836974719,
                    -0.05852956836974719,
                    -0.05852956836974719,
                    -0.05852956836974719,
                    -0.05852956836974719,
                    -0.05852956836974719,
                    -0.05852956836974719,
                    -0.05852956836974719,
                    -0.05852956836974719,
                    -0.05852956836974719,
                    -0.05642776884842336,
                    -0.0558746512948155,
                    -0.0558746512948155,
                    -0.0558746512948155,
                    -0.0558746512948155,
                    -0.0558746512948155,
                    -0.0558746512948155,
                    -0.0558746512948155,
                    -0.0558746512948155,
                    -0.0558746512948155,
                    -0.0558746512948155,
                    -0.0558746512948155,
                    -0.0558746512948155,
                    -0.0558746512948155,
                    -0.0558746512948155,
                    -0.0558746512948155,
                    -0.0558746512948155,
                    -0.0558746512948155,
                    -0.0558746512948155,
                    -0.0558746512948155,
                    -0.0558746512948155,
                    -0.0558746512948155,
                    -0.0558746512948155,
                    -0.0558746512948155,
                    -0.0558746512948155,
                    -0.0558746512948155,
                    -0.0558746512948155,
                    -0.0558746512948155,
                    -0.0558746512948155,
                    -0.0558746512948155,
                    -0.0558746512948155,
                    -0.0558746512948155,
                    -0.0558746512948155,
                    -0.0558746512948155,
                    -0.0558746512948155,
                    -0.0558746512948155,
                    -0.0558746512948155,
                    -0.0558746512948155,
                    -0.0558746512948155,
                    -0.0558746512948155,
                    -0.0558746512948155,
                    -0.0558746512948155,
                    -0.0558746512948155
                  ]
                },
                {
                  "marker": {
                    "color": "#cccccc"
                  },
                  "mode": "markers",
                  "name": "Infeasible Trial",
                  "showlegend": false,
                  "type": "scatter",
                  "x": [],
                  "y": []
                }
              ],
              "layout": {
                "template": {
                  "data": {
                    "bar": [
                      {
                        "error_x": {
                          "color": "#2a3f5f"
                        },
                        "error_y": {
                          "color": "#2a3f5f"
                        },
                        "marker": {
                          "line": {
                            "color": "#E5ECF6",
                            "width": 0.5
                          },
                          "pattern": {
                            "fillmode": "overlay",
                            "size": 10,
                            "solidity": 0.2
                          }
                        },
                        "type": "bar"
                      }
                    ],
                    "barpolar": [
                      {
                        "marker": {
                          "line": {
                            "color": "#E5ECF6",
                            "width": 0.5
                          },
                          "pattern": {
                            "fillmode": "overlay",
                            "size": 10,
                            "solidity": 0.2
                          }
                        },
                        "type": "barpolar"
                      }
                    ],
                    "carpet": [
                      {
                        "aaxis": {
                          "endlinecolor": "#2a3f5f",
                          "gridcolor": "white",
                          "linecolor": "white",
                          "minorgridcolor": "white",
                          "startlinecolor": "#2a3f5f"
                        },
                        "baxis": {
                          "endlinecolor": "#2a3f5f",
                          "gridcolor": "white",
                          "linecolor": "white",
                          "minorgridcolor": "white",
                          "startlinecolor": "#2a3f5f"
                        },
                        "type": "carpet"
                      }
                    ],
                    "choropleth": [
                      {
                        "colorbar": {
                          "outlinewidth": 0,
                          "ticks": ""
                        },
                        "type": "choropleth"
                      }
                    ],
                    "contour": [
                      {
                        "colorbar": {
                          "outlinewidth": 0,
                          "ticks": ""
                        },
                        "colorscale": [
                          [
                            0,
                            "#0d0887"
                          ],
                          [
                            0.1111111111111111,
                            "#46039f"
                          ],
                          [
                            0.2222222222222222,
                            "#7201a8"
                          ],
                          [
                            0.3333333333333333,
                            "#9c179e"
                          ],
                          [
                            0.4444444444444444,
                            "#bd3786"
                          ],
                          [
                            0.5555555555555556,
                            "#d8576b"
                          ],
                          [
                            0.6666666666666666,
                            "#ed7953"
                          ],
                          [
                            0.7777777777777778,
                            "#fb9f3a"
                          ],
                          [
                            0.8888888888888888,
                            "#fdca26"
                          ],
                          [
                            1,
                            "#f0f921"
                          ]
                        ],
                        "type": "contour"
                      }
                    ],
                    "contourcarpet": [
                      {
                        "colorbar": {
                          "outlinewidth": 0,
                          "ticks": ""
                        },
                        "type": "contourcarpet"
                      }
                    ],
                    "heatmap": [
                      {
                        "colorbar": {
                          "outlinewidth": 0,
                          "ticks": ""
                        },
                        "colorscale": [
                          [
                            0,
                            "#0d0887"
                          ],
                          [
                            0.1111111111111111,
                            "#46039f"
                          ],
                          [
                            0.2222222222222222,
                            "#7201a8"
                          ],
                          [
                            0.3333333333333333,
                            "#9c179e"
                          ],
                          [
                            0.4444444444444444,
                            "#bd3786"
                          ],
                          [
                            0.5555555555555556,
                            "#d8576b"
                          ],
                          [
                            0.6666666666666666,
                            "#ed7953"
                          ],
                          [
                            0.7777777777777778,
                            "#fb9f3a"
                          ],
                          [
                            0.8888888888888888,
                            "#fdca26"
                          ],
                          [
                            1,
                            "#f0f921"
                          ]
                        ],
                        "type": "heatmap"
                      }
                    ],
                    "heatmapgl": [
                      {
                        "colorbar": {
                          "outlinewidth": 0,
                          "ticks": ""
                        },
                        "colorscale": [
                          [
                            0,
                            "#0d0887"
                          ],
                          [
                            0.1111111111111111,
                            "#46039f"
                          ],
                          [
                            0.2222222222222222,
                            "#7201a8"
                          ],
                          [
                            0.3333333333333333,
                            "#9c179e"
                          ],
                          [
                            0.4444444444444444,
                            "#bd3786"
                          ],
                          [
                            0.5555555555555556,
                            "#d8576b"
                          ],
                          [
                            0.6666666666666666,
                            "#ed7953"
                          ],
                          [
                            0.7777777777777778,
                            "#fb9f3a"
                          ],
                          [
                            0.8888888888888888,
                            "#fdca26"
                          ],
                          [
                            1,
                            "#f0f921"
                          ]
                        ],
                        "type": "heatmapgl"
                      }
                    ],
                    "histogram": [
                      {
                        "marker": {
                          "pattern": {
                            "fillmode": "overlay",
                            "size": 10,
                            "solidity": 0.2
                          }
                        },
                        "type": "histogram"
                      }
                    ],
                    "histogram2d": [
                      {
                        "colorbar": {
                          "outlinewidth": 0,
                          "ticks": ""
                        },
                        "colorscale": [
                          [
                            0,
                            "#0d0887"
                          ],
                          [
                            0.1111111111111111,
                            "#46039f"
                          ],
                          [
                            0.2222222222222222,
                            "#7201a8"
                          ],
                          [
                            0.3333333333333333,
                            "#9c179e"
                          ],
                          [
                            0.4444444444444444,
                            "#bd3786"
                          ],
                          [
                            0.5555555555555556,
                            "#d8576b"
                          ],
                          [
                            0.6666666666666666,
                            "#ed7953"
                          ],
                          [
                            0.7777777777777778,
                            "#fb9f3a"
                          ],
                          [
                            0.8888888888888888,
                            "#fdca26"
                          ],
                          [
                            1,
                            "#f0f921"
                          ]
                        ],
                        "type": "histogram2d"
                      }
                    ],
                    "histogram2dcontour": [
                      {
                        "colorbar": {
                          "outlinewidth": 0,
                          "ticks": ""
                        },
                        "colorscale": [
                          [
                            0,
                            "#0d0887"
                          ],
                          [
                            0.1111111111111111,
                            "#46039f"
                          ],
                          [
                            0.2222222222222222,
                            "#7201a8"
                          ],
                          [
                            0.3333333333333333,
                            "#9c179e"
                          ],
                          [
                            0.4444444444444444,
                            "#bd3786"
                          ],
                          [
                            0.5555555555555556,
                            "#d8576b"
                          ],
                          [
                            0.6666666666666666,
                            "#ed7953"
                          ],
                          [
                            0.7777777777777778,
                            "#fb9f3a"
                          ],
                          [
                            0.8888888888888888,
                            "#fdca26"
                          ],
                          [
                            1,
                            "#f0f921"
                          ]
                        ],
                        "type": "histogram2dcontour"
                      }
                    ],
                    "mesh3d": [
                      {
                        "colorbar": {
                          "outlinewidth": 0,
                          "ticks": ""
                        },
                        "type": "mesh3d"
                      }
                    ],
                    "parcoords": [
                      {
                        "line": {
                          "colorbar": {
                            "outlinewidth": 0,
                            "ticks": ""
                          }
                        },
                        "type": "parcoords"
                      }
                    ],
                    "pie": [
                      {
                        "automargin": true,
                        "type": "pie"
                      }
                    ],
                    "scatter": [
                      {
                        "fillpattern": {
                          "fillmode": "overlay",
                          "size": 10,
                          "solidity": 0.2
                        },
                        "type": "scatter"
                      }
                    ],
                    "scatter3d": [
                      {
                        "line": {
                          "colorbar": {
                            "outlinewidth": 0,
                            "ticks": ""
                          }
                        },
                        "marker": {
                          "colorbar": {
                            "outlinewidth": 0,
                            "ticks": ""
                          }
                        },
                        "type": "scatter3d"
                      }
                    ],
                    "scattercarpet": [
                      {
                        "marker": {
                          "colorbar": {
                            "outlinewidth": 0,
                            "ticks": ""
                          }
                        },
                        "type": "scattercarpet"
                      }
                    ],
                    "scattergeo": [
                      {
                        "marker": {
                          "colorbar": {
                            "outlinewidth": 0,
                            "ticks": ""
                          }
                        },
                        "type": "scattergeo"
                      }
                    ],
                    "scattergl": [
                      {
                        "marker": {
                          "colorbar": {
                            "outlinewidth": 0,
                            "ticks": ""
                          }
                        },
                        "type": "scattergl"
                      }
                    ],
                    "scattermapbox": [
                      {
                        "marker": {
                          "colorbar": {
                            "outlinewidth": 0,
                            "ticks": ""
                          }
                        },
                        "type": "scattermapbox"
                      }
                    ],
                    "scatterpolar": [
                      {
                        "marker": {
                          "colorbar": {
                            "outlinewidth": 0,
                            "ticks": ""
                          }
                        },
                        "type": "scatterpolar"
                      }
                    ],
                    "scatterpolargl": [
                      {
                        "marker": {
                          "colorbar": {
                            "outlinewidth": 0,
                            "ticks": ""
                          }
                        },
                        "type": "scatterpolargl"
                      }
                    ],
                    "scatterternary": [
                      {
                        "marker": {
                          "colorbar": {
                            "outlinewidth": 0,
                            "ticks": ""
                          }
                        },
                        "type": "scatterternary"
                      }
                    ],
                    "surface": [
                      {
                        "colorbar": {
                          "outlinewidth": 0,
                          "ticks": ""
                        },
                        "colorscale": [
                          [
                            0,
                            "#0d0887"
                          ],
                          [
                            0.1111111111111111,
                            "#46039f"
                          ],
                          [
                            0.2222222222222222,
                            "#7201a8"
                          ],
                          [
                            0.3333333333333333,
                            "#9c179e"
                          ],
                          [
                            0.4444444444444444,
                            "#bd3786"
                          ],
                          [
                            0.5555555555555556,
                            "#d8576b"
                          ],
                          [
                            0.6666666666666666,
                            "#ed7953"
                          ],
                          [
                            0.7777777777777778,
                            "#fb9f3a"
                          ],
                          [
                            0.8888888888888888,
                            "#fdca26"
                          ],
                          [
                            1,
                            "#f0f921"
                          ]
                        ],
                        "type": "surface"
                      }
                    ],
                    "table": [
                      {
                        "cells": {
                          "fill": {
                            "color": "#EBF0F8"
                          },
                          "line": {
                            "color": "white"
                          }
                        },
                        "header": {
                          "fill": {
                            "color": "#C8D4E3"
                          },
                          "line": {
                            "color": "white"
                          }
                        },
                        "type": "table"
                      }
                    ]
                  },
                  "layout": {
                    "annotationdefaults": {
                      "arrowcolor": "#2a3f5f",
                      "arrowhead": 0,
                      "arrowwidth": 1
                    },
                    "autotypenumbers": "strict",
                    "coloraxis": {
                      "colorbar": {
                        "outlinewidth": 0,
                        "ticks": ""
                      }
                    },
                    "colorscale": {
                      "diverging": [
                        [
                          0,
                          "#8e0152"
                        ],
                        [
                          0.1,
                          "#c51b7d"
                        ],
                        [
                          0.2,
                          "#de77ae"
                        ],
                        [
                          0.3,
                          "#f1b6da"
                        ],
                        [
                          0.4,
                          "#fde0ef"
                        ],
                        [
                          0.5,
                          "#f7f7f7"
                        ],
                        [
                          0.6,
                          "#e6f5d0"
                        ],
                        [
                          0.7,
                          "#b8e186"
                        ],
                        [
                          0.8,
                          "#7fbc41"
                        ],
                        [
                          0.9,
                          "#4d9221"
                        ],
                        [
                          1,
                          "#276419"
                        ]
                      ],
                      "sequential": [
                        [
                          0,
                          "#0d0887"
                        ],
                        [
                          0.1111111111111111,
                          "#46039f"
                        ],
                        [
                          0.2222222222222222,
                          "#7201a8"
                        ],
                        [
                          0.3333333333333333,
                          "#9c179e"
                        ],
                        [
                          0.4444444444444444,
                          "#bd3786"
                        ],
                        [
                          0.5555555555555556,
                          "#d8576b"
                        ],
                        [
                          0.6666666666666666,
                          "#ed7953"
                        ],
                        [
                          0.7777777777777778,
                          "#fb9f3a"
                        ],
                        [
                          0.8888888888888888,
                          "#fdca26"
                        ],
                        [
                          1,
                          "#f0f921"
                        ]
                      ],
                      "sequentialminus": [
                        [
                          0,
                          "#0d0887"
                        ],
                        [
                          0.1111111111111111,
                          "#46039f"
                        ],
                        [
                          0.2222222222222222,
                          "#7201a8"
                        ],
                        [
                          0.3333333333333333,
                          "#9c179e"
                        ],
                        [
                          0.4444444444444444,
                          "#bd3786"
                        ],
                        [
                          0.5555555555555556,
                          "#d8576b"
                        ],
                        [
                          0.6666666666666666,
                          "#ed7953"
                        ],
                        [
                          0.7777777777777778,
                          "#fb9f3a"
                        ],
                        [
                          0.8888888888888888,
                          "#fdca26"
                        ],
                        [
                          1,
                          "#f0f921"
                        ]
                      ]
                    },
                    "colorway": [
                      "#636efa",
                      "#EF553B",
                      "#00cc96",
                      "#ab63fa",
                      "#FFA15A",
                      "#19d3f3",
                      "#FF6692",
                      "#B6E880",
                      "#FF97FF",
                      "#FECB52"
                    ],
                    "font": {
                      "color": "#2a3f5f"
                    },
                    "geo": {
                      "bgcolor": "white",
                      "lakecolor": "white",
                      "landcolor": "#E5ECF6",
                      "showlakes": true,
                      "showland": true,
                      "subunitcolor": "white"
                    },
                    "hoverlabel": {
                      "align": "left"
                    },
                    "hovermode": "closest",
                    "mapbox": {
                      "style": "light"
                    },
                    "paper_bgcolor": "white",
                    "plot_bgcolor": "#E5ECF6",
                    "polar": {
                      "angularaxis": {
                        "gridcolor": "white",
                        "linecolor": "white",
                        "ticks": ""
                      },
                      "bgcolor": "#E5ECF6",
                      "radialaxis": {
                        "gridcolor": "white",
                        "linecolor": "white",
                        "ticks": ""
                      }
                    },
                    "scene": {
                      "xaxis": {
                        "backgroundcolor": "#E5ECF6",
                        "gridcolor": "white",
                        "gridwidth": 2,
                        "linecolor": "white",
                        "showbackground": true,
                        "ticks": "",
                        "zerolinecolor": "white"
                      },
                      "yaxis": {
                        "backgroundcolor": "#E5ECF6",
                        "gridcolor": "white",
                        "gridwidth": 2,
                        "linecolor": "white",
                        "showbackground": true,
                        "ticks": "",
                        "zerolinecolor": "white"
                      },
                      "zaxis": {
                        "backgroundcolor": "#E5ECF6",
                        "gridcolor": "white",
                        "gridwidth": 2,
                        "linecolor": "white",
                        "showbackground": true,
                        "ticks": "",
                        "zerolinecolor": "white"
                      }
                    },
                    "shapedefaults": {
                      "line": {
                        "color": "#2a3f5f"
                      }
                    },
                    "ternary": {
                      "aaxis": {
                        "gridcolor": "white",
                        "linecolor": "white",
                        "ticks": ""
                      },
                      "baxis": {
                        "gridcolor": "white",
                        "linecolor": "white",
                        "ticks": ""
                      },
                      "bgcolor": "#E5ECF6",
                      "caxis": {
                        "gridcolor": "white",
                        "linecolor": "white",
                        "ticks": ""
                      }
                    },
                    "title": {
                      "x": 0.05
                    },
                    "xaxis": {
                      "automargin": true,
                      "gridcolor": "white",
                      "linecolor": "white",
                      "ticks": "",
                      "title": {
                        "standoff": 15
                      },
                      "zerolinecolor": "white",
                      "zerolinewidth": 2
                    },
                    "yaxis": {
                      "automargin": true,
                      "gridcolor": "white",
                      "linecolor": "white",
                      "ticks": "",
                      "title": {
                        "standoff": 15
                      },
                      "zerolinecolor": "white",
                      "zerolinewidth": 2
                    }
                  }
                },
                "title": {
                  "text": "Optimization History Plot"
                },
                "xaxis": {
                  "title": {
                    "text": "Trial"
                  }
                },
                "yaxis": {
                  "title": {
                    "text": "Objective Value"
                  }
                }
              }
            }
          },
          "metadata": {},
          "output_type": "display_data"
        }
      ],
      "source": [
        "optuna.visualization.plot_optimization_history(study)"
      ]
    },
    {
      "cell_type": "code",
      "execution_count": 58,
      "metadata": {},
      "outputs": [
        {
          "data": {
            "application/vnd.plotly.v1+json": {
              "config": {
                "plotlyServerURL": "https://plot.ly"
              },
              "data": [
                {
                  "cliponaxis": false,
                  "hovertemplate": [
                    "min_child_weight (IntDistribution): 0.0023119548136194073<extra></extra>",
                    "importance_type (CategoricalDistribution): 0.003936884351504207<extra></extra>",
                    "gamma (FloatDistribution): 0.004971468038930866<extra></extra>",
                    "subsample (FloatDistribution): 0.008342758043650143<extra></extra>",
                    "n_estimators (IntDistribution): 0.033230677404682524<extra></extra>",
                    "reg_alpha (FloatDistribution): 0.03501481915146015<extra></extra>",
                    "colsample_bytree (FloatDistribution): 0.038031706607600524<extra></extra>",
                    "max_depth (IntDistribution): 0.05759655090305999<extra></extra>",
                    "reg_lambda (FloatDistribution): 0.13701810376170612<extra></extra>",
                    "learning_rate (FloatDistribution): 0.679545076923786<extra></extra>"
                  ],
                  "marker": {
                    "color": "rgb(66,146,198)"
                  },
                  "orientation": "h",
                  "text": [
                    "<0.01",
                    "<0.01",
                    "<0.01",
                    "<0.01",
                    "0.03",
                    "0.04",
                    "0.04",
                    "0.06",
                    "0.14",
                    "0.68"
                  ],
                  "textposition": "outside",
                  "type": "bar",
                  "x": [
                    0.0023119548136194073,
                    0.003936884351504207,
                    0.004971468038930866,
                    0.008342758043650143,
                    0.033230677404682524,
                    0.03501481915146015,
                    0.038031706607600524,
                    0.05759655090305999,
                    0.13701810376170612,
                    0.679545076923786
                  ],
                  "y": [
                    "min_child_weight",
                    "importance_type",
                    "gamma",
                    "subsample",
                    "n_estimators",
                    "reg_alpha",
                    "colsample_bytree",
                    "max_depth",
                    "reg_lambda",
                    "learning_rate"
                  ]
                }
              ],
              "layout": {
                "showlegend": false,
                "template": {
                  "data": {
                    "bar": [
                      {
                        "error_x": {
                          "color": "#2a3f5f"
                        },
                        "error_y": {
                          "color": "#2a3f5f"
                        },
                        "marker": {
                          "line": {
                            "color": "#E5ECF6",
                            "width": 0.5
                          },
                          "pattern": {
                            "fillmode": "overlay",
                            "size": 10,
                            "solidity": 0.2
                          }
                        },
                        "type": "bar"
                      }
                    ],
                    "barpolar": [
                      {
                        "marker": {
                          "line": {
                            "color": "#E5ECF6",
                            "width": 0.5
                          },
                          "pattern": {
                            "fillmode": "overlay",
                            "size": 10,
                            "solidity": 0.2
                          }
                        },
                        "type": "barpolar"
                      }
                    ],
                    "carpet": [
                      {
                        "aaxis": {
                          "endlinecolor": "#2a3f5f",
                          "gridcolor": "white",
                          "linecolor": "white",
                          "minorgridcolor": "white",
                          "startlinecolor": "#2a3f5f"
                        },
                        "baxis": {
                          "endlinecolor": "#2a3f5f",
                          "gridcolor": "white",
                          "linecolor": "white",
                          "minorgridcolor": "white",
                          "startlinecolor": "#2a3f5f"
                        },
                        "type": "carpet"
                      }
                    ],
                    "choropleth": [
                      {
                        "colorbar": {
                          "outlinewidth": 0,
                          "ticks": ""
                        },
                        "type": "choropleth"
                      }
                    ],
                    "contour": [
                      {
                        "colorbar": {
                          "outlinewidth": 0,
                          "ticks": ""
                        },
                        "colorscale": [
                          [
                            0,
                            "#0d0887"
                          ],
                          [
                            0.1111111111111111,
                            "#46039f"
                          ],
                          [
                            0.2222222222222222,
                            "#7201a8"
                          ],
                          [
                            0.3333333333333333,
                            "#9c179e"
                          ],
                          [
                            0.4444444444444444,
                            "#bd3786"
                          ],
                          [
                            0.5555555555555556,
                            "#d8576b"
                          ],
                          [
                            0.6666666666666666,
                            "#ed7953"
                          ],
                          [
                            0.7777777777777778,
                            "#fb9f3a"
                          ],
                          [
                            0.8888888888888888,
                            "#fdca26"
                          ],
                          [
                            1,
                            "#f0f921"
                          ]
                        ],
                        "type": "contour"
                      }
                    ],
                    "contourcarpet": [
                      {
                        "colorbar": {
                          "outlinewidth": 0,
                          "ticks": ""
                        },
                        "type": "contourcarpet"
                      }
                    ],
                    "heatmap": [
                      {
                        "colorbar": {
                          "outlinewidth": 0,
                          "ticks": ""
                        },
                        "colorscale": [
                          [
                            0,
                            "#0d0887"
                          ],
                          [
                            0.1111111111111111,
                            "#46039f"
                          ],
                          [
                            0.2222222222222222,
                            "#7201a8"
                          ],
                          [
                            0.3333333333333333,
                            "#9c179e"
                          ],
                          [
                            0.4444444444444444,
                            "#bd3786"
                          ],
                          [
                            0.5555555555555556,
                            "#d8576b"
                          ],
                          [
                            0.6666666666666666,
                            "#ed7953"
                          ],
                          [
                            0.7777777777777778,
                            "#fb9f3a"
                          ],
                          [
                            0.8888888888888888,
                            "#fdca26"
                          ],
                          [
                            1,
                            "#f0f921"
                          ]
                        ],
                        "type": "heatmap"
                      }
                    ],
                    "heatmapgl": [
                      {
                        "colorbar": {
                          "outlinewidth": 0,
                          "ticks": ""
                        },
                        "colorscale": [
                          [
                            0,
                            "#0d0887"
                          ],
                          [
                            0.1111111111111111,
                            "#46039f"
                          ],
                          [
                            0.2222222222222222,
                            "#7201a8"
                          ],
                          [
                            0.3333333333333333,
                            "#9c179e"
                          ],
                          [
                            0.4444444444444444,
                            "#bd3786"
                          ],
                          [
                            0.5555555555555556,
                            "#d8576b"
                          ],
                          [
                            0.6666666666666666,
                            "#ed7953"
                          ],
                          [
                            0.7777777777777778,
                            "#fb9f3a"
                          ],
                          [
                            0.8888888888888888,
                            "#fdca26"
                          ],
                          [
                            1,
                            "#f0f921"
                          ]
                        ],
                        "type": "heatmapgl"
                      }
                    ],
                    "histogram": [
                      {
                        "marker": {
                          "pattern": {
                            "fillmode": "overlay",
                            "size": 10,
                            "solidity": 0.2
                          }
                        },
                        "type": "histogram"
                      }
                    ],
                    "histogram2d": [
                      {
                        "colorbar": {
                          "outlinewidth": 0,
                          "ticks": ""
                        },
                        "colorscale": [
                          [
                            0,
                            "#0d0887"
                          ],
                          [
                            0.1111111111111111,
                            "#46039f"
                          ],
                          [
                            0.2222222222222222,
                            "#7201a8"
                          ],
                          [
                            0.3333333333333333,
                            "#9c179e"
                          ],
                          [
                            0.4444444444444444,
                            "#bd3786"
                          ],
                          [
                            0.5555555555555556,
                            "#d8576b"
                          ],
                          [
                            0.6666666666666666,
                            "#ed7953"
                          ],
                          [
                            0.7777777777777778,
                            "#fb9f3a"
                          ],
                          [
                            0.8888888888888888,
                            "#fdca26"
                          ],
                          [
                            1,
                            "#f0f921"
                          ]
                        ],
                        "type": "histogram2d"
                      }
                    ],
                    "histogram2dcontour": [
                      {
                        "colorbar": {
                          "outlinewidth": 0,
                          "ticks": ""
                        },
                        "colorscale": [
                          [
                            0,
                            "#0d0887"
                          ],
                          [
                            0.1111111111111111,
                            "#46039f"
                          ],
                          [
                            0.2222222222222222,
                            "#7201a8"
                          ],
                          [
                            0.3333333333333333,
                            "#9c179e"
                          ],
                          [
                            0.4444444444444444,
                            "#bd3786"
                          ],
                          [
                            0.5555555555555556,
                            "#d8576b"
                          ],
                          [
                            0.6666666666666666,
                            "#ed7953"
                          ],
                          [
                            0.7777777777777778,
                            "#fb9f3a"
                          ],
                          [
                            0.8888888888888888,
                            "#fdca26"
                          ],
                          [
                            1,
                            "#f0f921"
                          ]
                        ],
                        "type": "histogram2dcontour"
                      }
                    ],
                    "mesh3d": [
                      {
                        "colorbar": {
                          "outlinewidth": 0,
                          "ticks": ""
                        },
                        "type": "mesh3d"
                      }
                    ],
                    "parcoords": [
                      {
                        "line": {
                          "colorbar": {
                            "outlinewidth": 0,
                            "ticks": ""
                          }
                        },
                        "type": "parcoords"
                      }
                    ],
                    "pie": [
                      {
                        "automargin": true,
                        "type": "pie"
                      }
                    ],
                    "scatter": [
                      {
                        "fillpattern": {
                          "fillmode": "overlay",
                          "size": 10,
                          "solidity": 0.2
                        },
                        "type": "scatter"
                      }
                    ],
                    "scatter3d": [
                      {
                        "line": {
                          "colorbar": {
                            "outlinewidth": 0,
                            "ticks": ""
                          }
                        },
                        "marker": {
                          "colorbar": {
                            "outlinewidth": 0,
                            "ticks": ""
                          }
                        },
                        "type": "scatter3d"
                      }
                    ],
                    "scattercarpet": [
                      {
                        "marker": {
                          "colorbar": {
                            "outlinewidth": 0,
                            "ticks": ""
                          }
                        },
                        "type": "scattercarpet"
                      }
                    ],
                    "scattergeo": [
                      {
                        "marker": {
                          "colorbar": {
                            "outlinewidth": 0,
                            "ticks": ""
                          }
                        },
                        "type": "scattergeo"
                      }
                    ],
                    "scattergl": [
                      {
                        "marker": {
                          "colorbar": {
                            "outlinewidth": 0,
                            "ticks": ""
                          }
                        },
                        "type": "scattergl"
                      }
                    ],
                    "scattermapbox": [
                      {
                        "marker": {
                          "colorbar": {
                            "outlinewidth": 0,
                            "ticks": ""
                          }
                        },
                        "type": "scattermapbox"
                      }
                    ],
                    "scatterpolar": [
                      {
                        "marker": {
                          "colorbar": {
                            "outlinewidth": 0,
                            "ticks": ""
                          }
                        },
                        "type": "scatterpolar"
                      }
                    ],
                    "scatterpolargl": [
                      {
                        "marker": {
                          "colorbar": {
                            "outlinewidth": 0,
                            "ticks": ""
                          }
                        },
                        "type": "scatterpolargl"
                      }
                    ],
                    "scatterternary": [
                      {
                        "marker": {
                          "colorbar": {
                            "outlinewidth": 0,
                            "ticks": ""
                          }
                        },
                        "type": "scatterternary"
                      }
                    ],
                    "surface": [
                      {
                        "colorbar": {
                          "outlinewidth": 0,
                          "ticks": ""
                        },
                        "colorscale": [
                          [
                            0,
                            "#0d0887"
                          ],
                          [
                            0.1111111111111111,
                            "#46039f"
                          ],
                          [
                            0.2222222222222222,
                            "#7201a8"
                          ],
                          [
                            0.3333333333333333,
                            "#9c179e"
                          ],
                          [
                            0.4444444444444444,
                            "#bd3786"
                          ],
                          [
                            0.5555555555555556,
                            "#d8576b"
                          ],
                          [
                            0.6666666666666666,
                            "#ed7953"
                          ],
                          [
                            0.7777777777777778,
                            "#fb9f3a"
                          ],
                          [
                            0.8888888888888888,
                            "#fdca26"
                          ],
                          [
                            1,
                            "#f0f921"
                          ]
                        ],
                        "type": "surface"
                      }
                    ],
                    "table": [
                      {
                        "cells": {
                          "fill": {
                            "color": "#EBF0F8"
                          },
                          "line": {
                            "color": "white"
                          }
                        },
                        "header": {
                          "fill": {
                            "color": "#C8D4E3"
                          },
                          "line": {
                            "color": "white"
                          }
                        },
                        "type": "table"
                      }
                    ]
                  },
                  "layout": {
                    "annotationdefaults": {
                      "arrowcolor": "#2a3f5f",
                      "arrowhead": 0,
                      "arrowwidth": 1
                    },
                    "autotypenumbers": "strict",
                    "coloraxis": {
                      "colorbar": {
                        "outlinewidth": 0,
                        "ticks": ""
                      }
                    },
                    "colorscale": {
                      "diverging": [
                        [
                          0,
                          "#8e0152"
                        ],
                        [
                          0.1,
                          "#c51b7d"
                        ],
                        [
                          0.2,
                          "#de77ae"
                        ],
                        [
                          0.3,
                          "#f1b6da"
                        ],
                        [
                          0.4,
                          "#fde0ef"
                        ],
                        [
                          0.5,
                          "#f7f7f7"
                        ],
                        [
                          0.6,
                          "#e6f5d0"
                        ],
                        [
                          0.7,
                          "#b8e186"
                        ],
                        [
                          0.8,
                          "#7fbc41"
                        ],
                        [
                          0.9,
                          "#4d9221"
                        ],
                        [
                          1,
                          "#276419"
                        ]
                      ],
                      "sequential": [
                        [
                          0,
                          "#0d0887"
                        ],
                        [
                          0.1111111111111111,
                          "#46039f"
                        ],
                        [
                          0.2222222222222222,
                          "#7201a8"
                        ],
                        [
                          0.3333333333333333,
                          "#9c179e"
                        ],
                        [
                          0.4444444444444444,
                          "#bd3786"
                        ],
                        [
                          0.5555555555555556,
                          "#d8576b"
                        ],
                        [
                          0.6666666666666666,
                          "#ed7953"
                        ],
                        [
                          0.7777777777777778,
                          "#fb9f3a"
                        ],
                        [
                          0.8888888888888888,
                          "#fdca26"
                        ],
                        [
                          1,
                          "#f0f921"
                        ]
                      ],
                      "sequentialminus": [
                        [
                          0,
                          "#0d0887"
                        ],
                        [
                          0.1111111111111111,
                          "#46039f"
                        ],
                        [
                          0.2222222222222222,
                          "#7201a8"
                        ],
                        [
                          0.3333333333333333,
                          "#9c179e"
                        ],
                        [
                          0.4444444444444444,
                          "#bd3786"
                        ],
                        [
                          0.5555555555555556,
                          "#d8576b"
                        ],
                        [
                          0.6666666666666666,
                          "#ed7953"
                        ],
                        [
                          0.7777777777777778,
                          "#fb9f3a"
                        ],
                        [
                          0.8888888888888888,
                          "#fdca26"
                        ],
                        [
                          1,
                          "#f0f921"
                        ]
                      ]
                    },
                    "colorway": [
                      "#636efa",
                      "#EF553B",
                      "#00cc96",
                      "#ab63fa",
                      "#FFA15A",
                      "#19d3f3",
                      "#FF6692",
                      "#B6E880",
                      "#FF97FF",
                      "#FECB52"
                    ],
                    "font": {
                      "color": "#2a3f5f"
                    },
                    "geo": {
                      "bgcolor": "white",
                      "lakecolor": "white",
                      "landcolor": "#E5ECF6",
                      "showlakes": true,
                      "showland": true,
                      "subunitcolor": "white"
                    },
                    "hoverlabel": {
                      "align": "left"
                    },
                    "hovermode": "closest",
                    "mapbox": {
                      "style": "light"
                    },
                    "paper_bgcolor": "white",
                    "plot_bgcolor": "#E5ECF6",
                    "polar": {
                      "angularaxis": {
                        "gridcolor": "white",
                        "linecolor": "white",
                        "ticks": ""
                      },
                      "bgcolor": "#E5ECF6",
                      "radialaxis": {
                        "gridcolor": "white",
                        "linecolor": "white",
                        "ticks": ""
                      }
                    },
                    "scene": {
                      "xaxis": {
                        "backgroundcolor": "#E5ECF6",
                        "gridcolor": "white",
                        "gridwidth": 2,
                        "linecolor": "white",
                        "showbackground": true,
                        "ticks": "",
                        "zerolinecolor": "white"
                      },
                      "yaxis": {
                        "backgroundcolor": "#E5ECF6",
                        "gridcolor": "white",
                        "gridwidth": 2,
                        "linecolor": "white",
                        "showbackground": true,
                        "ticks": "",
                        "zerolinecolor": "white"
                      },
                      "zaxis": {
                        "backgroundcolor": "#E5ECF6",
                        "gridcolor": "white",
                        "gridwidth": 2,
                        "linecolor": "white",
                        "showbackground": true,
                        "ticks": "",
                        "zerolinecolor": "white"
                      }
                    },
                    "shapedefaults": {
                      "line": {
                        "color": "#2a3f5f"
                      }
                    },
                    "ternary": {
                      "aaxis": {
                        "gridcolor": "white",
                        "linecolor": "white",
                        "ticks": ""
                      },
                      "baxis": {
                        "gridcolor": "white",
                        "linecolor": "white",
                        "ticks": ""
                      },
                      "bgcolor": "#E5ECF6",
                      "caxis": {
                        "gridcolor": "white",
                        "linecolor": "white",
                        "ticks": ""
                      }
                    },
                    "title": {
                      "x": 0.05
                    },
                    "xaxis": {
                      "automargin": true,
                      "gridcolor": "white",
                      "linecolor": "white",
                      "ticks": "",
                      "title": {
                        "standoff": 15
                      },
                      "zerolinecolor": "white",
                      "zerolinewidth": 2
                    },
                    "yaxis": {
                      "automargin": true,
                      "gridcolor": "white",
                      "linecolor": "white",
                      "ticks": "",
                      "title": {
                        "standoff": 15
                      },
                      "zerolinecolor": "white",
                      "zerolinewidth": 2
                    }
                  }
                },
                "title": {
                  "text": "Hyperparameter Importances"
                },
                "xaxis": {
                  "title": {
                    "text": "Importance for Objective Value"
                  }
                },
                "yaxis": {
                  "title": {
                    "text": "Hyperparameter"
                  }
                }
              }
            }
          },
          "metadata": {},
          "output_type": "display_data"
        }
      ],
      "source": [
        "optuna.visualization.plot_param_importances(study)"
      ]
    },
    {
      "cell_type": "code",
      "execution_count": 59,
      "metadata": {},
      "outputs": [
        {
          "data": {
            "application/vnd.plotly.v1+json": {
              "config": {
                "plotlyServerURL": "https://plot.ly"
              },
              "data": [
                {
                  "marker": {
                    "color": [
                      0,
                      1,
                      2,
                      3,
                      4,
                      5,
                      6,
                      7,
                      8,
                      9,
                      10,
                      11,
                      12,
                      13,
                      14,
                      15,
                      16,
                      17,
                      18,
                      19,
                      20,
                      21,
                      22,
                      23,
                      24,
                      25,
                      26,
                      27,
                      28,
                      29,
                      30,
                      31,
                      32,
                      33,
                      34,
                      35,
                      36,
                      37,
                      38,
                      39,
                      40,
                      41,
                      42,
                      43,
                      44,
                      45,
                      46,
                      47,
                      48,
                      49,
                      50,
                      51,
                      52,
                      53,
                      54,
                      55,
                      56,
                      57,
                      58,
                      59,
                      60,
                      61,
                      62,
                      63,
                      64,
                      65,
                      66,
                      67,
                      68,
                      69,
                      70,
                      71,
                      72,
                      73,
                      74,
                      75,
                      76,
                      77,
                      78,
                      79,
                      80,
                      81,
                      82,
                      83,
                      84,
                      85,
                      86,
                      87,
                      88,
                      89,
                      90,
                      91,
                      92,
                      93,
                      94,
                      95,
                      96,
                      97,
                      98,
                      99
                    ],
                    "colorbar": {
                      "title": {
                        "text": "Trial"
                      },
                      "x": 1,
                      "xpad": 40
                    },
                    "colorscale": [
                      [
                        0,
                        "rgb(247,251,255)"
                      ],
                      [
                        0.125,
                        "rgb(222,235,247)"
                      ],
                      [
                        0.25,
                        "rgb(198,219,239)"
                      ],
                      [
                        0.375,
                        "rgb(158,202,225)"
                      ],
                      [
                        0.5,
                        "rgb(107,174,214)"
                      ],
                      [
                        0.625,
                        "rgb(66,146,198)"
                      ],
                      [
                        0.75,
                        "rgb(33,113,181)"
                      ],
                      [
                        0.875,
                        "rgb(8,81,156)"
                      ],
                      [
                        1,
                        "rgb(8,48,107)"
                      ]
                    ],
                    "line": {
                      "color": "Grey",
                      "width": 0.5
                    },
                    "showscale": true
                  },
                  "mode": "markers",
                  "showlegend": false,
                  "type": "scatter",
                  "x": [
                    0.9849549260809971,
                    0.8925879806965068,
                    0.7200762468698007,
                    0.9474136752138245,
                    0.9010984903770198,
                    0.811649063413779,
                    0.7468977981821954,
                    0.5384899549143964,
                    0.5550259622638384,
                    0.8515094794475889,
                    0.6962264460513162,
                    0.8029429019098182,
                    0.695140379844734,
                    0.7620580754828066,
                    0.643954649732532,
                    0.808790240578726,
                    0.6157490574574946,
                    0.7567718965303698,
                    0.8202702787093918,
                    0.5058104808137764,
                    0.8805991604929908,
                    0.8638687768356054,
                    0.9316897386942563,
                    0.8392107436082175,
                    0.8595166451254908,
                    0.8425233100341705,
                    0.8283474862903881,
                    0.7912493416550591,
                    0.8553519284212932,
                    0.976355140568644,
                    0.9182892243894218,
                    0.8597539956854516,
                    0.8874571940541562,
                    0.8936715020405264,
                    0.8897194211138154,
                    0.9673445518064642,
                    0.983484396779841,
                    0.9952079071715045,
                    0.9764104021195255,
                    0.9513586198938413,
                    0.9468261467351887,
                    0.9109820072266485,
                    0.9283130778839941,
                    0.916708030164482,
                    0.9618617199495848,
                    0.9964589145698454,
                    0.9650171191034607,
                    0.9185153597483593,
                    0.9616844349242166,
                    0.9797662194579903,
                    0.9927862136915864,
                    0.9729218535976105,
                    0.9424991335389479,
                    0.9129987336407704,
                    0.9598593467984251,
                    0.9349770773285585,
                    0.9066751257927856,
                    0.9784723882055074,
                    0.985077136597312,
                    0.9987676021321193,
                    0.9828514659102916,
                    0.9837466659615497,
                    0.9807457303911606,
                    0.9421280458169979,
                    0.9538951114582219,
                    0.9800237810936627,
                    0.9999484485625738,
                    0.9666409956336199,
                    0.9346479971686636,
                    0.9350092695816498,
                    0.9839464446343114,
                    0.9860662617891883,
                    0.9526907861169867,
                    0.9553249071129946,
                    0.9517560627375807,
                    0.967484439878153,
                    0.9650250655282132,
                    0.9289663309393433,
                    0.9427443965400568,
                    0.9016047707200453,
                    0.8762190536739165,
                    0.8735983844763205,
                    0.906428287527652,
                    0.8949553824775901,
                    0.9281133290497993,
                    0.9444398552775357,
                    0.8777531501819572,
                    0.9721097481076176,
                    0.9019585309657603,
                    0.9882607072684555,
                    0.9210154386487438,
                    0.972439196811536,
                    0.9394558905437165,
                    0.9715506353269237,
                    0.9886466801161605,
                    0.9430224629737123,
                    0.942347034064655,
                    0.9999137745950955,
                    0.988678790501663,
                    0.9921053598523986
                  ],
                  "xaxis": "x",
                  "y": [
                    -0.08112865438379424,
                    -0.11061844709684014,
                    -0.06047573233146104,
                    -0.13966037100657638,
                    -0.08776069009277021,
                    -0.063121854488823,
                    -0.09054659796541205,
                    -0.14345781844615096,
                    -0.06759093714415214,
                    -0.07369356659319123,
                    -0.06711311304001702,
                    -0.062001291008263335,
                    -0.063692238105991,
                    -0.06714442486146463,
                    -0.07073697153523176,
                    -0.06257894439004269,
                    -0.06647607145442115,
                    -0.06267931657183709,
                    -0.058838788072022676,
                    -0.06525357906648217,
                    -0.06043644581670782,
                    -0.06110998303612798,
                    -0.06121890859999389,
                    -0.059575909170216226,
                    -0.059435449623036665,
                    -0.061599301000005414,
                    -0.06090812845373531,
                    -0.0633940200050566,
                    -0.059905045059785014,
                    -0.06536351042433994,
                    -0.06001952466162715,
                    -0.05986419839918633,
                    -0.05938161408154583,
                    -0.061449066679765595,
                    -0.06098073337438189,
                    -0.05861232664172976,
                    -0.05852956836974719,
                    -0.06278790070698884,
                    -0.06021417332838271,
                    -0.05966261983904122,
                    -0.06070613492481116,
                    -0.058563535266344224,
                    -0.05888731017321781,
                    -0.05877608710188927,
                    -0.0588315664489248,
                    -0.0747788227451321,
                    -0.06321749692572734,
                    -0.05912879019454931,
                    -0.06478650729551516,
                    -0.058665219180209484,
                    -0.06474693748146398,
                    -0.059275965130095365,
                    -0.06008198765058661,
                    -0.061295211116355074,
                    -0.059861998683485226,
                    -0.06059154579188353,
                    -0.06178596966809069,
                    -0.05642776884842336,
                    -0.0558746512948155,
                    -0.0621419191370455,
                    -0.05850933631345383,
                    -0.058453092300592924,
                    -0.05889205171808496,
                    -0.05904621373077269,
                    -0.059090632004804924,
                    -0.06326581340568585,
                    -0.05930108450377157,
                    -0.058135654676207724,
                    -0.057979540940443816,
                    -0.05854488618556073,
                    -0.057486378832834105,
                    -0.05753967534888047,
                    -0.05829650153515842,
                    -0.058386651764411615,
                    -0.05841507907722197,
                    -0.0578054886599227,
                    -0.06099516278014069,
                    -0.058496564558059426,
                    -0.05732587489394229,
                    -0.057816961695889825,
                    -0.05797780513001938,
                    -0.058306518797948584,
                    -0.05838384985250304,
                    -0.05857335270467464,
                    -0.05806612853651495,
                    -0.05875232199695509,
                    -0.0665849322237836,
                    -0.05799110360247861,
                    -0.05823887474899497,
                    -0.05838715205192455,
                    -0.06597151723138919,
                    -0.05784571407758867,
                    -0.05795903682102506,
                    -0.0586912713461505,
                    -0.05828053661343395,
                    -0.057839216600001644,
                    -0.06085345281994152,
                    -0.05777448847466885,
                    -0.05758313422820912,
                    -0.058214123924190175
                  ],
                  "yaxis": "y"
                },
                {
                  "marker": {
                    "color": [
                      0,
                      1,
                      2,
                      3,
                      4,
                      5,
                      6,
                      7,
                      8,
                      9,
                      10,
                      11,
                      12,
                      13,
                      14,
                      15,
                      16,
                      17,
                      18,
                      19,
                      20,
                      21,
                      22,
                      23,
                      24,
                      25,
                      26,
                      27,
                      28,
                      29,
                      30,
                      31,
                      32,
                      33,
                      34,
                      35,
                      36,
                      37,
                      38,
                      39,
                      40,
                      41,
                      42,
                      43,
                      44,
                      45,
                      46,
                      47,
                      48,
                      49,
                      50,
                      51,
                      52,
                      53,
                      54,
                      55,
                      56,
                      57,
                      58,
                      59,
                      60,
                      61,
                      62,
                      63,
                      64,
                      65,
                      66,
                      67,
                      68,
                      69,
                      70,
                      71,
                      72,
                      73,
                      74,
                      75,
                      76,
                      77,
                      78,
                      79,
                      80,
                      81,
                      82,
                      83,
                      84,
                      85,
                      86,
                      87,
                      88,
                      89,
                      90,
                      91,
                      92,
                      93,
                      94,
                      95,
                      96,
                      97,
                      98,
                      99
                    ],
                    "colorbar": {
                      "title": {
                        "text": "Trial"
                      },
                      "x": 1,
                      "xpad": 40
                    },
                    "colorscale": [
                      [
                        0,
                        "rgb(247,251,255)"
                      ],
                      [
                        0.125,
                        "rgb(222,235,247)"
                      ],
                      [
                        0.25,
                        "rgb(198,219,239)"
                      ],
                      [
                        0.375,
                        "rgb(158,202,225)"
                      ],
                      [
                        0.5,
                        "rgb(107,174,214)"
                      ],
                      [
                        0.625,
                        "rgb(66,146,198)"
                      ],
                      [
                        0.75,
                        "rgb(33,113,181)"
                      ],
                      [
                        0.875,
                        "rgb(8,81,156)"
                      ],
                      [
                        1,
                        "rgb(8,48,107)"
                      ]
                    ],
                    "line": {
                      "color": "Grey",
                      "width": 0.5
                    },
                    "showscale": false
                  },
                  "mode": "markers",
                  "showlegend": false,
                  "type": "scatter",
                  "x": [
                    0.8324426408004217,
                    0.19967378215835974,
                    0.12203823484477883,
                    0.5978999788110851,
                    0.07455064367977082,
                    0.3308980248526492,
                    0.5227328293819941,
                    0.289751452913768,
                    0.22793516254194168,
                    0.363629602379294,
                    0.03494275530316397,
                    0.006268447165769991,
                    0.04194523675752124,
                    0.013799010346731717,
                    0.15396152217986755,
                    0.14360920334143815,
                    0.3896311863399541,
                    0.0034555415288786504,
                    0.14859100232744302,
                    0.2547196294699663,
                    0.13073714754988763,
                    0.13677960051883234,
                    0.12370557453035448,
                    0.1963288713025199,
                    0.22698477376440862,
                    0.23391282494445484,
                    0.4176257693089477,
                    0.21549548359540793,
                    0.2705800103865266,
                    0.4752699277053908,
                    0.30720668784355076,
                    0.28929968825819297,
                    0.32374701202820866,
                    0.2066796504483277,
                    0.18317482305857716,
                    0.10054300344795417,
                    0.08820405628190904,
                    0.10253838994079667,
                    0.0986360269945325,
                    0.07862381492754246,
                    0.0786344929032399,
                    0.1852232757978757,
                    0.1590500112802289,
                    0.16787788215075877,
                    0.05649128926085509,
                    0.047702193064534715,
                    0.04451898746869632,
                    0.08344397381346262,
                    0.17591130179099365,
                    0.05856952814691804,
                    0.012412947842302319,
                    0.06668230157991603,
                    0.11258619470308921,
                    0.04791963361895757,
                    0.1823430094269149,
                    0.008642587520274608,
                    0.10726783025901448,
                    0.15247167010421014,
                    0.15116883369460515,
                    0.2583346705390247,
                    0.14394201104652876,
                    0.13268820544728668,
                    0.13764586398325976,
                    0.23023318703460838,
                    0.13110345110296834,
                    0.1991936123028603,
                    0.25437998336741974,
                    0.15674487883872082,
                    0.15778501012843824,
                    0.14704074511383486,
                    0.35322256317436895,
                    0.214639947338324,
                    0.21297690977663541,
                    0.2915701361143491,
                    0.3461656188514804,
                    0.29999411771134593,
                    0.22424500350254578,
                    0.2903782687980794,
                    0.24710554973297807,
                    0.3267742864572751,
                    0.32113217102683195,
                    0.3214782911732775,
                    0.36616893750663804,
                    0.2534179819980649,
                    0.30724058533571497,
                    0.40229483771122365,
                    0.34827711574119163,
                    0.27224774675557434,
                    0.24234105249090004,
                    0.27544741888571667,
                    0.2096926359729053,
                    0.26891011351727107,
                    0.3150487624058167,
                    0.3722409759458736,
                    0.3307699436901452,
                    0.2997150144831909,
                    0.24183814879749863,
                    0.2930929661977148,
                    0.2905058355971665,
                    0.2879639672596186
                  ],
                  "xaxis": "x2",
                  "y": [
                    -0.08112865438379424,
                    -0.11061844709684014,
                    -0.06047573233146104,
                    -0.13966037100657638,
                    -0.08776069009277021,
                    -0.063121854488823,
                    -0.09054659796541205,
                    -0.14345781844615096,
                    -0.06759093714415214,
                    -0.07369356659319123,
                    -0.06711311304001702,
                    -0.062001291008263335,
                    -0.063692238105991,
                    -0.06714442486146463,
                    -0.07073697153523176,
                    -0.06257894439004269,
                    -0.06647607145442115,
                    -0.06267931657183709,
                    -0.058838788072022676,
                    -0.06525357906648217,
                    -0.06043644581670782,
                    -0.06110998303612798,
                    -0.06121890859999389,
                    -0.059575909170216226,
                    -0.059435449623036665,
                    -0.061599301000005414,
                    -0.06090812845373531,
                    -0.0633940200050566,
                    -0.059905045059785014,
                    -0.06536351042433994,
                    -0.06001952466162715,
                    -0.05986419839918633,
                    -0.05938161408154583,
                    -0.061449066679765595,
                    -0.06098073337438189,
                    -0.05861232664172976,
                    -0.05852956836974719,
                    -0.06278790070698884,
                    -0.06021417332838271,
                    -0.05966261983904122,
                    -0.06070613492481116,
                    -0.058563535266344224,
                    -0.05888731017321781,
                    -0.05877608710188927,
                    -0.0588315664489248,
                    -0.0747788227451321,
                    -0.06321749692572734,
                    -0.05912879019454931,
                    -0.06478650729551516,
                    -0.058665219180209484,
                    -0.06474693748146398,
                    -0.059275965130095365,
                    -0.06008198765058661,
                    -0.061295211116355074,
                    -0.059861998683485226,
                    -0.06059154579188353,
                    -0.06178596966809069,
                    -0.05642776884842336,
                    -0.0558746512948155,
                    -0.0621419191370455,
                    -0.05850933631345383,
                    -0.058453092300592924,
                    -0.05889205171808496,
                    -0.05904621373077269,
                    -0.059090632004804924,
                    -0.06326581340568585,
                    -0.05930108450377157,
                    -0.058135654676207724,
                    -0.057979540940443816,
                    -0.05854488618556073,
                    -0.057486378832834105,
                    -0.05753967534888047,
                    -0.05829650153515842,
                    -0.058386651764411615,
                    -0.05841507907722197,
                    -0.0578054886599227,
                    -0.06099516278014069,
                    -0.058496564558059426,
                    -0.05732587489394229,
                    -0.057816961695889825,
                    -0.05797780513001938,
                    -0.058306518797948584,
                    -0.05838384985250304,
                    -0.05857335270467464,
                    -0.05806612853651495,
                    -0.05875232199695509,
                    -0.0665849322237836,
                    -0.05799110360247861,
                    -0.05823887474899497,
                    -0.05838715205192455,
                    -0.06597151723138919,
                    -0.05784571407758867,
                    -0.05795903682102506,
                    -0.0586912713461505,
                    -0.05828053661343395,
                    -0.057839216600001644,
                    -0.06085345281994152,
                    -0.05777448847466885,
                    -0.05758313422820912,
                    -0.058214123924190175
                  ],
                  "yaxis": "y2"
                },
                {
                  "marker": {
                    "color": [
                      0,
                      1,
                      2,
                      3,
                      4,
                      5,
                      6,
                      7,
                      8,
                      9,
                      10,
                      11,
                      12,
                      13,
                      14,
                      15,
                      16,
                      17,
                      18,
                      19,
                      20,
                      21,
                      22,
                      23,
                      24,
                      25,
                      26,
                      27,
                      28,
                      29,
                      30,
                      31,
                      32,
                      33,
                      34,
                      35,
                      36,
                      37,
                      38,
                      39,
                      40,
                      41,
                      42,
                      43,
                      44,
                      45,
                      46,
                      47,
                      48,
                      49,
                      50,
                      51,
                      52,
                      53,
                      54,
                      55,
                      56,
                      57,
                      58,
                      59,
                      60,
                      61,
                      62,
                      63,
                      64,
                      65,
                      66,
                      67,
                      68,
                      69,
                      70,
                      71,
                      72,
                      73,
                      74,
                      75,
                      76,
                      77,
                      78,
                      79,
                      80,
                      81,
                      82,
                      83,
                      84,
                      85,
                      86,
                      87,
                      88,
                      89,
                      90,
                      91,
                      92,
                      93,
                      94,
                      95,
                      96,
                      97,
                      98,
                      99
                    ],
                    "colorbar": {
                      "title": {
                        "text": "Trial"
                      },
                      "x": 1,
                      "xpad": 40
                    },
                    "colorscale": [
                      [
                        0,
                        "rgb(247,251,255)"
                      ],
                      [
                        0.125,
                        "rgb(222,235,247)"
                      ],
                      [
                        0.25,
                        "rgb(198,219,239)"
                      ],
                      [
                        0.375,
                        "rgb(158,202,225)"
                      ],
                      [
                        0.5,
                        "rgb(107,174,214)"
                      ],
                      [
                        0.625,
                        "rgb(66,146,198)"
                      ],
                      [
                        0.75,
                        "rgb(33,113,181)"
                      ],
                      [
                        0.875,
                        "rgb(8,81,156)"
                      ],
                      [
                        1,
                        "rgb(8,48,107)"
                      ]
                    ],
                    "line": {
                      "color": "Grey",
                      "width": 0.5
                    },
                    "showscale": false
                  },
                  "mode": "markers",
                  "showlegend": false,
                  "type": "scatter",
                  "x": [
                    "gain",
                    "cover",
                    "total_cover",
                    "gain",
                    "total_gain",
                    "cover",
                    "total_gain",
                    "cover",
                    "cover",
                    "gain",
                    "total_cover",
                    "weight",
                    "weight",
                    "total_cover",
                    "weight",
                    "total_cover",
                    "weight",
                    "total_cover",
                    "weight",
                    "weight",
                    "total_cover",
                    "total_cover",
                    "total_cover",
                    "total_cover",
                    "total_cover",
                    "total_gain",
                    "weight",
                    "total_cover",
                    "total_cover",
                    "gain",
                    "weight",
                    "total_cover",
                    "total_cover",
                    "total_cover",
                    "total_cover",
                    "gain",
                    "gain",
                    "gain",
                    "gain",
                    "gain",
                    "gain",
                    "gain",
                    "gain",
                    "gain",
                    "gain",
                    "gain",
                    "gain",
                    "gain",
                    "gain",
                    "cover",
                    "cover",
                    "gain",
                    "cover",
                    "cover",
                    "gain",
                    "total_gain",
                    "gain",
                    "cover",
                    "cover",
                    "cover",
                    "cover",
                    "cover",
                    "cover",
                    "cover",
                    "cover",
                    "cover",
                    "cover",
                    "cover",
                    "cover",
                    "cover",
                    "cover",
                    "cover",
                    "cover",
                    "cover",
                    "cover",
                    "cover",
                    "cover",
                    "cover",
                    "cover",
                    "cover",
                    "cover",
                    "cover",
                    "cover",
                    "cover",
                    "total_gain",
                    "cover",
                    "cover",
                    "cover",
                    "cover",
                    "cover",
                    "cover",
                    "cover",
                    "cover",
                    "cover",
                    "cover",
                    "cover",
                    "weight",
                    "total_gain",
                    "total_gain",
                    "total_gain"
                  ],
                  "xaxis": "x3",
                  "y": [
                    -0.08112865438379424,
                    -0.11061844709684014,
                    -0.06047573233146104,
                    -0.13966037100657638,
                    -0.08776069009277021,
                    -0.063121854488823,
                    -0.09054659796541205,
                    -0.14345781844615096,
                    -0.06759093714415214,
                    -0.07369356659319123,
                    -0.06711311304001702,
                    -0.062001291008263335,
                    -0.063692238105991,
                    -0.06714442486146463,
                    -0.07073697153523176,
                    -0.06257894439004269,
                    -0.06647607145442115,
                    -0.06267931657183709,
                    -0.058838788072022676,
                    -0.06525357906648217,
                    -0.06043644581670782,
                    -0.06110998303612798,
                    -0.06121890859999389,
                    -0.059575909170216226,
                    -0.059435449623036665,
                    -0.061599301000005414,
                    -0.06090812845373531,
                    -0.0633940200050566,
                    -0.059905045059785014,
                    -0.06536351042433994,
                    -0.06001952466162715,
                    -0.05986419839918633,
                    -0.05938161408154583,
                    -0.061449066679765595,
                    -0.06098073337438189,
                    -0.05861232664172976,
                    -0.05852956836974719,
                    -0.06278790070698884,
                    -0.06021417332838271,
                    -0.05966261983904122,
                    -0.06070613492481116,
                    -0.058563535266344224,
                    -0.05888731017321781,
                    -0.05877608710188927,
                    -0.0588315664489248,
                    -0.0747788227451321,
                    -0.06321749692572734,
                    -0.05912879019454931,
                    -0.06478650729551516,
                    -0.058665219180209484,
                    -0.06474693748146398,
                    -0.059275965130095365,
                    -0.06008198765058661,
                    -0.061295211116355074,
                    -0.059861998683485226,
                    -0.06059154579188353,
                    -0.06178596966809069,
                    -0.05642776884842336,
                    -0.0558746512948155,
                    -0.0621419191370455,
                    -0.05850933631345383,
                    -0.058453092300592924,
                    -0.05889205171808496,
                    -0.05904621373077269,
                    -0.059090632004804924,
                    -0.06326581340568585,
                    -0.05930108450377157,
                    -0.058135654676207724,
                    -0.057979540940443816,
                    -0.05854488618556073,
                    -0.057486378832834105,
                    -0.05753967534888047,
                    -0.05829650153515842,
                    -0.058386651764411615,
                    -0.05841507907722197,
                    -0.0578054886599227,
                    -0.06099516278014069,
                    -0.058496564558059426,
                    -0.05732587489394229,
                    -0.057816961695889825,
                    -0.05797780513001938,
                    -0.058306518797948584,
                    -0.05838384985250304,
                    -0.05857335270467464,
                    -0.05806612853651495,
                    -0.05875232199695509,
                    -0.0665849322237836,
                    -0.05799110360247861,
                    -0.05823887474899497,
                    -0.05838715205192455,
                    -0.06597151723138919,
                    -0.05784571407758867,
                    -0.05795903682102506,
                    -0.0586912713461505,
                    -0.05828053661343395,
                    -0.057839216600001644,
                    -0.06085345281994152,
                    -0.05777448847466885,
                    -0.05758313422820912,
                    -0.058214123924190175
                  ],
                  "yaxis": "y3"
                },
                {
                  "marker": {
                    "color": [
                      0,
                      1,
                      2,
                      3,
                      4,
                      5,
                      6,
                      7,
                      8,
                      9,
                      10,
                      11,
                      12,
                      13,
                      14,
                      15,
                      16,
                      17,
                      18,
                      19,
                      20,
                      21,
                      22,
                      23,
                      24,
                      25,
                      26,
                      27,
                      28,
                      29,
                      30,
                      31,
                      32,
                      33,
                      34,
                      35,
                      36,
                      37,
                      38,
                      39,
                      40,
                      41,
                      42,
                      43,
                      44,
                      45,
                      46,
                      47,
                      48,
                      49,
                      50,
                      51,
                      52,
                      53,
                      54,
                      55,
                      56,
                      57,
                      58,
                      59,
                      60,
                      61,
                      62,
                      63,
                      64,
                      65,
                      66,
                      67,
                      68,
                      69,
                      70,
                      71,
                      72,
                      73,
                      74,
                      75,
                      76,
                      77,
                      78,
                      79,
                      80,
                      81,
                      82,
                      83,
                      84,
                      85,
                      86,
                      87,
                      88,
                      89,
                      90,
                      91,
                      92,
                      93,
                      94,
                      95,
                      96,
                      97,
                      98,
                      99
                    ],
                    "colorbar": {
                      "title": {
                        "text": "Trial"
                      },
                      "x": 1,
                      "xpad": 40
                    },
                    "colorscale": [
                      [
                        0,
                        "rgb(247,251,255)"
                      ],
                      [
                        0.125,
                        "rgb(222,235,247)"
                      ],
                      [
                        0.25,
                        "rgb(198,219,239)"
                      ],
                      [
                        0.375,
                        "rgb(158,202,225)"
                      ],
                      [
                        0.5,
                        "rgb(107,174,214)"
                      ],
                      [
                        0.625,
                        "rgb(66,146,198)"
                      ],
                      [
                        0.75,
                        "rgb(33,113,181)"
                      ],
                      [
                        0.875,
                        "rgb(8,81,156)"
                      ],
                      [
                        1,
                        "rgb(8,48,107)"
                      ]
                    ],
                    "line": {
                      "color": "Grey",
                      "width": 0.5
                    },
                    "showscale": false
                  },
                  "mode": "markers",
                  "showlegend": false,
                  "type": "scatter",
                  "x": [
                    0.02757359293934948,
                    0.016362239850894633,
                    0.049743185797885274,
                    0.01097599850212944,
                    0.012707942999213693,
                    0.08095251075696488,
                    0.023213658452816897,
                    0.0107126079864151,
                    0.12399645883123124,
                    0.0916347113121937,
                    0.047607674577667444,
                    0.05755120913768578,
                    0.04877208388287721,
                    0.05150450203462761,
                    0.033109856581729484,
                    0.06347416661720727,
                    0.03884346305619156,
                    0.14901076463162932,
                    0.07132106172747982,
                    0.07649687185770158,
                    0.039269762701339105,
                    0.035927567836576434,
                    0.04067920500811874,
                    0.06478653521305826,
                    0.06318145857650602,
                    0.06511890227891415,
                    0.09547242770363502,
                    0.06721443051347688,
                    0.1009756492120121,
                    0.07425234450665037,
                    0.05820164916507404,
                    0.09795673834367337,
                    0.0826867527622679,
                    0.08107254494022023,
                    0.06967074573779337,
                    0.05800209608301928,
                    0.05772329236336874,
                    0.05033874988607919,
                    0.0850549675451589,
                    0.10839519518371281,
                    0.07929881404449439,
                    0.05550188563314946,
                    0.05714223810145355,
                    0.05558108419602169,
                    0.04493638893674764,
                    0.044107054703721234,
                    0.0444098006509888,
                    0.05472667305055291,
                    0.030278503299763376,
                    0.04675291936528853,
                    0.056829611125049834,
                    0.04645870109761865,
                    0.05129728795759526,
                    0.04308799006789492,
                    0.049689913906326384,
                    0.036324219662846303,
                    0.04526728590288994,
                    0.06094212053452418,
                    0.06080734694051027,
                    0.07123650022121385,
                    0.061473306905510956,
                    0.06036889390352868,
                    0.0609011847801037,
                    0.06166974091680947,
                    0.06972514426831576,
                    0.053408277407100434,
                    0.06157316183948131,
                    0.06724113815894893,
                    0.07324059724382241,
                    0.07485871402003468,
                    0.06896572086208418,
                    0.06637600945103603,
                    0.08599391897915601,
                    0.08842303436872179,
                    0.08803214581800348,
                    0.07686987524846342,
                    0.0675090054066305,
                    0.07762904789268553,
                    0.07343621627809871,
                    0.07604765815655033,
                    0.07461536667657881,
                    0.07371117932079847,
                    0.07864948453682875,
                    0.09224876640210304,
                    0.07199050401041553,
                    0.08281198572523094,
                    0.0759513482843173,
                    0.06533578000270004,
                    0.08144182931638971,
                    0.1005228148624622,
                    0.06541749546482778,
                    0.06536203952370867,
                    0.07087010765654894,
                    0.06980555984539807,
                    0.06462545617202442,
                    0.07791749650999658,
                    0.09346882534865916,
                    0.07974703558358374,
                    0.07924284378311931,
                    0.07993122531539548
                  ],
                  "xaxis": "x4",
                  "y": [
                    -0.08112865438379424,
                    -0.11061844709684014,
                    -0.06047573233146104,
                    -0.13966037100657638,
                    -0.08776069009277021,
                    -0.063121854488823,
                    -0.09054659796541205,
                    -0.14345781844615096,
                    -0.06759093714415214,
                    -0.07369356659319123,
                    -0.06711311304001702,
                    -0.062001291008263335,
                    -0.063692238105991,
                    -0.06714442486146463,
                    -0.07073697153523176,
                    -0.06257894439004269,
                    -0.06647607145442115,
                    -0.06267931657183709,
                    -0.058838788072022676,
                    -0.06525357906648217,
                    -0.06043644581670782,
                    -0.06110998303612798,
                    -0.06121890859999389,
                    -0.059575909170216226,
                    -0.059435449623036665,
                    -0.061599301000005414,
                    -0.06090812845373531,
                    -0.0633940200050566,
                    -0.059905045059785014,
                    -0.06536351042433994,
                    -0.06001952466162715,
                    -0.05986419839918633,
                    -0.05938161408154583,
                    -0.061449066679765595,
                    -0.06098073337438189,
                    -0.05861232664172976,
                    -0.05852956836974719,
                    -0.06278790070698884,
                    -0.06021417332838271,
                    -0.05966261983904122,
                    -0.06070613492481116,
                    -0.058563535266344224,
                    -0.05888731017321781,
                    -0.05877608710188927,
                    -0.0588315664489248,
                    -0.0747788227451321,
                    -0.06321749692572734,
                    -0.05912879019454931,
                    -0.06478650729551516,
                    -0.058665219180209484,
                    -0.06474693748146398,
                    -0.059275965130095365,
                    -0.06008198765058661,
                    -0.061295211116355074,
                    -0.059861998683485226,
                    -0.06059154579188353,
                    -0.06178596966809069,
                    -0.05642776884842336,
                    -0.0558746512948155,
                    -0.0621419191370455,
                    -0.05850933631345383,
                    -0.058453092300592924,
                    -0.05889205171808496,
                    -0.05904621373077269,
                    -0.059090632004804924,
                    -0.06326581340568585,
                    -0.05930108450377157,
                    -0.058135654676207724,
                    -0.057979540940443816,
                    -0.05854488618556073,
                    -0.057486378832834105,
                    -0.05753967534888047,
                    -0.05829650153515842,
                    -0.058386651764411615,
                    -0.05841507907722197,
                    -0.0578054886599227,
                    -0.06099516278014069,
                    -0.058496564558059426,
                    -0.05732587489394229,
                    -0.057816961695889825,
                    -0.05797780513001938,
                    -0.058306518797948584,
                    -0.05838384985250304,
                    -0.05857335270467464,
                    -0.05806612853651495,
                    -0.05875232199695509,
                    -0.0665849322237836,
                    -0.05799110360247861,
                    -0.05823887474899497,
                    -0.05838715205192455,
                    -0.06597151723138919,
                    -0.05784571407758867,
                    -0.05795903682102506,
                    -0.0586912713461505,
                    -0.05828053661343395,
                    -0.057839216600001644,
                    -0.06085345281994152,
                    -0.05777448847466885,
                    -0.05758313422820912,
                    -0.058214123924190175
                  ],
                  "yaxis": "y4"
                },
                {
                  "marker": {
                    "color": [
                      0,
                      1,
                      2,
                      3,
                      4,
                      5,
                      6,
                      7,
                      8,
                      9,
                      10,
                      11,
                      12,
                      13,
                      14,
                      15,
                      16,
                      17,
                      18,
                      19,
                      20,
                      21,
                      22,
                      23,
                      24,
                      25,
                      26,
                      27,
                      28,
                      29,
                      30,
                      31,
                      32,
                      33,
                      34,
                      35,
                      36,
                      37,
                      38,
                      39,
                      40,
                      41,
                      42,
                      43,
                      44,
                      45,
                      46,
                      47,
                      48,
                      49,
                      50,
                      51,
                      52,
                      53,
                      54,
                      55,
                      56,
                      57,
                      58,
                      59,
                      60,
                      61,
                      62,
                      63,
                      64,
                      65,
                      66,
                      67,
                      68,
                      69,
                      70,
                      71,
                      72,
                      73,
                      74,
                      75,
                      76,
                      77,
                      78,
                      79,
                      80,
                      81,
                      82,
                      83,
                      84,
                      85,
                      86,
                      87,
                      88,
                      89,
                      90,
                      91,
                      92,
                      93,
                      94,
                      95,
                      96,
                      97,
                      98,
                      99
                    ],
                    "colorbar": {
                      "title": {
                        "text": "Trial"
                      },
                      "x": 1,
                      "xpad": 40
                    },
                    "colorscale": [
                      [
                        0,
                        "rgb(247,251,255)"
                      ],
                      [
                        0.125,
                        "rgb(222,235,247)"
                      ],
                      [
                        0.25,
                        "rgb(198,219,239)"
                      ],
                      [
                        0.375,
                        "rgb(158,202,225)"
                      ],
                      [
                        0.5,
                        "rgb(107,174,214)"
                      ],
                      [
                        0.625,
                        "rgb(66,146,198)"
                      ],
                      [
                        0.75,
                        "rgb(33,113,181)"
                      ],
                      [
                        0.875,
                        "rgb(8,81,156)"
                      ],
                      [
                        1,
                        "rgb(8,48,107)"
                      ]
                    ],
                    "line": {
                      "color": "Grey",
                      "width": 0.5
                    },
                    "showscale": false
                  },
                  "mode": "markers",
                  "showlegend": false,
                  "type": "scatter",
                  "x": [
                    5,
                    7,
                    8,
                    7,
                    8,
                    8,
                    5,
                    8,
                    8,
                    5,
                    6,
                    7,
                    7,
                    6,
                    7,
                    6,
                    8,
                    7,
                    8,
                    8,
                    8,
                    8,
                    8,
                    8,
                    8,
                    7,
                    8,
                    7,
                    8,
                    6,
                    8,
                    8,
                    8,
                    8,
                    7,
                    8,
                    8,
                    7,
                    8,
                    8,
                    8,
                    8,
                    8,
                    8,
                    8,
                    5,
                    7,
                    8,
                    7,
                    8,
                    8,
                    8,
                    8,
                    8,
                    8,
                    8,
                    8,
                    8,
                    8,
                    6,
                    7,
                    7,
                    7,
                    7,
                    7,
                    6,
                    7,
                    7,
                    7,
                    7,
                    7,
                    7,
                    7,
                    7,
                    7,
                    7,
                    6,
                    7,
                    7,
                    7,
                    7,
                    7,
                    7,
                    7,
                    7,
                    7,
                    6,
                    7,
                    7,
                    7,
                    7,
                    7,
                    7,
                    7,
                    7,
                    7,
                    6,
                    7,
                    7,
                    7
                  ],
                  "xaxis": "x5",
                  "y": [
                    -0.08112865438379424,
                    -0.11061844709684014,
                    -0.06047573233146104,
                    -0.13966037100657638,
                    -0.08776069009277021,
                    -0.063121854488823,
                    -0.09054659796541205,
                    -0.14345781844615096,
                    -0.06759093714415214,
                    -0.07369356659319123,
                    -0.06711311304001702,
                    -0.062001291008263335,
                    -0.063692238105991,
                    -0.06714442486146463,
                    -0.07073697153523176,
                    -0.06257894439004269,
                    -0.06647607145442115,
                    -0.06267931657183709,
                    -0.058838788072022676,
                    -0.06525357906648217,
                    -0.06043644581670782,
                    -0.06110998303612798,
                    -0.06121890859999389,
                    -0.059575909170216226,
                    -0.059435449623036665,
                    -0.061599301000005414,
                    -0.06090812845373531,
                    -0.0633940200050566,
                    -0.059905045059785014,
                    -0.06536351042433994,
                    -0.06001952466162715,
                    -0.05986419839918633,
                    -0.05938161408154583,
                    -0.061449066679765595,
                    -0.06098073337438189,
                    -0.05861232664172976,
                    -0.05852956836974719,
                    -0.06278790070698884,
                    -0.06021417332838271,
                    -0.05966261983904122,
                    -0.06070613492481116,
                    -0.058563535266344224,
                    -0.05888731017321781,
                    -0.05877608710188927,
                    -0.0588315664489248,
                    -0.0747788227451321,
                    -0.06321749692572734,
                    -0.05912879019454931,
                    -0.06478650729551516,
                    -0.058665219180209484,
                    -0.06474693748146398,
                    -0.059275965130095365,
                    -0.06008198765058661,
                    -0.061295211116355074,
                    -0.059861998683485226,
                    -0.06059154579188353,
                    -0.06178596966809069,
                    -0.05642776884842336,
                    -0.0558746512948155,
                    -0.0621419191370455,
                    -0.05850933631345383,
                    -0.058453092300592924,
                    -0.05889205171808496,
                    -0.05904621373077269,
                    -0.059090632004804924,
                    -0.06326581340568585,
                    -0.05930108450377157,
                    -0.058135654676207724,
                    -0.057979540940443816,
                    -0.05854488618556073,
                    -0.057486378832834105,
                    -0.05753967534888047,
                    -0.05829650153515842,
                    -0.058386651764411615,
                    -0.05841507907722197,
                    -0.0578054886599227,
                    -0.06099516278014069,
                    -0.058496564558059426,
                    -0.05732587489394229,
                    -0.057816961695889825,
                    -0.05797780513001938,
                    -0.058306518797948584,
                    -0.05838384985250304,
                    -0.05857335270467464,
                    -0.05806612853651495,
                    -0.05875232199695509,
                    -0.0665849322237836,
                    -0.05799110360247861,
                    -0.05823887474899497,
                    -0.05838715205192455,
                    -0.06597151723138919,
                    -0.05784571407758867,
                    -0.05795903682102506,
                    -0.0586912713461505,
                    -0.05828053661343395,
                    -0.057839216600001644,
                    -0.06085345281994152,
                    -0.05777448847466885,
                    -0.05758313422820912,
                    -0.058214123924190175
                  ],
                  "yaxis": "y5"
                },
                {
                  "marker": {
                    "color": [
                      0,
                      1,
                      2,
                      3,
                      4,
                      5,
                      6,
                      7,
                      8,
                      9,
                      10,
                      11,
                      12,
                      13,
                      14,
                      15,
                      16,
                      17,
                      18,
                      19,
                      20,
                      21,
                      22,
                      23,
                      24,
                      25,
                      26,
                      27,
                      28,
                      29,
                      30,
                      31,
                      32,
                      33,
                      34,
                      35,
                      36,
                      37,
                      38,
                      39,
                      40,
                      41,
                      42,
                      43,
                      44,
                      45,
                      46,
                      47,
                      48,
                      49,
                      50,
                      51,
                      52,
                      53,
                      54,
                      55,
                      56,
                      57,
                      58,
                      59,
                      60,
                      61,
                      62,
                      63,
                      64,
                      65,
                      66,
                      67,
                      68,
                      69,
                      70,
                      71,
                      72,
                      73,
                      74,
                      75,
                      76,
                      77,
                      78,
                      79,
                      80,
                      81,
                      82,
                      83,
                      84,
                      85,
                      86,
                      87,
                      88,
                      89,
                      90,
                      91,
                      92,
                      93,
                      94,
                      95,
                      96,
                      97,
                      98,
                      99
                    ],
                    "colorbar": {
                      "title": {
                        "text": "Trial"
                      },
                      "x": 1,
                      "xpad": 40
                    },
                    "colorscale": [
                      [
                        0,
                        "rgb(247,251,255)"
                      ],
                      [
                        0.125,
                        "rgb(222,235,247)"
                      ],
                      [
                        0.25,
                        "rgb(198,219,239)"
                      ],
                      [
                        0.375,
                        "rgb(158,202,225)"
                      ],
                      [
                        0.5,
                        "rgb(107,174,214)"
                      ],
                      [
                        0.625,
                        "rgb(66,146,198)"
                      ],
                      [
                        0.75,
                        "rgb(33,113,181)"
                      ],
                      [
                        0.875,
                        "rgb(8,81,156)"
                      ],
                      [
                        1,
                        "rgb(8,48,107)"
                      ]
                    ],
                    "line": {
                      "color": "Grey",
                      "width": 0.5
                    },
                    "showscale": false
                  },
                  "mode": "markers",
                  "showlegend": false,
                  "type": "scatter",
                  "x": [
                    3,
                    6,
                    5,
                    10,
                    10,
                    1,
                    5,
                    2,
                    5,
                    10,
                    7,
                    1,
                    3,
                    8,
                    4,
                    1,
                    7,
                    3,
                    8,
                    8,
                    8,
                    8,
                    9,
                    6,
                    7,
                    6,
                    7,
                    9,
                    6,
                    4,
                    7,
                    6,
                    6,
                    9,
                    6,
                    5,
                    4,
                    4,
                    5,
                    2,
                    5,
                    4,
                    4,
                    4,
                    3,
                    2,
                    3,
                    3,
                    4,
                    2,
                    2,
                    3,
                    4,
                    5,
                    4,
                    2,
                    3,
                    1,
                    1,
                    1,
                    1,
                    1,
                    1,
                    1,
                    1,
                    1,
                    2,
                    1,
                    1,
                    1,
                    1,
                    1,
                    1,
                    1,
                    2,
                    1,
                    1,
                    2,
                    1,
                    2,
                    2,
                    2,
                    1,
                    2,
                    1,
                    2,
                    1,
                    2,
                    1,
                    2,
                    1,
                    2,
                    2,
                    3,
                    2,
                    2,
                    2,
                    1,
                    1,
                    1
                  ],
                  "xaxis": "x6",
                  "y": [
                    -0.08112865438379424,
                    -0.11061844709684014,
                    -0.06047573233146104,
                    -0.13966037100657638,
                    -0.08776069009277021,
                    -0.063121854488823,
                    -0.09054659796541205,
                    -0.14345781844615096,
                    -0.06759093714415214,
                    -0.07369356659319123,
                    -0.06711311304001702,
                    -0.062001291008263335,
                    -0.063692238105991,
                    -0.06714442486146463,
                    -0.07073697153523176,
                    -0.06257894439004269,
                    -0.06647607145442115,
                    -0.06267931657183709,
                    -0.058838788072022676,
                    -0.06525357906648217,
                    -0.06043644581670782,
                    -0.06110998303612798,
                    -0.06121890859999389,
                    -0.059575909170216226,
                    -0.059435449623036665,
                    -0.061599301000005414,
                    -0.06090812845373531,
                    -0.0633940200050566,
                    -0.059905045059785014,
                    -0.06536351042433994,
                    -0.06001952466162715,
                    -0.05986419839918633,
                    -0.05938161408154583,
                    -0.061449066679765595,
                    -0.06098073337438189,
                    -0.05861232664172976,
                    -0.05852956836974719,
                    -0.06278790070698884,
                    -0.06021417332838271,
                    -0.05966261983904122,
                    -0.06070613492481116,
                    -0.058563535266344224,
                    -0.05888731017321781,
                    -0.05877608710188927,
                    -0.0588315664489248,
                    -0.0747788227451321,
                    -0.06321749692572734,
                    -0.05912879019454931,
                    -0.06478650729551516,
                    -0.058665219180209484,
                    -0.06474693748146398,
                    -0.059275965130095365,
                    -0.06008198765058661,
                    -0.061295211116355074,
                    -0.059861998683485226,
                    -0.06059154579188353,
                    -0.06178596966809069,
                    -0.05642776884842336,
                    -0.0558746512948155,
                    -0.0621419191370455,
                    -0.05850933631345383,
                    -0.058453092300592924,
                    -0.05889205171808496,
                    -0.05904621373077269,
                    -0.059090632004804924,
                    -0.06326581340568585,
                    -0.05930108450377157,
                    -0.058135654676207724,
                    -0.057979540940443816,
                    -0.05854488618556073,
                    -0.057486378832834105,
                    -0.05753967534888047,
                    -0.05829650153515842,
                    -0.058386651764411615,
                    -0.05841507907722197,
                    -0.0578054886599227,
                    -0.06099516278014069,
                    -0.058496564558059426,
                    -0.05732587489394229,
                    -0.057816961695889825,
                    -0.05797780513001938,
                    -0.058306518797948584,
                    -0.05838384985250304,
                    -0.05857335270467464,
                    -0.05806612853651495,
                    -0.05875232199695509,
                    -0.0665849322237836,
                    -0.05799110360247861,
                    -0.05823887474899497,
                    -0.05838715205192455,
                    -0.06597151723138919,
                    -0.05784571407758867,
                    -0.05795903682102506,
                    -0.0586912713461505,
                    -0.05828053661343395,
                    -0.057839216600001644,
                    -0.06085345281994152,
                    -0.05777448847466885,
                    -0.05758313422820912,
                    -0.058214123924190175
                  ],
                  "yaxis": "y6"
                },
                {
                  "marker": {
                    "color": [
                      0,
                      1,
                      2,
                      3,
                      4,
                      5,
                      6,
                      7,
                      8,
                      9,
                      10,
                      11,
                      12,
                      13,
                      14,
                      15,
                      16,
                      17,
                      18,
                      19,
                      20,
                      21,
                      22,
                      23,
                      24,
                      25,
                      26,
                      27,
                      28,
                      29,
                      30,
                      31,
                      32,
                      33,
                      34,
                      35,
                      36,
                      37,
                      38,
                      39,
                      40,
                      41,
                      42,
                      43,
                      44,
                      45,
                      46,
                      47,
                      48,
                      49,
                      50,
                      51,
                      52,
                      53,
                      54,
                      55,
                      56,
                      57,
                      58,
                      59,
                      60,
                      61,
                      62,
                      63,
                      64,
                      65,
                      66,
                      67,
                      68,
                      69,
                      70,
                      71,
                      72,
                      73,
                      74,
                      75,
                      76,
                      77,
                      78,
                      79,
                      80,
                      81,
                      82,
                      83,
                      84,
                      85,
                      86,
                      87,
                      88,
                      89,
                      90,
                      91,
                      92,
                      93,
                      94,
                      95,
                      96,
                      97,
                      98,
                      99
                    ],
                    "colorbar": {
                      "title": {
                        "text": "Trial"
                      },
                      "x": 1,
                      "xpad": 40
                    },
                    "colorscale": [
                      [
                        0,
                        "rgb(247,251,255)"
                      ],
                      [
                        0.125,
                        "rgb(222,235,247)"
                      ],
                      [
                        0.25,
                        "rgb(198,219,239)"
                      ],
                      [
                        0.375,
                        "rgb(158,202,225)"
                      ],
                      [
                        0.5,
                        "rgb(107,174,214)"
                      ],
                      [
                        0.625,
                        "rgb(66,146,198)"
                      ],
                      [
                        0.75,
                        "rgb(33,113,181)"
                      ],
                      [
                        0.875,
                        "rgb(8,81,156)"
                      ],
                      [
                        1,
                        "rgb(8,48,107)"
                      ]
                    ],
                    "line": {
                      "color": "Grey",
                      "width": 0.5
                    },
                    "showscale": false
                  },
                  "mode": "markers",
                  "showlegend": false,
                  "type": "scatter",
                  "x": [
                    447,
                    155,
                    424,
                    174,
                    243,
                    129,
                    386,
                    199,
                    316,
                    235,
                    480,
                    320,
                    361,
                    406,
                    319,
                    431,
                    348,
                    266,
                    475,
                    475,
                    497,
                    498,
                    424,
                    465,
                    462,
                    455,
                    381,
                    468,
                    398,
                    441,
                    447,
                    413,
                    457,
                    462,
                    500,
                    361,
                    361,
                    344,
                    271,
                    375,
                    300,
                    434,
                    404,
                    391,
                    361,
                    359,
                    340,
                    376,
                    393,
                    329,
                    105,
                    299,
                    332,
                    362,
                    328,
                    310,
                    279,
                    417,
                    419,
                    415,
                    430,
                    433,
                    428,
                    434,
                    418,
                    441,
                    405,
                    485,
                    478,
                    482,
                    484,
                    479,
                    485,
                    486,
                    486,
                    489,
                    470,
                    450,
                    498,
                    494,
                    499,
                    494,
                    473,
                    500,
                    458,
                    475,
                    228,
                    492,
                    467,
                    455,
                    179,
                    492,
                    478,
                    491,
                    446,
                    463,
                    464,
                    478,
                    452,
                    442
                  ],
                  "xaxis": "x7",
                  "y": [
                    -0.08112865438379424,
                    -0.11061844709684014,
                    -0.06047573233146104,
                    -0.13966037100657638,
                    -0.08776069009277021,
                    -0.063121854488823,
                    -0.09054659796541205,
                    -0.14345781844615096,
                    -0.06759093714415214,
                    -0.07369356659319123,
                    -0.06711311304001702,
                    -0.062001291008263335,
                    -0.063692238105991,
                    -0.06714442486146463,
                    -0.07073697153523176,
                    -0.06257894439004269,
                    -0.06647607145442115,
                    -0.06267931657183709,
                    -0.058838788072022676,
                    -0.06525357906648217,
                    -0.06043644581670782,
                    -0.06110998303612798,
                    -0.06121890859999389,
                    -0.059575909170216226,
                    -0.059435449623036665,
                    -0.061599301000005414,
                    -0.06090812845373531,
                    -0.0633940200050566,
                    -0.059905045059785014,
                    -0.06536351042433994,
                    -0.06001952466162715,
                    -0.05986419839918633,
                    -0.05938161408154583,
                    -0.061449066679765595,
                    -0.06098073337438189,
                    -0.05861232664172976,
                    -0.05852956836974719,
                    -0.06278790070698884,
                    -0.06021417332838271,
                    -0.05966261983904122,
                    -0.06070613492481116,
                    -0.058563535266344224,
                    -0.05888731017321781,
                    -0.05877608710188927,
                    -0.0588315664489248,
                    -0.0747788227451321,
                    -0.06321749692572734,
                    -0.05912879019454931,
                    -0.06478650729551516,
                    -0.058665219180209484,
                    -0.06474693748146398,
                    -0.059275965130095365,
                    -0.06008198765058661,
                    -0.061295211116355074,
                    -0.059861998683485226,
                    -0.06059154579188353,
                    -0.06178596966809069,
                    -0.05642776884842336,
                    -0.0558746512948155,
                    -0.0621419191370455,
                    -0.05850933631345383,
                    -0.058453092300592924,
                    -0.05889205171808496,
                    -0.05904621373077269,
                    -0.059090632004804924,
                    -0.06326581340568585,
                    -0.05930108450377157,
                    -0.058135654676207724,
                    -0.057979540940443816,
                    -0.05854488618556073,
                    -0.057486378832834105,
                    -0.05753967534888047,
                    -0.05829650153515842,
                    -0.058386651764411615,
                    -0.05841507907722197,
                    -0.0578054886599227,
                    -0.06099516278014069,
                    -0.058496564558059426,
                    -0.05732587489394229,
                    -0.057816961695889825,
                    -0.05797780513001938,
                    -0.058306518797948584,
                    -0.05838384985250304,
                    -0.05857335270467464,
                    -0.05806612853651495,
                    -0.05875232199695509,
                    -0.0665849322237836,
                    -0.05799110360247861,
                    -0.05823887474899497,
                    -0.05838715205192455,
                    -0.06597151723138919,
                    -0.05784571407758867,
                    -0.05795903682102506,
                    -0.0586912713461505,
                    -0.05828053661343395,
                    -0.057839216600001644,
                    -0.06085345281994152,
                    -0.05777448847466885,
                    -0.05758313422820912,
                    -0.058214123924190175
                  ],
                  "yaxis": "y7"
                },
                {
                  "marker": {
                    "color": [
                      0,
                      1,
                      2,
                      3,
                      4,
                      5,
                      6,
                      7,
                      8,
                      9,
                      10,
                      11,
                      12,
                      13,
                      14,
                      15,
                      16,
                      17,
                      18,
                      19,
                      20,
                      21,
                      22,
                      23,
                      24,
                      25,
                      26,
                      27,
                      28,
                      29,
                      30,
                      31,
                      32,
                      33,
                      34,
                      35,
                      36,
                      37,
                      38,
                      39,
                      40,
                      41,
                      42,
                      43,
                      44,
                      45,
                      46,
                      47,
                      48,
                      49,
                      50,
                      51,
                      52,
                      53,
                      54,
                      55,
                      56,
                      57,
                      58,
                      59,
                      60,
                      61,
                      62,
                      63,
                      64,
                      65,
                      66,
                      67,
                      68,
                      69,
                      70,
                      71,
                      72,
                      73,
                      74,
                      75,
                      76,
                      77,
                      78,
                      79,
                      80,
                      81,
                      82,
                      83,
                      84,
                      85,
                      86,
                      87,
                      88,
                      89,
                      90,
                      91,
                      92,
                      93,
                      94,
                      95,
                      96,
                      97,
                      98,
                      99
                    ],
                    "colorbar": {
                      "title": {
                        "text": "Trial"
                      },
                      "x": 1,
                      "xpad": 40
                    },
                    "colorscale": [
                      [
                        0,
                        "rgb(247,251,255)"
                      ],
                      [
                        0.125,
                        "rgb(222,235,247)"
                      ],
                      [
                        0.25,
                        "rgb(198,219,239)"
                      ],
                      [
                        0.375,
                        "rgb(158,202,225)"
                      ],
                      [
                        0.5,
                        "rgb(107,174,214)"
                      ],
                      [
                        0.625,
                        "rgb(66,146,198)"
                      ],
                      [
                        0.75,
                        "rgb(33,113,181)"
                      ],
                      [
                        0.875,
                        "rgb(8,81,156)"
                      ],
                      [
                        1,
                        "rgb(8,48,107)"
                      ]
                    ],
                    "line": {
                      "color": "Grey",
                      "width": 0.5
                    },
                    "showscale": false
                  },
                  "mode": "markers",
                  "showlegend": false,
                  "type": "scatter",
                  "x": [
                    0.6011150117432088,
                    0.29214464853521815,
                    0.3046137691733707,
                    0.9695846277645586,
                    0.28093450968738076,
                    0.3584657285442726,
                    0.7607850486168974,
                    0.41038292303562973,
                    0.8074401551640625,
                    0.9429097039125192,
                    0.023930540513680543,
                    0.4818963296633298,
                    0.5396201068027978,
                    0.14778644186644474,
                    0.4723219616672016,
                    0.5724290377806086,
                    0.2223463569011278,
                    0.37699597076637836,
                    0.1820316509589816,
                    0.09569931466665646,
                    0.16951551149364646,
                    0.14797514751946125,
                    0.22171104422561153,
                    0.04420583478650164,
                    0.0021391975182198236,
                    0.006930248830620968,
                    0.06927372473455236,
                    0.05806524455317528,
                    0.002904708954083096,
                    0.11891956062116638,
                    0.07487372572980822,
                    0.032821461541523295,
                    0.0023019983921231807,
                    0.11314258756758072,
                    0.00118055923081685,
                    0.1997136349963363,
                    0.2134635526723539,
                    0.22546532209734566,
                    0.32171674941154166,
                    0.2649266007913729,
                    0.17984979903899584,
                    0.11685329456008374,
                    0.27301515589156633,
                    0.27519715023733937,
                    0.3146921205613048,
                    0.33110654080272955,
                    0.28255971723184103,
                    0.3569706434072708,
                    0.401130978981291,
                    0.2531135245247745,
                    0.24039632408681946,
                    0.3179302827916015,
                    0.19308236422540004,
                    0.2495383423776874,
                    0.2952183734788885,
                    0.12959605324776383,
                    0.21176855770081648,
                    0.19107981686351846,
                    0.17234308458520045,
                    0.1512634904452519,
                    0.10037517979252603,
                    0.10234829763087344,
                    0.09328452126683107,
                    0.17209406855392984,
                    0.10330294056911972,
                    0.124714514474582,
                    0.08284634100986206,
                    0.05067987715066108,
                    0.058665460214918974,
                    0.051620249787368934,
                    0.04152051618104889,
                    0.029148308543860614,
                    0.0415023065107447,
                    0.031045464164532858,
                    0.04713750045371911,
                    0.039477012556340736,
                    0.03193653471672601,
                    0.07163437932006285,
                    0.0635235346181543,
                    0.06886722848401004,
                    0.15366752729453223,
                    0.14822266312543322,
                    0.07459590762661447,
                    0.021255701559061563,
                    0.06873354386932197,
                    0.14933202029238574,
                    0.13088762492996106,
                    0.023419153591373663,
                    0.08921078431315327,
                    0.16496642256304273,
                    0.06104728716615341,
                    0.018884561563345045,
                    0.013173117143789097,
                    0.0011789008937765355,
                    0.02358090671752853,
                    0.12355166986317756,
                    0.09330644011196669,
                    0.12472530658418539,
                    0.12180795903735703,
                    0.18762135672413904
                  ],
                  "xaxis": "x8",
                  "y": [
                    -0.08112865438379424,
                    -0.11061844709684014,
                    -0.06047573233146104,
                    -0.13966037100657638,
                    -0.08776069009277021,
                    -0.063121854488823,
                    -0.09054659796541205,
                    -0.14345781844615096,
                    -0.06759093714415214,
                    -0.07369356659319123,
                    -0.06711311304001702,
                    -0.062001291008263335,
                    -0.063692238105991,
                    -0.06714442486146463,
                    -0.07073697153523176,
                    -0.06257894439004269,
                    -0.06647607145442115,
                    -0.06267931657183709,
                    -0.058838788072022676,
                    -0.06525357906648217,
                    -0.06043644581670782,
                    -0.06110998303612798,
                    -0.06121890859999389,
                    -0.059575909170216226,
                    -0.059435449623036665,
                    -0.061599301000005414,
                    -0.06090812845373531,
                    -0.0633940200050566,
                    -0.059905045059785014,
                    -0.06536351042433994,
                    -0.06001952466162715,
                    -0.05986419839918633,
                    -0.05938161408154583,
                    -0.061449066679765595,
                    -0.06098073337438189,
                    -0.05861232664172976,
                    -0.05852956836974719,
                    -0.06278790070698884,
                    -0.06021417332838271,
                    -0.05966261983904122,
                    -0.06070613492481116,
                    -0.058563535266344224,
                    -0.05888731017321781,
                    -0.05877608710188927,
                    -0.0588315664489248,
                    -0.0747788227451321,
                    -0.06321749692572734,
                    -0.05912879019454931,
                    -0.06478650729551516,
                    -0.058665219180209484,
                    -0.06474693748146398,
                    -0.059275965130095365,
                    -0.06008198765058661,
                    -0.061295211116355074,
                    -0.059861998683485226,
                    -0.06059154579188353,
                    -0.06178596966809069,
                    -0.05642776884842336,
                    -0.0558746512948155,
                    -0.0621419191370455,
                    -0.05850933631345383,
                    -0.058453092300592924,
                    -0.05889205171808496,
                    -0.05904621373077269,
                    -0.059090632004804924,
                    -0.06326581340568585,
                    -0.05930108450377157,
                    -0.058135654676207724,
                    -0.057979540940443816,
                    -0.05854488618556073,
                    -0.057486378832834105,
                    -0.05753967534888047,
                    -0.05829650153515842,
                    -0.058386651764411615,
                    -0.05841507907722197,
                    -0.0578054886599227,
                    -0.06099516278014069,
                    -0.058496564558059426,
                    -0.05732587489394229,
                    -0.057816961695889825,
                    -0.05797780513001938,
                    -0.058306518797948584,
                    -0.05838384985250304,
                    -0.05857335270467464,
                    -0.05806612853651495,
                    -0.05875232199695509,
                    -0.0665849322237836,
                    -0.05799110360247861,
                    -0.05823887474899497,
                    -0.05838715205192455,
                    -0.06597151723138919,
                    -0.05784571407758867,
                    -0.05795903682102506,
                    -0.0586912713461505,
                    -0.05828053661343395,
                    -0.057839216600001644,
                    -0.06085345281994152,
                    -0.05777448847466885,
                    -0.05758313422820912,
                    -0.058214123924190175
                  ],
                  "yaxis": "y8"
                },
                {
                  "marker": {
                    "color": [
                      0,
                      1,
                      2,
                      3,
                      4,
                      5,
                      6,
                      7,
                      8,
                      9,
                      10,
                      11,
                      12,
                      13,
                      14,
                      15,
                      16,
                      17,
                      18,
                      19,
                      20,
                      21,
                      22,
                      23,
                      24,
                      25,
                      26,
                      27,
                      28,
                      29,
                      30,
                      31,
                      32,
                      33,
                      34,
                      35,
                      36,
                      37,
                      38,
                      39,
                      40,
                      41,
                      42,
                      43,
                      44,
                      45,
                      46,
                      47,
                      48,
                      49,
                      50,
                      51,
                      52,
                      53,
                      54,
                      55,
                      56,
                      57,
                      58,
                      59,
                      60,
                      61,
                      62,
                      63,
                      64,
                      65,
                      66,
                      67,
                      68,
                      69,
                      70,
                      71,
                      72,
                      73,
                      74,
                      75,
                      76,
                      77,
                      78,
                      79,
                      80,
                      81,
                      82,
                      83,
                      84,
                      85,
                      86,
                      87,
                      88,
                      89,
                      90,
                      91,
                      92,
                      93,
                      94,
                      95,
                      96,
                      97,
                      98,
                      99
                    ],
                    "colorbar": {
                      "title": {
                        "text": "Trial"
                      },
                      "x": 1,
                      "xpad": 40
                    },
                    "colorscale": [
                      [
                        0,
                        "rgb(247,251,255)"
                      ],
                      [
                        0.125,
                        "rgb(222,235,247)"
                      ],
                      [
                        0.25,
                        "rgb(198,219,239)"
                      ],
                      [
                        0.375,
                        "rgb(158,202,225)"
                      ],
                      [
                        0.5,
                        "rgb(107,174,214)"
                      ],
                      [
                        0.625,
                        "rgb(66,146,198)"
                      ],
                      [
                        0.75,
                        "rgb(33,113,181)"
                      ],
                      [
                        0.875,
                        "rgb(8,81,156)"
                      ],
                      [
                        1,
                        "rgb(8,48,107)"
                      ]
                    ],
                    "line": {
                      "color": "Grey",
                      "width": 0.5
                    },
                    "showscale": false
                  },
                  "mode": "markers",
                  "showlegend": false,
                  "type": "scatter",
                  "x": [
                    0.7080725777960455,
                    0.3663618432936917,
                    0.09767211400638387,
                    0.7751328233611146,
                    0.5426960831582485,
                    0.11586905952512971,
                    0.5612771975694962,
                    0.7555511385430487,
                    0.8960912999234932,
                    0.32320293202075523,
                    0.038725199961183066,
                    0.02038536220152745,
                    0.03358588493447201,
                    0.22397372590468512,
                    0.16605352400294457,
                    0.008881075897299764,
                    0.25148807001829376,
                    0.12308552569879086,
                    0.4102204225893098,
                    0.4090010710703237,
                    0.4723627196857372,
                    0.5132860126679426,
                    0.43757932603457683,
                    0.24509422905764774,
                    0.30935141676557953,
                    0.276529865751239,
                    0.3181371213795404,
                    0.2008825321989103,
                    0.37600092698237686,
                    0.28855925874293775,
                    0.20915775336569306,
                    0.35179369996486404,
                    0.35816522536849704,
                    0.38252070994380716,
                    0.460432105327042,
                    0.2895555735307262,
                    0.6021630485553857,
                    0.5890323605826677,
                    0.6240451889746426,
                    0.5074957433548706,
                    0.42564813585250816,
                    0.34926850842051654,
                    0.38264460927299515,
                    0.42064798254768077,
                    0.47888306327593044,
                    0.6375216255017149,
                    0.551364910749385,
                    0.4920741839821073,
                    0.5339393275144466,
                    0.45911329560383185,
                    0.33874832587354153,
                    0.4601353962584045,
                    0.47658592632164704,
                    0.43624203930294925,
                    0.699201129389373,
                    0.5380930126737028,
                    0.4061105742185367,
                    0.5008778944288846,
                    0.3264251999488965,
                    0.3136362685176762,
                    0.3435305745798688,
                    0.2656889748235959,
                    0.27810876295558323,
                    0.23757107311444345,
                    0.17566004169884886,
                    0.28735656079535404,
                    0.3140645106698195,
                    0.25856381945930923,
                    0.24288066859227342,
                    0.2506609799272418,
                    0.1315896041121286,
                    0.1319364332867723,
                    0.13406109732135382,
                    0.13131415603825428,
                    0.08807499648904624,
                    0.14303527523997492,
                    0.1569783645235982,
                    0.06983121058458543,
                    0.1975849785804739,
                    0.20107752282103902,
                    0.20322016968692763,
                    0.20107086202283594,
                    0.2222834285694436,
                    0.17381433554447792,
                    0.11232697329440433,
                    0.18421339302682455,
                    0.1586875349123565,
                    0.2259383140803935,
                    0.19962828639606447,
                    0.06319035075083757,
                    0.15265531379429148,
                    0.22371152216985468,
                    0.10686176939322853,
                    0.10135057191936091,
                    0.13635253910778883,
                    0.1083849086476032,
                    0.10325393610011915,
                    0.010343634700536675,
                    0.006431603668127079,
                    0.003151841662166024
                  ],
                  "xaxis": "x9",
                  "y": [
                    -0.08112865438379424,
                    -0.11061844709684014,
                    -0.06047573233146104,
                    -0.13966037100657638,
                    -0.08776069009277021,
                    -0.063121854488823,
                    -0.09054659796541205,
                    -0.14345781844615096,
                    -0.06759093714415214,
                    -0.07369356659319123,
                    -0.06711311304001702,
                    -0.062001291008263335,
                    -0.063692238105991,
                    -0.06714442486146463,
                    -0.07073697153523176,
                    -0.06257894439004269,
                    -0.06647607145442115,
                    -0.06267931657183709,
                    -0.058838788072022676,
                    -0.06525357906648217,
                    -0.06043644581670782,
                    -0.06110998303612798,
                    -0.06121890859999389,
                    -0.059575909170216226,
                    -0.059435449623036665,
                    -0.061599301000005414,
                    -0.06090812845373531,
                    -0.0633940200050566,
                    -0.059905045059785014,
                    -0.06536351042433994,
                    -0.06001952466162715,
                    -0.05986419839918633,
                    -0.05938161408154583,
                    -0.061449066679765595,
                    -0.06098073337438189,
                    -0.05861232664172976,
                    -0.05852956836974719,
                    -0.06278790070698884,
                    -0.06021417332838271,
                    -0.05966261983904122,
                    -0.06070613492481116,
                    -0.058563535266344224,
                    -0.05888731017321781,
                    -0.05877608710188927,
                    -0.0588315664489248,
                    -0.0747788227451321,
                    -0.06321749692572734,
                    -0.05912879019454931,
                    -0.06478650729551516,
                    -0.058665219180209484,
                    -0.06474693748146398,
                    -0.059275965130095365,
                    -0.06008198765058661,
                    -0.061295211116355074,
                    -0.059861998683485226,
                    -0.06059154579188353,
                    -0.06178596966809069,
                    -0.05642776884842336,
                    -0.0558746512948155,
                    -0.0621419191370455,
                    -0.05850933631345383,
                    -0.058453092300592924,
                    -0.05889205171808496,
                    -0.05904621373077269,
                    -0.059090632004804924,
                    -0.06326581340568585,
                    -0.05930108450377157,
                    -0.058135654676207724,
                    -0.057979540940443816,
                    -0.05854488618556073,
                    -0.057486378832834105,
                    -0.05753967534888047,
                    -0.05829650153515842,
                    -0.058386651764411615,
                    -0.05841507907722197,
                    -0.0578054886599227,
                    -0.06099516278014069,
                    -0.058496564558059426,
                    -0.05732587489394229,
                    -0.057816961695889825,
                    -0.05797780513001938,
                    -0.058306518797948584,
                    -0.05838384985250304,
                    -0.05857335270467464,
                    -0.05806612853651495,
                    -0.05875232199695509,
                    -0.0665849322237836,
                    -0.05799110360247861,
                    -0.05823887474899497,
                    -0.05838715205192455,
                    -0.06597151723138919,
                    -0.05784571407758867,
                    -0.05795903682102506,
                    -0.0586912713461505,
                    -0.05828053661343395,
                    -0.057839216600001644,
                    -0.06085345281994152,
                    -0.05777448847466885,
                    -0.05758313422820912,
                    -0.058214123924190175
                  ],
                  "yaxis": "y9"
                },
                {
                  "marker": {
                    "color": [
                      0,
                      1,
                      2,
                      3,
                      4,
                      5,
                      6,
                      7,
                      8,
                      9,
                      10,
                      11,
                      12,
                      13,
                      14,
                      15,
                      16,
                      17,
                      18,
                      19,
                      20,
                      21,
                      22,
                      23,
                      24,
                      25,
                      26,
                      27,
                      28,
                      29,
                      30,
                      31,
                      32,
                      33,
                      34,
                      35,
                      36,
                      37,
                      38,
                      39,
                      40,
                      41,
                      42,
                      43,
                      44,
                      45,
                      46,
                      47,
                      48,
                      49,
                      50,
                      51,
                      52,
                      53,
                      54,
                      55,
                      56,
                      57,
                      58,
                      59,
                      60,
                      61,
                      62,
                      63,
                      64,
                      65,
                      66,
                      67,
                      68,
                      69,
                      70,
                      71,
                      72,
                      73,
                      74,
                      75,
                      76,
                      77,
                      78,
                      79,
                      80,
                      81,
                      82,
                      83,
                      84,
                      85,
                      86,
                      87,
                      88,
                      89,
                      90,
                      91,
                      92,
                      93,
                      94,
                      95,
                      96,
                      97,
                      98,
                      99
                    ],
                    "colorbar": {
                      "title": {
                        "text": "Trial"
                      },
                      "x": 1,
                      "xpad": 40
                    },
                    "colorscale": [
                      [
                        0,
                        "rgb(247,251,255)"
                      ],
                      [
                        0.125,
                        "rgb(222,235,247)"
                      ],
                      [
                        0.25,
                        "rgb(198,219,239)"
                      ],
                      [
                        0.375,
                        "rgb(158,202,225)"
                      ],
                      [
                        0.5,
                        "rgb(107,174,214)"
                      ],
                      [
                        0.625,
                        "rgb(66,146,198)"
                      ],
                      [
                        0.75,
                        "rgb(33,113,181)"
                      ],
                      [
                        0.875,
                        "rgb(8,81,156)"
                      ],
                      [
                        1,
                        "rgb(8,48,107)"
                      ]
                    ],
                    "line": {
                      "color": "Grey",
                      "width": 0.5
                    },
                    "showscale": false
                  },
                  "mode": "markers",
                  "showlegend": false,
                  "type": "scatter",
                  "x": [
                    0.5102922471479012,
                    0.728034992108518,
                    0.8421165132560784,
                    0.9697494707820946,
                    0.5704621124873813,
                    0.9315517129377968,
                    0.8854835899772805,
                    0.6143990827458112,
                    0.6590017374859319,
                    0.7593953108716831,
                    0.8271882613853767,
                    0.996127180359486,
                    0.9929035573243237,
                    0.8833965408710955,
                    0.9975353002194276,
                    0.8387046689443073,
                    0.9257586930950286,
                    0.8020792747505997,
                    0.9197209310146277,
                    0.8766164152726226,
                    0.7800847310887465,
                    0.7648597002451788,
                    0.7952257992000473,
                    0.709049181633085,
                    0.7087683023737443,
                    0.6745452135367257,
                    0.7285545670206393,
                    0.703411309772409,
                    0.738083915309763,
                    0.5019385957431147,
                    0.6989228711383906,
                    0.7408133328558666,
                    0.7500511148004656,
                    0.6406089351880104,
                    0.7226199134607248,
                    0.6951465749853788,
                    0.6781556333209239,
                    0.5837550556756891,
                    0.667124604621604,
                    0.5517973584943614,
                    0.6253829349332651,
                    0.6863799774764191,
                    0.6827659472385814,
                    0.6862173866151523,
                    0.6530761024973619,
                    0.6517592918214641,
                    0.6311811535524895,
                    0.6810372878739804,
                    0.6527872675422246,
                    0.6053151134411122,
                    0.6111241866611742,
                    0.6869326141842751,
                    0.6605650879248393,
                    0.613835308512927,
                    0.6457345899727329,
                    0.689056666417887,
                    0.5916640964444628,
                    0.6617146083773235,
                    0.7242080527634717,
                    0.7193253613640564,
                    0.6651908062517307,
                    0.6683453632790268,
                    0.6653686993105152,
                    0.7025619479352992,
                    0.7173561235642475,
                    0.6678041394014663,
                    0.6313721547199194,
                    0.7369993145950633,
                    0.733703430106371,
                    0.7616377552635712,
                    0.7362445980253683,
                    0.7298692592261409,
                    0.7342468382084952,
                    0.7358269094922034,
                    0.7392830326218501,
                    0.7548557457080874,
                    0.7720291844128551,
                    0.75103152603328,
                    0.7844220784139713,
                    0.7838478951974861,
                    0.802646046935476,
                    0.7871959065562532,
                    0.8097329997241516,
                    0.7676000734789155,
                    0.7836144070426435,
                    0.7542277379572493,
                    0.8081395809585749,
                    0.7701931561072471,
                    0.7958687811905887,
                    0.7488404433309873,
                    0.712974350365217,
                    0.7756184197953075,
                    0.7791075085093396,
                    0.7800312990113413,
                    0.7620220371244304,
                    0.812742770953379,
                    0.8277091214402564,
                    0.7251333538277028,
                    0.7279356597631569,
                    0.7265011300107576
                  ],
                  "xaxis": "x10",
                  "y": [
                    -0.08112865438379424,
                    -0.11061844709684014,
                    -0.06047573233146104,
                    -0.13966037100657638,
                    -0.08776069009277021,
                    -0.063121854488823,
                    -0.09054659796541205,
                    -0.14345781844615096,
                    -0.06759093714415214,
                    -0.07369356659319123,
                    -0.06711311304001702,
                    -0.062001291008263335,
                    -0.063692238105991,
                    -0.06714442486146463,
                    -0.07073697153523176,
                    -0.06257894439004269,
                    -0.06647607145442115,
                    -0.06267931657183709,
                    -0.058838788072022676,
                    -0.06525357906648217,
                    -0.06043644581670782,
                    -0.06110998303612798,
                    -0.06121890859999389,
                    -0.059575909170216226,
                    -0.059435449623036665,
                    -0.061599301000005414,
                    -0.06090812845373531,
                    -0.0633940200050566,
                    -0.059905045059785014,
                    -0.06536351042433994,
                    -0.06001952466162715,
                    -0.05986419839918633,
                    -0.05938161408154583,
                    -0.061449066679765595,
                    -0.06098073337438189,
                    -0.05861232664172976,
                    -0.05852956836974719,
                    -0.06278790070698884,
                    -0.06021417332838271,
                    -0.05966261983904122,
                    -0.06070613492481116,
                    -0.058563535266344224,
                    -0.05888731017321781,
                    -0.05877608710188927,
                    -0.0588315664489248,
                    -0.0747788227451321,
                    -0.06321749692572734,
                    -0.05912879019454931,
                    -0.06478650729551516,
                    -0.058665219180209484,
                    -0.06474693748146398,
                    -0.059275965130095365,
                    -0.06008198765058661,
                    -0.061295211116355074,
                    -0.059861998683485226,
                    -0.06059154579188353,
                    -0.06178596966809069,
                    -0.05642776884842336,
                    -0.0558746512948155,
                    -0.0621419191370455,
                    -0.05850933631345383,
                    -0.058453092300592924,
                    -0.05889205171808496,
                    -0.05904621373077269,
                    -0.059090632004804924,
                    -0.06326581340568585,
                    -0.05930108450377157,
                    -0.058135654676207724,
                    -0.057979540940443816,
                    -0.05854488618556073,
                    -0.057486378832834105,
                    -0.05753967534888047,
                    -0.05829650153515842,
                    -0.058386651764411615,
                    -0.05841507907722197,
                    -0.0578054886599227,
                    -0.06099516278014069,
                    -0.058496564558059426,
                    -0.05732587489394229,
                    -0.057816961695889825,
                    -0.05797780513001938,
                    -0.058306518797948584,
                    -0.05838384985250304,
                    -0.05857335270467464,
                    -0.05806612853651495,
                    -0.05875232199695509,
                    -0.0665849322237836,
                    -0.05799110360247861,
                    -0.05823887474899497,
                    -0.05838715205192455,
                    -0.06597151723138919,
                    -0.05784571407758867,
                    -0.05795903682102506,
                    -0.0586912713461505,
                    -0.05828053661343395,
                    -0.057839216600001644,
                    -0.06085345281994152,
                    -0.05777448847466885,
                    -0.05758313422820912,
                    -0.058214123924190175
                  ],
                  "yaxis": "y10"
                }
              ],
              "layout": {
                "template": {
                  "data": {
                    "bar": [
                      {
                        "error_x": {
                          "color": "#2a3f5f"
                        },
                        "error_y": {
                          "color": "#2a3f5f"
                        },
                        "marker": {
                          "line": {
                            "color": "#E5ECF6",
                            "width": 0.5
                          },
                          "pattern": {
                            "fillmode": "overlay",
                            "size": 10,
                            "solidity": 0.2
                          }
                        },
                        "type": "bar"
                      }
                    ],
                    "barpolar": [
                      {
                        "marker": {
                          "line": {
                            "color": "#E5ECF6",
                            "width": 0.5
                          },
                          "pattern": {
                            "fillmode": "overlay",
                            "size": 10,
                            "solidity": 0.2
                          }
                        },
                        "type": "barpolar"
                      }
                    ],
                    "carpet": [
                      {
                        "aaxis": {
                          "endlinecolor": "#2a3f5f",
                          "gridcolor": "white",
                          "linecolor": "white",
                          "minorgridcolor": "white",
                          "startlinecolor": "#2a3f5f"
                        },
                        "baxis": {
                          "endlinecolor": "#2a3f5f",
                          "gridcolor": "white",
                          "linecolor": "white",
                          "minorgridcolor": "white",
                          "startlinecolor": "#2a3f5f"
                        },
                        "type": "carpet"
                      }
                    ],
                    "choropleth": [
                      {
                        "colorbar": {
                          "outlinewidth": 0,
                          "ticks": ""
                        },
                        "type": "choropleth"
                      }
                    ],
                    "contour": [
                      {
                        "colorbar": {
                          "outlinewidth": 0,
                          "ticks": ""
                        },
                        "colorscale": [
                          [
                            0,
                            "#0d0887"
                          ],
                          [
                            0.1111111111111111,
                            "#46039f"
                          ],
                          [
                            0.2222222222222222,
                            "#7201a8"
                          ],
                          [
                            0.3333333333333333,
                            "#9c179e"
                          ],
                          [
                            0.4444444444444444,
                            "#bd3786"
                          ],
                          [
                            0.5555555555555556,
                            "#d8576b"
                          ],
                          [
                            0.6666666666666666,
                            "#ed7953"
                          ],
                          [
                            0.7777777777777778,
                            "#fb9f3a"
                          ],
                          [
                            0.8888888888888888,
                            "#fdca26"
                          ],
                          [
                            1,
                            "#f0f921"
                          ]
                        ],
                        "type": "contour"
                      }
                    ],
                    "contourcarpet": [
                      {
                        "colorbar": {
                          "outlinewidth": 0,
                          "ticks": ""
                        },
                        "type": "contourcarpet"
                      }
                    ],
                    "heatmap": [
                      {
                        "colorbar": {
                          "outlinewidth": 0,
                          "ticks": ""
                        },
                        "colorscale": [
                          [
                            0,
                            "#0d0887"
                          ],
                          [
                            0.1111111111111111,
                            "#46039f"
                          ],
                          [
                            0.2222222222222222,
                            "#7201a8"
                          ],
                          [
                            0.3333333333333333,
                            "#9c179e"
                          ],
                          [
                            0.4444444444444444,
                            "#bd3786"
                          ],
                          [
                            0.5555555555555556,
                            "#d8576b"
                          ],
                          [
                            0.6666666666666666,
                            "#ed7953"
                          ],
                          [
                            0.7777777777777778,
                            "#fb9f3a"
                          ],
                          [
                            0.8888888888888888,
                            "#fdca26"
                          ],
                          [
                            1,
                            "#f0f921"
                          ]
                        ],
                        "type": "heatmap"
                      }
                    ],
                    "heatmapgl": [
                      {
                        "colorbar": {
                          "outlinewidth": 0,
                          "ticks": ""
                        },
                        "colorscale": [
                          [
                            0,
                            "#0d0887"
                          ],
                          [
                            0.1111111111111111,
                            "#46039f"
                          ],
                          [
                            0.2222222222222222,
                            "#7201a8"
                          ],
                          [
                            0.3333333333333333,
                            "#9c179e"
                          ],
                          [
                            0.4444444444444444,
                            "#bd3786"
                          ],
                          [
                            0.5555555555555556,
                            "#d8576b"
                          ],
                          [
                            0.6666666666666666,
                            "#ed7953"
                          ],
                          [
                            0.7777777777777778,
                            "#fb9f3a"
                          ],
                          [
                            0.8888888888888888,
                            "#fdca26"
                          ],
                          [
                            1,
                            "#f0f921"
                          ]
                        ],
                        "type": "heatmapgl"
                      }
                    ],
                    "histogram": [
                      {
                        "marker": {
                          "pattern": {
                            "fillmode": "overlay",
                            "size": 10,
                            "solidity": 0.2
                          }
                        },
                        "type": "histogram"
                      }
                    ],
                    "histogram2d": [
                      {
                        "colorbar": {
                          "outlinewidth": 0,
                          "ticks": ""
                        },
                        "colorscale": [
                          [
                            0,
                            "#0d0887"
                          ],
                          [
                            0.1111111111111111,
                            "#46039f"
                          ],
                          [
                            0.2222222222222222,
                            "#7201a8"
                          ],
                          [
                            0.3333333333333333,
                            "#9c179e"
                          ],
                          [
                            0.4444444444444444,
                            "#bd3786"
                          ],
                          [
                            0.5555555555555556,
                            "#d8576b"
                          ],
                          [
                            0.6666666666666666,
                            "#ed7953"
                          ],
                          [
                            0.7777777777777778,
                            "#fb9f3a"
                          ],
                          [
                            0.8888888888888888,
                            "#fdca26"
                          ],
                          [
                            1,
                            "#f0f921"
                          ]
                        ],
                        "type": "histogram2d"
                      }
                    ],
                    "histogram2dcontour": [
                      {
                        "colorbar": {
                          "outlinewidth": 0,
                          "ticks": ""
                        },
                        "colorscale": [
                          [
                            0,
                            "#0d0887"
                          ],
                          [
                            0.1111111111111111,
                            "#46039f"
                          ],
                          [
                            0.2222222222222222,
                            "#7201a8"
                          ],
                          [
                            0.3333333333333333,
                            "#9c179e"
                          ],
                          [
                            0.4444444444444444,
                            "#bd3786"
                          ],
                          [
                            0.5555555555555556,
                            "#d8576b"
                          ],
                          [
                            0.6666666666666666,
                            "#ed7953"
                          ],
                          [
                            0.7777777777777778,
                            "#fb9f3a"
                          ],
                          [
                            0.8888888888888888,
                            "#fdca26"
                          ],
                          [
                            1,
                            "#f0f921"
                          ]
                        ],
                        "type": "histogram2dcontour"
                      }
                    ],
                    "mesh3d": [
                      {
                        "colorbar": {
                          "outlinewidth": 0,
                          "ticks": ""
                        },
                        "type": "mesh3d"
                      }
                    ],
                    "parcoords": [
                      {
                        "line": {
                          "colorbar": {
                            "outlinewidth": 0,
                            "ticks": ""
                          }
                        },
                        "type": "parcoords"
                      }
                    ],
                    "pie": [
                      {
                        "automargin": true,
                        "type": "pie"
                      }
                    ],
                    "scatter": [
                      {
                        "fillpattern": {
                          "fillmode": "overlay",
                          "size": 10,
                          "solidity": 0.2
                        },
                        "type": "scatter"
                      }
                    ],
                    "scatter3d": [
                      {
                        "line": {
                          "colorbar": {
                            "outlinewidth": 0,
                            "ticks": ""
                          }
                        },
                        "marker": {
                          "colorbar": {
                            "outlinewidth": 0,
                            "ticks": ""
                          }
                        },
                        "type": "scatter3d"
                      }
                    ],
                    "scattercarpet": [
                      {
                        "marker": {
                          "colorbar": {
                            "outlinewidth": 0,
                            "ticks": ""
                          }
                        },
                        "type": "scattercarpet"
                      }
                    ],
                    "scattergeo": [
                      {
                        "marker": {
                          "colorbar": {
                            "outlinewidth": 0,
                            "ticks": ""
                          }
                        },
                        "type": "scattergeo"
                      }
                    ],
                    "scattergl": [
                      {
                        "marker": {
                          "colorbar": {
                            "outlinewidth": 0,
                            "ticks": ""
                          }
                        },
                        "type": "scattergl"
                      }
                    ],
                    "scattermapbox": [
                      {
                        "marker": {
                          "colorbar": {
                            "outlinewidth": 0,
                            "ticks": ""
                          }
                        },
                        "type": "scattermapbox"
                      }
                    ],
                    "scatterpolar": [
                      {
                        "marker": {
                          "colorbar": {
                            "outlinewidth": 0,
                            "ticks": ""
                          }
                        },
                        "type": "scatterpolar"
                      }
                    ],
                    "scatterpolargl": [
                      {
                        "marker": {
                          "colorbar": {
                            "outlinewidth": 0,
                            "ticks": ""
                          }
                        },
                        "type": "scatterpolargl"
                      }
                    ],
                    "scatterternary": [
                      {
                        "marker": {
                          "colorbar": {
                            "outlinewidth": 0,
                            "ticks": ""
                          }
                        },
                        "type": "scatterternary"
                      }
                    ],
                    "surface": [
                      {
                        "colorbar": {
                          "outlinewidth": 0,
                          "ticks": ""
                        },
                        "colorscale": [
                          [
                            0,
                            "#0d0887"
                          ],
                          [
                            0.1111111111111111,
                            "#46039f"
                          ],
                          [
                            0.2222222222222222,
                            "#7201a8"
                          ],
                          [
                            0.3333333333333333,
                            "#9c179e"
                          ],
                          [
                            0.4444444444444444,
                            "#bd3786"
                          ],
                          [
                            0.5555555555555556,
                            "#d8576b"
                          ],
                          [
                            0.6666666666666666,
                            "#ed7953"
                          ],
                          [
                            0.7777777777777778,
                            "#fb9f3a"
                          ],
                          [
                            0.8888888888888888,
                            "#fdca26"
                          ],
                          [
                            1,
                            "#f0f921"
                          ]
                        ],
                        "type": "surface"
                      }
                    ],
                    "table": [
                      {
                        "cells": {
                          "fill": {
                            "color": "#EBF0F8"
                          },
                          "line": {
                            "color": "white"
                          }
                        },
                        "header": {
                          "fill": {
                            "color": "#C8D4E3"
                          },
                          "line": {
                            "color": "white"
                          }
                        },
                        "type": "table"
                      }
                    ]
                  },
                  "layout": {
                    "annotationdefaults": {
                      "arrowcolor": "#2a3f5f",
                      "arrowhead": 0,
                      "arrowwidth": 1
                    },
                    "autotypenumbers": "strict",
                    "coloraxis": {
                      "colorbar": {
                        "outlinewidth": 0,
                        "ticks": ""
                      }
                    },
                    "colorscale": {
                      "diverging": [
                        [
                          0,
                          "#8e0152"
                        ],
                        [
                          0.1,
                          "#c51b7d"
                        ],
                        [
                          0.2,
                          "#de77ae"
                        ],
                        [
                          0.3,
                          "#f1b6da"
                        ],
                        [
                          0.4,
                          "#fde0ef"
                        ],
                        [
                          0.5,
                          "#f7f7f7"
                        ],
                        [
                          0.6,
                          "#e6f5d0"
                        ],
                        [
                          0.7,
                          "#b8e186"
                        ],
                        [
                          0.8,
                          "#7fbc41"
                        ],
                        [
                          0.9,
                          "#4d9221"
                        ],
                        [
                          1,
                          "#276419"
                        ]
                      ],
                      "sequential": [
                        [
                          0,
                          "#0d0887"
                        ],
                        [
                          0.1111111111111111,
                          "#46039f"
                        ],
                        [
                          0.2222222222222222,
                          "#7201a8"
                        ],
                        [
                          0.3333333333333333,
                          "#9c179e"
                        ],
                        [
                          0.4444444444444444,
                          "#bd3786"
                        ],
                        [
                          0.5555555555555556,
                          "#d8576b"
                        ],
                        [
                          0.6666666666666666,
                          "#ed7953"
                        ],
                        [
                          0.7777777777777778,
                          "#fb9f3a"
                        ],
                        [
                          0.8888888888888888,
                          "#fdca26"
                        ],
                        [
                          1,
                          "#f0f921"
                        ]
                      ],
                      "sequentialminus": [
                        [
                          0,
                          "#0d0887"
                        ],
                        [
                          0.1111111111111111,
                          "#46039f"
                        ],
                        [
                          0.2222222222222222,
                          "#7201a8"
                        ],
                        [
                          0.3333333333333333,
                          "#9c179e"
                        ],
                        [
                          0.4444444444444444,
                          "#bd3786"
                        ],
                        [
                          0.5555555555555556,
                          "#d8576b"
                        ],
                        [
                          0.6666666666666666,
                          "#ed7953"
                        ],
                        [
                          0.7777777777777778,
                          "#fb9f3a"
                        ],
                        [
                          0.8888888888888888,
                          "#fdca26"
                        ],
                        [
                          1,
                          "#f0f921"
                        ]
                      ]
                    },
                    "colorway": [
                      "#636efa",
                      "#EF553B",
                      "#00cc96",
                      "#ab63fa",
                      "#FFA15A",
                      "#19d3f3",
                      "#FF6692",
                      "#B6E880",
                      "#FF97FF",
                      "#FECB52"
                    ],
                    "font": {
                      "color": "#2a3f5f"
                    },
                    "geo": {
                      "bgcolor": "white",
                      "lakecolor": "white",
                      "landcolor": "#E5ECF6",
                      "showlakes": true,
                      "showland": true,
                      "subunitcolor": "white"
                    },
                    "hoverlabel": {
                      "align": "left"
                    },
                    "hovermode": "closest",
                    "mapbox": {
                      "style": "light"
                    },
                    "paper_bgcolor": "white",
                    "plot_bgcolor": "#E5ECF6",
                    "polar": {
                      "angularaxis": {
                        "gridcolor": "white",
                        "linecolor": "white",
                        "ticks": ""
                      },
                      "bgcolor": "#E5ECF6",
                      "radialaxis": {
                        "gridcolor": "white",
                        "linecolor": "white",
                        "ticks": ""
                      }
                    },
                    "scene": {
                      "xaxis": {
                        "backgroundcolor": "#E5ECF6",
                        "gridcolor": "white",
                        "gridwidth": 2,
                        "linecolor": "white",
                        "showbackground": true,
                        "ticks": "",
                        "zerolinecolor": "white"
                      },
                      "yaxis": {
                        "backgroundcolor": "#E5ECF6",
                        "gridcolor": "white",
                        "gridwidth": 2,
                        "linecolor": "white",
                        "showbackground": true,
                        "ticks": "",
                        "zerolinecolor": "white"
                      },
                      "zaxis": {
                        "backgroundcolor": "#E5ECF6",
                        "gridcolor": "white",
                        "gridwidth": 2,
                        "linecolor": "white",
                        "showbackground": true,
                        "ticks": "",
                        "zerolinecolor": "white"
                      }
                    },
                    "shapedefaults": {
                      "line": {
                        "color": "#2a3f5f"
                      }
                    },
                    "ternary": {
                      "aaxis": {
                        "gridcolor": "white",
                        "linecolor": "white",
                        "ticks": ""
                      },
                      "baxis": {
                        "gridcolor": "white",
                        "linecolor": "white",
                        "ticks": ""
                      },
                      "bgcolor": "#E5ECF6",
                      "caxis": {
                        "gridcolor": "white",
                        "linecolor": "white",
                        "ticks": ""
                      }
                    },
                    "title": {
                      "x": 0.05
                    },
                    "xaxis": {
                      "automargin": true,
                      "gridcolor": "white",
                      "linecolor": "white",
                      "ticks": "",
                      "title": {
                        "standoff": 15
                      },
                      "zerolinecolor": "white",
                      "zerolinewidth": 2
                    },
                    "yaxis": {
                      "automargin": true,
                      "gridcolor": "white",
                      "linecolor": "white",
                      "ticks": "",
                      "title": {
                        "standoff": 15
                      },
                      "zerolinecolor": "white",
                      "zerolinewidth": 2
                    }
                  }
                },
                "title": {
                  "text": "Slice Plot"
                },
                "width": 3000,
                "xaxis": {
                  "anchor": "y",
                  "domain": [
                    0,
                    0.082
                  ],
                  "title": {
                    "text": "colsample_bytree"
                  }
                },
                "xaxis10": {
                  "anchor": "y10",
                  "domain": [
                    0.9179999999999999,
                    0.9999999999999999
                  ],
                  "title": {
                    "text": "subsample"
                  }
                },
                "xaxis2": {
                  "anchor": "y2",
                  "domain": [
                    0.10200000000000001,
                    0.184
                  ],
                  "title": {
                    "text": "gamma"
                  }
                },
                "xaxis3": {
                  "anchor": "y3",
                  "categoryarray": [
                    "gain",
                    "weight",
                    "cover",
                    "total_gain",
                    "total_cover"
                  ],
                  "categoryorder": "array",
                  "domain": [
                    0.20400000000000001,
                    0.28600000000000003
                  ],
                  "title": {
                    "text": "importance_type"
                  },
                  "type": "category"
                },
                "xaxis4": {
                  "anchor": "y4",
                  "domain": [
                    0.306,
                    0.388
                  ],
                  "title": {
                    "text": "learning_rate"
                  },
                  "type": "log"
                },
                "xaxis5": {
                  "anchor": "y5",
                  "domain": [
                    0.40800000000000003,
                    0.49000000000000005
                  ],
                  "title": {
                    "text": "max_depth"
                  }
                },
                "xaxis6": {
                  "anchor": "y6",
                  "domain": [
                    0.51,
                    0.592
                  ],
                  "title": {
                    "text": "min_child_weight"
                  }
                },
                "xaxis7": {
                  "anchor": "y7",
                  "domain": [
                    0.6120000000000001,
                    0.6940000000000001
                  ],
                  "title": {
                    "text": "n_estimators"
                  }
                },
                "xaxis8": {
                  "anchor": "y8",
                  "domain": [
                    0.7140000000000001,
                    0.796
                  ],
                  "title": {
                    "text": "reg_alpha"
                  }
                },
                "xaxis9": {
                  "anchor": "y9",
                  "domain": [
                    0.8160000000000001,
                    0.898
                  ],
                  "title": {
                    "text": "reg_lambda"
                  }
                },
                "yaxis": {
                  "anchor": "x",
                  "domain": [
                    0,
                    1
                  ],
                  "title": {
                    "text": "Objective Value"
                  }
                },
                "yaxis10": {
                  "anchor": "x10",
                  "domain": [
                    0,
                    1
                  ],
                  "matches": "y",
                  "showticklabels": false
                },
                "yaxis2": {
                  "anchor": "x2",
                  "domain": [
                    0,
                    1
                  ],
                  "matches": "y",
                  "showticklabels": false
                },
                "yaxis3": {
                  "anchor": "x3",
                  "domain": [
                    0,
                    1
                  ],
                  "matches": "y",
                  "showticklabels": false
                },
                "yaxis4": {
                  "anchor": "x4",
                  "domain": [
                    0,
                    1
                  ],
                  "matches": "y",
                  "showticklabels": false
                },
                "yaxis5": {
                  "anchor": "x5",
                  "domain": [
                    0,
                    1
                  ],
                  "matches": "y",
                  "showticklabels": false
                },
                "yaxis6": {
                  "anchor": "x6",
                  "domain": [
                    0,
                    1
                  ],
                  "matches": "y",
                  "showticklabels": false
                },
                "yaxis7": {
                  "anchor": "x7",
                  "domain": [
                    0,
                    1
                  ],
                  "matches": "y",
                  "showticklabels": false
                },
                "yaxis8": {
                  "anchor": "x8",
                  "domain": [
                    0,
                    1
                  ],
                  "matches": "y",
                  "showticklabels": false
                },
                "yaxis9": {
                  "anchor": "x9",
                  "domain": [
                    0,
                    1
                  ],
                  "matches": "y",
                  "showticklabels": false
                }
              }
            }
          },
          "metadata": {},
          "output_type": "display_data"
        }
      ],
      "source": [
        "optuna.visualization.plot_slice(study)"
      ]
    },
    {
      "cell_type": "code",
      "execution_count": 60,
      "metadata": {},
      "outputs": [
        {
          "data": {
            "application/vnd.plotly.v1+json": {
              "config": {
                "plotlyServerURL": "https://plot.ly"
              },
              "data": [
                {
                  "dimensions": [
                    {
                      "label": "Objective Value",
                      "range": [
                        -0.14345781844615096,
                        -0.0558746512948155
                      ],
                      "values": [
                        -0.08112865438379424,
                        -0.11061844709684014,
                        -0.06047573233146104,
                        -0.13966037100657638,
                        -0.08776069009277021,
                        -0.063121854488823,
                        -0.09054659796541205,
                        -0.14345781844615096,
                        -0.06759093714415214,
                        -0.07369356659319123,
                        -0.06711311304001702,
                        -0.062001291008263335,
                        -0.063692238105991,
                        -0.06714442486146463,
                        -0.07073697153523176,
                        -0.06257894439004269,
                        -0.06647607145442115,
                        -0.06267931657183709,
                        -0.058838788072022676,
                        -0.06525357906648217,
                        -0.06043644581670782,
                        -0.06110998303612798,
                        -0.06121890859999389,
                        -0.059575909170216226,
                        -0.059435449623036665,
                        -0.061599301000005414,
                        -0.06090812845373531,
                        -0.0633940200050566,
                        -0.059905045059785014,
                        -0.06536351042433994,
                        -0.06001952466162715,
                        -0.05986419839918633,
                        -0.05938161408154583,
                        -0.061449066679765595,
                        -0.06098073337438189,
                        -0.05861232664172976,
                        -0.05852956836974719,
                        -0.06278790070698884,
                        -0.06021417332838271,
                        -0.05966261983904122,
                        -0.06070613492481116,
                        -0.058563535266344224,
                        -0.05888731017321781,
                        -0.05877608710188927,
                        -0.0588315664489248,
                        -0.0747788227451321,
                        -0.06321749692572734,
                        -0.05912879019454931,
                        -0.06478650729551516,
                        -0.058665219180209484,
                        -0.06474693748146398,
                        -0.059275965130095365,
                        -0.06008198765058661,
                        -0.061295211116355074,
                        -0.059861998683485226,
                        -0.06059154579188353,
                        -0.06178596966809069,
                        -0.05642776884842336,
                        -0.0558746512948155,
                        -0.0621419191370455,
                        -0.05850933631345383,
                        -0.058453092300592924,
                        -0.05889205171808496,
                        -0.05904621373077269,
                        -0.059090632004804924,
                        -0.06326581340568585,
                        -0.05930108450377157,
                        -0.058135654676207724,
                        -0.057979540940443816,
                        -0.05854488618556073,
                        -0.057486378832834105,
                        -0.05753967534888047,
                        -0.05829650153515842,
                        -0.058386651764411615,
                        -0.05841507907722197,
                        -0.0578054886599227,
                        -0.06099516278014069,
                        -0.058496564558059426,
                        -0.05732587489394229,
                        -0.057816961695889825,
                        -0.05797780513001938,
                        -0.058306518797948584,
                        -0.05838384985250304,
                        -0.05857335270467464,
                        -0.05806612853651495,
                        -0.05875232199695509,
                        -0.0665849322237836,
                        -0.05799110360247861,
                        -0.05823887474899497,
                        -0.05838715205192455,
                        -0.06597151723138919,
                        -0.05784571407758867,
                        -0.05795903682102506,
                        -0.0586912713461505,
                        -0.05828053661343395,
                        -0.057839216600001644,
                        -0.06085345281994152,
                        -0.05777448847466885,
                        -0.05758313422820912,
                        -0.058214123924190175
                      ]
                    },
                    {
                      "label": "colsample_bytree",
                      "range": [
                        0.5058104808137764,
                        0.9999484485625738
                      ],
                      "values": [
                        0.9849549260809971,
                        0.8925879806965068,
                        0.7200762468698007,
                        0.9474136752138245,
                        0.9010984903770198,
                        0.811649063413779,
                        0.7468977981821954,
                        0.5384899549143964,
                        0.5550259622638384,
                        0.8515094794475889,
                        0.6962264460513162,
                        0.8029429019098182,
                        0.695140379844734,
                        0.7620580754828066,
                        0.643954649732532,
                        0.808790240578726,
                        0.6157490574574946,
                        0.7567718965303698,
                        0.8202702787093918,
                        0.5058104808137764,
                        0.8805991604929908,
                        0.8638687768356054,
                        0.9316897386942563,
                        0.8392107436082175,
                        0.8595166451254908,
                        0.8425233100341705,
                        0.8283474862903881,
                        0.7912493416550591,
                        0.8553519284212932,
                        0.976355140568644,
                        0.9182892243894218,
                        0.8597539956854516,
                        0.8874571940541562,
                        0.8936715020405264,
                        0.8897194211138154,
                        0.9673445518064642,
                        0.983484396779841,
                        0.9952079071715045,
                        0.9764104021195255,
                        0.9513586198938413,
                        0.9468261467351887,
                        0.9109820072266485,
                        0.9283130778839941,
                        0.916708030164482,
                        0.9618617199495848,
                        0.9964589145698454,
                        0.9650171191034607,
                        0.9185153597483593,
                        0.9616844349242166,
                        0.9797662194579903,
                        0.9927862136915864,
                        0.9729218535976105,
                        0.9424991335389479,
                        0.9129987336407704,
                        0.9598593467984251,
                        0.9349770773285585,
                        0.9066751257927856,
                        0.9784723882055074,
                        0.985077136597312,
                        0.9987676021321193,
                        0.9828514659102916,
                        0.9837466659615497,
                        0.9807457303911606,
                        0.9421280458169979,
                        0.9538951114582219,
                        0.9800237810936627,
                        0.9999484485625738,
                        0.9666409956336199,
                        0.9346479971686636,
                        0.9350092695816498,
                        0.9839464446343114,
                        0.9860662617891883,
                        0.9526907861169867,
                        0.9553249071129946,
                        0.9517560627375807,
                        0.967484439878153,
                        0.9650250655282132,
                        0.9289663309393433,
                        0.9427443965400568,
                        0.9016047707200453,
                        0.8762190536739165,
                        0.8735983844763205,
                        0.906428287527652,
                        0.8949553824775901,
                        0.9281133290497993,
                        0.9444398552775357,
                        0.8777531501819572,
                        0.9721097481076176,
                        0.9019585309657603,
                        0.9882607072684555,
                        0.9210154386487438,
                        0.972439196811536,
                        0.9394558905437165,
                        0.9715506353269237,
                        0.9886466801161605,
                        0.9430224629737123,
                        0.942347034064655,
                        0.9999137745950955,
                        0.988678790501663,
                        0.9921053598523986
                      ]
                    },
                    {
                      "label": "gamma",
                      "range": [
                        0.0034555415288786504,
                        0.8324426408004217
                      ],
                      "values": [
                        0.8324426408004217,
                        0.19967378215835974,
                        0.12203823484477883,
                        0.5978999788110851,
                        0.07455064367977082,
                        0.3308980248526492,
                        0.5227328293819941,
                        0.289751452913768,
                        0.22793516254194168,
                        0.363629602379294,
                        0.03494275530316397,
                        0.006268447165769991,
                        0.04194523675752124,
                        0.013799010346731717,
                        0.15396152217986755,
                        0.14360920334143815,
                        0.3896311863399541,
                        0.0034555415288786504,
                        0.14859100232744302,
                        0.2547196294699663,
                        0.13073714754988763,
                        0.13677960051883234,
                        0.12370557453035448,
                        0.1963288713025199,
                        0.22698477376440862,
                        0.23391282494445484,
                        0.4176257693089477,
                        0.21549548359540793,
                        0.2705800103865266,
                        0.4752699277053908,
                        0.30720668784355076,
                        0.28929968825819297,
                        0.32374701202820866,
                        0.2066796504483277,
                        0.18317482305857716,
                        0.10054300344795417,
                        0.08820405628190904,
                        0.10253838994079667,
                        0.0986360269945325,
                        0.07862381492754246,
                        0.0786344929032399,
                        0.1852232757978757,
                        0.1590500112802289,
                        0.16787788215075877,
                        0.05649128926085509,
                        0.047702193064534715,
                        0.04451898746869632,
                        0.08344397381346262,
                        0.17591130179099365,
                        0.05856952814691804,
                        0.012412947842302319,
                        0.06668230157991603,
                        0.11258619470308921,
                        0.04791963361895757,
                        0.1823430094269149,
                        0.008642587520274608,
                        0.10726783025901448,
                        0.15247167010421014,
                        0.15116883369460515,
                        0.2583346705390247,
                        0.14394201104652876,
                        0.13268820544728668,
                        0.13764586398325976,
                        0.23023318703460838,
                        0.13110345110296834,
                        0.1991936123028603,
                        0.25437998336741974,
                        0.15674487883872082,
                        0.15778501012843824,
                        0.14704074511383486,
                        0.35322256317436895,
                        0.214639947338324,
                        0.21297690977663541,
                        0.2915701361143491,
                        0.3461656188514804,
                        0.29999411771134593,
                        0.22424500350254578,
                        0.2903782687980794,
                        0.24710554973297807,
                        0.3267742864572751,
                        0.32113217102683195,
                        0.3214782911732775,
                        0.36616893750663804,
                        0.2534179819980649,
                        0.30724058533571497,
                        0.40229483771122365,
                        0.34827711574119163,
                        0.27224774675557434,
                        0.24234105249090004,
                        0.27544741888571667,
                        0.2096926359729053,
                        0.26891011351727107,
                        0.3150487624058167,
                        0.3722409759458736,
                        0.3307699436901452,
                        0.2997150144831909,
                        0.24183814879749863,
                        0.2930929661977148,
                        0.2905058355971665,
                        0.2879639672596186
                      ]
                    },
                    {
                      "label": "importance_type",
                      "range": [
                        0,
                        4
                      ],
                      "ticktext": [
                        "gain",
                        "cover",
                        "total_cover",
                        "total_gain",
                        "weight"
                      ],
                      "tickvals": [
                        0,
                        1,
                        2,
                        3,
                        4
                      ],
                      "values": [
                        0,
                        1,
                        2,
                        0,
                        3,
                        1,
                        3,
                        1,
                        1,
                        0,
                        2,
                        4,
                        4,
                        2,
                        4,
                        2,
                        4,
                        2,
                        4,
                        4,
                        2,
                        2,
                        2,
                        2,
                        2,
                        3,
                        4,
                        2,
                        2,
                        0,
                        4,
                        2,
                        2,
                        2,
                        2,
                        0,
                        0,
                        0,
                        0,
                        0,
                        0,
                        0,
                        0,
                        0,
                        0,
                        0,
                        0,
                        0,
                        0,
                        1,
                        1,
                        0,
                        1,
                        1,
                        0,
                        3,
                        0,
                        1,
                        1,
                        1,
                        1,
                        1,
                        1,
                        1,
                        1,
                        1,
                        1,
                        1,
                        1,
                        1,
                        1,
                        1,
                        1,
                        1,
                        1,
                        1,
                        1,
                        1,
                        1,
                        1,
                        1,
                        1,
                        1,
                        1,
                        3,
                        1,
                        1,
                        1,
                        1,
                        1,
                        1,
                        1,
                        1,
                        1,
                        1,
                        1,
                        4,
                        3,
                        3,
                        3
                      ]
                    },
                    {
                      "label": "learning_rate",
                      "range": [
                        -1.970104787223441,
                        -0.8267823567471282
                      ],
                      "ticktext": [
                        "0.0107",
                        "0.1",
                        "0.149"
                      ],
                      "tickvals": [
                        -1.970104787223441,
                        -1,
                        -0.8267823567471282
                      ],
                      "values": [
                        -1.559506640057941,
                        -1.7861572453896426,
                        -1.3032664038241117,
                        -1.9595559609045397,
                        -1.8959247418447702,
                        -1.0917696769787302,
                        -1.6342564097093677,
                        -1.970104787223441,
                        -0.9065907175153122,
                        -1.0379399840200767,
                        -1.3223230313537129,
                        -1.2399455475110197,
                        -1.311828687929043,
                        -1.288154807398795,
                        -1.480042700428795,
                        -1.1974029924774647,
                        -1.4106820578796555,
                        -0.8267823567471282,
                        -1.1467822002842092,
                        -1.1163563238361252,
                        -1.4059417230690359,
                        -1.4445721819299482,
                        -1.3906275430639654,
                        -1.1885152455228902,
                        -1.1994103524033903,
                        -1.1862929290375963,
                        -1.0201220339147532,
                        -1.172537476654905,
                        -0.9957833458996126,
                        -1.129289829011073,
                        -1.2350647092823437,
                        -1.008965683969201,
                        -1.0825640631570412,
                        -1.0911261938737216,
                        -1.1569495408638046,
                        -1.2365563115949914,
                        -1.2386489060181594,
                        -1.2980975739350322,
                        -1.0703003168021445,
                        -0.9649899682722437,
                        -1.10073330773641,
                        -1.2556922618113695,
                        -1.2430427535214277,
                        -1.2550729858825573,
                        -1.3474018301780173,
                        -1.3554919417370765,
                        -1.352521176305492,
                        -1.2618009527291205,
                        -1.5188655963027076,
                        -1.3301912655476047,
                        -1.2454253157452193,
                        -1.3329329364648057,
                        -1.2899055950477512,
                        -1.3656437640406907,
                        -1.3037317557205523,
                        -1.4398037066861014,
                        -1.34421554378029,
                        -1.2150824381930965,
                        -1.2160439446917846,
                        -1.1472974251429677,
                        -1.211313423739626,
                        -1.2191867813437223,
                        -1.2153742584597966,
                        -1.2099278761016077,
                        -1.1566105784621474,
                        -1.2723914292327962,
                        -1.2106085444078356,
                        -1.1723649440730237,
                        -1.1352481228815527,
                        -1.1257576377986724,
                        -1.161366719982314,
                        -1.1779888610791212,
                        -1.0655322586072649,
                        -1.0534345857094891,
                        -1.055358711916753,
                        -1.114243823743376,
                        -1.1706382903165267,
                        -1.1099757403532464,
                        -1.1340897077855094,
                        -1.1189141552513147,
                        -1.1271717224523745,
                        -1.1324666403751045,
                        -1.1043041193667527,
                        -1.0350394327390011,
                        -1.1427247859001057,
                        -1.0819068014081594,
                        -1.1194645121600935,
                        -1.1848489197645746,
                        -1.0891524799349788,
                        -0.9977353586974638,
                        -1.1843060870319848,
                        -1.1846744047609388,
                        -1.1495369075149102,
                        -1.156109985485505,
                        -1.1895963783305923,
                        -1.108365009791665,
                        -1.0293332151876855,
                        -1.0982854518898408,
                        -1.1010399473541457,
                        -1.0972835294092544
                      ]
                    },
                    {
                      "label": "max_depth",
                      "range": [
                        5,
                        8
                      ],
                      "values": [
                        5,
                        7,
                        8,
                        7,
                        8,
                        8,
                        5,
                        8,
                        8,
                        5,
                        6,
                        7,
                        7,
                        6,
                        7,
                        6,
                        8,
                        7,
                        8,
                        8,
                        8,
                        8,
                        8,
                        8,
                        8,
                        7,
                        8,
                        7,
                        8,
                        6,
                        8,
                        8,
                        8,
                        8,
                        7,
                        8,
                        8,
                        7,
                        8,
                        8,
                        8,
                        8,
                        8,
                        8,
                        8,
                        5,
                        7,
                        8,
                        7,
                        8,
                        8,
                        8,
                        8,
                        8,
                        8,
                        8,
                        8,
                        8,
                        8,
                        6,
                        7,
                        7,
                        7,
                        7,
                        7,
                        6,
                        7,
                        7,
                        7,
                        7,
                        7,
                        7,
                        7,
                        7,
                        7,
                        7,
                        6,
                        7,
                        7,
                        7,
                        7,
                        7,
                        7,
                        7,
                        7,
                        7,
                        6,
                        7,
                        7,
                        7,
                        7,
                        7,
                        7,
                        7,
                        7,
                        7,
                        6,
                        7,
                        7,
                        7
                      ]
                    },
                    {
                      "label": "min_child_weight",
                      "range": [
                        1,
                        10
                      ],
                      "values": [
                        3,
                        6,
                        5,
                        10,
                        10,
                        1,
                        5,
                        2,
                        5,
                        10,
                        7,
                        1,
                        3,
                        8,
                        4,
                        1,
                        7,
                        3,
                        8,
                        8,
                        8,
                        8,
                        9,
                        6,
                        7,
                        6,
                        7,
                        9,
                        6,
                        4,
                        7,
                        6,
                        6,
                        9,
                        6,
                        5,
                        4,
                        4,
                        5,
                        2,
                        5,
                        4,
                        4,
                        4,
                        3,
                        2,
                        3,
                        3,
                        4,
                        2,
                        2,
                        3,
                        4,
                        5,
                        4,
                        2,
                        3,
                        1,
                        1,
                        1,
                        1,
                        1,
                        1,
                        1,
                        1,
                        1,
                        2,
                        1,
                        1,
                        1,
                        1,
                        1,
                        1,
                        1,
                        2,
                        1,
                        1,
                        2,
                        1,
                        2,
                        2,
                        2,
                        1,
                        2,
                        1,
                        2,
                        1,
                        2,
                        1,
                        2,
                        1,
                        2,
                        2,
                        3,
                        2,
                        2,
                        2,
                        1,
                        1,
                        1
                      ]
                    },
                    {
                      "label": "n_estimators",
                      "range": [
                        105,
                        500
                      ],
                      "values": [
                        447,
                        155,
                        424,
                        174,
                        243,
                        129,
                        386,
                        199,
                        316,
                        235,
                        480,
                        320,
                        361,
                        406,
                        319,
                        431,
                        348,
                        266,
                        475,
                        475,
                        497,
                        498,
                        424,
                        465,
                        462,
                        455,
                        381,
                        468,
                        398,
                        441,
                        447,
                        413,
                        457,
                        462,
                        500,
                        361,
                        361,
                        344,
                        271,
                        375,
                        300,
                        434,
                        404,
                        391,
                        361,
                        359,
                        340,
                        376,
                        393,
                        329,
                        105,
                        299,
                        332,
                        362,
                        328,
                        310,
                        279,
                        417,
                        419,
                        415,
                        430,
                        433,
                        428,
                        434,
                        418,
                        441,
                        405,
                        485,
                        478,
                        482,
                        484,
                        479,
                        485,
                        486,
                        486,
                        489,
                        470,
                        450,
                        498,
                        494,
                        499,
                        494,
                        473,
                        500,
                        458,
                        475,
                        228,
                        492,
                        467,
                        455,
                        179,
                        492,
                        478,
                        491,
                        446,
                        463,
                        464,
                        478,
                        452,
                        442
                      ]
                    },
                    {
                      "label": "reg_alpha",
                      "range": [
                        0.0011789008937765355,
                        0.9695846277645586
                      ],
                      "values": [
                        0.6011150117432088,
                        0.29214464853521815,
                        0.3046137691733707,
                        0.9695846277645586,
                        0.28093450968738076,
                        0.3584657285442726,
                        0.7607850486168974,
                        0.41038292303562973,
                        0.8074401551640625,
                        0.9429097039125192,
                        0.023930540513680543,
                        0.4818963296633298,
                        0.5396201068027978,
                        0.14778644186644474,
                        0.4723219616672016,
                        0.5724290377806086,
                        0.2223463569011278,
                        0.37699597076637836,
                        0.1820316509589816,
                        0.09569931466665646,
                        0.16951551149364646,
                        0.14797514751946125,
                        0.22171104422561153,
                        0.04420583478650164,
                        0.0021391975182198236,
                        0.006930248830620968,
                        0.06927372473455236,
                        0.05806524455317528,
                        0.002904708954083096,
                        0.11891956062116638,
                        0.07487372572980822,
                        0.032821461541523295,
                        0.0023019983921231807,
                        0.11314258756758072,
                        0.00118055923081685,
                        0.1997136349963363,
                        0.2134635526723539,
                        0.22546532209734566,
                        0.32171674941154166,
                        0.2649266007913729,
                        0.17984979903899584,
                        0.11685329456008374,
                        0.27301515589156633,
                        0.27519715023733937,
                        0.3146921205613048,
                        0.33110654080272955,
                        0.28255971723184103,
                        0.3569706434072708,
                        0.401130978981291,
                        0.2531135245247745,
                        0.24039632408681946,
                        0.3179302827916015,
                        0.19308236422540004,
                        0.2495383423776874,
                        0.2952183734788885,
                        0.12959605324776383,
                        0.21176855770081648,
                        0.19107981686351846,
                        0.17234308458520045,
                        0.1512634904452519,
                        0.10037517979252603,
                        0.10234829763087344,
                        0.09328452126683107,
                        0.17209406855392984,
                        0.10330294056911972,
                        0.124714514474582,
                        0.08284634100986206,
                        0.05067987715066108,
                        0.058665460214918974,
                        0.051620249787368934,
                        0.04152051618104889,
                        0.029148308543860614,
                        0.0415023065107447,
                        0.031045464164532858,
                        0.04713750045371911,
                        0.039477012556340736,
                        0.03193653471672601,
                        0.07163437932006285,
                        0.0635235346181543,
                        0.06886722848401004,
                        0.15366752729453223,
                        0.14822266312543322,
                        0.07459590762661447,
                        0.021255701559061563,
                        0.06873354386932197,
                        0.14933202029238574,
                        0.13088762492996106,
                        0.023419153591373663,
                        0.08921078431315327,
                        0.16496642256304273,
                        0.06104728716615341,
                        0.018884561563345045,
                        0.013173117143789097,
                        0.0011789008937765355,
                        0.02358090671752853,
                        0.12355166986317756,
                        0.09330644011196669,
                        0.12472530658418539,
                        0.12180795903735703,
                        0.18762135672413904
                      ]
                    },
                    {
                      "label": "reg_lambda",
                      "range": [
                        0.003151841662166024,
                        0.8960912999234932
                      ],
                      "values": [
                        0.7080725777960455,
                        0.3663618432936917,
                        0.09767211400638387,
                        0.7751328233611146,
                        0.5426960831582485,
                        0.11586905952512971,
                        0.5612771975694962,
                        0.7555511385430487,
                        0.8960912999234932,
                        0.32320293202075523,
                        0.038725199961183066,
                        0.02038536220152745,
                        0.03358588493447201,
                        0.22397372590468512,
                        0.16605352400294457,
                        0.008881075897299764,
                        0.25148807001829376,
                        0.12308552569879086,
                        0.4102204225893098,
                        0.4090010710703237,
                        0.4723627196857372,
                        0.5132860126679426,
                        0.43757932603457683,
                        0.24509422905764774,
                        0.30935141676557953,
                        0.276529865751239,
                        0.3181371213795404,
                        0.2008825321989103,
                        0.37600092698237686,
                        0.28855925874293775,
                        0.20915775336569306,
                        0.35179369996486404,
                        0.35816522536849704,
                        0.38252070994380716,
                        0.460432105327042,
                        0.2895555735307262,
                        0.6021630485553857,
                        0.5890323605826677,
                        0.6240451889746426,
                        0.5074957433548706,
                        0.42564813585250816,
                        0.34926850842051654,
                        0.38264460927299515,
                        0.42064798254768077,
                        0.47888306327593044,
                        0.6375216255017149,
                        0.551364910749385,
                        0.4920741839821073,
                        0.5339393275144466,
                        0.45911329560383185,
                        0.33874832587354153,
                        0.4601353962584045,
                        0.47658592632164704,
                        0.43624203930294925,
                        0.699201129389373,
                        0.5380930126737028,
                        0.4061105742185367,
                        0.5008778944288846,
                        0.3264251999488965,
                        0.3136362685176762,
                        0.3435305745798688,
                        0.2656889748235959,
                        0.27810876295558323,
                        0.23757107311444345,
                        0.17566004169884886,
                        0.28735656079535404,
                        0.3140645106698195,
                        0.25856381945930923,
                        0.24288066859227342,
                        0.2506609799272418,
                        0.1315896041121286,
                        0.1319364332867723,
                        0.13406109732135382,
                        0.13131415603825428,
                        0.08807499648904624,
                        0.14303527523997492,
                        0.1569783645235982,
                        0.06983121058458543,
                        0.1975849785804739,
                        0.20107752282103902,
                        0.20322016968692763,
                        0.20107086202283594,
                        0.2222834285694436,
                        0.17381433554447792,
                        0.11232697329440433,
                        0.18421339302682455,
                        0.1586875349123565,
                        0.2259383140803935,
                        0.19962828639606447,
                        0.06319035075083757,
                        0.15265531379429148,
                        0.22371152216985468,
                        0.10686176939322853,
                        0.10135057191936091,
                        0.13635253910778883,
                        0.1083849086476032,
                        0.10325393610011915,
                        0.010343634700536675,
                        0.006431603668127079,
                        0.003151841662166024
                      ]
                    },
                    {
                      "label": "subsample",
                      "range": [
                        0.5019385957431147,
                        0.9975353002194276
                      ],
                      "values": [
                        0.5102922471479012,
                        0.728034992108518,
                        0.8421165132560784,
                        0.9697494707820946,
                        0.5704621124873813,
                        0.9315517129377968,
                        0.8854835899772805,
                        0.6143990827458112,
                        0.6590017374859319,
                        0.7593953108716831,
                        0.8271882613853767,
                        0.996127180359486,
                        0.9929035573243237,
                        0.8833965408710955,
                        0.9975353002194276,
                        0.8387046689443073,
                        0.9257586930950286,
                        0.8020792747505997,
                        0.9197209310146277,
                        0.8766164152726226,
                        0.7800847310887465,
                        0.7648597002451788,
                        0.7952257992000473,
                        0.709049181633085,
                        0.7087683023737443,
                        0.6745452135367257,
                        0.7285545670206393,
                        0.703411309772409,
                        0.738083915309763,
                        0.5019385957431147,
                        0.6989228711383906,
                        0.7408133328558666,
                        0.7500511148004656,
                        0.6406089351880104,
                        0.7226199134607248,
                        0.6951465749853788,
                        0.6781556333209239,
                        0.5837550556756891,
                        0.667124604621604,
                        0.5517973584943614,
                        0.6253829349332651,
                        0.6863799774764191,
                        0.6827659472385814,
                        0.6862173866151523,
                        0.6530761024973619,
                        0.6517592918214641,
                        0.6311811535524895,
                        0.6810372878739804,
                        0.6527872675422246,
                        0.6053151134411122,
                        0.6111241866611742,
                        0.6869326141842751,
                        0.6605650879248393,
                        0.613835308512927,
                        0.6457345899727329,
                        0.689056666417887,
                        0.5916640964444628,
                        0.6617146083773235,
                        0.7242080527634717,
                        0.7193253613640564,
                        0.6651908062517307,
                        0.6683453632790268,
                        0.6653686993105152,
                        0.7025619479352992,
                        0.7173561235642475,
                        0.6678041394014663,
                        0.6313721547199194,
                        0.7369993145950633,
                        0.733703430106371,
                        0.7616377552635712,
                        0.7362445980253683,
                        0.7298692592261409,
                        0.7342468382084952,
                        0.7358269094922034,
                        0.7392830326218501,
                        0.7548557457080874,
                        0.7720291844128551,
                        0.75103152603328,
                        0.7844220784139713,
                        0.7838478951974861,
                        0.802646046935476,
                        0.7871959065562532,
                        0.8097329997241516,
                        0.7676000734789155,
                        0.7836144070426435,
                        0.7542277379572493,
                        0.8081395809585749,
                        0.7701931561072471,
                        0.7958687811905887,
                        0.7488404433309873,
                        0.712974350365217,
                        0.7756184197953075,
                        0.7791075085093396,
                        0.7800312990113413,
                        0.7620220371244304,
                        0.812742770953379,
                        0.8277091214402564,
                        0.7251333538277028,
                        0.7279356597631569,
                        0.7265011300107576
                      ]
                    }
                  ],
                  "labelangle": 30,
                  "labelside": "bottom",
                  "line": {
                    "color": [
                      -0.08112865438379424,
                      -0.11061844709684014,
                      -0.06047573233146104,
                      -0.13966037100657638,
                      -0.08776069009277021,
                      -0.063121854488823,
                      -0.09054659796541205,
                      -0.14345781844615096,
                      -0.06759093714415214,
                      -0.07369356659319123,
                      -0.06711311304001702,
                      -0.062001291008263335,
                      -0.063692238105991,
                      -0.06714442486146463,
                      -0.07073697153523176,
                      -0.06257894439004269,
                      -0.06647607145442115,
                      -0.06267931657183709,
                      -0.058838788072022676,
                      -0.06525357906648217,
                      -0.06043644581670782,
                      -0.06110998303612798,
                      -0.06121890859999389,
                      -0.059575909170216226,
                      -0.059435449623036665,
                      -0.061599301000005414,
                      -0.06090812845373531,
                      -0.0633940200050566,
                      -0.059905045059785014,
                      -0.06536351042433994,
                      -0.06001952466162715,
                      -0.05986419839918633,
                      -0.05938161408154583,
                      -0.061449066679765595,
                      -0.06098073337438189,
                      -0.05861232664172976,
                      -0.05852956836974719,
                      -0.06278790070698884,
                      -0.06021417332838271,
                      -0.05966261983904122,
                      -0.06070613492481116,
                      -0.058563535266344224,
                      -0.05888731017321781,
                      -0.05877608710188927,
                      -0.0588315664489248,
                      -0.0747788227451321,
                      -0.06321749692572734,
                      -0.05912879019454931,
                      -0.06478650729551516,
                      -0.058665219180209484,
                      -0.06474693748146398,
                      -0.059275965130095365,
                      -0.06008198765058661,
                      -0.061295211116355074,
                      -0.059861998683485226,
                      -0.06059154579188353,
                      -0.06178596966809069,
                      -0.05642776884842336,
                      -0.0558746512948155,
                      -0.0621419191370455,
                      -0.05850933631345383,
                      -0.058453092300592924,
                      -0.05889205171808496,
                      -0.05904621373077269,
                      -0.059090632004804924,
                      -0.06326581340568585,
                      -0.05930108450377157,
                      -0.058135654676207724,
                      -0.057979540940443816,
                      -0.05854488618556073,
                      -0.057486378832834105,
                      -0.05753967534888047,
                      -0.05829650153515842,
                      -0.058386651764411615,
                      -0.05841507907722197,
                      -0.0578054886599227,
                      -0.06099516278014069,
                      -0.058496564558059426,
                      -0.05732587489394229,
                      -0.057816961695889825,
                      -0.05797780513001938,
                      -0.058306518797948584,
                      -0.05838384985250304,
                      -0.05857335270467464,
                      -0.05806612853651495,
                      -0.05875232199695509,
                      -0.0665849322237836,
                      -0.05799110360247861,
                      -0.05823887474899497,
                      -0.05838715205192455,
                      -0.06597151723138919,
                      -0.05784571407758867,
                      -0.05795903682102506,
                      -0.0586912713461505,
                      -0.05828053661343395,
                      -0.057839216600001644,
                      -0.06085345281994152,
                      -0.05777448847466885,
                      -0.05758313422820912,
                      -0.058214123924190175
                    ],
                    "colorbar": {
                      "title": {
                        "text": "Objective Value"
                      }
                    },
                    "colorscale": [
                      [
                        0,
                        "rgb(247,251,255)"
                      ],
                      [
                        0.125,
                        "rgb(222,235,247)"
                      ],
                      [
                        0.25,
                        "rgb(198,219,239)"
                      ],
                      [
                        0.375,
                        "rgb(158,202,225)"
                      ],
                      [
                        0.5,
                        "rgb(107,174,214)"
                      ],
                      [
                        0.625,
                        "rgb(66,146,198)"
                      ],
                      [
                        0.75,
                        "rgb(33,113,181)"
                      ],
                      [
                        0.875,
                        "rgb(8,81,156)"
                      ],
                      [
                        1,
                        "rgb(8,48,107)"
                      ]
                    ],
                    "reversescale": false,
                    "showscale": true
                  },
                  "type": "parcoords"
                }
              ],
              "layout": {
                "template": {
                  "data": {
                    "bar": [
                      {
                        "error_x": {
                          "color": "#2a3f5f"
                        },
                        "error_y": {
                          "color": "#2a3f5f"
                        },
                        "marker": {
                          "line": {
                            "color": "#E5ECF6",
                            "width": 0.5
                          },
                          "pattern": {
                            "fillmode": "overlay",
                            "size": 10,
                            "solidity": 0.2
                          }
                        },
                        "type": "bar"
                      }
                    ],
                    "barpolar": [
                      {
                        "marker": {
                          "line": {
                            "color": "#E5ECF6",
                            "width": 0.5
                          },
                          "pattern": {
                            "fillmode": "overlay",
                            "size": 10,
                            "solidity": 0.2
                          }
                        },
                        "type": "barpolar"
                      }
                    ],
                    "carpet": [
                      {
                        "aaxis": {
                          "endlinecolor": "#2a3f5f",
                          "gridcolor": "white",
                          "linecolor": "white",
                          "minorgridcolor": "white",
                          "startlinecolor": "#2a3f5f"
                        },
                        "baxis": {
                          "endlinecolor": "#2a3f5f",
                          "gridcolor": "white",
                          "linecolor": "white",
                          "minorgridcolor": "white",
                          "startlinecolor": "#2a3f5f"
                        },
                        "type": "carpet"
                      }
                    ],
                    "choropleth": [
                      {
                        "colorbar": {
                          "outlinewidth": 0,
                          "ticks": ""
                        },
                        "type": "choropleth"
                      }
                    ],
                    "contour": [
                      {
                        "colorbar": {
                          "outlinewidth": 0,
                          "ticks": ""
                        },
                        "colorscale": [
                          [
                            0,
                            "#0d0887"
                          ],
                          [
                            0.1111111111111111,
                            "#46039f"
                          ],
                          [
                            0.2222222222222222,
                            "#7201a8"
                          ],
                          [
                            0.3333333333333333,
                            "#9c179e"
                          ],
                          [
                            0.4444444444444444,
                            "#bd3786"
                          ],
                          [
                            0.5555555555555556,
                            "#d8576b"
                          ],
                          [
                            0.6666666666666666,
                            "#ed7953"
                          ],
                          [
                            0.7777777777777778,
                            "#fb9f3a"
                          ],
                          [
                            0.8888888888888888,
                            "#fdca26"
                          ],
                          [
                            1,
                            "#f0f921"
                          ]
                        ],
                        "type": "contour"
                      }
                    ],
                    "contourcarpet": [
                      {
                        "colorbar": {
                          "outlinewidth": 0,
                          "ticks": ""
                        },
                        "type": "contourcarpet"
                      }
                    ],
                    "heatmap": [
                      {
                        "colorbar": {
                          "outlinewidth": 0,
                          "ticks": ""
                        },
                        "colorscale": [
                          [
                            0,
                            "#0d0887"
                          ],
                          [
                            0.1111111111111111,
                            "#46039f"
                          ],
                          [
                            0.2222222222222222,
                            "#7201a8"
                          ],
                          [
                            0.3333333333333333,
                            "#9c179e"
                          ],
                          [
                            0.4444444444444444,
                            "#bd3786"
                          ],
                          [
                            0.5555555555555556,
                            "#d8576b"
                          ],
                          [
                            0.6666666666666666,
                            "#ed7953"
                          ],
                          [
                            0.7777777777777778,
                            "#fb9f3a"
                          ],
                          [
                            0.8888888888888888,
                            "#fdca26"
                          ],
                          [
                            1,
                            "#f0f921"
                          ]
                        ],
                        "type": "heatmap"
                      }
                    ],
                    "heatmapgl": [
                      {
                        "colorbar": {
                          "outlinewidth": 0,
                          "ticks": ""
                        },
                        "colorscale": [
                          [
                            0,
                            "#0d0887"
                          ],
                          [
                            0.1111111111111111,
                            "#46039f"
                          ],
                          [
                            0.2222222222222222,
                            "#7201a8"
                          ],
                          [
                            0.3333333333333333,
                            "#9c179e"
                          ],
                          [
                            0.4444444444444444,
                            "#bd3786"
                          ],
                          [
                            0.5555555555555556,
                            "#d8576b"
                          ],
                          [
                            0.6666666666666666,
                            "#ed7953"
                          ],
                          [
                            0.7777777777777778,
                            "#fb9f3a"
                          ],
                          [
                            0.8888888888888888,
                            "#fdca26"
                          ],
                          [
                            1,
                            "#f0f921"
                          ]
                        ],
                        "type": "heatmapgl"
                      }
                    ],
                    "histogram": [
                      {
                        "marker": {
                          "pattern": {
                            "fillmode": "overlay",
                            "size": 10,
                            "solidity": 0.2
                          }
                        },
                        "type": "histogram"
                      }
                    ],
                    "histogram2d": [
                      {
                        "colorbar": {
                          "outlinewidth": 0,
                          "ticks": ""
                        },
                        "colorscale": [
                          [
                            0,
                            "#0d0887"
                          ],
                          [
                            0.1111111111111111,
                            "#46039f"
                          ],
                          [
                            0.2222222222222222,
                            "#7201a8"
                          ],
                          [
                            0.3333333333333333,
                            "#9c179e"
                          ],
                          [
                            0.4444444444444444,
                            "#bd3786"
                          ],
                          [
                            0.5555555555555556,
                            "#d8576b"
                          ],
                          [
                            0.6666666666666666,
                            "#ed7953"
                          ],
                          [
                            0.7777777777777778,
                            "#fb9f3a"
                          ],
                          [
                            0.8888888888888888,
                            "#fdca26"
                          ],
                          [
                            1,
                            "#f0f921"
                          ]
                        ],
                        "type": "histogram2d"
                      }
                    ],
                    "histogram2dcontour": [
                      {
                        "colorbar": {
                          "outlinewidth": 0,
                          "ticks": ""
                        },
                        "colorscale": [
                          [
                            0,
                            "#0d0887"
                          ],
                          [
                            0.1111111111111111,
                            "#46039f"
                          ],
                          [
                            0.2222222222222222,
                            "#7201a8"
                          ],
                          [
                            0.3333333333333333,
                            "#9c179e"
                          ],
                          [
                            0.4444444444444444,
                            "#bd3786"
                          ],
                          [
                            0.5555555555555556,
                            "#d8576b"
                          ],
                          [
                            0.6666666666666666,
                            "#ed7953"
                          ],
                          [
                            0.7777777777777778,
                            "#fb9f3a"
                          ],
                          [
                            0.8888888888888888,
                            "#fdca26"
                          ],
                          [
                            1,
                            "#f0f921"
                          ]
                        ],
                        "type": "histogram2dcontour"
                      }
                    ],
                    "mesh3d": [
                      {
                        "colorbar": {
                          "outlinewidth": 0,
                          "ticks": ""
                        },
                        "type": "mesh3d"
                      }
                    ],
                    "parcoords": [
                      {
                        "line": {
                          "colorbar": {
                            "outlinewidth": 0,
                            "ticks": ""
                          }
                        },
                        "type": "parcoords"
                      }
                    ],
                    "pie": [
                      {
                        "automargin": true,
                        "type": "pie"
                      }
                    ],
                    "scatter": [
                      {
                        "fillpattern": {
                          "fillmode": "overlay",
                          "size": 10,
                          "solidity": 0.2
                        },
                        "type": "scatter"
                      }
                    ],
                    "scatter3d": [
                      {
                        "line": {
                          "colorbar": {
                            "outlinewidth": 0,
                            "ticks": ""
                          }
                        },
                        "marker": {
                          "colorbar": {
                            "outlinewidth": 0,
                            "ticks": ""
                          }
                        },
                        "type": "scatter3d"
                      }
                    ],
                    "scattercarpet": [
                      {
                        "marker": {
                          "colorbar": {
                            "outlinewidth": 0,
                            "ticks": ""
                          }
                        },
                        "type": "scattercarpet"
                      }
                    ],
                    "scattergeo": [
                      {
                        "marker": {
                          "colorbar": {
                            "outlinewidth": 0,
                            "ticks": ""
                          }
                        },
                        "type": "scattergeo"
                      }
                    ],
                    "scattergl": [
                      {
                        "marker": {
                          "colorbar": {
                            "outlinewidth": 0,
                            "ticks": ""
                          }
                        },
                        "type": "scattergl"
                      }
                    ],
                    "scattermapbox": [
                      {
                        "marker": {
                          "colorbar": {
                            "outlinewidth": 0,
                            "ticks": ""
                          }
                        },
                        "type": "scattermapbox"
                      }
                    ],
                    "scatterpolar": [
                      {
                        "marker": {
                          "colorbar": {
                            "outlinewidth": 0,
                            "ticks": ""
                          }
                        },
                        "type": "scatterpolar"
                      }
                    ],
                    "scatterpolargl": [
                      {
                        "marker": {
                          "colorbar": {
                            "outlinewidth": 0,
                            "ticks": ""
                          }
                        },
                        "type": "scatterpolargl"
                      }
                    ],
                    "scatterternary": [
                      {
                        "marker": {
                          "colorbar": {
                            "outlinewidth": 0,
                            "ticks": ""
                          }
                        },
                        "type": "scatterternary"
                      }
                    ],
                    "surface": [
                      {
                        "colorbar": {
                          "outlinewidth": 0,
                          "ticks": ""
                        },
                        "colorscale": [
                          [
                            0,
                            "#0d0887"
                          ],
                          [
                            0.1111111111111111,
                            "#46039f"
                          ],
                          [
                            0.2222222222222222,
                            "#7201a8"
                          ],
                          [
                            0.3333333333333333,
                            "#9c179e"
                          ],
                          [
                            0.4444444444444444,
                            "#bd3786"
                          ],
                          [
                            0.5555555555555556,
                            "#d8576b"
                          ],
                          [
                            0.6666666666666666,
                            "#ed7953"
                          ],
                          [
                            0.7777777777777778,
                            "#fb9f3a"
                          ],
                          [
                            0.8888888888888888,
                            "#fdca26"
                          ],
                          [
                            1,
                            "#f0f921"
                          ]
                        ],
                        "type": "surface"
                      }
                    ],
                    "table": [
                      {
                        "cells": {
                          "fill": {
                            "color": "#EBF0F8"
                          },
                          "line": {
                            "color": "white"
                          }
                        },
                        "header": {
                          "fill": {
                            "color": "#C8D4E3"
                          },
                          "line": {
                            "color": "white"
                          }
                        },
                        "type": "table"
                      }
                    ]
                  },
                  "layout": {
                    "annotationdefaults": {
                      "arrowcolor": "#2a3f5f",
                      "arrowhead": 0,
                      "arrowwidth": 1
                    },
                    "autotypenumbers": "strict",
                    "coloraxis": {
                      "colorbar": {
                        "outlinewidth": 0,
                        "ticks": ""
                      }
                    },
                    "colorscale": {
                      "diverging": [
                        [
                          0,
                          "#8e0152"
                        ],
                        [
                          0.1,
                          "#c51b7d"
                        ],
                        [
                          0.2,
                          "#de77ae"
                        ],
                        [
                          0.3,
                          "#f1b6da"
                        ],
                        [
                          0.4,
                          "#fde0ef"
                        ],
                        [
                          0.5,
                          "#f7f7f7"
                        ],
                        [
                          0.6,
                          "#e6f5d0"
                        ],
                        [
                          0.7,
                          "#b8e186"
                        ],
                        [
                          0.8,
                          "#7fbc41"
                        ],
                        [
                          0.9,
                          "#4d9221"
                        ],
                        [
                          1,
                          "#276419"
                        ]
                      ],
                      "sequential": [
                        [
                          0,
                          "#0d0887"
                        ],
                        [
                          0.1111111111111111,
                          "#46039f"
                        ],
                        [
                          0.2222222222222222,
                          "#7201a8"
                        ],
                        [
                          0.3333333333333333,
                          "#9c179e"
                        ],
                        [
                          0.4444444444444444,
                          "#bd3786"
                        ],
                        [
                          0.5555555555555556,
                          "#d8576b"
                        ],
                        [
                          0.6666666666666666,
                          "#ed7953"
                        ],
                        [
                          0.7777777777777778,
                          "#fb9f3a"
                        ],
                        [
                          0.8888888888888888,
                          "#fdca26"
                        ],
                        [
                          1,
                          "#f0f921"
                        ]
                      ],
                      "sequentialminus": [
                        [
                          0,
                          "#0d0887"
                        ],
                        [
                          0.1111111111111111,
                          "#46039f"
                        ],
                        [
                          0.2222222222222222,
                          "#7201a8"
                        ],
                        [
                          0.3333333333333333,
                          "#9c179e"
                        ],
                        [
                          0.4444444444444444,
                          "#bd3786"
                        ],
                        [
                          0.5555555555555556,
                          "#d8576b"
                        ],
                        [
                          0.6666666666666666,
                          "#ed7953"
                        ],
                        [
                          0.7777777777777778,
                          "#fb9f3a"
                        ],
                        [
                          0.8888888888888888,
                          "#fdca26"
                        ],
                        [
                          1,
                          "#f0f921"
                        ]
                      ]
                    },
                    "colorway": [
                      "#636efa",
                      "#EF553B",
                      "#00cc96",
                      "#ab63fa",
                      "#FFA15A",
                      "#19d3f3",
                      "#FF6692",
                      "#B6E880",
                      "#FF97FF",
                      "#FECB52"
                    ],
                    "font": {
                      "color": "#2a3f5f"
                    },
                    "geo": {
                      "bgcolor": "white",
                      "lakecolor": "white",
                      "landcolor": "#E5ECF6",
                      "showlakes": true,
                      "showland": true,
                      "subunitcolor": "white"
                    },
                    "hoverlabel": {
                      "align": "left"
                    },
                    "hovermode": "closest",
                    "mapbox": {
                      "style": "light"
                    },
                    "paper_bgcolor": "white",
                    "plot_bgcolor": "#E5ECF6",
                    "polar": {
                      "angularaxis": {
                        "gridcolor": "white",
                        "linecolor": "white",
                        "ticks": ""
                      },
                      "bgcolor": "#E5ECF6",
                      "radialaxis": {
                        "gridcolor": "white",
                        "linecolor": "white",
                        "ticks": ""
                      }
                    },
                    "scene": {
                      "xaxis": {
                        "backgroundcolor": "#E5ECF6",
                        "gridcolor": "white",
                        "gridwidth": 2,
                        "linecolor": "white",
                        "showbackground": true,
                        "ticks": "",
                        "zerolinecolor": "white"
                      },
                      "yaxis": {
                        "backgroundcolor": "#E5ECF6",
                        "gridcolor": "white",
                        "gridwidth": 2,
                        "linecolor": "white",
                        "showbackground": true,
                        "ticks": "",
                        "zerolinecolor": "white"
                      },
                      "zaxis": {
                        "backgroundcolor": "#E5ECF6",
                        "gridcolor": "white",
                        "gridwidth": 2,
                        "linecolor": "white",
                        "showbackground": true,
                        "ticks": "",
                        "zerolinecolor": "white"
                      }
                    },
                    "shapedefaults": {
                      "line": {
                        "color": "#2a3f5f"
                      }
                    },
                    "ternary": {
                      "aaxis": {
                        "gridcolor": "white",
                        "linecolor": "white",
                        "ticks": ""
                      },
                      "baxis": {
                        "gridcolor": "white",
                        "linecolor": "white",
                        "ticks": ""
                      },
                      "bgcolor": "#E5ECF6",
                      "caxis": {
                        "gridcolor": "white",
                        "linecolor": "white",
                        "ticks": ""
                      }
                    },
                    "title": {
                      "x": 0.05
                    },
                    "xaxis": {
                      "automargin": true,
                      "gridcolor": "white",
                      "linecolor": "white",
                      "ticks": "",
                      "title": {
                        "standoff": 15
                      },
                      "zerolinecolor": "white",
                      "zerolinewidth": 2
                    },
                    "yaxis": {
                      "automargin": true,
                      "gridcolor": "white",
                      "linecolor": "white",
                      "ticks": "",
                      "title": {
                        "standoff": 15
                      },
                      "zerolinecolor": "white",
                      "zerolinewidth": 2
                    }
                  }
                },
                "title": {
                  "text": "Parallel Coordinate Plot"
                }
              }
            }
          },
          "metadata": {},
          "output_type": "display_data"
        }
      ],
      "source": [
        "optuna.visualization.plot_parallel_coordinate(study)"
      ]
    },
    {
      "cell_type": "code",
      "execution_count": 63,
      "metadata": {},
      "outputs": [
        {
          "data": {
            "image/png": "[encoded data removed]",
            "text/plain": [
              "<Figure size 640x480 with 1 Axes>"
            ]
          },
          "metadata": {},
          "output_type": "display_data"
        }
      ],
      "source": [
        "xgb.plot_importance(model, max_num_features=10, importance_type='gain');"
      ]
    },
    {
      "cell_type": "code",
      "execution_count": 64,
      "metadata": {},
      "outputs": [
        {
          "name": "stdout",
          "output_type": "stream",
          "text": [
            "Train/Test split results:\n",
            "XGBRegressor r2 is 0.910\n",
            "XGBRegressor mean_squared_error is 328472.632\n",
            "XGBRegressor mean_absolute_error is 239.680\n",
            "XGBRegressor mape test is 0.051\n",
            "XGBRegressor mape train is 0.019\n"
          ]
        }
      ],
      "source": [
        "# Make predictions on the test set\n",
        "y_train_pred = model.predict(X_train)\n",
        "y_pred = model.predict(X_test)\n",
        "\n",
        "# Eval Model \n",
        "metrics = compute_metrics(model, y_test, y_pred, y_train, y_train_pred)\n"
      ]
    },
    {
      "cell_type": "code",
      "execution_count": 65,
      "metadata": {},
      "outputs": [],
      "source": [
        "# Save metrics and model parameters in json format\n",
        "metrics_names = ('r2', 'mse', 'mae', 'mape_test', 'mape_train')\n",
        "\n",
        "metrics_dict = {metric_name: metric_value for metric_name, metric_value in zip(metrics_names, metrics)}\n",
        "\n",
        "to_save = {\n",
        "    'model_fit_params': best_params,\n",
        "    'model_params': model.get_params(),\n",
        "    'metrics': metrics_dict\n",
        "    }\n",
        "\n",
        "metrics_file_name = f'metrics_{model.__class__.__name__}_{datetime.now().strftime(\"%Y-%m-%d_%H-%M-%S\")}_{round(metrics_dict[\"mape_test\"], 4)}.json'\n",
        "metrics_file_path = os.path.join(METRICS_DIR, metrics_file_name)\n",
        "\n",
        "with open(metrics_file_path, 'w') as f:\n",
        "    json.dump(to_save, f)"
      ]
    },
    {
      "cell_type": "markdown",
      "metadata": {
        "id": "XE-3MgcFDZaX"
      },
      "source": [
        "## KAGGLE SUBMISSION"
      ]
    },
    {
      "cell_type": "code",
      "execution_count": 66,
      "metadata": {
        "id": "Rz2KPtUWFWnx"
      },
      "outputs": [],
      "source": [
        "# Make predictions on the predict set\n",
        "submission = predict_best_model(model, etl_pipeline, raw_predict_df)\n",
        "\n",
        "# Submission path\n",
        "submission_file_name = f'submission_{model.__class__.__name__}_{datetime.now().strftime(\"%Y-%m-%d_%H-%M-%S\")}_{round(metrics_dict[\"mape_test\"], 4)}.csv'\n",
        "submission_file_path = os.path.join(SUBMISSIONS_DIR, submission_file_name)\n",
        "\n",
        "# Save submission\n",
        "submission.to_csv(submission_file_path, index=False)"
      ]
    }
  ],
  "metadata": {
    "colab": {
      "provenance": []
    },
    "kernelspec": {
      "display_name": "Python 3",
      "name": "python3"
    },
    "language_info": {
      "codemirror_mode": {
        "name": "ipython",
        "version": 3
      },
      "file_extension": ".py",
      "mimetype": "text/x-python",
      "name": "python",
      "nbconvert_exporter": "python",
      "pygments_lexer": "ipython3",
      "version": "3.9.6"
    }
  },
  "nbformat": 4,
  "nbformat_minor": 0
}
